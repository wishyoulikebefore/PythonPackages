{
 "cells": [
  {
   "cell_type": "code",
   "execution_count": 1,
   "metadata": {},
   "outputs": [],
   "source": [
    "import argparse"
   ]
  },
  {
   "cell_type": "markdown",
   "metadata": {},
   "source": [
    "# argparse  解析命令参数和选项"
   ]
  },
  {
   "cell_type": "markdown",
   "metadata": {},
   "source": [
    "## 整体框架\n",
    "> 创建一个解析对象： parser = argparse.ArgumentParser(description=\"your script description\") \n",
    "\n",
    "> 向该对象中添加你要关注的命令行参数和选项： parser.add_argument()\n",
    "\n",
    "> 进行解析：args = parser.parse_args()"
   ]
  },
  {
   "cell_type": "markdown",
   "metadata": {},
   "source": [
    "## add_argument\n",
    "add_argument(name or flags…[, action][, nargs][, const][, default][, type][, choices][, required][, help][, metavar][, dest])   \n",
    "> name or flags：指定参数的形式，一般写两个（-短参数 --长参数）\n",
    ">> \"-\"为短参数，\"--\"为长参数\n",
    "\n",
    "> nargs ：指定这个参数后面的value有多少个\n",
    ">> N：确切个数 | ？：0或1个参数 | *：0或多个参数 | +：至少一个参数\n",
    "\n",
    "> type：指定参数类型\n",
    "\n",
    "> choices：设置参数值的范围\n",
    "\n",
    "> required：是否必选\n",
    "\n",
    "> metavar ：参数的名字，在显示帮助信息时才用到\n",
    "\n",
    "> help：设置帮助信息\n",
    "\n",
    "> dest：解析出来的对应属性\n",
    "\n",
    "> action：指定属性对应的处理逻辑，默认为store，append可以添加多个参数\n",
    "\n",
    "> default：如果命令行没有出现这个选项，那么使用default指定的默认值"
   ]
  },
  {
   "cell_type": "code",
   "execution_count": null,
   "metadata": {},
   "outputs": [],
   "source": [
    "parser = argparse.ArgumentParser(description='Process some integers.')  \n",
    "\n",
    "parser.add_argument('integers', metavar='N', type=int, nargs='+', help='an integer for the accumulator')  \n",
    "parser.add_argument('-sum', dest='accumulate', action='store_const',const=sum, \n",
    "                    default=max,  help='sum the integers (default: find the max)')  \n",
    "parser.add_argument(\"-square\", help=\"display a square of a given number\", type=int) \n",
    "\n",
    "args = parser.parse_args()  \n",
    "\n",
    "print(args.accumulate(args.integers), args.square**2)"
   ]
  },
  {
   "cell_type": "code",
   "execution_count": null,
   "metadata": {},
   "outputs": [],
   "source": [
    "python prog.py 4 5 6 -square 7\n",
    "#输出6  49\n",
    "\n",
    "python prog.py -sum 4 5 6 --square 7\n",
    "#输出15  49"
   ]
  },
  {
   "cell_type": "code",
   "execution_count": null,
   "metadata": {},
   "outputs": [],
   "source": [
    "parser = argparse.ArgumentParser(description='Search some files')\n",
    "\n",
    "parser.add_argument(dest='filenames',metavar='filename', nargs='*')\n",
    "#下面的参数说明允许某个参数重复出现多次，并将它们追加到一个列表中去\n",
    "parser.add_argument('-p', '--pat',metavar='pattern', required=True, dest='patterns', \n",
    "                    action='append',help='text pattern to search for')\n",
    "#根据参数是否存在来设置一个 Boolean 标志\n",
    "parser.add_argument('-v', dest='verbose', action='store_true',help='verbose mode')\n",
    "#参数接受一个单独值并将其存储为一个字符串\n",
    "parser.add_argument('-o', dest='outfile', action='store',help='output file')\n",
    "#接受一个值，但是会将其和可能的选择值做比较，以检测其合法性\n",
    "parser.add_argument('--speed', dest='speed', action='store',choices={'slow','fast'}, \n",
    "                    default='slow',help='search speed')\n",
    "\n",
    "args = parser.parse_args()"
   ]
  },
  {
   "cell_type": "code",
   "execution_count": null,
   "metadata": {},
   "outputs": [],
   "source": [
    "python3 search.py -v -p spam --pat=eggs foo.txt bar.txt\n",
    "\n",
    "#输出\n",
    "filenames = ['foo.txt', 'bar.txt']\n",
    "patterns  = ['spam', 'eggs']\n",
    "verbose   = True\n",
    "outfile   = None\n",
    "speed     = slow"
   ]
  },
  {
   "cell_type": "markdown",
   "metadata": {},
   "source": [
    "## 示例： SVM"
   ]
  },
  {
   "cell_type": "code",
   "execution_count": null,
   "metadata": {},
   "outputs": [],
   "source": [
    "import pandas as pd\n",
    "import re\n",
    "from sklearn import svm\n",
    "from sklearn.model_selection import train_test_split\n",
    "from collections import defaultdict\n",
    "import sys\n",
    "import os\n",
    "import argparse\n",
    "import pickle \n",
    "import matplotlib.pyplot as plt\n",
    "\n",
    "ap = argparse.ArgumentParser()\n",
    "ap.add_argument(\"-k\",\"--kernel\",  help=\"kernel used for training SVM, choose any one from 'linear', 'poly', 'rbf', 'sigmoid'; if no choice made, all 4 kernels will be used\")\n",
    "ap.add_argument(\"-o\",'--out_prefix', help='ouput file prefix')\n",
    "ap.add_argument('-a','--accuracy_estimation', action='store_true', help='-a  perform accuracy estimation with known modified status from --predict file')\n",
    "ap.add_argument('-M','--model' , help=\"pre-trained model that can ben used for prediction; if this is not available SVM model will be trained and dumped; there can be multiple models, which should be in the same order as kernels applied\")\n",
    "ap.add_argument(\"-t\",\"--train\",  help=\"file name of feature table used for training\")\n",
    "ap.add_argument('-mc','--modification_status_column',help = \"column number from (input file1, i.e, traing file) that contains modification status information\")\n",
    "\n",
    "requiredGrp = ap.add_argument_group('required arguments')\n",
    "requiredGrp.add_argument(\"-p\",\"--predict\", required=True, help=\"file name of feature table used for making predictions or testing accuracy.\\nwhen this file is the same the one used for training, half of the data will be chosen for training.\")\n",
    "requiredGrp.add_argument('-cl','--columns',required=True,help = \"comma seperated column number(s) that contain features used for training and prediciton\")\n",
    "args = vars(ap.parse_args())       ### 没有使用parse_args而是直接用vars\n",
    "\n",
    "def evaluate_on_test_data (test, predicitons):\n",
    "    correct_classifications = 0\n",
    "    for i in range (len(y_test)):\n",
    "        if predictions[i] == test[i]:\n",
    "            correct_classifications += 1\n",
    "    accuracy = correct_classifications * 100 / len (test)\n",
    "    return accuracy\n",
    "\n",
    "def plot_ROC (y_test, probas,fig_out,kn, parameter):\n",
    "    fpr, tpr, thresholds = roc_curve(y_test,probas[:,1])\n",
    "    roc_auc = auc(fpr,tpr)\n",
    "#    plt.clf()\n",
    "    plt.plot (fpr, tpr, label = 'ROC Curve for ' + 'kernel '+kn +' (Area under ROC = %0.2f)'% roc_auc)\n",
    "    plt.plot([0, 1], [0, 1], 'k--')\n",
    "    plt.xlim([0.0, 1.0])\n",
    "    plt.ylim([0.0, 1.0])\n",
    "    plt.xlabel('False Positive Rate')\n",
    "    plt.ylabel('True Positive Rate')\n",
    "    plt.title('ROC of Modification Prediction based On ' + parameter)\n",
    "    plt.legend(loc=\"lower right\")\n",
    "    plt.savefig(fig_out)\n",
    "\n",
    "cols = []\n",
    "cols_in = args['columns']\n",
    "for c in cols_in.split(','):\n",
    "    if re.search (r'-',c):\n",
    "        c1,c2 = c.split('-')\n",
    "        cols +=  list (range(int(c1), int(c2)+1))\n",
    "    elif re.search(r':',c):\n",
    "        c1,c2 = c.split(':')\n",
    "        cols += list (range(int(c1), int(c2)+1))\n",
    "    else:\n",
    "        cols.append(int(c))\n",
    "cols.sort()\n",
    "cols = list (set(cols))\n",
    "cols = [x-1 for x in cols]\n",
    "mod_col = int (args['modification_status_column']) - 1 if args['modification_status_column'] else None\n",
    "\n",
    "# training set\n",
    "m_u_var_df = pd.DataFrame()\n",
    "X = pd.Series()\n",
    "Y = pd.Series()\n",
    "indices = []\n",
    "if args['train']:\n",
    "    m_u_var = args['train'] \n",
    "    m_u_var_df = pd.read_csv(m_u_var)\n",
    "    names = list (m_u_var_df.columns[cols])\n",
    "    ## prepare X and Y for training\n",
    "    df_tmp = m_u_var_df.dropna (subset=names)\n",
    "    df_tmp = df_tmp.reset_index(drop=True) # do not insert index as extra column\n",
    "    X = df_tmp.iloc[:,cols]\n",
    "    indices = df_tmp.index.tolist()\n",
    "    Y = df_tmp.iloc[:,mod_col]\n",
    "\n",
    "## prediction set\n",
    "old_header = ''\n",
    "predict_tmp = pd.DataFrame()\n",
    "if 'predict' in args:\n",
    "    predict_df = pd.read_csv (args['predict'])\n",
    "    names = list (predict_df.columns[cols])\n",
    "    predict_tmp = predict_df.dropna(subset=names)\n",
    "    predict_tmp = predict_tmp.reset_index(drop=True)\n",
    "    old_header = \",\".join (predict_tmp.columns.values)\n",
    "\n",
    "### print out column numnbers and names\n",
    "# output file name\n",
    "m_u_var=\"SVM_out\"\n",
    "if args['out_prefix']:\n",
    "    out_prefix = args['out_prefix'] + '.'+'.'.join (names) + '.SVM'\n",
    "else:\n",
    "    out_prefix = m_u_var.split('/')[-1].split('.')[0]+'.'+args['predict'].split('/')[-1].split('.')[0] +'.'+'.'.join (names) + '.SVM'\n",
    "print (\"Colunms-used: \",cols_in, \"output: \", out_prefix) \n",
    "\n",
    "##########\n",
    "if args['model']:\n",
    "    X_test = predict_tmp.iloc[:,cols] \n",
    "    indices_test = X_test.index.tolist()\n",
    "else:\n",
    "    if args['predict'] == args['train']:\n",
    "        X_train, X_test, y_train, y_test, indices_train, indices_test = train_test_split(X,Y.values.ravel(), indices, test_size=0.5, random_state= 100)\n",
    "    else:\n",
    "        X_train, _, y_train, _, indices_train, _ = train_test_split(X,Y.values.ravel(), indices, test_size=0, random_state= 100)\n",
    "        X_test = predict_tmp.iloc[:,cols] \n",
    "        indices_test = X_test.index.tolist()\n",
    "\n",
    "##### prepare for accuracy estimation\n",
    "if args['accuracy_estimation']:\n",
    "    if args['predict'] != args['train']:\n",
    "        y_test = predict_tmp.iloc[:,mod_col]\n",
    "        y_test = y_test.values\n",
    "\n",
    "### SVM train and prediction\n",
    "kernels = ('linear', 'poly', 'rbf', 'sigmoid')  if args['kernel'] is None else (args['kernel'],)\n",
    "accuracies = {}\n",
    "probabilities = defaultdict (list)\n",
    "\n",
    "if args['model']:\n",
    "    for _, m in enumerate(args['model'].strip().split(',')):\n",
    "        loaded_model = pickle.load (open (m,'rb'))\n",
    "        predictions = loaded_model.predict (X_test)\n",
    "        outh = open (out_prefix+'.'+os.path.basename (m) + '.csv','w')\n",
    "        print (old_header + ',prediction'+',dist,ProbM,ProbU',file=outh)\n",
    "        for t in range (len(indices_test)):\n",
    "            idx = indices_test[t]  \n",
    "            original_line = \",\".join(map(str, df_tmp.iloc[idx].values)) if args['predict'] == args['train'] else \",\".join(map(str, predict_tmp.iloc[idx].values))\n",
    "            dist = map(str,loaded_model.decision_function([X_test.iloc[t]]))\n",
    "            probM, probU = map (str,loaded_model.predict_proba ([X_test.iloc[t]])[0])\n",
    "            print (original_line + ',' + predictions[t] +',' + \",\".join (dist) + ',' +  probM + ',' + probU, file = outh)\n",
    "        if args['accuracy_estimation']:\n",
    "            for _, kn in enumerate (kernels):\n",
    "                accuracies[kn] = evaluate_on_test_data(y_test, predictions)\n",
    "else:\n",
    "    for _, kn in enumerate (kernels):\n",
    "        model = svm.SVC(kernel=kn, probability=True)\n",
    "        model_fit = model.fit (X_train, y_train)\n",
    "        out_model = out_prefix + '.' + kn + '.model.dump'\n",
    "        pickle.dump (model,open (out_model,'wb'))\n",
    "        predictions = model_fit.predict (X_test) #if sys.argv[5] == '0' else model_fit.predict()\n",
    "        outh = open(out_prefix+'.kernel.' + kn + '.csv','w')\n",
    "        print (old_header + ',prediction'+',dist,ProbM,ProbU',file=outh)\n",
    "        for t in range (len(indices_test)):\n",
    "            idx = indices_test[t]  \n",
    "            original_line = \",\".join(map(str, df_tmp.iloc[idx].values)) if args['predict'] == args['train'] else \",\".join(map(str, predict_tmp.iloc[idx].values))\n",
    "            dist = map(str,model.decision_function([X_test.iloc[t]]))\n",
    "            probM, probU = map (str,model.predict_proba ([X_test.iloc[t]])[0])\n",
    "            print (original_line + ',' + predictions[t] +',' + \",\".join (dist) + ',' +  probM + ',' + probU, file = outh)\n",
    "        if args['accuracy_estimation']:\n",
    "            accuracies[kn] = evaluate_on_test_data(y_test, predictions)\n",
    "        \n",
    "if args['accuracy_estimation']:\n",
    "    acc_sort = sorted (accuracies.items(), key = lambda kv:kv[1])\n",
    "    best_kn  = acc_sort[-1][0]\n",
    "    best_acc = acc_sort[-1][1]\n",
    "    best_prediciton = out_prefix + '.best-kernel.' + best_kn + '.accuracy' \n",
    "    print (\"Best accuracy {} %  obtained with kernel = {}\".format(best_acc,best_kn), file = open (best_prediciton,'w'))\n",
    "    del accuracies[best_kn]\n",
    "    for k,v in accuracies.items ():\n",
    "        print (\" {} % accuracy obtained with kernel = {}\".format(v,k), file = open (best_prediciton,'a'))\n",
    "############# remove prdiciton results based on kernels that are less accurate ######\n",
    "    for _, kn in enumerate(kernels):\n",
    "        if kn != best_kn:\n",
    "            if os.path.isfile (out_prefix +'.kernel.'+kn + '.csv'):\n",
    "                os.remove(out_prefix +'.kernel.'+kn + '.csv')"
   ]
  },
  {
   "cell_type": "markdown",
   "metadata": {},
   "source": [
    "# docopt \n",
    "代码的最开头使用 \"\"\" \"\"\"文档注释的形式写出符合要求的文档，就会自动生成对应的parse"
   ]
  },
  {
   "cell_type": "markdown",
   "metadata": {},
   "source": [
    "## 注释文档的格式\n",
    "> Usage：和一个空行之间的文本都会被识别为一个命令组合\n",
    "> #Usage 后的第一个字母将会被识别为这个程序的名字\n",
    "\n",
    "> Options：可选项 "
   ]
  },
  {
   "cell_type": "markdown",
   "metadata": {},
   "source": [
    "## 示例：12306_ticket "
   ]
  },
  {
   "cell_type": "code",
   "execution_count": null,
   "metadata": {},
   "outputs": [],
   "source": [
    "\"\"\"\n",
    "Usage:\n",
    "    tickets [-gdtkz] <from> <to> <date>\n",
    "\n",
    "Options:\n",
    "    -h,--help   显示帮助菜单\n",
    "    -g          高铁\n",
    "    -d          动车\n",
    "    -t          特快\n",
    "    -k          快速\n",
    "    -z          直达\n",
    "\n",
    "Example:\n",
    "    tickets 北京 上海 2016-10-10\n",
    "    tickets -dg 成都 南京 2016-10-10\n",
    "\"\"\"\n",
    "\"\"\"\n",
    "https://kyfw.12306.cn/otn/leftTicket/queryO?leftTicketDTO.train_date=2018-04-05&leftTicketDTO.from_station=OMH&leftTicketDTO.to_station=NKH&purpose_codes=ADULT\n",
    "四个参数：出发日期，起始站，终点站，票类型\n",
    "\"\"\"\n",
    "\n",
    "from docopt import docopt\n",
    "import requests\n",
    "from prettytable import PrettyTable\n",
    "from colorama import init, Fore\n",
    "import re\n",
    "\n",
    "init(autoreset=True)   # 通过使用autoreset参数可以让变色效果只对当前输出起作用，输出完成后颜色恢复默认设置\n",
    "\n",
    "station_url = 'https://kyfw.12306.cn/otn/resources/js/framework/station_name.js?station_version=1.9050'\n",
    "stations = dict(re.findall('([\\u4e00-\\u9fa5]+)\\|([A-Z]+)', requests.get(station_url).text))\n",
    "\n",
    "class TrainsCollection:\n",
    "    header = '车次 车站 时间 历时 一等 二等 高级软卧 软卧 硬卧 硬座 无座'.split()\n",
    "\n",
    "    def __init__(self, available_trains,available_place, options):\n",
    "        \"\"\"查询的火车班次集合\n",
    "        :param available_trains: 一个列表, 包含可获得的火车班次, 每个\n",
    "                                 火车班次是一个字典\n",
    "        :param options: 查询的选项, 如高铁, 动车, etc...\n",
    "        \"\"\"\n",
    "        self.available_trains = available_trains\n",
    "        self.available_place = available_place\n",
    "        self.options = options\n",
    "\n",
    "    @property\n",
    "    def trains(self):\n",
    "        for raw_train in self.available_trains:\n",
    "            raw_train_list = raw_train.split('|')\n",
    "            train_no = raw_train_list[3]\n",
    "            initial = train_no[0].lower()   #哪种列车\n",
    "            duration = raw_train_list[10]\n",
    "            if not self.options or initial in self.options:\n",
    "                train = [\n",
    "                    train_no,# 车次\n",
    "                    '\\n'.join([Fore.LIGHTGREEN_EX + self.available_place[raw_train_list[6]],\n",
    "                               Fore.LIGHTRED_EX + self.available_place[raw_train_list[7]]]),  #车站\n",
    "                    '\\n'.join([Fore.LIGHTGREEN_EX + raw_train_list[8],      #时间\n",
    "                               Fore.LIGHTRED_EX + raw_train_list[9]]),\n",
    "                    duration,                                                             #历时\n",
    "                    raw_train_list[-6] if raw_train_list[-6] else '--',                 #一等座\n",
    "                    raw_train_list[-7] if raw_train_list[-7] else '--',                 #二等座\n",
    "                    raw_train_list[-16] if raw_train_list[-16] else '--',               #高级软卧\n",
    "                    raw_train_list[-14] if raw_train_list[-14] else '--',                 #软卧\n",
    "                    raw_train_list[-9] if raw_train_list[-9] else '--',               #硬卧\n",
    "                    raw_train_list[-8] if raw_train_list[-8] else '--',               #硬座\n",
    "                    raw_train_list[-11] if raw_train_list[-11] else '--',                 #无座\n",
    "                ]\n",
    "                yield train\n",
    "\n",
    "    def pretty_print(self):\n",
    "        pt = PrettyTable()\n",
    "        pt._set_field_names(self.header)\n",
    "        for train in self.trains:\n",
    "            pt.add_row(train)\n",
    "        print(pt)\n",
    "\n",
    "\n",
    "def cli():\n",
    "    arguments = docopt(__doc__)\n",
    "    from_station = stations.get(arguments['<from>'])\n",
    "    to_station = stations.get(arguments['<to>'])\n",
    "    date = arguments['<date>']\n",
    "\n",
    "    url = ('https://kyfw.12306.cn/otn/leftTicket/queryO?'\n",
    "           'leftTicketDTO.train_date={}&'\n",
    "           'leftTicketDTO.from_station={}&leftTicketDTO.to_station={}&purpose_codes=ADULT').format(\n",
    "                date, from_station, to_station\n",
    "           )\n",
    "    r = requests.get(url)\n",
    "    available_trains = r.json()['data']['result']\n",
    "    available_place = r.json()['data']['map']\n",
    "    options = ''.join([\n",
    "        key for key, value in arguments.items() if value is True\n",
    "    ])\n",
    "    TrainsCollection(available_trains,available_place, options).pretty_print()\n",
    "\n",
    "\n",
    "if __name__ == '__main__':\n",
    "    cli()"
   ]
  },
  {
   "cell_type": "markdown",
   "metadata": {},
   "source": [
    "# getpass 安全的密码输入"
   ]
  },
  {
   "cell_type": "code",
   "execution_count": null,
   "metadata": {},
   "outputs": [],
   "source": [
    "import getpass\n",
    "\n",
    "passwd=getpass.getpass(\"请输入密码：\")"
   ]
  },
  {
   "cell_type": "markdown",
   "metadata": {},
   "source": [
    "# configparser 配置文件操作\n",
    "由一个或多个命名的节组成，每个节可以包含带有名称和值的单个选项\n",
    "\n",
    ";或＃开头的行被视为注释"
   ]
  },
  {
   "cell_type": "markdown",
   "metadata": {},
   "source": [
    "## 读取配置文件"
   ]
  },
  {
   "cell_type": "raw",
   "metadata": {},
   "source": [
    "[bug_tracker]\n",
    "url = http://localhost:8080/bugs/\n",
    "username = dhellmann\n",
    "password = SECRET\n",
    "\n",
    "[wiki]\n",
    "url = http://localhost:8080/wiki/\n",
    "username = dhellmann\n",
    "password = SECRET"
   ]
  },
  {
   "cell_type": "code",
   "execution_count": 1,
   "metadata": {},
   "outputs": [
    {
     "data": {
      "text/plain": [
       "['C:/Users/86188/PythonPackages/data/config.ini']"
      ]
     },
     "execution_count": 1,
     "metadata": {},
     "output_type": "execute_result"
    }
   ],
   "source": [
    "from configparser import ConfigParser\n",
    "\n",
    "parser = ConfigParser()\n",
    "parser.read('C:/Users/86188/PythonPackages/data/config.ini')"
   ]
  },
  {
   "cell_type": "code",
   "execution_count": 2,
   "metadata": {},
   "outputs": [
    {
     "data": {
      "text/plain": [
       "'http://localhost:8080/bugs/'"
      ]
     },
     "execution_count": 2,
     "metadata": {},
     "output_type": "execute_result"
    }
   ],
   "source": [
    "parser.get('bug_tracker', 'url')"
   ]
  },
  {
   "cell_type": "markdown",
   "metadata": {},
   "source": [
    "### read() 方法也接受文件名列表\n",
    "依次扫描每个名称，如果文件存在，则将其打开并读取"
   ]
  },
  {
   "cell_type": "code",
   "execution_count": null,
   "metadata": {},
   "outputs": [],
   "source": [
    "from configparser import ConfigParser\n",
    "import glob\n",
    "\n",
    "parser = ConfigParser()\n",
    "\n",
    "candidates = ['does_not_exist.ini', 'also-does-not-exist.ini',\n",
    "              'simple.ini', 'multisection.ini']\n",
    "\n",
    "found = parser.read(candidates)\n",
    "\n",
    "missing = set(candidates) - set(found)\n",
    "\n",
    "print('Found config files:', sorted(found))\n",
    "print('Missing files     :', sorted(missing))"
   ]
  },
  {
   "cell_type": "markdown",
   "metadata": {},
   "source": [
    "## 访问配置设置\n",
    "ections()、options()和items()"
   ]
  },
  {
   "cell_type": "code",
   "execution_count": 3,
   "metadata": {},
   "outputs": [
    {
     "name": "stdout",
     "output_type": "stream",
     "text": [
      "Section: bug_tracker\n",
      "  Options: ['url', 'username', 'password']\n",
      "  url = http://localhost:8080/bugs/\n",
      "  username = dhellmann\n",
      "  password = SECRET\n",
      "\n",
      "Section: wiki\n",
      "  Options: ['url', 'username', 'password']\n",
      "  url = http://localhost:8080/wiki/\n",
      "  username = dhellmann\n",
      "  password = SECRET\n",
      "\n"
     ]
    }
   ],
   "source": [
    "from configparser import ConfigParser\n",
    "\n",
    "parser = ConfigParser()\n",
    "parser.read('C:/Users/86188/PythonPackages/data/config.ini')\n",
    "\n",
    "for section_name in parser.sections():\n",
    "    print('Section:', section_name)\n",
    "    print('  Options:', parser.options(section_name))\n",
    "    for name, value in parser.items(section_name):\n",
    "        print('  {} = {}'.format(name, value))\n",
    "    print()"
   ]
  },
  {
   "cell_type": "markdown",
   "metadata": {},
   "source": [
    "### 测试值是否存在\n",
    "has_section()、has_option()"
   ]
  },
  {
   "cell_type": "code",
   "execution_count": 4,
   "metadata": {},
   "outputs": [
    {
     "name": "stdout",
     "output_type": "stream",
     "text": [
      "wiki        : True\n",
      "bug_tracker : True\n",
      "dvcs        : False\n"
     ]
    }
   ],
   "source": [
    "from configparser import ConfigParser\n",
    "\n",
    "parser = ConfigParser()\n",
    "parser.read('C:/Users/86188/PythonPackages/data/config.ini')\n",
    "\n",
    "for candidate in ['wiki', 'bug_tracker', 'dvcs']:\n",
    "    print('{:<12}: {}'.format(\n",
    "        candidate, parser.has_section(candidate)))"
   ]
  },
  {
   "cell_type": "markdown",
   "metadata": {},
   "source": [
    "## 值类型\n",
    "get：字符串\n",
    "\n",
    "getint：整数\n",
    "\n",
    "getfloat：浮点数\n",
    "\n",
    "getboolean：布尔值"
   ]
  },
  {
   "cell_type": "code",
   "execution_count": 5,
   "metadata": {},
   "outputs": [
    {
     "name": "stdout",
     "output_type": "stream",
     "text": [
      "Integers:\n",
      "  positive     : '1'     -> 1\n",
      "  negative     : '-5'    -> -5\n",
      ".Floats:\n",
      "  positive     : '0.2'   -> 0.20\n",
      "  negative     : '-3.14' -> -3.14\n",
      ".Booleans:\n",
      "  number_true  : '1'     -> True\n",
      "  number_false : '0'     -> False\n",
      "  yn_true      : 'yes'   -> True\n",
      "  yn_false     : 'no'    -> False\n",
      "  tf_true      : 'true'  -> True\n",
      "  tf_false     : 'false' -> False\n",
      "  onoff_true   : 'on'    -> True\n",
      "  onoff_false  : 'false' -> False\n"
     ]
    }
   ],
   "source": [
    "from configparser import ConfigParser\n",
    "\n",
    "parser = ConfigParser()\n",
    "parser.read('C:/Users/86188/PythonPackages/data/types.ini')\n",
    "\n",
    "print('Integers:')\n",
    "for name in parser.options('ints'):\n",
    "    string_value = parser.get('ints', name)\n",
    "    value = parser.getint('ints', name)\n",
    "    print('  {:<12} : {!r:<7} -> {}'.format(\n",
    "        name, string_value, value))\n",
    "\n",
    "print('.Floats:')\n",
    "for name in parser.options('floats'):\n",
    "    string_value = parser.get('floats', name)\n",
    "    value = parser.getfloat('floats', name)\n",
    "    print('  {:<12} : {!r:<7} -> {:0.2f}'.format(\n",
    "        name, string_value, value))\n",
    "\n",
    "print('.Booleans:')\n",
    "for name in parser.options('booleans'):\n",
    "    string_value = parser.get('booleans', name)\n",
    "    value = parser.getboolean('booleans', name)\n",
    "    print('  {:<12} : {!r:<7} -> {}'.format(\n",
    "        name, string_value, value))"
   ]
  },
  {
   "cell_type": "markdown",
   "metadata": {},
   "source": [
    "## 修改设置"
   ]
  },
  {
   "cell_type": "markdown",
   "metadata": {},
   "source": [
    "### 添加\n",
    "add_section：创建新节\n",
    "\n",
    "set：添加或更改选项"
   ]
  },
  {
   "cell_type": "code",
   "execution_count": 7,
   "metadata": {},
   "outputs": [
    {
     "name": "stdout",
     "output_type": "stream",
     "text": [
      "bug_tracker\n",
      "  url = 'http://localhost:8080/bugs'\n",
      "  username = 'dhellmann'\n",
      "  password = 'secret'\n"
     ]
    }
   ],
   "source": [
    "from configparser import ConfigParser\n",
    "\n",
    "parser = ConfigParser()\n",
    "\n",
    "parser.add_section('bug_tracker')\n",
    "parser.set('bug_tracker', 'url', 'http://localhost:8080/bugs')\n",
    "parser.set('bug_tracker', 'username', 'dhellmann')\n",
    "parser.set('bug_tracker', 'password', 'secret')\n",
    "\n",
    "for section in parser.sections():\n",
    "    print(section)\n",
    "    for name, value in parser.items(section):\n",
    "        print('  {} = {!r}'.format(name, value))"
   ]
  },
  {
   "cell_type": "markdown",
   "metadata": {},
   "source": [
    "### 删除\n",
    "remove_section\n",
    "\n",
    "remove_option"
   ]
  },
  {
   "cell_type": "code",
   "execution_count": 8,
   "metadata": {},
   "outputs": [
    {
     "name": "stdout",
     "output_type": "stream",
     "text": [
      "Read values:.\n",
      "bug_tracker\n",
      "  url = 'http://localhost:8080/bugs/'\n",
      "  username = 'dhellmann'\n",
      "  password = 'SECRET'\n",
      "wiki\n",
      "  url = 'http://localhost:8080/wiki/'\n",
      "  username = 'dhellmann'\n",
      "  password = 'SECRET'\n",
      ".Modified values:.\n",
      "bug_tracker\n",
      "  url = 'http://localhost:8080/bugs/'\n",
      "  username = 'dhellmann'\n"
     ]
    }
   ],
   "source": [
    "from configparser import ConfigParser\n",
    "\n",
    "parser = ConfigParser()\n",
    "parser.read('C:/Users/86188/PythonPackages/data/config.ini')\n",
    "\n",
    "print('Read values:.')\n",
    "for section in parser.sections():\n",
    "    print(section)\n",
    "    for name, value in parser.items(section):\n",
    "        print('  {} = {!r}'.format(name, value))\n",
    "\n",
    "parser.remove_option('bug_tracker', 'password')\n",
    "parser.remove_section('wiki')\n",
    "\n",
    "print('.Modified values:.')\n",
    "for section in parser.sections():\n",
    "    print(section)\n",
    "    for name, value in parser.items(section):\n",
    "        print('  {} = {!r}'.format(name, value))"
   ]
  },
  {
   "cell_type": "markdown",
   "metadata": {},
   "source": [
    "## 保存配置文件\n",
    "write"
   ]
  },
  {
   "cell_type": "code",
   "execution_count": 16,
   "metadata": {},
   "outputs": [],
   "source": [
    "from configparser import ConfigParser\n",
    "import sys\n",
    "\n",
    "parser = ConfigParser()\n",
    "parser.read('C:/Users/86188/PythonPackages/data/config.ini')\n",
    "\n",
    "parser.add_section('tracker')\n",
    "parser.set('tracker', 'url', 'http://localhost:8080/bugs')\n",
    "parser.set('tracker', 'username', 'dhellmann')\n",
    "parser.set('tracker', 'password', 'secret')\n",
    "\n",
    "with open(\"C:/Users/86188/PythonPackages/data/config2.ini\",\"w\") as f:\n",
    "    parser.write(f)"
   ]
  }
 ],
 "metadata": {
  "hide_input": false,
  "kernelspec": {
   "display_name": "Python 3",
   "language": "python",
   "name": "python3"
  },
  "language_info": {
   "codemirror_mode": {
    "name": "ipython",
    "version": 3
   },
   "file_extension": ".py",
   "mimetype": "text/x-python",
   "name": "python",
   "nbconvert_exporter": "python",
   "pygments_lexer": "ipython3",
   "version": "3.6.0"
  },
  "toc": {
   "base_numbering": 1,
   "nav_menu": {},
   "number_sections": true,
   "sideBar": true,
   "skip_h1_title": false,
   "title_cell": "Table of Contents",
   "title_sidebar": "Contents",
   "toc_cell": false,
   "toc_position": {
    "height": "calc(100% - 180px)",
    "left": "10px",
    "top": "150px",
    "width": "303.837px"
   },
   "toc_section_display": true,
   "toc_window_display": true
  },
  "varInspector": {
   "cols": {
    "lenName": 16,
    "lenType": 16,
    "lenVar": 40
   },
   "kernels_config": {
    "python": {
     "delete_cmd_postfix": "",
     "delete_cmd_prefix": "del ",
     "library": "var_list.py",
     "varRefreshCmd": "print(var_dic_list())"
    },
    "r": {
     "delete_cmd_postfix": ") ",
     "delete_cmd_prefix": "rm(",
     "library": "var_list.r",
     "varRefreshCmd": "cat(var_dic_list()) "
    }
   },
   "types_to_exclude": [
    "module",
    "function",
    "builtin_function_or_method",
    "instance",
    "_Feature"
   ],
   "window_display": false
  }
 },
 "nbformat": 4,
 "nbformat_minor": 2
}
