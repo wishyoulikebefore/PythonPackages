{
 "cells": [
  {
   "cell_type": "markdown",
   "metadata": {},
   "source": [
    "<font color=\"red\">用于代码调试，避免繁琐的print</font>"
   ]
  },
  {
   "cell_type": "markdown",
   "metadata": {},
   "source": [
    "# 修饰符"
   ]
  },
  {
   "cell_type": "code",
   "execution_count": 1,
   "metadata": {},
   "outputs": [
    {
     "name": "stderr",
     "output_type": "stream",
     "text": [
      "Source path:... <ipython-input-1-d9086aeb58cb>\n",
      "Starting var:.. number = 6\n",
      "10:02:24.275261 call         4 def number_to_bits(number):\n",
      "10:02:24.275261 line         5     if number:\n",
      "10:02:24.275261 line         6         bits = []\n",
      "New var:....... bits = []\n",
      "10:02:24.275261 line         7         while number:\n",
      "10:02:24.276233 line         8             number, remainder = divmod(number, 2)\n",
      "Modified var:.. number = 3\n",
      "New var:....... remainder = 0\n",
      "10:02:24.276233 line         9             bits.insert(0, remainder)\n",
      "Modified var:.. bits = [0]\n",
      "10:02:24.276233 line         7         while number:\n",
      "10:02:24.276233 line         8             number, remainder = divmod(number, 2)\n",
      "Modified var:.. number = 1\n",
      "Modified var:.. remainder = 1\n",
      "10:02:24.276233 line         9             bits.insert(0, remainder)\n",
      "Modified var:.. bits = [1, 0]\n",
      "10:02:24.276233 line         7         while number:\n",
      "10:02:24.276233 line         8             number, remainder = divmod(number, 2)\n",
      "Modified var:.. number = 0\n",
      "10:02:24.276233 line         9             bits.insert(0, remainder)\n",
      "Modified var:.. bits = [1, 1, 0]\n",
      "10:02:24.276233 line         7         while number:\n",
      "10:02:24.276233 line        10         return bits\n",
      "10:02:24.276233 return      10         return bits\n",
      "Return value:.. [1, 1, 0]\n",
      "Elapsed time: 00:00:00.000972\n"
     ]
    },
    {
     "data": {
      "text/plain": [
       "[1, 1, 0]"
      ]
     },
     "execution_count": 1,
     "metadata": {},
     "output_type": "execute_result"
    }
   ],
   "source": [
    "import pysnooper\n",
    "\n",
    "@pysnooper.snoop()\n",
    "def number_to_bits(number):\n",
    "    if number:\n",
    "        bits = []\n",
    "        while number:\n",
    "            number, remainder = divmod(number, 2)\n",
    "            bits.insert(0, remainder)\n",
    "        return bits\n",
    "    else:\n",
    "        return [0]\n",
    "\n",
    "number_to_bits(6)"
   ]
  },
  {
   "cell_type": "markdown",
   "metadata": {},
   "source": [
    "# with block"
   ]
  },
  {
   "cell_type": "code",
   "execution_count": 2,
   "metadata": {},
   "outputs": [
    {
     "name": "stdout",
     "output_type": "stream",
     "text": [
      "44 514.5 985\n"
     ]
    },
    {
     "name": "stderr",
     "output_type": "stream",
     "text": [
      "Source path:... <ipython-input-2-c7244b59db45>\n",
      "New var:....... lst = [525, 985, 531, 62, 475, 514, 576, 44, 511, 605]\n",
      "New var:....... i = 9\n",
      "10:04:37.956973 line        10         lower = min(lst)\n",
      "New var:....... lower = 44\n",
      "10:04:37.957940 line        11         upper = max(lst)\n",
      "New var:....... upper = 985\n",
      "10:04:37.957940 line        12         mid = (lower + upper) / 2\n",
      "New var:....... mid = 514.5\n",
      "10:04:37.957940 line        13         print(lower, mid, upper)\n",
      "Elapsed time: 00:00:00.000967\n"
     ]
    }
   ],
   "source": [
    "import pysnooper\n",
    "import random\n",
    "\n",
    "def foo():\n",
    "    lst = []\n",
    "    for i in range(10):\n",
    "        lst.append(random.randrange(1, 1000))\n",
    "\n",
    "    with pysnooper.snoop():\n",
    "        lower = min(lst)\n",
    "        upper = max(lst)\n",
    "        mid = (lower + upper) / 2\n",
    "        print(lower, mid, upper)\n",
    "\n",
    "foo()"
   ]
  },
  {
   "cell_type": "markdown",
   "metadata": {},
   "source": [
    "# 输出重定向"
   ]
  },
  {
   "cell_type": "code",
   "execution_count": 20,
   "metadata": {},
   "outputs": [
    {
     "data": {
      "text/plain": [
       "[1, 1, 0]"
      ]
     },
     "execution_count": 20,
     "metadata": {},
     "output_type": "execute_result"
    }
   ],
   "source": [
    "import pysnooper\n",
    "\n",
    "@pysnooper.snoop(\"C:/Users/86188/Desktop/log.txt\")\n",
    "def number_to_bits(number):\n",
    "    if number:\n",
    "        bits = []\n",
    "        while number:\n",
    "            number, remainder = divmod(number, 2)\n",
    "            bits.insert(0, remainder)\n",
    "        return bits\n",
    "    else:\n",
    "        return [0]\n",
    "\n",
    "number_to_bits(6)"
   ]
  },
  {
   "cell_type": "markdown",
   "metadata": {},
   "source": [
    "# 输出结果中所有 snoop 行以某个前缀开始"
   ]
  },
  {
   "cell_type": "code",
   "execution_count": null,
   "metadata": {},
   "outputs": [],
   "source": [
    "@pysnooper.snoop(prefix='func one')"
   ]
  },
  {
   "cell_type": "markdown",
   "metadata": {},
   "source": [
    "# 高级用法"
   ]
  },
  {
   "cell_type": "markdown",
   "metadata": {},
   "source": [
    "## 查看非本地变量"
   ]
  },
  {
   "cell_type": "code",
   "execution_count": null,
   "metadata": {},
   "outputs": [],
   "source": [
    "@pysnooper.snoop(watch=('foo.bar', 'self.x[\"whatever\"]'))"
   ]
  },
  {
   "cell_type": "markdown",
   "metadata": {},
   "source": [
    "## 查看list或dict所有熟悉"
   ]
  },
  {
   "cell_type": "code",
   "execution_count": null,
   "metadata": {},
   "outputs": [],
   "source": [
    "@pysnooper.snoop(watch_explode=('foo', 'self'))"
   ]
  },
  {
   "cell_type": "markdown",
   "metadata": {},
   "source": [
    "## 更加精确地指定"
   ]
  },
  {
   "cell_type": "code",
   "execution_count": null,
   "metadata": {},
   "outputs": [],
   "source": [
    "@pysnooper.snoop(watch=(\n",
    "    pysnooper.Attrs('x'),    # attributes\n",
    "    pysnooper.Keys('y'),     # mapping (e.g. dict) items\n",
    "    pysnooper.Indices('z'),  # sequence (e.g. list/tuple) items\n",
    "))"
   ]
  }
 ],
 "metadata": {
  "hide_input": false,
  "kernelspec": {
   "display_name": "Python 3",
   "language": "python",
   "name": "python3"
  },
  "language_info": {
   "codemirror_mode": {
    "name": "ipython",
    "version": 3
   },
   "file_extension": ".py",
   "mimetype": "text/x-python",
   "name": "python",
   "nbconvert_exporter": "python",
   "pygments_lexer": "ipython3",
   "version": "3.6.0"
  },
  "toc": {
   "base_numbering": 1,
   "nav_menu": {},
   "number_sections": true,
   "sideBar": true,
   "skip_h1_title": false,
   "title_cell": "Table of Contents",
   "title_sidebar": "Contents",
   "toc_cell": false,
   "toc_position": {},
   "toc_section_display": true,
   "toc_window_display": false
  }
 },
 "nbformat": 4,
 "nbformat_minor": 2
}
