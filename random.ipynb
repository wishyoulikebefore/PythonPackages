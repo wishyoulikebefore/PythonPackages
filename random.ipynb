{
 "cells": [
  {
   "cell_type": "code",
   "execution_count": 1,
   "metadata": {
    "ExecuteTime": {
     "end_time": "2018-11-20T13:26:57.467509Z",
     "start_time": "2018-11-20T13:26:57.462512Z"
    }
   },
   "outputs": [],
   "source": [
    "import random\n",
    "import numpy as np"
   ]
  },
  {
   "cell_type": "markdown",
   "metadata": {},
   "source": [
    "倾向于使用numpy.random，可以产生随机数矩阵"
   ]
  },
  {
   "cell_type": "markdown",
   "metadata": {},
   "source": [
    "## random \n",
    "> choice(self, seq)：随机选择一个元素\n",
    "\n",
    "> expovariate(self, lambd): Exponential distribution.\n",
    "\n",
    "> gauss(self, mu, sigma)：Gaussian distribution.\n",
    "\n",
    "> lognormvariate(self, mu, sigma)\n",
    "\n",
    "> randint(self, a, b)：返回[a, b]间的随机数\n",
    "\n",
    "> sample(self, population, k)：随机抽取k个不同的元素\n",
    "\n",
    "> seed(self, a=None, version=2)\n",
    "\n",
    "> uniform(self, a, b)\n",
    "\n",
    "> random(self)：生成[0.0, 1.0)间的随机数"
   ]
  },
  {
   "cell_type": "code",
   "execution_count": 2,
   "metadata": {
    "ExecuteTime": {
     "end_time": "2018-11-20T13:36:23.914485Z",
     "start_time": "2018-11-20T13:36:23.889501Z"
    }
   },
   "outputs": [
    {
     "data": {
      "text/plain": [
       "3"
      ]
     },
     "execution_count": 2,
     "metadata": {},
     "output_type": "execute_result"
    }
   ],
   "source": [
    "random.choice([1,2,3,4])"
   ]
  },
  {
   "cell_type": "code",
   "execution_count": 3,
   "metadata": {
    "ExecuteTime": {
     "end_time": "2018-11-20T13:36:55.217849Z",
     "start_time": "2018-11-20T13:36:55.207858Z"
    }
   },
   "outputs": [
    {
     "data": {
      "text/plain": [
       "[2, 3]"
      ]
     },
     "execution_count": 3,
     "metadata": {},
     "output_type": "execute_result"
    }
   ],
   "source": [
    "random.sample([1,2,3,4],2)"
   ]
  },
  {
   "cell_type": "code",
   "execution_count": 4,
   "metadata": {
    "ExecuteTime": {
     "end_time": "2018-11-20T13:37:12.455645Z",
     "start_time": "2018-11-20T13:37:12.447651Z"
    }
   },
   "outputs": [
    {
     "data": {
      "text/plain": [
       "8"
      ]
     },
     "execution_count": 4,
     "metadata": {},
     "output_type": "execute_result"
    }
   ],
   "source": [
    "random.randint(3,10)"
   ]
  },
  {
   "cell_type": "code",
   "execution_count": 5,
   "metadata": {
    "ExecuteTime": {
     "end_time": "2018-11-20T13:37:27.406037Z",
     "start_time": "2018-11-20T13:37:27.400040Z"
    }
   },
   "outputs": [
    {
     "data": {
      "text/plain": [
       "3.753931961837586"
      ]
     },
     "execution_count": 5,
     "metadata": {},
     "output_type": "execute_result"
    }
   ],
   "source": [
    "random.uniform(3,10)"
   ]
  },
  {
   "cell_type": "code",
   "execution_count": 6,
   "metadata": {
    "ExecuteTime": {
     "end_time": "2018-11-20T13:37:39.509514Z",
     "start_time": "2018-11-20T13:37:39.499517Z"
    }
   },
   "outputs": [
    {
     "data": {
      "text/plain": [
       "0.09262409923600146"
      ]
     },
     "execution_count": 6,
     "metadata": {},
     "output_type": "execute_result"
    }
   ],
   "source": [
    "random.random()"
   ]
  },
  {
   "cell_type": "markdown",
   "metadata": {},
   "source": [
    "## numpy.random \n",
    "> binomial(n, p, size=None)   \n",
    "\n",
    "> choice(a, size=None, replace=True, p=None) \n",
    "\n",
    "> normal(mu,sigma,size) \n",
    "\n",
    "> randint(low, high=None, size=None)\n",
    "\n",
    "> randn(d0, d1, ..., dn)：产生标准正太分布的样本值(d0,d1等为维度)\n",
    "\n",
    "> random_sample(size=None)：产生[0.0, 1.0]之间的随机数\n",
    "\n",
    ">  uniform(low=0.0, high=1.0, size=None)"
   ]
  },
  {
   "cell_type": "code",
   "execution_count": 2,
   "metadata": {
    "ExecuteTime": {
     "end_time": "2018-11-21T12:40:55.956774Z",
     "start_time": "2018-11-21T12:40:55.949777Z"
    }
   },
   "outputs": [
    {
     "data": {
      "text/plain": [
       "array([[4, 2],\n",
       "       [8, 0]])"
      ]
     },
     "execution_count": 2,
     "metadata": {},
     "output_type": "execute_result"
    }
   ],
   "source": [
    "np.random.choice(10,size=[2,2])"
   ]
  },
  {
   "cell_type": "code",
   "execution_count": 3,
   "metadata": {
    "ExecuteTime": {
     "end_time": "2018-11-21T12:41:23.749858Z",
     "start_time": "2018-11-21T12:41:23.740864Z"
    }
   },
   "outputs": [
    {
     "data": {
      "text/plain": [
       "array([6, 7, 9, 7, 6])"
      ]
     },
     "execution_count": 3,
     "metadata": {},
     "output_type": "execute_result"
    }
   ],
   "source": [
    "np.random.randint(5,10,size=[5,])"
   ]
  },
  {
   "cell_type": "code",
   "execution_count": 4,
   "metadata": {
    "ExecuteTime": {
     "end_time": "2018-11-21T12:41:38.519242Z",
     "start_time": "2018-11-21T12:41:38.510249Z"
    }
   },
   "outputs": [
    {
     "data": {
      "text/plain": [
       "array([0.27774298, 0.15927215, 0.6349325 , 0.65452126, 0.07985568,\n",
       "       0.97141415, 0.93511974, 0.09834949, 0.88801879, 0.1167073 ])"
      ]
     },
     "execution_count": 4,
     "metadata": {},
     "output_type": "execute_result"
    }
   ],
   "source": [
    "np.random.random_sample(size=[10,])"
   ]
  },
  {
   "cell_type": "code",
   "execution_count": 5,
   "metadata": {
    "ExecuteTime": {
     "end_time": "2018-11-21T12:41:51.283293Z",
     "start_time": "2018-11-21T12:41:51.276298Z"
    }
   },
   "outputs": [
    {
     "data": {
      "text/plain": [
       "array([ 0.57601162, -0.74501817,  0.87156297, -0.29976153, -1.70263799,\n",
       "        0.78361833,  1.41117858, -1.70480198, -0.79386017, -0.02562445])"
      ]
     },
     "execution_count": 5,
     "metadata": {},
     "output_type": "execute_result"
    }
   ],
   "source": [
    "np.random.randn(10)"
   ]
  }
 ],
 "metadata": {
  "kernelspec": {
   "display_name": "Python 3",
   "language": "python",
   "name": "python3"
  },
  "toc": {
   "base_numbering": 1,
   "nav_menu": {},
   "number_sections": true,
   "sideBar": true,
   "skip_h1_title": false,
   "title_cell": "Table of Contents",
   "title_sidebar": "Contents",
   "toc_cell": false,
   "toc_position": {},
   "toc_section_display": true,
   "toc_window_display": false
  },
  "varInspector": {
   "cols": {
    "lenName": 16,
    "lenType": 16,
    "lenVar": 40
   },
   "kernels_config": {
    "python": {
     "delete_cmd_postfix": "",
     "delete_cmd_prefix": "del ",
     "library": "var_list.py",
     "varRefreshCmd": "print(var_dic_list())"
    },
    "r": {
     "delete_cmd_postfix": ") ",
     "delete_cmd_prefix": "rm(",
     "library": "var_list.r",
     "varRefreshCmd": "cat(var_dic_list()) "
    }
   },
   "types_to_exclude": [
    "module",
    "function",
    "builtin_function_or_method",
    "instance",
    "_Feature"
   ],
   "window_display": false
  }
 },
 "nbformat": 4,
 "nbformat_minor": 2
}
