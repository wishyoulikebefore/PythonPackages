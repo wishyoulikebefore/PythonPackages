{
 "cells": [
  {
   "cell_type": "code",
   "execution_count": 1,
   "metadata": {
    "ExecuteTime": {
     "end_time": "2018-12-30T02:36:09.386358Z",
     "start_time": "2018-12-30T02:36:08.474619Z"
    }
   },
   "outputs": [],
   "source": [
    "import cv2   "
   ]
  },
  {
   "cell_type": "raw",
   "metadata": {},
   "source": [
    "#读入图像数据\n",
    "img = cv2.imread(\"D:/cat.jpg\")  \n",
    "\n",
    "#创建一个窗口\n",
    "cv2.namedWindow(\"Image\")           \n",
    "\n",
    "#在窗口中显示图像\n",
    "cv2.imshow(\"Image\", img)                 \n",
    "\n",
    "#保持图像\n",
    "cv2.waitKey(0)  \t\t      \n",
    "\n",
    "#释放窗口\n",
    "cv2.destroyAllWindows()                    \n",
    "\n",
    "#复制图像\n",
    "img.copy()   \n",
    "\n",
    "#获得原图像副本\n",
    "cv2.cvtColor(img,cv2.COLOR_BGR2GRAY）\n",
    "\n",
    "#保存图像；最后是压缩尺寸\n",
    "cv2.imwrite(path,img, [int(cv2.IMWRITE_PNG_COMPRESSION),3])      "
   ]
  }
 ],
 "metadata": {
  "kernelspec": {
   "display_name": "Python 3",
   "language": "python",
   "name": "python3"
  },
  "toc": {
   "base_numbering": 1,
   "nav_menu": {},
   "number_sections": true,
   "sideBar": true,
   "skip_h1_title": false,
   "title_cell": "Table of Contents",
   "title_sidebar": "Contents",
   "toc_cell": false,
   "toc_position": {},
   "toc_section_display": true,
   "toc_window_display": false
  },
  "varInspector": {
   "cols": {
    "lenName": 16,
    "lenType": 16,
    "lenVar": 40
   },
   "kernels_config": {
    "python": {
     "delete_cmd_postfix": "",
     "delete_cmd_prefix": "del ",
     "library": "var_list.py",
     "varRefreshCmd": "print(var_dic_list())"
    },
    "r": {
     "delete_cmd_postfix": ") ",
     "delete_cmd_prefix": "rm(",
     "library": "var_list.r",
     "varRefreshCmd": "cat(var_dic_list()) "
    }
   },
   "types_to_exclude": [
    "module",
    "function",
    "builtin_function_or_method",
    "instance",
    "_Feature"
   ],
   "window_display": false
  }
 },
 "nbformat": 4,
 "nbformat_minor": 2
}
