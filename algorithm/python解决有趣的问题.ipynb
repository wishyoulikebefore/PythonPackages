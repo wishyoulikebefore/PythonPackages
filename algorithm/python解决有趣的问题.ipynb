{
 "cells": [
  {
   "cell_type": "markdown",
   "metadata": {},
   "source": [
    "# 问题1：拿石子\n",
    "16个石子一次可以拿1,3,6个 我先拿，拿几个必胜\n",
    "#类似于大航海时代4里的拿硬币"
   ]
  },
  {
   "cell_type": "markdown",
   "metadata": {},
   "source": [
    "## 解决思路\n",
    "\n",
    "根据博弈论的性质：对于巴什博弈，存在必胜点和必败点，是指在当前这个点上的先手玩家是必胜还是必败。\n",
    "对于一个点，如果它的下一步全是必胜点，那么显然无论它如何走都是让对手进入必胜点，那么这个点是必败点;\n",
    "如果下一步中存在一个必败点，那么当前这一步的玩家就可以选择让对手进入必败点的走法，所以是必胜点。\n",
    "对这题来说，显然0的时候是必败点，看1，只能选择拿走1个，变成0，0是必败点，所以1是必胜点，\n",
    "然后看2，2的下一步只能选择拿走1个变成1，1是必胜点，2只能到达必胜点，所以2是必败点，3的下一步2和0，都是必败点，所以3是必胜点\n",
    "同理，当推到16的时候，下一步有三种走法，分别是15,13,10,由前面推理过程，15和10都是必胜点，只有13是必败点。\n",
    "因此先手应该选择拿走3个棋子，让对手进入必败点。\n"
   ]
  },
  {
   "cell_type": "markdown",
   "metadata": {},
   "source": [
    "## 编程思路\n",
    "游戏终点：剩余石子数为[1，3，6]其中之一\n",
    "\n",
    "假设当前棋子数为N\n",
    "\n",
    "if N in [1,3,6] \n",
    "\n",
    "    胜\n",
    "    \n",
    "else:\n",
    "\n",
    "    N-any([1,3,6])为对手必输点 -> N-opt not in [1,3,6] and N-opt-all([1,3,6])为我必胜点"
   ]
  },
  {
   "cell_type": "code",
   "execution_count": 1,
   "metadata": {},
   "outputs": [],
   "source": [
    "#代码\n",
    "option = [1,3,6]\n",
    "\n",
    "def solve(coins):\n",
    "    first_take = []\n",
    "    if coins in option:\n",
    "        first_take.append(coins)\n",
    "    else:\n",
    "        for opt in option:\n",
    "            if opt < coins and solve(coins-opt) == []:\n",
    "                first_take.append(opt)\n",
    "    return first_take"
   ]
  },
  {
   "cell_type": "markdown",
   "metadata": {},
   "source": [
    "# 问题2：汉诺塔"
   ]
  },
  {
   "cell_type": "markdown",
   "metadata": {},
   "source": [
    "## 编程思路\n",
    "\n",
    "首先我们定义的函数：move(n, a, b, c)表示将a柱上的n个‘盘子’（姑且这么称呼）借助b柱搬运到c柱上，这样我们处理的时候不考虑具体搬运过程，思路是：\n",
    "> 先将a柱上的n-1个盘子借助c柱搬运到b柱上，所以有move(n-1, a, c, b)；\n",
    "\n",
    "> 然后将a柱上仅剩的1个盘子借助b柱搬运到c柱上，所以有move(1, a, b, c)；\n",
    "\n",
    "> 最后将b柱上的n-1个盘子借助a柱搬运到c柱上，所以有move(n-1, b, a, c)。\n",
    "\n",
    "函数中参数a表示待搬运的盘子放置的柱子，参数b表示用于中转盘子的柱子，参数c表示盘子最终需要搬到的柱子。"
   ]
  },
  {
   "cell_type": "code",
   "execution_count": 2,
   "metadata": {},
   "outputs": [],
   "source": [
    "def move(n, a, b, c):\n",
    "    if n == 1:\n",
    "        print('move', a, '->', c)   #n-1最终要归到1的情况，即b状态不影响结果\n",
    "        return\n",
    "    else:\n",
    "        move(n-1, a, c, b)\n",
    "        move(1, a, b, c)\n",
    "        move(n-1, b, a, c)"
   ]
  }
 ],
 "metadata": {
  "kernelspec": {
   "display_name": "Python 3",
   "language": "python",
   "name": "python3"
  },
  "language_info": {
   "codemirror_mode": {
    "name": "ipython",
    "version": 3
   },
   "file_extension": ".py",
   "mimetype": "text/x-python",
   "name": "python",
   "nbconvert_exporter": "python",
   "pygments_lexer": "ipython3",
   "version": "3.5.4"
  },
  "varInspector": {
   "cols": {
    "lenName": 16,
    "lenType": 16,
    "lenVar": 40
   },
   "kernels_config": {
    "python": {
     "delete_cmd_postfix": "",
     "delete_cmd_prefix": "del ",
     "library": "var_list.py",
     "varRefreshCmd": "print(var_dic_list())"
    },
    "r": {
     "delete_cmd_postfix": ") ",
     "delete_cmd_prefix": "rm(",
     "library": "var_list.r",
     "varRefreshCmd": "cat(var_dic_list()) "
    }
   },
   "types_to_exclude": [
    "module",
    "function",
    "builtin_function_or_method",
    "instance",
    "_Feature"
   ],
   "window_display": false
  }
 },
 "nbformat": 4,
 "nbformat_minor": 2
}
