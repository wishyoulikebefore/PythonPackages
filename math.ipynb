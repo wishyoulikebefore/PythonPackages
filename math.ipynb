{
 "cells": [
  {
   "cell_type": "code",
   "execution_count": 1,
   "metadata": {},
   "outputs": [],
   "source": [
    "import math"
   ]
  },
  {
   "cell_type": "markdown",
   "metadata": {},
   "source": [
    "## math\n",
    "> ceil(x)\n",
    "\n",
    "> fabs(x)：返回绝对值\n",
    "\n",
    "> floor(x)\n",
    "\n",
    "> fmod(x, y)：x % y \n",
    "\n",
    "> isclose(a, b, *, rel_tol=1e-09, abs_tol=0.0)\n",
    "\n",
    "> isinf(x)\n",
    "\n",
    "> isnan(x)\n",
    "\n",
    "> exp(x)\n",
    "\n",
    "> expm1(x)：返回e**x - 1.\n",
    "\n",
    "> log(x[, base])\n",
    "\n",
    "> log2(x)\n",
    "\n",
    "> log10(x)\n",
    "\n",
    "> pow(x, y)：返回x**y\n",
    "\n",
    "> acos(x)\n",
    "\n",
    "> asin(x)\n",
    "\n",
    "> atan(x)\n",
    "\n",
    "> cos(x)\n",
    "\n",
    "> sin(x)\n",
    "\n",
    "> tan(x)"
   ]
  }
 ],
 "metadata": {
  "kernelspec": {
   "display_name": "Python 3",
   "language": "python",
   "name": "python3"
  },
  "language_info": {
   "codemirror_mode": {
    "name": "ipython",
    "version": 3
   },
   "file_extension": ".py",
   "mimetype": "text/x-python",
   "name": "python",
   "nbconvert_exporter": "python",
   "pygments_lexer": "ipython3",
   "version": "3.5.4"
  },
  "varInspector": {
   "cols": {
    "lenName": 16,
    "lenType": 16,
    "lenVar": 40
   },
   "kernels_config": {
    "python": {
     "delete_cmd_postfix": "",
     "delete_cmd_prefix": "del ",
     "library": "var_list.py",
     "varRefreshCmd": "print(var_dic_list())"
    },
    "r": {
     "delete_cmd_postfix": ") ",
     "delete_cmd_prefix": "rm(",
     "library": "var_list.r",
     "varRefreshCmd": "cat(var_dic_list()) "
    }
   },
   "types_to_exclude": [
    "module",
    "function",
    "builtin_function_or_method",
    "instance",
    "_Feature"
   ],
   "window_display": false
  }
 },
 "nbformat": 4,
 "nbformat_minor": 2
}
