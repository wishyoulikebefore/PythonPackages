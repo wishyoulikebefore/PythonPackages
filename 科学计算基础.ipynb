{
 "cells": [
  {
   "cell_type": "markdown",
   "metadata": {},
   "source": [
    "## apply "
   ]
  },
  {
   "cell_type": "code",
   "execution_count": null,
   "metadata": {},
   "outputs": [],
   "source": [
    "class FrameRowApply(FrameApply):\n",
    "    axis = 0\n",
    "\n",
    "    def apply_broadcast(self):\n",
    "        return super(FrameRowApply, self).apply_broadcast(self.obj)\n",
    "\n",
    "    @property\n",
    "    def series_generator(self):\n",
    "        return (self.obj._ixs(i, axis=1)\n",
    "                for i in range(len(self.columns)))\n",
    "\n",
    "class FrameColumnApply(FrameApply):\n",
    "    axis = 1\n",
    "\n",
    "    def apply_broadcast(self):\n",
    "        result = super(FrameColumnApply, self).apply_broadcast(self.obj.T)\n",
    "        return result.T\n",
    "    \n",
    "\"\"\"\n",
    "对于apply\n",
    "1）axis=0时，逐列读取数据 -->  垂直处理数据\n",
    "2）axis=1时，先转置再重复1处理 --> 水平处理数据\n",
    "\"\"\""
   ]
  }
 ],
 "metadata": {
  "kernelspec": {
   "display_name": "Python 3",
   "language": "python",
   "name": "python3"
  },
  "language_info": {
   "codemirror_mode": {
    "name": "ipython",
    "version": 3
   },
   "file_extension": ".py",
   "mimetype": "text/x-python",
   "name": "python",
   "nbconvert_exporter": "python",
   "pygments_lexer": "ipython3",
   "version": "3.5.4"
  },
  "varInspector": {
   "cols": {
    "lenName": 16,
    "lenType": 16,
    "lenVar": 40
   },
   "kernels_config": {
    "python": {
     "delete_cmd_postfix": "",
     "delete_cmd_prefix": "del ",
     "library": "var_list.py",
     "varRefreshCmd": "print(var_dic_list())"
    },
    "r": {
     "delete_cmd_postfix": ") ",
     "delete_cmd_prefix": "rm(",
     "library": "var_list.r",
     "varRefreshCmd": "cat(var_dic_list()) "
    }
   },
   "types_to_exclude": [
    "module",
    "function",
    "builtin_function_or_method",
    "instance",
    "_Feature"
   ],
   "window_display": false
  }
 },
 "nbformat": 4,
 "nbformat_minor": 2
}
