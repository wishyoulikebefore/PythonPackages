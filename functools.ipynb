{
 "cells": [
  {
   "cell_type": "code",
   "execution_count": 3,
   "metadata": {},
   "outputs": [],
   "source": [
    "from functools import partial, wraps"
   ]
  },
  {
   "cell_type": "markdown",
   "metadata": {},
   "source": [
    "## functools：用于增强函数功能\n",
    "> partial(func, *args, **keywords)\n",
    ">> 创建偏函数：将某些不变的参数冻结，适用于某次使用只需要更改部分参数的情况\n",
    "\n",
    "> wraps\n",
    ">> 使用装饰器修饰后的函数会丢失元信息（如名字、文档字符串、注解和参数签名），导致在多进程中不可被pickle，而使用wraps充当其装饰器时，可以避免这个问题"
   ]
  },
  {
   "cell_type": "code",
   "execution_count": 4,
   "metadata": {},
   "outputs": [],
   "source": [
    "def take(n, iterable):\n",
    "    \"\"\"Return first *n* items of the iterable as a list.\n",
    "        >>> take(3, range(10))\n",
    "        [0, 1, 2]\n",
    "    \"\"\"\n",
    "    return list(itertools.islice(iterable, n))\n",
    "\n",
    "def chunked(iterable, n):\n",
    "    \"\"\"Break *iterable* into lists of length *n*:\n",
    "        >>> list(chunked([1, 2, 3, 4, 5, 6], 3))\n",
    "        [[1, 2, 3], [4, 5, 6]]\n",
    "        >>> list(chunked([1, 2, 3, 4, 5, 6, 7, 8], 3))\n",
    "        [[1, 2, 3], [4, 5, 6], [7, 8]]\n",
    "    \"\"\"\n",
    "    return iter(functools.partial(take, n, iter(iterable)), [])  \n",
    "\n",
    "#iter(callable, sentinel) 会持续调用参数callable直至其返回sentinel，因此会使得iter(iterable)不断进行直至抛出错误"
   ]
  },
  {
   "cell_type": "code",
   "execution_count": 5,
   "metadata": {},
   "outputs": [],
   "source": [
    "def my_decorator(func):  \n",
    "    @wraps\n",
    "    def wrapper(*args, **kwargs):  \n",
    "        print('Calling decorated function...')  \n",
    "        return func(*args, **kwargs)  \n",
    "    return wrapper  "
   ]
  }
 ],
 "metadata": {
  "kernelspec": {
   "display_name": "Python 3",
   "language": "python",
   "name": "python3"
  },
  "language_info": {
   "codemirror_mode": {
    "name": "ipython",
    "version": 3
   },
   "file_extension": ".py",
   "mimetype": "text/x-python",
   "name": "python",
   "nbconvert_exporter": "python",
   "pygments_lexer": "ipython3",
   "version": "3.5.4"
  },
  "varInspector": {
   "cols": {
    "lenName": 16,
    "lenType": 16,
    "lenVar": 40
   },
   "kernels_config": {
    "python": {
     "delete_cmd_postfix": "",
     "delete_cmd_prefix": "del ",
     "library": "var_list.py",
     "varRefreshCmd": "print(var_dic_list())"
    },
    "r": {
     "delete_cmd_postfix": ") ",
     "delete_cmd_prefix": "rm(",
     "library": "var_list.r",
     "varRefreshCmd": "cat(var_dic_list()) "
    }
   },
   "types_to_exclude": [
    "module",
    "function",
    "builtin_function_or_method",
    "instance",
    "_Feature"
   ],
   "window_display": false
  }
 },
 "nbformat": 4,
 "nbformat_minor": 2
}
