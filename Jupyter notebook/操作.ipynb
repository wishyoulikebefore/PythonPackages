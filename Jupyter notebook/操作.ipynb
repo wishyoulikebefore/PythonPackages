{
 "cells": [
  {
   "cell_type": "markdown",
   "metadata": {},
   "source": [
    "# 选择颜色主题"
   ]
  },
  {
   "cell_type": "raw",
   "metadata": {},
   "source": [
    "# 使用chesterish主题\n",
    "jt -t chesterish  \n",
    "\n",
    "# 恢复默认主题\n",
    "jt -r  "
   ]
  },
  {
   "cell_type": "markdown",
   "metadata": {},
   "source": [
    "# 命令和编辑模式中的快捷方式"
   ]
  },
  {
   "cell_type": "markdown",
   "metadata": {},
   "source": [
    "Shift + Enter 运行当前单元格，在下面选择\n",
    "\n",
    "Ctrl + Enter 运行选定的单元格\n",
    "\n",
    "Alt + Enter 运行当前单元格，插入下面\n",
    "\n",
    "Ctrl + S 保存和检查点"
   ]
  },
  {
   "cell_type": "markdown",
   "metadata": {},
   "source": [
    "# 处于编辑模式时的快捷方式"
   ]
  },
  {
   "cell_type": "markdown",
   "metadata": {},
   "source": [
    "Esc 进入命令模式\n",
    "\n",
    "Tab 代码完成或缩进\n",
    "\n",
    "Shift + Tab 提示\n",
    "\n",
    "Ctrl + ] 缩进\n",
    "\n",
    "Ctrl + \\[ 解除缩进\n",
    "\n",
    "Ctrl + A 全选\n",
    "\n",
    "Ctrl + Z 后退\n",
    "\n",
    "Ctrl + Shift + Z或Ctrl + Y重做\n",
    "\n",
    "Ctrl + Home  单元格开始\n",
    "\n",
    "Ctrl + End  单元格结束\n",
    "\n",
    "Ctrl + Left  跳转词左边\n",
    "\n",
    "Ctrl + Right  跳转词右边\n",
    "\n",
    "Ctrl + Down\t跳到单元末尾\n",
    "\n",
    "Ctrl + /\t注释整行/撤销注释\t仅代码状态有效"
   ]
  },
  {
   "cell_type": "markdown",
   "metadata": {},
   "source": [
    "# 命令模式Esc"
   ]
  },
  {
   "cell_type": "markdown",
   "metadata": {},
   "source": [
    "使用Up和Down键向上和向下滚动单元格\n",
    "\n",
    "按A或B在活动单元格的上方或下方插入新单元格\n",
    "\n",
    "M 将活动单元格转换为Markdown单元格\n",
    "\n",
    "Y 将活动单元格设置为代码单元格\n",
    "\n",
    "X 将切割选定的单元格\n",
    "\n",
    "C 将复制选定的单元格\n",
    "\n",
    "V 将粘贴正在复制/剪切的单元格\n",
    "\n",
    "Shift + V  贴上面的单元格\n",
    "\n",
    "S 将保存NoteBook\n",
    "\n",
    "F 查找/替换\n",
    "\n",
    "O 将切换输出\n",
    "\n",
    "D + D（D两次）将删除活动单元格\n",
    "\n",
    "Z  将撤消单元格删除\n",
    "\n",
    "要一次选择多个单元格，请按住Shift并按Up或Down\n",
    "\n",
    "Shift + Space 向上滚动NoteBook\n",
    "\n",
    "Space 向下滚动NoteBook"
   ]
  },
  {
   "cell_type": "markdown",
   "metadata": {},
   "source": [
    "# shell操作"
   ]
  },
  {
   "cell_type": "code",
   "execution_count": 3,
   "metadata": {},
   "outputs": [
    {
     "name": "stdout",
     "output_type": "stream",
     "text": [
      "Looking in indexes: http://mirrors.aliyun.com/pypi/simple/\n",
      "Requirement already satisfied: numpy in /Library/Frameworks/Python.framework/Versions/3.6/lib/python3.6/site-packages (1.19.2)\n",
      "\u001b[33mYou are using pip version 10.0.1, however version 20.2.3 is available.\n",
      "You should consider upgrading via the 'pip install --upgrade pip' command.\u001b[0m\n"
     ]
    }
   ],
   "source": [
    "# 使用在当前内核中安装软件包\n",
    "! pip3 install numpy"
   ]
  },
  {
   "cell_type": "code",
   "execution_count": 1,
   "metadata": {},
   "outputs": [
    {
     "name": "stdout",
     "output_type": "stream",
     "text": [
      "hello world\r\n"
     ]
    }
   ],
   "source": [
    "# 通过在$符号前面添加shell命令中的Python变量\n",
    "x = \"hello world\"\n",
    "! echo $x"
   ]
  },
  {
   "cell_type": "markdown",
   "metadata": {},
   "source": [
    "# 魔术命令"
   ]
  },
  {
   "cell_type": "raw",
   "metadata": {},
   "source": [
    "%matplotlib inline: 作图\n",
    "\n",
    "%config InlineBackend.figure_format = 'svg' 渲染矢量图\n",
    "\n",
    "%load:  导入本地代码\n",
    "\n",
    "%run:  运行本地代码\n",
    "\n",
    "%store:  在notebook文件之间传递变量\n",
    "\n",
    "%whos 显示变量类型以及一些额外信息：大小，内容等\n",
    "\n",
    "%who_ls 仅显示变量名称\n",
    "\n",
    "%%time：cell内代码的单次运行时间信息\n",
    "\n",
    "%%timeit：该模块运行某语句100，000次（默认值），然后提供最快的3次的平均值作为结果\n",
    "\n",
    "%prun: 告诉你程序中每个函数消耗的时间\n",
    "\n",
    "%pdb：调试程序\n",
    "\n",
    "执行不同的语言：\n",
    "\n",
    "%%HTML ➡执行HTML代码\n",
    "\n",
    "%%perl ➡在子进程中执行Perl\n",
    "\n",
    "%%javascript或%%js➡执行Javascript代码块\n",
    "\n",
    "%%python3 ➡在子进程中使用python3执行代码\n",
    "\n",
    "%%ruby ➡执行Ruby代码"
   ]
  },
  {
   "cell_type": "markdown",
   "metadata": {},
   "source": [
    "# 插入图片"
   ]
  },
  {
   "cell_type": "raw",
   "metadata": {},
   "source": [
    "方法1：\n",
    "from IPython.display import Image\n",
    "Image(filename=\"C:/Users/zty/Desktop/groupby.jpg\",width=300,height=400)\n",
    "\n",
    "方法2：\n",
    "%%html\n",
    "<img src=\"C:/Users/zty/Desktop/groupby.jpg\",width=300,height=400>"
   ]
  },
  {
   "cell_type": "markdown",
   "metadata": {},
   "source": [
    "# 改变字体、大小、颜色以及高亮"
   ]
  },
  {
   "cell_type": "raw",
   "metadata": {},
   "source": [
    "**<font color = red>红色+加粗</font>**\n",
    "\n",
    "*<font color = blue>蓝色+斜体</font>*\n",
    "\n",
    "***<font color=green>绿色+加粗+斜体</font>***\n",
    "\n",
    "<font color=steel size=5 face=雅黑>5号雅黑</font>\n",
    "\n",
    "<mark>黄色高亮<mark>\n",
    "\n",
    "<mark style=background-color:red>改变高亮颜色</mark> \n",
    "\n",
    "<mark><font color=red size=4 face=雅黑>叠加字体的变化<font><mark>"
   ]
  }
 ],
 "metadata": {
  "hide_input": false,
  "kernelspec": {
   "display_name": "Python 3",
   "language": "python",
   "name": "python3"
  },
  "language_info": {
   "codemirror_mode": {
    "name": "ipython",
    "version": 3
   },
   "file_extension": ".py",
   "mimetype": "text/x-python",
   "name": "python",
   "nbconvert_exporter": "python",
   "pygments_lexer": "ipython3",
   "version": "3.6.7"
  },
  "latex_envs": {
   "LaTeX_envs_menu_present": true,
   "autoclose": false,
   "autocomplete": true,
   "bibliofile": "biblio.bib",
   "cite_by": "apalike",
   "current_citInitial": 1,
   "eqLabelWithNumbers": true,
   "eqNumInitial": 1,
   "hotkeys": {
    "equation": "Ctrl-E",
    "itemize": "Ctrl-I"
   },
   "labels_anchors": false,
   "latex_user_defs": false,
   "report_style_numbering": false,
   "user_envs_cfg": false
  },
  "toc": {
   "base_numbering": 1,
   "nav_menu": {},
   "number_sections": true,
   "sideBar": true,
   "skip_h1_title": false,
   "title_cell": "Table of Contents",
   "title_sidebar": "Contents",
   "toc_cell": false,
   "toc_position": {},
   "toc_section_display": true,
   "toc_window_display": false
  }
 },
 "nbformat": 4,
 "nbformat_minor": 4
}
