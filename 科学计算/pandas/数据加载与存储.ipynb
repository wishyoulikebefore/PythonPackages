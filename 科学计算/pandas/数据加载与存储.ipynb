{
 "cells": [
  {
   "cell_type": "code",
   "execution_count": 1,
   "metadata": {},
   "outputs": [],
   "source": [
    "import pandas as pd"
   ]
  },
  {
   "cell_type": "markdown",
   "metadata": {},
   "source": [
    "# 读取数据\n",
    "read_csv函数"
   ]
  },
  {
   "cell_type": "markdown",
   "metadata": {},
   "source": [
    "参数\n",
    "> path：表示文件系统位置、URL、文件型对象的字符串\n",
    "\n",
    "> sep：字段拆分的字符序列或正则表达式\n",
    "\n",
    "> header：用作列名的行号，默认第一行，否则需要指定None\n",
    "\n",
    "> index_col：用作行索引的列编号或列名\n",
    "\n",
    "> names：自定义列名，结合header=None\n",
    "\n",
    "> skiprows：需要忽略的行数(int:从头跳过行数,list：从头跳过的行索引列表)\n",
    "\n",
    "> na_values：用于替换NA的值,例如{\"message\":[\"foo\",\"NA\"],\"something\":[\"two\"]}\n",
    "\n",
    "> parse_dates：尝试将数据解析为日期\n",
    "\n",
    "> nrows：需要读取的行数\n",
    "\n",
    "> chunksize：文件块的大小（用于迭代），指定每次读取的行数\n",
    "\n",
    "> skip_footer：从文件末尾开始，需要忽略的行数\n",
    "\n",
    "> dtype：设定某列数据的属性，节约内存，如dtype={\"user_id\": int, \"username\": object}"
   ]
  },
  {
   "cell_type": "markdown",
   "metadata": {},
   "source": [
    "# 数据输出\n",
    "to_csv(path=None, sep=',', na_rep='', columns=None, header=True, index=True, index_label=None)"
   ]
  },
  {
   "cell_type": "markdown",
   "metadata": {},
   "source": [
    "参数：\n",
    "> header：布尔值或字符串列表，默认输出列名\n",
    "\n",
    "> mode：选择\"a\"实现不覆盖输出"
   ]
  },
  {
   "cell_type": "markdown",
   "metadata": {},
   "source": [
    "# 读取Excel文件（需要xlrd和openpyxl）"
   ]
  },
  {
   "cell_type": "markdown",
   "metadata": {},
   "source": [
    "## 读取excel\n",
    "read_excel(io, sheetname=0, header=0, skiprows=None, index_col=None, names=None, parse_cols=None, date_parser=None, na_values=None)\n"
   ]
  },
  {
   "cell_type": "markdown",
   "metadata": {},
   "source": [
    "## 写入excel\n",
    "to_excel(excel_writer, sheet_name='Sheet1', na_rep='', columns=None, header=True, index=True, index_label=None, startrow=0, startcol=0)"
   ]
  },
  {
   "cell_type": "markdown",
   "metadata": {},
   "source": [
    "# 读取大文件"
   ]
  },
  {
   "cell_type": "markdown",
   "metadata": {},
   "source": [
    "## 利用chunksize指定每次读取的行数"
   ]
  },
  {
   "cell_type": "markdown",
   "metadata": {},
   "source": [
    "In [138]: reader = pd.read_table('tmp.sv', sep='|', chunksize=1000)\n",
    "In [139]: reader\n",
    "Out[139]: <pandas.io.parsers.TextFileReader at 0x120d2f290>\n",
    "\n",
    "In [140]: for chunk in reader:\n",
    "   .....:     print(chunk)\n",
    "\n",
    "指定iterator=True 也可以返回一个可迭代对象TextFileReader \n",
    "In [141]: reader = pd.read_table('tmp.sv', sep='|', iterator=True)\n",
    "In [142]: reader.get_chunk(5)\n",
    "\n",
    "loop = True\n",
    "chunkSize = 1000000\n",
    "chunks = []\n",
    "while loop:\n",
    "    try:\n",
    "        chunk = reader.get_chunk(chunkSize)\n",
    "        chunks.append(chunk)\n",
    "    except StopIteration:\n",
    "        loop = False\n",
    "        print \"Iteration is stopped.\"\n",
    "df = pd.concat(chunks, ignore_index=True)"
   ]
  },
  {
   "cell_type": "code",
   "execution_count": null,
   "metadata": {},
   "outputs": [],
   "source": []
  }
 ],
 "metadata": {
  "hide_input": false,
  "kernelspec": {
   "display_name": "Python 3",
   "language": "python",
   "name": "python3"
  },
  "language_info": {
   "codemirror_mode": {
    "name": "ipython",
    "version": 3
   },
   "file_extension": ".py",
   "mimetype": "text/x-python",
   "name": "python",
   "nbconvert_exporter": "python",
   "pygments_lexer": "ipython3",
   "version": "3.6.0"
  },
  "toc": {
   "base_numbering": 1,
   "nav_menu": {},
   "number_sections": true,
   "sideBar": true,
   "skip_h1_title": false,
   "title_cell": "Table of Contents",
   "title_sidebar": "Contents",
   "toc_cell": false,
   "toc_position": {},
   "toc_section_display": true,
   "toc_window_display": true
  }
 },
 "nbformat": 4,
 "nbformat_minor": 2
}
