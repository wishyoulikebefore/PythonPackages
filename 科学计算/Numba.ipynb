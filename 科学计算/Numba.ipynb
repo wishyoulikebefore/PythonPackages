{
 "cells": [
  {
   "cell_type": "markdown",
   "metadata": {},
   "source": [
    "# 简介"
   ]
  },
  {
   "cell_type": "markdown",
   "metadata": {},
   "source": [
    "Numba通过及时编译机制（JIT,just in time）优化Python代码，同时支持CPU和GPU的优化，并且可以和Numpy集成"
   ]
  },
  {
   "cell_type": "markdown",
   "metadata": {},
   "source": [
    "## 优势"
   ]
  },
  {
   "cell_type": "markdown",
   "metadata": {},
   "source": [
    "> 简单，往往只要1行代码就有惊喜\n",
    "\n",
    "> 对循环（loop）有奇效，而往往在科学计算中限制python速度的就是loop\n",
    "\n",
    "> 兼容常用的科学计算包，如numpy、cmath等\n",
    "\n",
    "> 可以创建ufunc\n",
    "\n",
    "> 会自动调整精度，保证准确性"
   ]
  },
  {
   "cell_type": "markdown",
   "metadata": {},
   "source": [
    "# 实际使用"
   ]
  },
  {
   "cell_type": "markdown",
   "metadata": {},
   "source": [
    "## @nb.jit()装饰器"
   ]
  },
  {
   "cell_type": "code",
   "execution_count": 1,
   "metadata": {},
   "outputs": [],
   "source": [
    "import numba as nb"
   ]
  },
  {
   "cell_type": "code",
   "execution_count": 2,
   "metadata": {},
   "outputs": [],
   "source": [
    "@nb.jit()\n",
    "def nb_sum(a):\n",
    "    Sum = 0\n",
    "    for i in range(len(a)):\n",
    "        Sum += a[i]\n",
    "    return Sum\n",
    "\n",
    "# 没用numba加速的求和函数\n",
    "def py_sum(a):\n",
    "    Sum = 0\n",
    "    for i in range(len(a)):\n",
    "        Sum += a[i]\n",
    "    return Sum"
   ]
  },
  {
   "cell_type": "markdown",
   "metadata": {},
   "source": [
    "### 明显加快loop速度"
   ]
  },
  {
   "cell_type": "code",
   "execution_count": 5,
   "metadata": {},
   "outputs": [
    {
     "name": "stdout",
     "output_type": "stream",
     "text": [
      "3.37 µs ± 207 ns per loop (mean ± std. dev. of 7 runs, 100000 loops each)\n",
      "18.1 µs ± 456 ns per loop (mean ± std. dev. of 7 runs, 100000 loops each)\n",
      "407 ns ± 18.9 ns per loop (mean ± std. dev. of 7 runs, 1000000 loops each)\n",
      "22.5 µs ± 1.37 µs per loop (mean ± std. dev. of 7 runs, 10000 loops each)\n"
     ]
    }
   ],
   "source": [
    "import numpy as np\n",
    "a = np.linspace(0,100,100) # 创建一个长度为100的数组\n",
    "\n",
    "%timeit np.sum(a) # numpy自带的求和函数\n",
    "%timeit sum(a) # python自带的求和函数\n",
    "%timeit nb_sum(a) # numba加速的求和函数\n",
    "%timeit py_sum(a) # 没加速的求和函数"
   ]
  },
  {
   "cell_type": "markdown",
   "metadata": {},
   "source": [
    "### 对numpy自带的函数也加速良好\n",
    "numpy的加速只适用于numpy自带的函数"
   ]
  },
  {
   "cell_type": "code",
   "execution_count": 6,
   "metadata": {},
   "outputs": [
    {
     "name": "stdout",
     "output_type": "stream",
     "text": [
      "985 µs ± 67.6 µs per loop (mean ± std. dev. of 7 runs, 1000 loops each)\n",
      "150 ms ± 2.94 ms per loop (mean ± std. dev. of 7 runs, 10 loops each)\n",
      "1.11 ms ± 15.6 µs per loop (mean ± std. dev. of 7 runs, 1000 loops each)\n",
      "220 ms ± 13.3 ms per loop (mean ± std. dev. of 7 runs, 1 loop each)\n"
     ]
    }
   ],
   "source": [
    "a = np.linspace(0,100,10**6) # 创建一个长度为100万的数组\n",
    "\n",
    "%timeit np.sum(a) # numpy自带的求和函数\n",
    "%timeit sum(a) # python自带的求和函数\n",
    "%timeit nb_sum(a) # numba加速的求和函数\n",
    "%timeit py_sum(a) # 没加速的求和函数"
   ]
  },
  {
   "cell_type": "markdown",
   "metadata": {},
   "source": [
    "## @nb.vectorize()矢量化"
   ]
  },
  {
   "cell_type": "markdown",
   "metadata": {},
   "source": [
    "### 创建ufunc\n",
    "numpy的ufunc (universal functions)，可以让一个函数同时处理很多数据\n",
    "\n",
    "当遇到numpy没有的数学函数时（比如sech），用numba矢量化不失为一个好的选择"
   ]
  },
  {
   "cell_type": "code",
   "execution_count": 7,
   "metadata": {},
   "outputs": [],
   "source": [
    "from math import sin\n",
    "\n",
    "@nb.vectorize()\n",
    "def nb_vec_sin(a):\n",
    "    return sin(a)"
   ]
  },
  {
   "cell_type": "code",
   "execution_count": 8,
   "metadata": {},
   "outputs": [
    {
     "name": "stdout",
     "output_type": "stream",
     "text": [
      "9.78 ms ± 190 µs per loop (mean ± std. dev. of 7 runs, 100 loops each)\n",
      "10.3 ms ± 299 µs per loop (mean ± std. dev. of 7 runs, 100 loops each)\n"
     ]
    }
   ],
   "source": [
    "%timeit nb_vec_sin(a)\n",
    "%timeit np.sin(a)"
   ]
  },
  {
   "cell_type": "markdown",
   "metadata": {},
   "source": [
    "## 会自动调整精度，保证准确性"
   ]
  },
  {
   "cell_type": "code",
   "execution_count": 10,
   "metadata": {},
   "outputs": [
    {
     "data": {
      "text/plain": [
       "499999500000"
      ]
     },
     "execution_count": 10,
     "metadata": {},
     "output_type": "execute_result"
    }
   ],
   "source": [
    "a = np.arange(10**6)\n",
    "\n",
    "nb_sum(a)"
   ]
  },
  {
   "cell_type": "code",
   "execution_count": 11,
   "metadata": {},
   "outputs": [
    {
     "data": {
      "text/plain": [
       "1783293664"
      ]
     },
     "execution_count": 11,
     "metadata": {},
     "output_type": "execute_result"
    }
   ],
   "source": [
    "np.sum(a)"
   ]
  },
  {
   "cell_type": "markdown",
   "metadata": {},
   "source": [
    "其实在运行的时候，应该报错“RuntimeWarning: overflow encountered in long_scalars”，但奇怪的是np.sum并没有报错\n",
    "\n",
    "numba给出的结果是int64，其它给出的是int32"
   ]
  },
  {
   "cell_type": "markdown",
   "metadata": {},
   "source": [
    "## 其它加速类型"
   ]
  },
  {
   "cell_type": "markdown",
   "metadata": {},
   "source": [
    "@nb.jit(nopython=True,fastmath=True) 牺牲一丢丢数学精度来提高速度\n",
    "\n",
    "@nb.jit(nopython=True,parallel=True) 自动进行并行计算"
   ]
  },
  {
   "cell_type": "markdown",
   "metadata": {},
   "source": [
    "# 写CUDA"
   ]
  },
  {
   "cell_type": "code",
   "execution_count": null,
   "metadata": {},
   "outputs": [],
   "source": [
    "import numpy as np \n",
    "from timeit import default_timer as timer\n",
    "from numba import vectorize\n",
    "\n",
    "@vectorize([\"float32(float32, float32)\"], target='cuda')\n",
    "def vectorAdd(a, b):\n",
    "    return a + b\n",
    "\n",
    "def main():\n",
    "    N = 320000000\n",
    "\n",
    "    A = np.ones(N, dtype=np.float32 )\n",
    "    B = np.ones(N, dtype=np.float32 )\n",
    "    C = np.zeros(N, dtype=np.float32 )\n",
    "\n",
    "    start = timer()\n",
    "    C = vectorAdd(A, B)\n",
    "    vectorAdd_time = timer() - start\n",
    "\n",
    "    print(\"c[:5] = \" + str(C[:5]))\n",
    "    print(\"c[-5:] = \" + str(C[-5:]))\n",
    "\n",
    "    print(\"vectorAdd took %f seconds \" % vectorAdd_time)\n",
    "\n",
    "if __name__ == '__main__':\n",
    "    main()"
   ]
  }
 ],
 "metadata": {
  "hide_input": false,
  "kernelspec": {
   "display_name": "Python 3",
   "language": "python",
   "name": "python3"
  },
  "language_info": {
   "codemirror_mode": {
    "name": "ipython",
    "version": 3
   },
   "file_extension": ".py",
   "mimetype": "text/x-python",
   "name": "python",
   "nbconvert_exporter": "python",
   "pygments_lexer": "ipython3",
   "version": "3.6.0"
  },
  "toc": {
   "base_numbering": 1,
   "nav_menu": {},
   "number_sections": true,
   "sideBar": true,
   "skip_h1_title": false,
   "title_cell": "Table of Contents",
   "title_sidebar": "Contents",
   "toc_cell": false,
   "toc_position": {},
   "toc_section_display": true,
   "toc_window_display": true
  }
 },
 "nbformat": 4,
 "nbformat_minor": 2
}
