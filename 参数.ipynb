{
 "cells": [
  {
   "cell_type": "code",
   "execution_count": 1,
   "metadata": {},
   "outputs": [],
   "source": [
    "import argparse"
   ]
  },
  {
   "cell_type": "markdown",
   "metadata": {},
   "source": [
    "## argparse "
   ]
  },
  {
   "cell_type": "markdown",
   "metadata": {},
   "source": [
    "### 整体框架\n",
    "> 创建一个解析对象： parser = argparse.ArgumentParser(description=\"your script description\") \n",
    "\n",
    "> 向该对象中添加你要关注的命令行参数和选项： parser.add_argument()\n",
    "\n",
    "> 进行解析：args = parser.parse_args()"
   ]
  },
  {
   "cell_type": "markdown",
   "metadata": {},
   "source": [
    "### add_argument\n",
    "add_argument(name or flags…[, action][, nargs][, const][, default][, type][, choices][, required][, help][, metavar][, dest])   \n",
    "> name or flags：指定参数的形式，一般写两个（-短参数 --长参数）\n",
    "> #赋值时，-短参数 X --长参数 = X\n",
    "\n",
    "> nargs ：指定这个参数后面的value有多少个；不定时可设置为 nargs=\"*\"\n",
    "\n",
    "> type：指定参数类型\n",
    "\n",
    "> choices：设置参数值的范围\n",
    "\n",
    "> required：是否必选\n",
    "\n",
    "> metavar ：参数的名字，在显示帮助信息时才用到\n",
    "\n",
    "> help：设置帮助信息\n",
    "\n",
    "> dest：解析出来的对应属性\n",
    "\n",
    "> action：指定属性对应的处理逻辑，默认为store（存储某个值或多个参数值收集到一个列表），也可以为store_const,store_true或者store_false\n",
    "\n",
    "> default：如果命令行没有出现这个选项，那么使用default指定的默认值"
   ]
  },
  {
   "cell_type": "code",
   "execution_count": null,
   "metadata": {},
   "outputs": [],
   "source": [
    "parser = argparse.ArgumentParser(description='Process some integers.')  \n",
    "\n",
    "parser.add_argument('integers', metavar='N', type=int, nargs='+', help='an integer for the accumulator')  \n",
    "parser.add_argument('-sum', dest='accumulate', action='store_const',const=sum, \n",
    "                    default=max,  help='sum the integers (default: find the max)')  \n",
    "parser.add_argument(\"-square\", help=\"display a square of a given number\", type=int) \n",
    "\n",
    "args = parser.parse_args()  \n",
    "\n",
    "print(args.accumulate(args.integers), args.square**2)"
   ]
  },
  {
   "cell_type": "code",
   "execution_count": null,
   "metadata": {},
   "outputs": [],
   "source": [
    "python prog.py 4 5 6 -square 7\n",
    "#输出6  49\n",
    "\n",
    "python prog.py -sum 4 5 6 --square 7\n",
    "#输出15  49"
   ]
  },
  {
   "cell_type": "code",
   "execution_count": null,
   "metadata": {},
   "outputs": [],
   "source": [
    "parser = argparse.ArgumentParser(description='Search some files')\n",
    "\n",
    "parser.add_argument(dest='filenames',metavar='filename', nargs='*')\n",
    "#下面的参数说明允许某个参数重复出现多次，并将它们追加到一个列表中去\n",
    "parser.add_argument('-p', '--pat',metavar='pattern', required=True, dest='patterns', \n",
    "                    action='append',help='text pattern to search for')\n",
    "#根据参数是否存在来设置一个 Boolean 标志\n",
    "parser.add_argument('-v', dest='verbose', action='store_true',help='verbose mode')\n",
    "#参数接受一个单独值并将其存储为一个字符串\n",
    "parser.add_argument('-o', dest='outfile', action='store',help='output file')\n",
    "#接受一个值，但是会将其和可能的选择值做比较，以检测其合法性\n",
    "parser.add_argument('--speed', dest='speed', action='store',choices={'slow','fast'}, \n",
    "                    default='slow',help='search speed')\n",
    "\n",
    "args = parser.parse_args()"
   ]
  },
  {
   "cell_type": "code",
   "execution_count": null,
   "metadata": {},
   "outputs": [],
   "source": [
    "python3 search.py -v -p spam --pat=eggs foo.txt bar.txt\n",
    "\n",
    "#输出\n",
    "filenames = ['foo.txt', 'bar.txt']\n",
    "patterns  = ['spam', 'eggs']\n",
    "verbose   = True\n",
    "outfile   = None\n",
    "speed     = slow"
   ]
  },
  {
   "cell_type": "markdown",
   "metadata": {},
   "source": [
    "## docopt \n",
    "代码的最开头使用 \"\"\" \"\"\"文档注释的形式写出符合要求的文档，就会自动生成对应的parse"
   ]
  },
  {
   "cell_type": "markdown",
   "metadata": {},
   "source": [
    "### 注释文档的格式\n",
    "> Usage：和一个空行之间的文本都会被识别为一个命令组合\n",
    "> #Usage 后的第一个字母将会被识别为这个程序的名字\n",
    "\n",
    "> Options：可选项 "
   ]
  },
  {
   "cell_type": "code",
   "execution_count": null,
   "metadata": {},
   "outputs": [],
   "source": [
    "\"\"\"\n",
    "Usage:\n",
    "    tickets [-gdtkz] <from> <to> <date>\n",
    "\n",
    "Options:\n",
    "    -h,--help   显示帮助菜单\n",
    "    -g          高铁\n",
    "    -d          动车\n",
    "    -t          特快\n",
    "    -k          快速\n",
    "    -z          直达\n",
    "\"\"\""
   ]
  }
 ],
 "metadata": {
  "kernelspec": {
   "display_name": "Python 3",
   "language": "python",
   "name": "python3"
  },
  "language_info": {
   "codemirror_mode": {
    "name": "ipython",
    "version": 3
   },
   "file_extension": ".py",
   "mimetype": "text/x-python",
   "name": "python",
   "nbconvert_exporter": "python",
   "pygments_lexer": "ipython3",
   "version": "3.5.4"
  },
  "varInspector": {
   "cols": {
    "lenName": 16,
    "lenType": 16,
    "lenVar": 40
   },
   "kernels_config": {
    "python": {
     "delete_cmd_postfix": "",
     "delete_cmd_prefix": "del ",
     "library": "var_list.py",
     "varRefreshCmd": "print(var_dic_list())"
    },
    "r": {
     "delete_cmd_postfix": ") ",
     "delete_cmd_prefix": "rm(",
     "library": "var_list.r",
     "varRefreshCmd": "cat(var_dic_list()) "
    }
   },
   "types_to_exclude": [
    "module",
    "function",
    "builtin_function_or_method",
    "instance",
    "_Feature"
   ],
   "window_display": false
  }
 },
 "nbformat": 4,
 "nbformat_minor": 2
}
