{
 "cells": [
  {
   "cell_type": "code",
   "execution_count": 1,
   "metadata": {
    "ExecuteTime": {
     "end_time": "2018-12-30T02:22:40.497776Z",
     "start_time": "2018-12-30T02:22:40.065883Z"
    }
   },
   "outputs": [],
   "source": [
    "import xlrd      #读取execel\n",
    "import xlwt      #写入excel"
   ]
  },
  {
   "cell_type": "markdown",
   "metadata": {},
   "source": [
    "## 读取excel "
   ]
  },
  {
   "cell_type": "raw",
   "metadata": {
    "ExecuteTime": {
     "end_time": "2018-12-30T02:24:41.289240Z",
     "start_time": "2018-12-30T02:24:41.254263Z"
    }
   },
   "source": [
    "workbook=xlrd.open_workbook(r\"C:\\Users\\zty\\Desktop\\test.xlsx\")\n",
    "\n",
    "#返回所有sheet的名称\n",
    "workbook.sheet_names()       \n",
    "\n",
    "#返回sheet的数目\n",
    "workbook.nsheets   \n",
    "\n",
    "#返回第二个sheet\n",
    "sheet2_name=workbook.sheet_names()[1]  \n",
    "\n",
    "#sheet2的行数\n",
    "sheet2.nrows   \n",
    "\n",
    "#sheet2的列数\n",
    "sheet2.ncols    \n",
    "\n",
    " #sheet2第4行的值\n",
    "rows=sheet2.row_values(3) \n",
    "\n",
    "#sheet2第3列的值\n",
    "cols=sheet2.col_values(2)\t\n",
    "\n",
    "#sheet2 B1的值\n",
    "sheet2.cell_value(1,0)\t\t\t"
   ]
  },
  {
   "cell_type": "markdown",
   "metadata": {},
   "source": [
    "## 写入Excel "
   ]
  },
  {
   "cell_type": "raw",
   "metadata": {},
   "source": [
    "#新建1个excel文件\n",
    "data=xlwt.Workbook()  \n",
    "\n",
    "#创建1个工作表；允许对同一个单元格重复操作\n",
    "table=data.add_sheet(“name”, cell_overwrite_ok=True)\n",
    "\n",
    "table.write(0,0,u’hehe’)\n",
    "\n",
    "data.save(“test.xls”)\n",
    "\n",
    "#初始化样式\n",
    "style=xlwt.XFStyle()  \n",
    "\n",
    "#为样式创建字体\n",
    "font=xlwt.Font()  \n",
    "\n",
    "#指定字体名字\n",
    "font.name='Times New Roman'   \n",
    "\n",
    "#字体加粗\n",
    "font.bold=True   \n",
    "\n",
    "#将该font设定为style的字体\n",
    "style.font=font        \n",
    "\n",
    "#写入到文件时使用该样式\n",
    "sheet.write(0,1,'just for test',style)   "
   ]
  },
  {
   "cell_type": "markdown",
   "metadata": {},
   "source": [
    "### 示例 "
   ]
  },
  {
   "cell_type": "code",
   "execution_count": null,
   "metadata": {},
   "outputs": [],
   "source": [
    "data = xlwt.Workbook()\n",
    "table = data.add_sheet(\"lhb\", cell_overwrite_ok=True)\n",
    "table.write(0, 0, close)\n",
    "if zhangdie == \"red\":\n",
    "    table.write(0, 1, \"+\" + str(p_change) + \"%\")\n",
    "else:\n",
    "    table.write(0, 1, \"-\" + str(p_change) + \"%\")\n",
    "table.write(0, 2, \"成交量: \" + str(volume))\n",
    "table.write(0, 3, \"成交金额: \" + str(amount))\n",
    "table.write(0, 4, \"上榜理由: \" + lhb_reason)\n",
    "table.write(2, 0, u\"序号\")\n",
    "table.write(2, 1, u\"营业部\")\n",
    "table.write(2, 2, u\"买入金额\")\n",
    "table.write(2, 3, u\"买入比例\")\n",
    "table.write(2, 4, u\"卖出金额\")\n",
    "table.write(2, 5, u\"卖出比例\")\n",
    "table.write(2, 6, u\"净额\")\n",
    "table.write(2, 7, u\"买入成本\")\n",
    "table.write(2, 8, u\"卖出成本\")\n",
    "table.write(2, 9, u\"买入原因\")\n",
    "table.write(3, 0, u\"买入前五\")"
   ]
  }
 ],
 "metadata": {
  "kernelspec": {
   "display_name": "Python 3",
   "language": "python",
   "name": "python3"
  },
  "toc": {
   "base_numbering": 1,
   "nav_menu": {},
   "number_sections": true,
   "sideBar": true,
   "skip_h1_title": false,
   "title_cell": "Table of Contents",
   "title_sidebar": "Contents",
   "toc_cell": false,
   "toc_position": {},
   "toc_section_display": true,
   "toc_window_display": false
  },
  "varInspector": {
   "cols": {
    "lenName": 16,
    "lenType": 16,
    "lenVar": 40
   },
   "kernels_config": {
    "python": {
     "delete_cmd_postfix": "",
     "delete_cmd_prefix": "del ",
     "library": "var_list.py",
     "varRefreshCmd": "print(var_dic_list())"
    },
    "r": {
     "delete_cmd_postfix": ") ",
     "delete_cmd_prefix": "rm(",
     "library": "var_list.r",
     "varRefreshCmd": "cat(var_dic_list()) "
    }
   },
   "types_to_exclude": [
    "module",
    "function",
    "builtin_function_or_method",
    "instance",
    "_Feature"
   ],
   "window_display": false
  }
 },
 "nbformat": 4,
 "nbformat_minor": 2
}
