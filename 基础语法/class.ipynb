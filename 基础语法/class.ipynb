{
 "cells": [
  {
   "cell_type": "markdown",
   "metadata": {},
   "source": [
    "面对对象OO\n",
    "\n",
    "<font color=\"red\">继承、封装和多态</font>"
   ]
  },
  {
   "cell_type": "markdown",
   "metadata": {},
   "source": [
    "# 创建类(class)"
   ]
  },
  {
   "cell_type": "code",
   "execution_count": 19,
   "metadata": {},
   "outputs": [],
   "source": [
    "class Employee:\n",
    "    \n",
    "   empCount = 0   ### 类变量，其值在此类中的所有实例之间共享\n",
    "\n",
    "   def __init__(self, name, salary):\n",
    "      self.name = name\n",
    "      self.salary = salary\n",
    "      Employee.empCount += 1\n",
    "\n",
    "   def displayCount(self):\n",
    "     print(\"Total Employee %d\" % Employee.empCount)\n",
    "\n",
    "   def displayEmployee(self):\n",
    "      print(\"Name : \", self.name,  \", Salary: \", self.salary)"
   ]
  },
  {
   "cell_type": "markdown",
   "metadata": {},
   "source": [
    "## 创建实例对象(instance)"
   ]
  },
  {
   "cell_type": "code",
   "execution_count": 20,
   "metadata": {},
   "outputs": [],
   "source": [
    "emp1 = Employee(\"Maxsu\", 2000)\n",
    "emp2 = Employee(\"Kobe\", 5000)"
   ]
  },
  {
   "cell_type": "markdown",
   "metadata": {},
   "source": [
    "## 访问属性"
   ]
  },
  {
   "cell_type": "code",
   "execution_count": 21,
   "metadata": {},
   "outputs": [
    {
     "name": "stdout",
     "output_type": "stream",
     "text": [
      "Name :  Maxsu , Salary:  2000\n",
      "Name :  Kobe , Salary:  5000\n",
      "Total Employee 2\n"
     ]
    }
   ],
   "source": [
    "emp1.displayEmployee()\n",
    "emp2.displayEmployee()\n",
    "print (\"Total Employee %d\" % Employee.empCount)"
   ]
  },
  {
   "cell_type": "markdown",
   "metadata": {},
   "source": [
    "## 添加，删除或修改类和对象的属性"
   ]
  },
  {
   "cell_type": "code",
   "execution_count": 22,
   "metadata": {},
   "outputs": [],
   "source": [
    "emp1.salary = 7000  # Add an 'salary' attribute.\n",
    "emp1.name = 'xyz'  # Modify 'age' attribute.\n",
    "del emp1.salary  # Delete 'age' attribute."
   ]
  },
  {
   "cell_type": "markdown",
   "metadata": {},
   "source": [
    "### 函数类"
   ]
  },
  {
   "cell_type": "code",
   "execution_count": 14,
   "metadata": {},
   "outputs": [
    {
     "data": {
      "text/plain": [
       "False"
      ]
     },
     "execution_count": 14,
     "metadata": {},
     "output_type": "execute_result"
    }
   ],
   "source": [
    "hasattr(emp2, 'salary')   "
   ]
  },
  {
   "cell_type": "code",
   "execution_count": 11,
   "metadata": {},
   "outputs": [
    {
     "data": {
      "text/plain": [
       "5000"
      ]
     },
     "execution_count": 11,
     "metadata": {},
     "output_type": "execute_result"
    }
   ],
   "source": [
    "getattr(emp2, 'salary')  "
   ]
  },
  {
   "cell_type": "code",
   "execution_count": 12,
   "metadata": {},
   "outputs": [],
   "source": [
    "setattr(emp2, 'salary', 7000) "
   ]
  },
  {
   "cell_type": "code",
   "execution_count": 23,
   "metadata": {},
   "outputs": [],
   "source": [
    "delattr(emp2, 'salary') "
   ]
  },
  {
   "cell_type": "markdown",
   "metadata": {},
   "source": [
    "## 对象管理"
   ]
  },
  {
   "cell_type": "markdown",
   "metadata": {},
   "source": [
    "### \\_\\_dict\\_\\_"
   ]
  },
  {
   "cell_type": "raw",
   "metadata": {},
   "source": [
    "内置的数据类型没有__dict__属性\n",
    "\n",
    "每个类有自己的__dict__属性，就算存着继承关系，父类的__dict__ 并不会影响子类的__dict__\n",
    "\n",
    "对象也有自己的__dict__属性， 存储self.xxx 信息，父子类对象公用__dict__"
   ]
  },
  {
   "cell_type": "code",
   "execution_count": 24,
   "metadata": {},
   "outputs": [],
   "source": [
    "class Parent(object):\n",
    "\n",
    "    def __init__(self):\n",
    "        self.a = 2\n",
    "        self.b = 3\n",
    "\n",
    "    def p_test(self):\n",
    "        pass\n",
    "\n",
    "\n",
    "class Child(Parent):\n",
    "\n",
    "    def __init__(self):\n",
    "        super(Child, self).__init__()\n",
    "\n",
    "    def c_test(self):\n",
    "        pass\n",
    "\n",
    "    def p_test(self):\n",
    "        pass"
   ]
  },
  {
   "cell_type": "code",
   "execution_count": 25,
   "metadata": {},
   "outputs": [
    {
     "name": "stdout",
     "output_type": "stream",
     "text": [
      "{'__module__': '__main__', '__init__': <function Parent.__init__ at 0x0000022DAA272EA0>, 'p_test': <function Parent.p_test at 0x0000022DAA272E18>, '__dict__': <attribute '__dict__' of 'Parent' objects>, '__weakref__': <attribute '__weakref__' of 'Parent' objects>, '__doc__': None}\n",
      "{'__module__': '__main__', '__init__': <function Child.__init__ at 0x0000022DAA272D90>, 'c_test': <function Child.c_test at 0x0000022DAA272D08>, 'p_test': <function Child.p_test at 0x0000022DAA272C80>, '__doc__': None}\n",
      "{'a': 2, 'b': 3}\n",
      "{'a': 2, 'b': 3}\n"
     ]
    }
   ],
   "source": [
    "p = Parent()\n",
    "c = Child()\n",
    "print(Parent.__dict__)\n",
    "print(Child.__dict__)\n",
    "print(p.__dict__)\n",
    "print(c.__dict__)"
   ]
  },
  {
   "cell_type": "raw",
   "metadata": {},
   "source": [
    "__dict__与dir()的区别：\n",
    "\n",
    "__dict__是一个字典，键为属性名，值为属性值；\n",
    "\n",
    "dir()是一个函数，返回的是列表 list，dir()用来寻找一个对象的所有属性，包括__dict__中的属性，__dict__是dir()的子集"
   ]
  },
  {
   "cell_type": "markdown",
   "metadata": {},
   "source": [
    "# 运算符重载\n",
    "__X__是特殊钩子，当实例出现在内置运算时会自动调用\n",
    "\n",
    "类可覆盖多数内置类型运算\n",
    "\n",
    "运算符覆盖方法没有默认值"
   ]
  },
  {
   "cell_type": "markdown",
   "metadata": {},
   "source": [
    "## 初始化 \\_\\_init\\_\\_ & \\_\\_new\\_\\_"
   ]
  },
  {
   "cell_type": "markdown",
   "metadata": {},
   "source": [
    "\\_\\_new\\_\\_方法先被调用，接着\\_\\_init\\_\\_被调用\n",
    "\n",
    "\\_\\_new\\_\\_至少要有一个参数cls，代表要实例化的类，此参数在实例化时由Python解释器自动提供\n",
    "\n",
    "\\_\\_new\\_\\_<font color=\"red\">必须要有返回值</font>，返回实例化出来的实例，这个实例对象会传递给\\_\\_init\\_\\_方法中定义的 self 参数，以便实例对象被正确地初始化\n",
    "\n",
    "\\_\\_init\\_\\_有一个参数self，就是这个\\_\\_new\\_\\_返回的实例，\\_\\_init\\_\\_在\\_\\_new\\_\\_的基础上可以完成一些其它初始化的动作，\\_\\_init\\_\\_不需要返回值"
   ]
  },
  {
   "cell_type": "code",
   "execution_count": 8,
   "metadata": {},
   "outputs": [
    {
     "name": "stdout",
     "output_type": "stream",
     "text": [
      "__new__ \n",
      "__init__ \n"
     ]
    },
    {
     "data": {
      "text/plain": [
       "<__main__.A at 0x27870698748>"
      ]
     },
     "execution_count": 8,
     "metadata": {},
     "output_type": "execute_result"
    }
   ],
   "source": [
    "class A:\n",
    "    def __init__(self):\n",
    "        print(\"__init__ \")\n",
    "        super().__init__()\n",
    "\n",
    "    def __new__(cls):\n",
    "        print(\"__new__ \")\n",
    "        return super().__new__(cls)\n",
    "\n",
    "    def __call__(self):  # 可以定义任意参数\n",
    "        print('__call__ ')\n",
    "\n",
    "A()"
   ]
  },
  {
   "cell_type": "markdown",
   "metadata": {},
   "source": [
    "## 字符串"
   ]
  },
  {
   "cell_type": "raw",
   "metadata": {},
   "source": [
    "__repr__：可评估求值的字符串\n",
    "\n",
    "__str__：可打印的字符串\n",
    "\n",
    "__format__：格式化输出\n",
    "\n",
    "__len__：字符串长度"
   ]
  },
  {
   "cell_type": "code",
   "execution_count": 15,
   "metadata": {},
   "outputs": [],
   "source": [
    "class Pair:\n",
    "    \n",
    "    def __init__(self, x, y):\n",
    "        self.x = x\n",
    "        self.y = y\n",
    "        \n",
    "    def __repr__(self):\n",
    "        return 'Pair({0.x!r}, {0.y!r})'.format(self)\n",
    "    \n",
    "    def __str__(self):\n",
    "        return '({0.x!s}, {0.y!s})'.format(self)\n",
    "    \n",
    "    def __len__(self):\n",
    "        return len(str(self.x))"
   ]
  },
  {
   "cell_type": "code",
   "execution_count": 16,
   "metadata": {},
   "outputs": [
    {
     "data": {
      "text/plain": [
       "Pair(3, 4)"
      ]
     },
     "execution_count": 16,
     "metadata": {},
     "output_type": "execute_result"
    }
   ],
   "source": [
    "p = Pair(3, 4)\n",
    "p"
   ]
  },
  {
   "cell_type": "code",
   "execution_count": 3,
   "metadata": {},
   "outputs": [
    {
     "name": "stdout",
     "output_type": "stream",
     "text": [
      "(3, 4)\n"
     ]
    }
   ],
   "source": [
    "print(p)   # __str__() output"
   ]
  },
  {
   "cell_type": "code",
   "execution_count": 17,
   "metadata": {},
   "outputs": [
    {
     "data": {
      "text/plain": [
       "1"
      ]
     },
     "execution_count": 17,
     "metadata": {},
     "output_type": "execute_result"
    }
   ],
   "source": [
    "len(p)"
   ]
  },
  {
   "cell_type": "code",
   "execution_count": 4,
   "metadata": {},
   "outputs": [],
   "source": [
    "_formats = {'ymd' : '{d.year}-{d.month}-{d.day}',\n",
    "            'mdy' : '{d.month}/{d.day}/{d.year}',\n",
    "            'dmy' : '{d.day}/{d.month}/{d.year}'\n",
    "    }\n",
    "\n",
    "class Date:\n",
    "    def __init__(self, year, month, day):\n",
    "        self.year = year\n",
    "        self.month = month\n",
    "        self.day = day\n",
    "        \n",
    "    def __format__(self, code):\n",
    "        if code == '':\n",
    "            code = 'ymd'\n",
    "        fmt = _formats[code]\n",
    "        return fmt.format(d=self)"
   ]
  },
  {
   "cell_type": "code",
   "execution_count": 6,
   "metadata": {},
   "outputs": [
    {
     "data": {
      "text/plain": [
       "'12/21/2012'"
      ]
     },
     "execution_count": 6,
     "metadata": {},
     "output_type": "execute_result"
    }
   ],
   "source": [
    "d = Date(2012, 12, 21)\n",
    "format(d,'mdy')"
   ]
  },
  {
   "cell_type": "markdown",
   "metadata": {},
   "source": [
    "## 算术运算符"
   ]
  },
  {
   "cell_type": "raw",
   "metadata": {},
   "source": [
    "__add__(self, value):self + value\n",
    "\n",
    "__sub__(self, value)\n",
    "\n",
    "__mul__(self, value)\n",
    "\n",
    "__truediv__(self, value)\n",
    "\n",
    "__floordiv__(self, value)\n",
    "\n",
    "__mod__(self, value)\n",
    "\n",
    "__pow__(self, value)"
   ]
  },
  {
   "cell_type": "code",
   "execution_count": 19,
   "metadata": {},
   "outputs": [
    {
     "name": "stdout",
     "output_type": "stream",
     "text": [
      "MyList([1, 2, 3, 4, 5, 6])\n"
     ]
    }
   ],
   "source": [
    "class MyList:\n",
    "    def __init__(self, iterable=()):\n",
    "        self.data = list(iterable)\n",
    "\n",
    "    def __repr__(self):\n",
    "        return 'MyList({})'.format(self.data)\n",
    "\n",
    "    def __add__(self, rhs):\n",
    "        return MyList(self.data + rhs.data)\n",
    "\n",
    "    def __mul__(self, rhs):\n",
    "        return MyList(self.data * rhs)\n",
    "\n",
    "L1 = MyList([1, 2, 3])\n",
    "L2 = MyList([4, 5, 6])\n",
    "\n",
    "L3 = L1 + L2\n",
    "print(L3)  "
   ]
  },
  {
   "cell_type": "markdown",
   "metadata": {},
   "source": [
    "### 反向运算符"
   ]
  },
  {
   "cell_type": "raw",
   "metadata": {},
   "source": [
    "__radd__(self, value):value+self\n",
    "\n",
    "__rsub__(self, value)\n",
    "\n",
    "__rmul__(self, value)\n",
    "\n",
    "__rtruediv__(self, value)\n",
    "\n",
    "__rfloordiv__(self, value)\n",
    "\n",
    "__rmod__(self, value)\n",
    "\n",
    "__rpow__(self, value)"
   ]
  },
  {
   "cell_type": "markdown",
   "metadata": {},
   "source": [
    "### 复合赋值算数运算符"
   ]
  },
  {
   "cell_type": "raw",
   "metadata": {},
   "source": [
    "__iadd__(self, value): self+=value\n",
    "\n",
    "__isub__(self, value)\n",
    "\n",
    "__imul__(self, value)\n",
    "\n",
    "__itruediv__(self, value)\n",
    "\n",
    "__ifloordiv__(self, value)\n",
    "\n",
    "__imod__(self, value)\n",
    "\n",
    "__ipow__(self, value)"
   ]
  },
  {
   "cell_type": "code",
   "execution_count": 20,
   "metadata": {},
   "outputs": [
    {
     "name": "stdout",
     "output_type": "stream",
     "text": [
      "__iadd__被调用了\n",
      "MyList([4, 5, 6, 1, 2, 3])\n"
     ]
    }
   ],
   "source": [
    "class MyList:\n",
    "    def __init__(self, iterable=()):\n",
    "        self.data = list(iterable)\n",
    "\n",
    "    def __repr__(self):\n",
    "        return 'MyList({})'.format(self.data)\n",
    "\n",
    "    def __add__(self, rhs):\n",
    "        return MyList(self.data + rhs.data)\n",
    "   \n",
    "    def __iadd__(self, rhs):\n",
    "        print('__iadd__被调用了')\n",
    "        self.data += rhs.data\n",
    "        return self\n",
    "\n",
    "L1 = MyList([1, 2, 3])\n",
    "L2 = MyList([4, 5, 6])\n",
    "\n",
    "L2 += L1  # 调用 __iadd__方法\n",
    "print(L2)  "
   ]
  },
  {
   "cell_type": "markdown",
   "metadata": {},
   "source": [
    "## 比较运算符"
   ]
  },
  {
   "cell_type": "raw",
   "metadata": {},
   "source": [
    "__lt__(self, value)\n",
    "\n",
    "__gt__(self, value)\n",
    "\n",
    "__le__(self, value)\n",
    "\n",
    "__ge__(self, value)\n",
    "\n",
    "__eq__(self, value)\n",
    "\n",
    "__ne__(self, value)"
   ]
  },
  {
   "cell_type": "markdown",
   "metadata": {},
   "source": [
    "## 可哈希 \\_\\_hash\\_\\_"
   ]
  },
  {
   "cell_type": "raw",
   "metadata": {},
   "source": [
    "可哈希的集合，需要集合的元素实现了__eq__和__hash__，（形象的比喻）：\n",
    "哈希集合就是很多个桶，但每个桶里面只能放一个球\n",
    "__hash__函数的作用就是找到桶的位置，到底是几号桶。\n",
    "__eq__函数的作用就是当桶里面已经有一个球了，但又来了一个球，它声称它也应该装进这个桶里面（__hash__函数给它说了桶的位置），需要用__eq__函数来判断这两个球是不是相等的（equal），如果是判断是相等的，那么后来那个球就不应该放进桶里，哈希集合维持现状。\n",
    "\n",
    "如果一个类型定义没有定义__eq__()函数，那么它也不应该定义__hash__()\n",
    "如果定义了__eq__而没有定义__hash__，那么它的实例在某个可哈希集合中将会无效（比方说在字典／集合这类类型中）\n",
    "如果一个类型定义了一个可变对象而且定义了__eq__方法，那么它不应该去定义__hash__方法，因为在哈希集合中要求其中元素的哈希值是不变的"
   ]
  },
  {
   "cell_type": "code",
   "execution_count": 1,
   "metadata": {},
   "outputs": [],
   "source": [
    "class Foo:\n",
    "    def __init__(self, item):\n",
    "        self.item = item\n",
    "\n",
    "    def __eq__(self, other):\n",
    "        print('使用了equal函数的对象的id',id(self))\n",
    "        if isinstance(other, self.__class__):\n",
    "            return self.__dict__ == other.__dict__\n",
    "        else:\n",
    "            return False\n",
    "        \n",
    "    def __hash__(self):\n",
    "        print('f'+str(self.item)+'使用了hash函数')\n",
    "        return hash(self.item)       "
   ]
  },
  {
   "cell_type": "code",
   "execution_count": 3,
   "metadata": {},
   "outputs": [
    {
     "name": "stdout",
     "output_type": "stream",
     "text": [
      "f1使用了hash函数\n",
      "f2使用了hash函数\n",
      "f3使用了hash函数\n",
      "{<__main__.Foo object at 0x0000027870685748>, <__main__.Foo object at 0x00000278706858D0>, <__main__.Foo object at 0x00000278706855C0>}\n"
     ]
    }
   ],
   "source": [
    "f1 = Foo(1)\n",
    "f2 = Foo(2)\n",
    "f3 = Foo(3)\n",
    "fset = set([f1, f2, f3])\n",
    "print(fset)"
   ]
  },
  {
   "cell_type": "code",
   "execution_count": 4,
   "metadata": {},
   "outputs": [],
   "source": [
    "f = Foo(3)"
   ]
  },
  {
   "cell_type": "code",
   "execution_count": 5,
   "metadata": {},
   "outputs": [
    {
     "name": "stdout",
     "output_type": "stream",
     "text": [
      "f3使用了hash函数\n",
      "使用了equal函数的对象的id 2716305216960\n"
     ]
    }
   ],
   "source": [
    "fset.add(f)"
   ]
  },
  {
   "cell_type": "markdown",
   "metadata": {},
   "source": [
    "f和f3找到的桶的位置是同一个位置，因为它俩的item是相同的\n",
    "\n",
    "当执行fset.add(f)时，f就会调用它自身的__hash__函数，以找到f所属于的桶的位置。但此时桶里已经有别的球了，所以这时候就得用上__eq__来判断两个对象是否相等，从输出可以看出，是已有对象调用__eq__来和后来的对象进行比较。\n",
    "\n",
    "从输出可以看出，是已有对象调用__eq__来和后来的对象进行比较（看对象的id）"
   ]
  },
  {
   "cell_type": "markdown",
   "metadata": {},
   "source": [
    "## 位运算符"
   ]
  },
  {
   "cell_type": "raw",
   "metadata": {},
   "source": [
    "__and__(self, value)\t\n",
    "\n",
    "__or__(self, value)\t\n",
    "\n",
    "__xor__(self, value)\t\n",
    "\n",
    "__lshift__(self, value)\t\n",
    "\n",
    "__rshift__(self, value)"
   ]
  },
  {
   "cell_type": "code",
   "execution_count": 21,
   "metadata": {
    "scrolled": true
   },
   "outputs": [
    {
     "name": "stdout",
     "output_type": "stream",
     "text": [
      "OrderSet([3, 4])\n",
      "OrderSet([1, 2, 3, 4, 5])\n",
      "OrderSet([1, 2, 5])\n"
     ]
    }
   ],
   "source": [
    "class OrderSet:\n",
    "    def __init__(self, iterable=()):\n",
    "        self.__data = iterable\n",
    "\n",
    "    def __repr__(self):\n",
    "        return 'OrderSet({})'.format(self.__data)\n",
    "\n",
    "    def __and__(self, rhs):\n",
    "        r = set(self.__data) & set(rhs.__data)\n",
    "        return OrderSet(list(r))\n",
    "\n",
    "    def __or__(self, rhs):\n",
    "        r = set(self.__data) | set(rhs.__data)\n",
    "        return OrderSet(list(r))\n",
    "\n",
    "    def __xor__(self, rhs):\n",
    "        r = set(self.__data) ^ set(rhs.__data)\n",
    "        return OrderSet(list(r))\n",
    "\n",
    "s1 = OrderSet([1, 2, 3, 4])\n",
    "s2 = OrderSet([3, 4, 5])\n",
    "print(s1 & s2)  # OrderSet([3, 4])\n",
    "print(s1 | s2)  # OrderSet([1, 2, 3, 4, 5])\n",
    "print(s1 ^ s2)  # OrderSet([1, 2, 5])"
   ]
  },
  {
   "cell_type": "markdown",
   "metadata": {},
   "source": [
    "## 一元运算符"
   ]
  },
  {
   "cell_type": "raw",
   "metadata": {},
   "source": [
    "__neg__(self)：负号\n",
    "\n",
    "__pos__(self)：正号\n",
    "\n",
    "__invert__(self)：取反"
   ]
  },
  {
   "cell_type": "code",
   "execution_count": 22,
   "metadata": {},
   "outputs": [
    {
     "name": "stdout",
     "output_type": "stream",
     "text": [
      "MyList([-1, 2, -3, 4, -5])\n"
     ]
    }
   ],
   "source": [
    "class MyList:\n",
    "    def __init__(self, iterable=()):\n",
    "        self.data = list(iterable)\n",
    "\n",
    "    def __repr__(self):\n",
    "        return 'MyList({})'.format(self.data)\n",
    "\n",
    "    def __neg__(self):\n",
    "        G = [-x for x in self.data]\n",
    "        return MyList(G)\n",
    "\n",
    "L1 = MyList([1, -2, 3, -4, 5])\n",
    "L2 = -L1\n",
    "print(L2)  "
   ]
  },
  {
   "cell_type": "markdown",
   "metadata": {},
   "source": [
    "## \\_\\_bool\\_\\_"
   ]
  },
  {
   "cell_type": "code",
   "execution_count": 3,
   "metadata": {},
   "outputs": [],
   "source": [
    "class Demo():\n",
    "\n",
    "   def __init__(self,value = 0):\n",
    "\n",
    "          self.value = value\n",
    "\n",
    "   def __bool__(self):\n",
    "\n",
    "          return bool(self.value > 5)"
   ]
  },
  {
   "cell_type": "code",
   "execution_count": 4,
   "metadata": {},
   "outputs": [
    {
     "data": {
      "text/plain": [
       "False"
      ]
     },
     "execution_count": 4,
     "metadata": {},
     "output_type": "execute_result"
    }
   ],
   "source": [
    "obj = Demo(3)\n",
    "bool(obj)"
   ]
  },
  {
   "cell_type": "markdown",
   "metadata": {},
   "source": [
    "## 存在 \\_\\_contains\\_\\_"
   ]
  },
  {
   "cell_type": "raw",
   "metadata": {},
   "source": [
    "__contains__(self,item)"
   ]
  },
  {
   "cell_type": "code",
   "execution_count": null,
   "metadata": {},
   "outputs": [],
   "source": [
    "def __contains__(self, item):\n",
    "    return item in self.__data\n",
    "\n",
    "s1 = OrderSet([1, 2, 3, 4])\n",
    "if 2 in s1:\n",
    "    print('2 in s1 为真')"
   ]
  },
  {
   "cell_type": "markdown",
   "metadata": {},
   "source": [
    "## 属性访问"
   ]
  },
  {
   "cell_type": "raw",
   "metadata": {},
   "source": [
    "__get__(self, instance, owner)\n",
    "\n",
    "__set__(self, instance, value)\n",
    "\n",
    "__delete__(self, instance)\n",
    "\n",
    "__getattr__：属性点号运算，X.undefined\n",
    "\n",
    "__setattr__：属性赋值运算，使用self.__dict__[attr] = value，避免无穷递归循环\n",
    "\n",
    "__delattr__：属性删除，del X.any"
   ]
  },
  {
   "cell_type": "code",
   "execution_count": 1,
   "metadata": {},
   "outputs": [],
   "source": [
    "class Proxy:\n",
    "    def __init__(self, obj):\n",
    "        self._obj = obj\n",
    "\n",
    "    # Delegate attribute lookup to internal obj\n",
    "    def __getattr__(self, name):\n",
    "        print('getattr:', name)\n",
    "        return getattr(self._obj, name)\n",
    "\n",
    "    # Delegate attribute assignment\n",
    "    def __setattr__(self, name, value):\n",
    "        if name.startswith('_'):\n",
    "            super().__setattr__(name, value)\n",
    "        else:\n",
    "            print('setattr:', name, value)\n",
    "            setattr(self._obj, name, value)\n",
    "\n",
    "    # Delegate attribute deletion\n",
    "    def __delattr__(self, name):\n",
    "        if name.startswith('_'):\n",
    "            super().__delattr__(name)\n",
    "        else:\n",
    "            print('delattr:', name)\n",
    "            delattr(self._obj, name)\n",
    "            \n",
    "class Spam:\n",
    "    def __init__(self, x):\n",
    "        self.x = x\n",
    "\n",
    "    def bar(self, y):\n",
    "        print('Spam.bar:', self.x, y)"
   ]
  },
  {
   "cell_type": "code",
   "execution_count": 2,
   "metadata": {},
   "outputs": [
    {
     "name": "stdout",
     "output_type": "stream",
     "text": [
      "getattr: x\n",
      "2\n"
     ]
    }
   ],
   "source": [
    "s = Spam(2)\n",
    "p = Proxy(s)\n",
    "print(p.x)  # Outputs 2"
   ]
  },
  {
   "cell_type": "code",
   "execution_count": 3,
   "metadata": {},
   "outputs": [
    {
     "name": "stdout",
     "output_type": "stream",
     "text": [
      "getattr: bar\n",
      "Spam.bar: 2 3\n",
      "setattr: x 37\n"
     ]
    }
   ],
   "source": [
    "p.bar(3)  \n",
    "p.x = 37 "
   ]
  },
  {
   "cell_type": "markdown",
   "metadata": {},
   "source": [
    "## 索引和切片运算符"
   ]
  },
  {
   "cell_type": "raw",
   "metadata": {},
   "source": [
    "__getitem__(self,i)：x = self[i]\n",
    "\n",
    "__setitem__(self,i,v)：self[i] = v\n",
    "\n",
    "__delitem__(self,i)：del self[i]\n",
    "\n",
    "__getattribute__(self,i)：属性获取，X.i"
   ]
  },
  {
   "cell_type": "code",
   "execution_count": 24,
   "metadata": {},
   "outputs": [
    {
     "name": "stdout",
     "output_type": "stream",
     "text": [
      "i的值是 3\n",
      "-4\n",
      "MyList([1, -2, 0, 2, 5])\n",
      "MyList([1, -2, 2, 5])\n",
      "i的值是 slice(None, None, 2)\n",
      "[1, 2]\n"
     ]
    }
   ],
   "source": [
    "class MyList:\n",
    "    def __init__(self, iterable=()):\n",
    "        self.__data = list(iterable)\n",
    "\n",
    "    def __repr__(self):\n",
    "        return 'MyList({})'.format(self.__data)\n",
    "\n",
    "    def __getitem__(self, i):\n",
    "        print('i的值是', i)  # i的值是 3\n",
    "        return self.__data[i]\n",
    "\n",
    "    def __setitem__(self, key, value):\n",
    "        self.__data[key] = value\n",
    "\n",
    "    def __delitem__(self, key):\n",
    "        # del self.__data[key]\n",
    "        self.__data.pop(key)\n",
    "\n",
    "L1 = MyList([1, -2, 0, -4, 5])\n",
    "x = L1[3]\n",
    "print(x)  # 4\n",
    "L1[3] = 2\n",
    "print(L1)  # MyList([1, -2, 0, 2, 5])\n",
    "\n",
    "del L1[2]\n",
    "print(L1)  # MyList([1, -2, 2, 5])\n",
    "\n",
    "print(L1[::2])"
   ]
  },
  {
   "cell_type": "markdown",
   "metadata": {},
   "source": [
    "## 实现调用 \\_\\_call\\_\\_"
   ]
  },
  {
   "cell_type": "raw",
   "metadata": {},
   "source": [
    "__call__(self,*args,**kargs)"
   ]
  },
  {
   "cell_type": "code",
   "execution_count": 1,
   "metadata": {},
   "outputs": [],
   "source": [
    "class Fib():\n",
    "    def __call__(self, *args, **kwargs):\n",
    "        ret = [1,1]\n",
    "        num = int(args[0])\n",
    "        if num == 1:\n",
    "            return [1,]\n",
    "        else:\n",
    "            while len(ret)< num:\n",
    "                ret.append(ret[-1]+ret[-2])\n",
    "            return ret"
   ]
  },
  {
   "cell_type": "code",
   "execution_count": 2,
   "metadata": {},
   "outputs": [
    {
     "name": "stdout",
     "output_type": "stream",
     "text": [
      "[1, 1, 2, 3, 5]\n"
     ]
    }
   ],
   "source": [
    "fib = Fib()\n",
    "print(fib(5))"
   ]
  },
  {
   "cell_type": "markdown",
   "metadata": {},
   "source": [
    "## 迭代器 \\_\\_iter\\_\\_ & \\_\\_next\\_\\_ "
   ]
  },
  {
   "cell_type": "raw",
   "metadata": {},
   "source": [
    "__iter__(self):迭代器，生成迭代对象时调用，返回值必须是对象自己,然后for可以循环调用next方法\n",
    "\n",
    "__next__(self):每一次for循环都调用该方法"
   ]
  },
  {
   "cell_type": "code",
   "execution_count": 17,
   "metadata": {},
   "outputs": [],
   "source": [
    "class A():\n",
    "    def __init__(self,num):\n",
    "        self.num = num\n",
    "        self.start_num = -1\n",
    "    \n",
    "    def __iter__(self):\n",
    "        return self\n",
    "    \n",
    "    def __next__(self):\n",
    "        '''\n",
    "        每一次for循环都调用该方法（必须存在）\n",
    "        '''\n",
    "        self.start_num += 1\n",
    "        if self.start_num >= self.num:\n",
    "            raise StopIteration()\n",
    "        return self.start_num"
   ]
  },
  {
   "cell_type": "code",
   "execution_count": 18,
   "metadata": {},
   "outputs": [
    {
     "data": {
      "text/plain": [
       "[0, 1, 2, 3, 4, 5, 6, 7, 8, 9]"
      ]
     },
     "execution_count": 18,
     "metadata": {},
     "output_type": "execute_result"
    }
   ],
   "source": [
    "list(A(10))"
   ]
  },
  {
   "cell_type": "code",
   "execution_count": 19,
   "metadata": {},
   "outputs": [
    {
     "name": "stdout",
     "output_type": "stream",
     "text": [
      "0\n",
      "1\n",
      "2\n",
      "3\n",
      "4\n",
      "5\n",
      "6\n",
      "7\n",
      "8\n",
      "9\n"
     ]
    }
   ],
   "source": [
    "for num in iter(A(10)):\n",
    "    print(num)"
   ]
  },
  {
   "cell_type": "markdown",
   "metadata": {},
   "source": [
    "# 类继承\n",
    "class SubClassName (ParentClass1[, ParentClass2, ...])"
   ]
  },
  {
   "cell_type": "code",
   "execution_count": null,
   "metadata": {},
   "outputs": [],
   "source": [
    "class Parent：\n",
    "    .....\n",
    "\n",
    "class Child(Parent):\n",
    "    .....\n",
    "\n",
    "### 从多个父类来构建一个新的类\n",
    "class A:        \n",
    "    .....\n",
    "\n",
    "class B:         \n",
    "    .....\n",
    "\n",
    "class C(A, B): # subclass of A and B\n",
    "    ....."
   ]
  },
  {
   "cell_type": "markdown",
   "metadata": {},
   "source": [
    "<font color=\"red\">继承搜索会从实例往上进行，之后到子类，然后到超类</font>\n",
    "\n",
    "重载：在较低处发生的重新定义、取代属性的动作\n",
    "\n",
    "<font color=\"red\">为减少名称冲突，对类私有变量前面加“_\"</font>\n",
    "\n",
    "issubclass(sub，sup)布尔函数如果给定的子类sub确实是超类sup的子类返回True\n",
    "\n",
    "isinstance(obj，Class)布尔函数如果obj是类Class的一个实例，或者是类的一个子类的实例则返回True"
   ]
  },
  {
   "cell_type": "markdown",
   "metadata": {},
   "source": [
    "## 调用父类方法\n",
    "super函数"
   ]
  },
  {
   "cell_type": "code",
   "execution_count": 22,
   "metadata": {},
   "outputs": [],
   "source": [
    "class A:\n",
    "    \n",
    "    def spam(self):\n",
    "        print('A.spam')\n",
    "        \n",
    "class B(A):\n",
    "    def spam(self):\n",
    "        print('B.spam')\n",
    "        super().spam() # Call parent spam()"
   ]
  },
  {
   "cell_type": "code",
   "execution_count": 23,
   "metadata": {},
   "outputs": [
    {
     "name": "stdout",
     "output_type": "stream",
     "text": [
      "B.spam\n",
      "A.spam\n"
     ]
    }
   ],
   "source": [
    "test=B()\n",
    "test.spam()"
   ]
  },
  {
   "cell_type": "markdown",
   "metadata": {},
   "source": [
    "### 常见用法1：\\_\\_init\\_\\_() 方法中确保父类被正确的初始化"
   ]
  },
  {
   "cell_type": "code",
   "execution_count": 24,
   "metadata": {},
   "outputs": [],
   "source": [
    "class A:\n",
    "    def __init__(self):\n",
    "        self.x = 0\n",
    "    \n",
    "class B(A):\n",
    "    def __init__(self):\n",
    "        super().__init__()\n",
    "        self.y = 1"
   ]
  },
  {
   "cell_type": "markdown",
   "metadata": {},
   "source": [
    "### 常见用法2：覆盖Python 特殊方法的代码中"
   ]
  },
  {
   "cell_type": "code",
   "execution_count": 25,
   "metadata": {},
   "outputs": [],
   "source": [
    "class Proxy:\n",
    "    def __init__(self, obj):\n",
    "        self._obj = obj\n",
    "        \n",
    "    # Delegate attribute lookup to internal obj\n",
    "    def __getattr__(self, name):\n",
    "        return getattr(self._obj, name)\n",
    "\n",
    "    # Delegate attribute assignment\n",
    "    def __setattr__(self, name, value):\n",
    "        if name.startswith('_'):\n",
    "            super().__setattr__(name, value) # Call original __setattr__\n",
    "        else:\n",
    "            setattr(self._obj, name, value)"
   ]
  },
  {
   "cell_type": "markdown",
   "metadata": {},
   "source": [
    "## 方法重载"
   ]
  },
  {
   "cell_type": "code",
   "execution_count": 15,
   "metadata": {},
   "outputs": [
    {
     "name": "stdout",
     "output_type": "stream",
     "text": [
      "Calling child method\n"
     ]
    }
   ],
   "source": [
    "class Parent:        # define parent class\n",
    "   def myMethod(self):\n",
    "      print ('Calling parent method')\n",
    "\n",
    "class Child(Parent): # define child class\n",
    "   def myMethod(self):\n",
    "      print ('Calling child method')\n",
    "\n",
    "c = Child()          # instance of child\n",
    "c.myMethod()         # child calls overridden method"
   ]
  },
  {
   "cell_type": "markdown",
   "metadata": {},
   "source": [
    "## 重载运算符"
   ]
  },
  {
   "cell_type": "code",
   "execution_count": 16,
   "metadata": {},
   "outputs": [
    {
     "name": "stdout",
     "output_type": "stream",
     "text": [
      "Vector (7, 8)\n"
     ]
    }
   ],
   "source": [
    "class Vector:\n",
    "   def __init__(self, a, b):\n",
    "      self.a = a\n",
    "      self.b = b\n",
    "\n",
    "   def __str__(self):\n",
    "      return 'Vector (%d, %d)' % (self.a, self.b)\n",
    "\n",
    "   def __add__(self,other):\n",
    "      return Vector(self.a + other.a, self.b + other.b)\n",
    "\n",
    "v1 = Vector(2,10)\n",
    "v2 = Vector(5,-2)\n",
    "print (v1 + v2)"
   ]
  },
  {
   "cell_type": "markdown",
   "metadata": {},
   "source": [
    "## 限制实例的属性\\_\\_slots\\_\\_ "
   ]
  },
  {
   "cell_type": "code",
   "execution_count": 18,
   "metadata": {},
   "outputs": [],
   "source": [
    "#仅允许绑定这三个属性，可以节约内存\n",
    "#对继承的子类是不起作用，留出修改空间\n",
    "class Date:\n",
    "    __slots__ = ['year', 'month', 'day']\n",
    "    def __init__(self, year, month, day):\n",
    "        self.year = year\n",
    "        self.month = month\n",
    "        self.day = day"
   ]
  },
  {
   "cell_type": "markdown",
   "metadata": {},
   "source": [
    "# 数据隐藏\n",
    "<font color=\"red\">双下划线前缀命名属性在类定义之外不可见</font>\n",
    "\n",
    "单下划线可以"
   ]
  },
  {
   "cell_type": "code",
   "execution_count": 10,
   "metadata": {},
   "outputs": [
    {
     "name": "stdout",
     "output_type": "stream",
     "text": [
      "1\n",
      "2\n",
      "0\n"
     ]
    },
    {
     "ename": "AttributeError",
     "evalue": "'JustCounter' object has no attribute '__secretCount'",
     "output_type": "error",
     "traceback": [
      "\u001b[1;31m---------------------------------------------------------------------------\u001b[0m",
      "\u001b[1;31mAttributeError\u001b[0m                            Traceback (most recent call last)",
      "\u001b[1;32m<ipython-input-10-6ca86d7aec6f>\u001b[0m in \u001b[0;36m<module>\u001b[1;34m\u001b[0m\n\u001b[0;32m     11\u001b[0m \u001b[0mcounter\u001b[0m\u001b[1;33m.\u001b[0m\u001b[0mcount\u001b[0m\u001b[1;33m(\u001b[0m\u001b[1;33m)\u001b[0m\u001b[1;33m\u001b[0m\u001b[0m\n\u001b[0;32m     12\u001b[0m \u001b[0mprint\u001b[0m \u001b[1;33m(\u001b[0m\u001b[0mcounter\u001b[0m\u001b[1;33m.\u001b[0m\u001b[0m_publicCount\u001b[0m\u001b[1;33m)\u001b[0m\u001b[1;33m\u001b[0m\u001b[0m\n\u001b[1;32m---> 13\u001b[1;33m \u001b[0mprint\u001b[0m \u001b[1;33m(\u001b[0m\u001b[0mcounter\u001b[0m\u001b[1;33m.\u001b[0m\u001b[0m__secretCount\u001b[0m\u001b[1;33m)\u001b[0m\u001b[1;33m\u001b[0m\u001b[0m\n\u001b[0m",
      "\u001b[1;31mAttributeError\u001b[0m: 'JustCounter' object has no attribute '__secretCount'"
     ]
    }
   ],
   "source": [
    "class JustCounter:\n",
    "    __secretCount = 0\n",
    "    _publicCount = 0\n",
    "\n",
    "    def count(self):\n",
    "      self.__secretCount += 1\n",
    "      print (self.__secretCount)\n",
    "\n",
    "counter = JustCounter()\n",
    "counter.count()\n",
    "counter.count()\n",
    "print (counter._publicCount)\n",
    "print (counter.__secretCount)"
   ]
  },
  {
   "cell_type": "markdown",
   "metadata": {},
   "source": [
    "有时候定义的一个变量和某个保留关键字冲突，可以使用单下划线作为后缀"
   ]
  },
  {
   "cell_type": "markdown",
   "metadata": {},
   "source": [
    "# 类中封装属性名\n",
    "约定任何以<font color=\"red\">单下划线_开头</font>的名字都是内部实现\n",
    "\n",
    "使用<font color=\"red\">双下划线__开头</font>会导致访问名称变成其他形式,<font color=\"red\">确保这种属性通过继承是无法被覆盖</font>"
   ]
  },
  {
   "cell_type": "code",
   "execution_count": 1,
   "metadata": {},
   "outputs": [],
   "source": [
    "class B:\n",
    "    def __init__(self):\n",
    "        self.__private = 0\n",
    "    \n",
    "    # 私有属性会被分别重命名为 _B__private 和 _B__private_method\n",
    "    def __private_method(self):\n",
    "        pass\n",
    "\n",
    "    def public_method(self):\n",
    "        pass\n",
    "        self.__private_method()\n",
    "        \n",
    "class C(B):\n",
    "    def __init__(self):\n",
    "        super().__init__()\n",
    "        self.__private = 1 # Does not override B.__private\n",
    "\n",
    "    # Does not override B.__private_method()\n",
    "    # 私有属性 __private 和 __private_method 被重命名为 _C__private 和 _C__private_method\n",
    "    def __private_method(self):\n",
    "        pass"
   ]
  },
  {
   "cell_type": "code",
   "execution_count": 2,
   "metadata": {},
   "outputs": [
    {
     "data": {
      "text/plain": [
       "1"
      ]
     },
     "execution_count": 2,
     "metadata": {},
     "output_type": "execute_result"
    }
   ],
   "source": [
    "C()._C__private"
   ]
  },
  {
   "cell_type": "markdown",
   "metadata": {},
   "source": [
    "# 创建可管理的属性 @property"
   ]
  },
  {
   "cell_type": "markdown",
   "metadata": {},
   "source": [
    "<font color=\"red\">@property把一个getter方法变成属性，又创建了装饰器@func.setter和@func.deleter</font>\n",
    "\n",
    "只定义getter方法，不定义setter方法就是一个只读属性"
   ]
  },
  {
   "cell_type": "code",
   "execution_count": 17,
   "metadata": {},
   "outputs": [],
   "source": [
    "class Person:\n",
    "    def __init__(self, first_name):\n",
    "        self._first_name = first_name\n",
    "\n",
    "    # Getter function\n",
    "    @property\n",
    "    def first_name(self):\n",
    "        return self._first_name\n",
    "\n",
    "    # Setter function\n",
    "    @first_name.setter\n",
    "    def first_name(self, value):\n",
    "        if not isinstance(value, str):\n",
    "            raise TypeError('Expected a string')\n",
    "        self._first_name = value\n",
    "\n",
    "    # Deleter function (optional)\n",
    "    @first_name.deleter\n",
    "    def first_name(self):\n",
    "        raise AttributeError(\"Can't delete attribute\")"
   ]
  },
  {
   "cell_type": "raw",
   "metadata": {},
   "source": [
    "只有在 first_name 属性被创建后， 后面的两个装饰器 @first_name.setter 和 @first_name.deleter 才能被定义"
   ]
  },
  {
   "cell_type": "markdown",
   "metadata": {},
   "source": [
    "## 子类中扩展property"
   ]
  },
  {
   "cell_type": "code",
   "execution_count": 9,
   "metadata": {},
   "outputs": [],
   "source": [
    "class Person:\n",
    "    \n",
    "    def __init__(self, name):\n",
    "        self.name = name\n",
    "        \n",
    "    # Getter function\n",
    "    @property\n",
    "    def name(self):\n",
    "        return self._name\n",
    "    \n",
    "    # Setter function\n",
    "    @name.setter\n",
    "    def name(self, value):\n",
    "        if not isinstance(value, str):\n",
    "            raise TypeError('Expected a string')\n",
    "        self._name = value\n",
    "        \n",
    "    # Deleter function\n",
    "    @name.deleter\n",
    "    def name(self):\n",
    "        raise AttributeError(\"Can't delete attribute\")\n",
    "        \n",
    "class SubPerson(Person):\n",
    "    \n",
    "    @property\n",
    "    def name(self):\n",
    "        print('Getting name')\n",
    "        return super().name\n",
    "    \n",
    "    @name.setter\n",
    "    def name(self, value):\n",
    "        print('Setting name to', value)\n",
    "        super().name.__set__(self, value)\n",
    "        \n",
    "    @name.deleter\n",
    "    def name(self):\n",
    "        print('Deleting name')\n",
    "        super().name.__delete__(self)"
   ]
  },
  {
   "cell_type": "raw",
   "metadata": {},
   "source": [
    "如果只想扩展property的某一个方法"
   ]
  },
  {
   "cell_type": "code",
   "execution_count": 27,
   "metadata": {},
   "outputs": [],
   "source": [
    "class SubPerson(Person):\n",
    "    @Person.name.getter\n",
    "    def name(self):\n",
    "        print('Getting name')\n",
    "        return super().name"
   ]
  },
  {
   "cell_type": "markdown",
   "metadata": {},
   "source": [
    "## 延迟计算属性\n",
    "将一个只读属性定义成一个property，并且只在访问的时候才去计算结果；一旦被访问，希望值被存储起来"
   ]
  },
  {
   "cell_type": "code",
   "execution_count": 29,
   "metadata": {},
   "outputs": [],
   "source": [
    "class lazyproperty:\n",
    "    def __init__(self, func):\n",
    "        self.func = func\n",
    "        \n",
    "    def __get__(self, instance, cls):\n",
    "        if instance is None:\n",
    "            return self\n",
    "        else:\n",
    "            value = self.func(instance)\n",
    "            setattr(instance, self.func.__name__, value)\n",
    "            return value"
   ]
  },
  {
   "cell_type": "code",
   "execution_count": 30,
   "metadata": {},
   "outputs": [],
   "source": [
    "import math\n",
    "\n",
    "class Circle:\n",
    "    def __init__(self, radius):\n",
    "        self.radius = radius\n",
    "    \n",
    "    @lazyproperty\n",
    "    def area(self):\n",
    "        print('Computing area')\n",
    "        return math.pi * self.radius ** 2\n",
    "\n",
    "    @lazyproperty\n",
    "    def perimeter(self):\n",
    "        print('Computing perimeter')\n",
    "        return 2 * math.pi * self.radius"
   ]
  },
  {
   "cell_type": "code",
   "execution_count": 31,
   "metadata": {},
   "outputs": [],
   "source": [
    "c = Circle(4.0)"
   ]
  },
  {
   "cell_type": "code",
   "execution_count": 32,
   "metadata": {},
   "outputs": [
    {
     "data": {
      "text/plain": [
       "4.0"
      ]
     },
     "execution_count": 32,
     "metadata": {},
     "output_type": "execute_result"
    }
   ],
   "source": [
    "c.radius"
   ]
  },
  {
   "cell_type": "code",
   "execution_count": 33,
   "metadata": {},
   "outputs": [
    {
     "name": "stdout",
     "output_type": "stream",
     "text": [
      "Computing area\n"
     ]
    },
    {
     "data": {
      "text/plain": [
       "50.26548245743669"
      ]
     },
     "execution_count": 33,
     "metadata": {},
     "output_type": "execute_result"
    }
   ],
   "source": [
    "c.area"
   ]
  },
  {
   "cell_type": "markdown",
   "metadata": {},
   "source": [
    "# 实例方法vs类方法vs静态方法"
   ]
  },
  {
   "cell_type": "markdown",
   "metadata": {},
   "source": [
    "实例方法：不带任何装饰器，第一个参数必须是 self（约定）\n",
    "\n",
    "类方法：classmethod，第一个参数必须是cls（约定）\n",
    "\n",
    "静态方法：staticmethod，跟普通函数没什么区别，与类和实例都没有所谓的绑定关系"
   ]
  },
  {
   "cell_type": "code",
   "execution_count": 1,
   "metadata": {},
   "outputs": [],
   "source": [
    "class A(object):\n",
    "    def m1(self, n):\n",
    "        print(\"self:\", self)\n",
    "\n",
    "    @classmethod\n",
    "    def m2(cls, n):\n",
    "        print(\"cls:\", cls)\n",
    "\n",
    "    @staticmethod\n",
    "    def m3(n):\n",
    "        pass"
   ]
  },
  {
   "cell_type": "code",
   "execution_count": 4,
   "metadata": {},
   "outputs": [
    {
     "name": "stdout",
     "output_type": "stream",
     "text": [
      "self: <__main__.A object at 0x000002E674E12048>\n",
      "cls: <class '__main__.A'>\n"
     ]
    }
   ],
   "source": [
    "a = A()\n",
    "a.m1(1) # self: <__main__.A object at 0x000001E596E41A90>\n",
    "A.m2(1) # cls: <class '__main__.A'>\n",
    "A.m3(1)"
   ]
  },
  {
   "cell_type": "raw",
   "metadata": {},
   "source": [
    "原理：\n",
    "第一步：代码从第一行开始执行 class 命令，此时会创建一个类 A 对象，同时初始化类里面的属性和方法\n",
    "\n",
    "第二、三步：接着执行 a=A()，系统自动调用类的构造器，构造出实例对象 a\n",
    "\n",
    "第四步：接着调用 a.m1(1) ，m1 是实例方法，内部会自动把实例对象传递给 self 参数进行绑定（self 和 a 指向的都是同一个实例对象）\n",
    "\n",
    "第五步：调用A.m2(1)时，python内部隐式地把类对象传递给 cls 参数，cls 和 A 都指向类对象。"
   ]
  },
  {
   "cell_type": "code",
   "execution_count": 6,
   "metadata": {},
   "outputs": [
    {
     "data": {
      "image/jpeg": "[encoded data removed]",
      "text/plain": [
       "<IPython.core.display.Image object>"
      ]
     },
     "execution_count": 6,
     "metadata": {
      "image/jpeg": {
       "height": 300,
       "width": 400
      }
     },
     "output_type": "execute_result"
    }
   ],
   "source": [
    "from IPython.display import Image\n",
    "Image(filename=\"C:/Users/86188/Desktop/class.jpg\",width=400,height=300)"
   ]
  },
  {
   "cell_type": "markdown",
   "metadata": {},
   "source": [
    "## 静态方法的使用场景\n",
    "如果在方法中不需要访问任何实例方法和属性，纯粹地通过传入参数并返回数据的功能性方法，那么它就适合用静态方法来定义，它节省了实例化对象的开销成本，"
   ]
  },
  {
   "cell_type": "code",
   "execution_count": null,
   "metadata": {},
   "outputs": [],
   "source": [
    "from hashlib import sha1\n",
    "import tornado.web\n",
    "\n",
    "class SignatureHandler(tornado.web.RequestHandler):\n",
    "    def get(self):\n",
    "        \"\"\"\n",
    "         根据签名判断请求是否来自微信\n",
    "        \"\"\"\n",
    "        signature = self.get_query_argument(\"signature\", None)\n",
    "        echostr = self.get_query_argument(\"echostr\", None)\n",
    "        timestamp = self.get_query_argument(\"timestamp\", None)\n",
    "        nonce = self.get_query_argument(\"nonce\", None)\n",
    "        if self._check_sign(TOKEN, timestamp, nonce, signature):\n",
    "            logger.info(\"微信签名校验成功\")\n",
    "            self.write(echostr)\n",
    "        else:\n",
    "            self.write(\"你不是微信发过来的请求\")\n",
    "\n",
    "    @staticmethod\n",
    "    def _check_sign(token, timestamp, nonce, signature):\n",
    "        sign = [token, timestamp, nonce]\n",
    "        sign.sort()\n",
    "        sign = \"\".join(sign)\n",
    "        sign = sha1(sign).hexdigest()\n",
    "        return sign == signature"
   ]
  },
  {
   "cell_type": "markdown",
   "metadata": {},
   "source": [
    "## 类方法的使用场景\n",
    "作为工厂方法创建实例对象，例如内置模块 datetime.date 类中就有大量使用类方法作为工厂方法，以此来创建date对象"
   ]
  },
  {
   "cell_type": "code",
   "execution_count": null,
   "metadata": {},
   "outputs": [],
   "source": [
    "class date:\n",
    "\n",
    "    def __new__(cls, year, month=None, day=None):\n",
    "        self = object.__new__(cls)\n",
    "        self._year = year\n",
    "        self._month = month\n",
    "        self._day = day\n",
    "        return self\n",
    "\n",
    "    @classmethod\n",
    "    def fromtimestamp(cls, t):\n",
    "        y, m, d, hh, mm, ss, weekday, jday, dst = _time.localtime(t)\n",
    "        return cls(y, m, d)\n",
    "\n",
    "    @classmethod\n",
    "    def today(cls):\n",
    "        t = _time.time()\n",
    "        return cls.fromtimestamp(t)"
   ]
  },
  {
   "cell_type": "markdown",
   "metadata": {},
   "source": [
    "# 延迟计算属性\n",
    "将一个只读属性定义成一个property，并且只在访问的时候才会计算结果，但是一旦被访问后，结果值被缓存起来\n",
    "\n",
    "主要目的是为了提升性能"
   ]
  },
  {
   "cell_type": "code",
   "execution_count": 26,
   "metadata": {},
   "outputs": [],
   "source": [
    "class lazyproperty:\n",
    "    def __init__(self, func):\n",
    "        self.func = func\n",
    "\n",
    "    def __get__(self, instance, cls):\n",
    "        if instance is None:\n",
    "            return self\n",
    "        else:\n",
    "            value = self.func(instance)\n",
    "            setattr(instance, self.func.__name__, value)\n",
    "            return value"
   ]
  },
  {
   "cell_type": "code",
   "execution_count": 27,
   "metadata": {},
   "outputs": [],
   "source": [
    "import math\n",
    "\n",
    "class Circle:\n",
    "    def __init__(self, radius):\n",
    "        self.radius = radius\n",
    "\n",
    "    @lazyproperty\n",
    "    def area(self):\n",
    "        print('Computing area')\n",
    "        return math.pi * self.radius ** 2\n",
    "\n",
    "    @lazyproperty\n",
    "    def perimeter(self):\n",
    "        print('Computing perimeter')\n",
    "        return 2 * math.pi * self.radius"
   ]
  },
  {
   "cell_type": "code",
   "execution_count": 28,
   "metadata": {},
   "outputs": [
    {
     "data": {
      "text/plain": [
       "4.0"
      ]
     },
     "execution_count": 28,
     "metadata": {},
     "output_type": "execute_result"
    }
   ],
   "source": [
    "c = Circle(4.0)\n",
    "c.radius"
   ]
  },
  {
   "cell_type": "code",
   "execution_count": 29,
   "metadata": {},
   "outputs": [
    {
     "name": "stdout",
     "output_type": "stream",
     "text": [
      "Computing area\n"
     ]
    },
    {
     "data": {
      "text/plain": [
       "50.26548245743669"
      ]
     },
     "execution_count": 29,
     "metadata": {},
     "output_type": "execute_result"
    }
   ],
   "source": [
    "c.area"
   ]
  },
  {
   "cell_type": "code",
   "execution_count": 30,
   "metadata": {},
   "outputs": [
    {
     "data": {
      "text/plain": [
       "50.26548245743669"
      ]
     },
     "execution_count": 30,
     "metadata": {},
     "output_type": "execute_result"
    }
   ],
   "source": [
    "c.area"
   ]
  },
  {
   "cell_type": "code",
   "execution_count": null,
   "metadata": {},
   "outputs": [],
   "source": []
  }
 ],
 "metadata": {
  "hide_input": false,
  "kernelspec": {
   "display_name": "Python 3",
   "language": "python",
   "name": "python3"
  },
  "language_info": {
   "codemirror_mode": {
    "name": "ipython",
    "version": 3
   },
   "file_extension": ".py",
   "mimetype": "text/x-python",
   "name": "python",
   "nbconvert_exporter": "python",
   "pygments_lexer": "ipython3",
   "version": "3.6.0"
  },
  "toc": {
   "base_numbering": 1,
   "nav_menu": {},
   "number_sections": true,
   "sideBar": true,
   "skip_h1_title": false,
   "title_cell": "Table of Contents",
   "title_sidebar": "Contents",
   "toc_cell": false,
   "toc_position": {
    "height": "calc(100% - 180px)",
    "left": "10px",
    "top": "150px",
    "width": "384px"
   },
   "toc_section_display": true,
   "toc_window_display": true
  },
  "varInspector": {
   "cols": {
    "lenName": 16,
    "lenType": 16,
    "lenVar": 40
   },
   "kernels_config": {
    "python": {
     "delete_cmd_postfix": "",
     "delete_cmd_prefix": "del ",
     "library": "var_list.py",
     "varRefreshCmd": "print(var_dic_list())"
    },
    "r": {
     "delete_cmd_postfix": ") ",
     "delete_cmd_prefix": "rm(",
     "library": "var_list.r",
     "varRefreshCmd": "cat(var_dic_list()) "
    }
   },
   "types_to_exclude": [
    "module",
    "function",
    "builtin_function_or_method",
    "instance",
    "_Feature"
   ],
   "window_display": false
  }
 },
 "nbformat": 4,
 "nbformat_minor": 2
}
