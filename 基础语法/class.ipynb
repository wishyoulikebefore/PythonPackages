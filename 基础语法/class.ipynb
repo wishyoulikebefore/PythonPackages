{
 "cells": [
  {
   "cell_type": "markdown",
   "metadata": {},
   "source": [
    "## 面对对象编程\n",
    "> 继承\n",
    "\n",
    "> 封装\n",
    "\n",
    "> 多态"
   ]
  },
  {
   "cell_type": "markdown",
   "metadata": {},
   "source": [
    "## 类对象提供默认行为\n",
    "> Class语句创建类独享并将其赋值给变量名\n",
    "\n",
    "> Class语句内的赋值语句会创建类的属性\n",
    "\n",
    "> 类属性提供对象的状态和行为 "
   ]
  },
  {
   "cell_type": "markdown",
   "metadata": {},
   "source": [
    "## 实例对象是具体的元素\n",
    "> 调用类对象会创建新的实例对象\n",
    "\n",
    "> 每个实例对象继承类的属性并获得自己的命名空间\n",
    "\n",
    "> 在方法内对self属性做赋值运算会产生每个实例自己的属性 "
   ]
  },
  {
   "cell_type": "markdown",
   "metadata": {},
   "source": [
    "## 类通过继承进行定制\n",
    "> 超类列在类开头的括号中\n",
    "\n",
    "> 类从其超类中继承属性\n",
    "\n",
    "> 实例会继承所有可读取类的属性\n",
    "\n",
    "> 每个object.attribute都会开启新的独立搜索\n",
    "\n",
    "> 通过子类定制行为，而非修改超类 "
   ]
  },
  {
   "cell_type": "code",
   "execution_count": null,
   "metadata": {},
   "outputs": [],
   "source": [
    "Class C1(C2):          \n",
    "#C2为超类，C1继承C2所有属性\n",
    "\n",
    "I1=C1()                \n",
    "#调用C1，生成新的I1实例对象"
   ]
  },
  {
   "cell_type": "markdown",
   "metadata": {},
   "source": [
    "继承搜索会从实例往上进行，之后到子类，然后到超类\n",
    "\n",
    "在较低处发生的重新定义、取代属性的动作--重载\n",
    "\n",
    "为减少名称冲突，对类私有变量前面加“_\""
   ]
  },
  {
   "cell_type": "markdown",
   "metadata": {},
   "source": [
    "## 类可以截获python运算符\n",
    "> __X__是特殊钩子，当实例出现在内置运算时会自动调用\n",
    "\n",
    "> 类可覆盖多数内置类型运算\n",
    "\n",
    "> 运算符覆盖方法没有默认值（如果类没有定义或继承运算符重载方法，就会引发异常）"
   ]
  },
  {
   "cell_type": "markdown",
   "metadata": {},
   "source": [
    "> __init__：构造函数，建立对象\n",
    "\n",
    "> __del__\n",
    "\n",
    "> __add__\n",
    "\n",
    "> __radd__：右侧加法\n",
    "\n",
    "> __or__\n",
    "\n",
    "> __repr__ , __str__\n",
    "\n",
    "> __call__：函数调用，X(*args,**kargs)\n",
    "\n",
    "> __getattr__：属性点号运算，X.undefined\n",
    "\n",
    "> __setattr__：属性赋值运算，使用self.__dict__[attr] = value，避免无穷递归循环\n",
    "\n",
    "> __delattr__：属性删除，del X.any\n",
    "\n",
    "> __getattribute__：属性获取，X.any\t\n",
    "\n",
    "> __getitem__：索引运算，X[key],X[i:j]\n",
    "\n",
    "> __setitem__：索引赋值语句，X[key]=value, X[i:j]=sequence\n",
    "\n",
    "> __delitem__：索引和分片删除\n",
    "\n",
    "> __len__\n",
    "\n",
    "> __bool__\n",
    "\n",
    "> __lt__，__gt__\n",
    "\n",
    "> __le__，__ge__\n",
    "\n",
    "> __eq__，__ne__\n",
    "\n",
    "> __iter__，__next__：迭代环境\n",
    "\n",
    "> __contains__：成员关系测试\n",
    "\n",
    "> __index__\t\n",
    "\n",
    "> __get__，__set__：X.attr，X.attr = value"
   ]
  },
  {
   "cell_type": "markdown",
   "metadata": {},
   "source": [
    "### 限制实例的属性\n",
    "定义一个特殊的__slots__变量 "
   ]
  },
  {
   "cell_type": "code",
   "execution_count": 1,
   "metadata": {},
   "outputs": [],
   "source": [
    "class Date:\n",
    "    __slots__ = ['year', 'month', 'day']\n",
    "    def __init__(self, year, month, day):\n",
    "        self.year = year\n",
    "        self.month = month\n",
    "        self.day = day\n",
    "#仅允许绑定这三个属性，可以节约内存\n",
    "#对继承的子类是不起作用，留出修改空间"
   ]
  }
 ],
 "metadata": {
  "kernelspec": {
   "display_name": "Python 3",
   "language": "python",
   "name": "python3"
  },
  "language_info": {
   "codemirror_mode": {
    "name": "ipython",
    "version": 3
   },
   "file_extension": ".py",
   "mimetype": "text/x-python",
   "name": "python",
   "nbconvert_exporter": "python",
   "pygments_lexer": "ipython3",
   "version": "3.5.4"
  },
  "varInspector": {
   "cols": {
    "lenName": 16,
    "lenType": 16,
    "lenVar": 40
   },
   "kernels_config": {
    "python": {
     "delete_cmd_postfix": "",
     "delete_cmd_prefix": "del ",
     "library": "var_list.py",
     "varRefreshCmd": "print(var_dic_list())"
    },
    "r": {
     "delete_cmd_postfix": ") ",
     "delete_cmd_prefix": "rm(",
     "library": "var_list.r",
     "varRefreshCmd": "cat(var_dic_list()) "
    }
   },
   "types_to_exclude": [
    "module",
    "function",
    "builtin_function_or_method",
    "instance",
    "_Feature"
   ],
   "window_display": false
  }
 },
 "nbformat": 4,
 "nbformat_minor": 2
}
