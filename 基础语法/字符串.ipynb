{
 "cells": [
  {
   "cell_type": "markdown",
   "metadata": {},
   "source": [
    "# class str(object)\n",
    "> capitalize()：第一个词首字母大写，与S.title()相对\n",
    " \n",
    "> center()\n",
    "\n",
    "> count(sub[, start[, end]])\n",
    "\n",
    "> encode(encoding='utf-8', errors='strict')\n",
    "\n",
    "> endswith(suffix[, start[, end]])\n",
    "\n",
    "> find(sub[, start[, end]])\n",
    " \n",
    "> format(*args, **kwargs)\n",
    "\n",
    "> index(sub[, start[, end]])\n",
    " \n",
    "> isalnum(...)\n",
    " \n",
    "> isalpha(...)\n",
    " \n",
    "> isdecimal(...)\n",
    " \n",
    "> isdigit(...)\n",
    "\n",
    "> islower(...)\n",
    " \n",
    "> isnumeric(...)\n",
    " \n",
    "> isspace(...)\n",
    "\n",
    "> isupper(...)\n",
    " \n",
    "> join(iterable)\n",
    "\n",
    "> ljust()：左对齐\n",
    " \n",
    "> lower()\n",
    " \n",
    "> lstrip()\n",
    " \n",
    "> replace(old, new[, count])\n",
    " \n",
    "> rfind(...)\n",
    " \n",
    "> rjust(width[, fillchar])\n",
    "\n",
    "> rstrip()\n",
    "\n",
    "> split()\n",
    "\n",
    "> startswith(prefix[, start[, end]])\n",
    " \n",
    "> strip()\n",
    " \n",
    "> title()：所有单词首字母大写\n",
    "\n",
    "> upper()"
   ]
  },
  {
   "cell_type": "markdown",
   "metadata": {},
   "source": [
    "## 不可变性\n",
    "只能通过建立一个新的字符串并以同一个变量名进行赋值"
   ]
  },
  {
   "cell_type": "code",
   "execution_count": 1,
   "metadata": {},
   "outputs": [
    {
     "data": {
      "text/plain": [
       "'zpam'"
      ]
     },
     "execution_count": 1,
     "metadata": {},
     "output_type": "execute_result"
    }
   ],
   "source": [
    "s = \"spam\"\n",
    "s = \"z\"+s[1:]\n",
    "s"
   ]
  },
  {
   "cell_type": "markdown",
   "metadata": {},
   "source": [
    "## 格式化输出"
   ]
  },
  {
   "cell_type": "code",
   "execution_count": 3,
   "metadata": {},
   "outputs": [
    {
     "data": {
      "text/plain": [
       "'spam, eggs, and SPAM'"
      ]
     },
     "execution_count": 3,
     "metadata": {},
     "output_type": "execute_result"
    }
   ],
   "source": [
    "\"%s, eggs, and %s\" %(\"spam\",\"SPAM\")"
   ]
  },
  {
   "cell_type": "code",
   "execution_count": 4,
   "metadata": {},
   "outputs": [
    {
     "data": {
      "text/plain": [
       "'integers:...1234...1234  ...001234'"
      ]
     },
     "execution_count": 4,
     "metadata": {},
     "output_type": "execute_result"
    }
   ],
   "source": [
    "\"integers:...%d...%-6d...%06d\" %(1234,1234,1234)"
   ]
  },
  {
   "cell_type": "code",
   "execution_count": 5,
   "metadata": {},
   "outputs": [
    {
     "data": {
      "text/plain": [
       "'0.333333,0.33,0.3333'"
      ]
     },
     "execution_count": 5,
     "metadata": {},
     "output_type": "execute_result"
    }
   ],
   "source": [
    "\"%f,%.2f,%.*f\" %(1/3,1/3,4,1/3)"
   ]
  },
  {
   "cell_type": "markdown",
   "metadata": {},
   "source": [
    "## format\n",
    "使用主体字符串为模板，接受任意多个表示将要根据模板替换值的参数，\n",
    "\n",
    "花括号{}通过位置{1}或关键字{food}指出替换目标和将要插入的参数 \n",
    "\n",
    "具体格式化：{fieldname!conversionflag:formatspec}\n",
    "> fieldname是指定参数的一个数字或关键字\n",
    "\n",
    "> formatspec指定了如何表示该值，包括字段宽度、对齐方式、补零、小数点精度\n",
    ">> {0:10} 一个10字符宽的字段中第一个位置参数\n",
    "\n",
    ">> {1:<10} 第二个位置参数在一个10字符宽度字段中左对齐\n",
    "\n",
    ">> {0.platform:>10} 第一个参数的platform属性在10字符宽度的字段中右对齐"
   ]
  },
  {
   "cell_type": "code",
   "execution_count": 7,
   "metadata": {},
   "outputs": [
    {
     "data": {
      "text/plain": [
       "'3.14,42 and [1, 2]'"
      ]
     },
     "execution_count": 7,
     "metadata": {},
     "output_type": "execute_result"
    }
   ],
   "source": [
    "\"{motto},{0} and {food}\".format(42,motto=3.14,food=[1,2])"
   ]
  },
  {
   "cell_type": "code",
   "execution_count": 10,
   "metadata": {},
   "outputs": [
    {
     "data": {
      "text/plain": [
       "'fist=s,third=a'"
      ]
     },
     "execution_count": 10,
     "metadata": {},
     "output_type": "execute_result"
    }
   ],
   "source": [
    "\"fist={0[0]},third={0[2]}\".format(list(\"spam\"))"
   ]
  },
  {
   "cell_type": "code",
   "execution_count": 11,
   "metadata": {},
   "outputs": [
    {
     "data": {
      "text/plain": [
       "'spam      =123.4567  '"
      ]
     },
     "execution_count": 11,
     "metadata": {},
     "output_type": "execute_result"
    }
   ],
   "source": [
    "#默认=左边左对齐，右边右对齐\n",
    "\"{0:10}={1:<10}\".format(\"spam\",123.4567)"
   ]
  }
 ],
 "metadata": {
  "kernelspec": {
   "display_name": "Python 3",
   "language": "python",
   "name": "python3"
  },
  "language_info": {
   "codemirror_mode": {
    "name": "ipython",
    "version": 3
   },
   "file_extension": ".py",
   "mimetype": "text/x-python",
   "name": "python",
   "nbconvert_exporter": "python",
   "pygments_lexer": "ipython3",
   "version": "3.5.4"
  },
  "varInspector": {
   "cols": {
    "lenName": 16,
    "lenType": 16,
    "lenVar": 40
   },
   "kernels_config": {
    "python": {
     "delete_cmd_postfix": "",
     "delete_cmd_prefix": "del ",
     "library": "var_list.py",
     "varRefreshCmd": "print(var_dic_list())"
    },
    "r": {
     "delete_cmd_postfix": ") ",
     "delete_cmd_prefix": "rm(",
     "library": "var_list.r",
     "varRefreshCmd": "cat(var_dic_list()) "
    }
   },
   "types_to_exclude": [
    "module",
    "function",
    "builtin_function_or_method",
    "instance",
    "_Feature"
   ],
   "window_display": false
  }
 },
 "nbformat": 4,
 "nbformat_minor": 2
}
