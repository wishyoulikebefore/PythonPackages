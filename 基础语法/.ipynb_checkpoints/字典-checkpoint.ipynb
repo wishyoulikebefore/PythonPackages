{
 "cells": [
  {
   "cell_type": "markdown",
   "metadata": {},
   "source": [
    "# class dict(object)\n",
    "dict() -> new empty dictionary\n",
    "\n",
    "dict(mapping) -> new dictionary initialized from a mapping object's\n",
    "> clear()\n",
    " \n",
    "> copy()\n",
    "\n",
    "> get()：避免KeyError\n",
    " \n",
    "> items()\n",
    "\n",
    "> keys()\n",
    " \n",
    "> pop(k)：删除key返回value\n",
    "\n",
    "> update()：合并字典\n",
    "\n",
    "> values()"
   ]
  },
  {
   "cell_type": "markdown",
   "metadata": {},
   "source": [
    "利用del D[key]删除字典键值"
   ]
  },
  {
   "cell_type": "markdown",
   "metadata": {},
   "source": [
    "## 基本操作\n",
    "> 键值互换\n",
    ">> {v:k for (k,v) in zip([‘a’,’b’,’c’],[1,2,3])}\n",
    "\n",
    "> 共有键\n",
    ">> a.keys() & b.keys()\n",
    "\n",
    "> 所有键\n",
    ">> a.keys() | b.keys()\n",
    "\n",
    "> 独有键\n",
    ">> a.keys() - b.keys() \n",
    "\n",
    "> 共有键值\n",
    ">>  a.items() & b.items() \n",
    "\n",
    "> 按字典的键排序\n",
    ">> sorted(D.items(),key=lambda e:e[0]) ,其中默认reverse=False\n",
    "\n",
    "> 按字典的值排序\n",
    ">> sorted(D.items(),key=lambda e:e[1])"
   ]
  },
  {
   "cell_type": "markdown",
   "metadata": {},
   "source": [
    "## zip\n",
    "zip(seq1 [, seq2 [...]]) -> [(seq1[0], seq2[0] ...), (...)]：创建一个迭代器\n",
    "> zip函数接受任意多个（包括0个和1个）可迭代参数，将对象中对应的元素打包成一个个元组，返回一个tuple列表\n",
    "\n",
    "> 若传入参数的长度不等，则返回list的长度和参数中长度最短的对象相同（itertools.zip_longest可以解决这个问题）"
   ]
  },
  {
   "cell_type": "code",
   "execution_count": 10,
   "metadata": {},
   "outputs": [
    {
     "data": {
      "text/plain": [
       "{'a': 1, 'b': 2, 'c': 3}"
      ]
     },
     "execution_count": 10,
     "metadata": {},
     "output_type": "execute_result"
    }
   ],
   "source": [
    "dict(zip([\"a\",\"b\",\"c\"],[1,2,3]))"
   ]
  },
  {
   "cell_type": "markdown",
   "metadata": {},
   "source": [
    "### 使用*解压  "
   ]
  },
  {
   "cell_type": "code",
   "execution_count": 13,
   "metadata": {},
   "outputs": [
    {
     "data": {
      "text/plain": [
       "[(1, 4, 7), (2, 5, 8), (3, 6, 9)]"
      ]
     },
     "execution_count": 13,
     "metadata": {},
     "output_type": "execute_result"
    }
   ],
   "source": [
    "a = [[1, 2, 3], [4, 5, 6], [7, 8, 9]]\n",
    "list(zip(*a))"
   ]
  },
  {
   "cell_type": "markdown",
   "metadata": {},
   "source": [
    "### 合并相邻的列表项 "
   ]
  },
  {
   "cell_type": "code",
   "execution_count": 7,
   "metadata": {},
   "outputs": [
    {
     "data": {
      "text/plain": [
       "[(1, 2), (3, 4), (5, 6), (7, 8)]"
      ]
     },
     "execution_count": 7,
     "metadata": {},
     "output_type": "execute_result"
    }
   ],
   "source": [
    "x = [1, 2, 3, 4, 5, 6, 7, 8, 9]\n",
    "list(zip(*[iter(x)]*2))"
   ]
  },
  {
   "cell_type": "code",
   "execution_count": 8,
   "metadata": {},
   "outputs": [
    {
     "data": {
      "text/plain": [
       "[(1, 2, 3), (4, 5, 6), (7, 8, 9)]"
      ]
     },
     "execution_count": 8,
     "metadata": {},
     "output_type": "execute_result"
    }
   ],
   "source": [
    "list(zip(*[iter(x)]*3))"
   ]
  },
  {
   "cell_type": "markdown",
   "metadata": {},
   "source": [
    "\\*[iter(x)]\\*3代表三个同样的迭代器，所以zip(\\*[iter(x)]\\*3)第一轮三个迭代器分别代表x[0:],x[1:],x[2:]"
   ]
  },
  {
   "cell_type": "markdown",
   "metadata": {},
   "source": [
    "##  运用模块\n",
    "collections\n",
    "> dedupe：保持字典顺序\n",
    "\n",
    "> defaultdict：便于count和一键多值"
   ]
  }
 ],
 "metadata": {
  "hide_input": false,
  "kernelspec": {
   "display_name": "Python 3",
   "language": "python",
   "name": "python3"
  },
  "language_info": {
   "codemirror_mode": {
    "name": "ipython",
    "version": 3
   },
   "file_extension": ".py",
   "mimetype": "text/x-python",
   "name": "python",
   "nbconvert_exporter": "python",
   "pygments_lexer": "ipython3",
   "version": "3.6.6"
  },
  "toc": {
   "base_numbering": 1,
   "nav_menu": {},
   "number_sections": true,
   "sideBar": true,
   "skip_h1_title": false,
   "title_cell": "Table of Contents",
   "title_sidebar": "Contents",
   "toc_cell": false,
   "toc_position": {},
   "toc_section_display": true,
   "toc_window_display": false
  },
  "varInspector": {
   "cols": {
    "lenName": 16,
    "lenType": 16,
    "lenVar": 40
   },
   "kernels_config": {
    "python": {
     "delete_cmd_postfix": "",
     "delete_cmd_prefix": "del ",
     "library": "var_list.py",
     "varRefreshCmd": "print(var_dic_list())"
    },
    "r": {
     "delete_cmd_postfix": ") ",
     "delete_cmd_prefix": "rm(",
     "library": "var_list.r",
     "varRefreshCmd": "cat(var_dic_list()) "
    }
   },
   "types_to_exclude": [
    "module",
    "function",
    "builtin_function_or_method",
    "instance",
    "_Feature"
   ],
   "window_display": false
  }
 },
 "nbformat": 4,
 "nbformat_minor": 2
}
