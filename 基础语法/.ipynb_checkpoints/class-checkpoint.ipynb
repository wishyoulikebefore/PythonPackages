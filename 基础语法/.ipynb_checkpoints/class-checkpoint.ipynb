{
 "cells": [
  {
   "cell_type": "markdown",
   "metadata": {},
   "source": [
    "面对对象OO\n",
    "\n",
    "<font color=\"red\">继承、封装和多态</font>"
   ]
  },
  {
   "cell_type": "markdown",
   "metadata": {},
   "source": [
    "# 创建类"
   ]
  },
  {
   "cell_type": "code",
   "execution_count": 2,
   "metadata": {},
   "outputs": [],
   "source": [
    "class Employee:\n",
    "    \n",
    "   empCount = 0   ### 类变量，其值在此类中的所有实例之间共享\n",
    "\n",
    "   def __init__(self, name, salary):\n",
    "      self.name = name\n",
    "      self.salary = salary\n",
    "      Employee.empCount += 1\n",
    "\n",
    "   def displayCount(self):\n",
    "     print(\"Total Employee %d\" % Employee.empCount)\n",
    "\n",
    "   def displayEmployee(self):\n",
    "      print(\"Name : \", self.name,  \", Salary: \", self.salary)"
   ]
  },
  {
   "cell_type": "markdown",
   "metadata": {},
   "source": [
    "# 创建实例对象"
   ]
  },
  {
   "cell_type": "code",
   "execution_count": 3,
   "metadata": {},
   "outputs": [],
   "source": [
    "emp1 = Employee(\"Maxsu\", 2000)\n",
    "emp2 = Employee(\"Kobe\", 5000)"
   ]
  },
  {
   "cell_type": "markdown",
   "metadata": {},
   "source": [
    "# 访问属性"
   ]
  },
  {
   "cell_type": "code",
   "execution_count": 4,
   "metadata": {},
   "outputs": [
    {
     "name": "stdout",
     "output_type": "stream",
     "text": [
      "Name :  Maxsu , Salary:  2000\n",
      "Name :  Kobe , Salary:  5000\n",
      "Total Employee 2\n"
     ]
    }
   ],
   "source": [
    "emp1.displayEmployee()\n",
    "emp2.displayEmployee()\n",
    "print (\"Total Employee %d\" % Employee.empCount)"
   ]
  },
  {
   "cell_type": "markdown",
   "metadata": {},
   "source": [
    "# 添加，删除或修改类和对象的属性"
   ]
  },
  {
   "cell_type": "code",
   "execution_count": 5,
   "metadata": {},
   "outputs": [],
   "source": [
    "emp1.salary = 7000  # Add an 'salary' attribute.\n",
    "emp1.name = 'xyz'  # Modify 'age' attribute.\n",
    "del emp1.salary  # Delete 'age' attribute."
   ]
  },
  {
   "cell_type": "markdown",
   "metadata": {},
   "source": [
    "## 函数类"
   ]
  },
  {
   "cell_type": "code",
   "execution_count": 14,
   "metadata": {},
   "outputs": [
    {
     "data": {
      "text/plain": [
       "False"
      ]
     },
     "execution_count": 14,
     "metadata": {},
     "output_type": "execute_result"
    }
   ],
   "source": [
    "hasattr(emp2, 'salary')   "
   ]
  },
  {
   "cell_type": "code",
   "execution_count": 11,
   "metadata": {},
   "outputs": [
    {
     "data": {
      "text/plain": [
       "5000"
      ]
     },
     "execution_count": 11,
     "metadata": {},
     "output_type": "execute_result"
    }
   ],
   "source": [
    "getattr(emp2, 'salary')  "
   ]
  },
  {
   "cell_type": "code",
   "execution_count": 12,
   "metadata": {},
   "outputs": [],
   "source": [
    "setattr(emp2, 'salary', 7000) "
   ]
  },
  {
   "cell_type": "code",
   "execution_count": 13,
   "metadata": {},
   "outputs": [],
   "source": [
    "delattr(emp2, 'salary') "
   ]
  },
  {
   "cell_type": "markdown",
   "metadata": {},
   "source": [
    "# 运算符重载\n",
    "__X__是特殊钩子，当实例出现在内置运算时会自动调用\n",
    "\n",
    "类可覆盖多数内置类型运算\n",
    "\n",
    "运算符覆盖方法没有默认值"
   ]
  },
  {
   "cell_type": "markdown",
   "metadata": {},
   "source": [
    "## 算术运算符"
   ]
  },
  {
   "cell_type": "raw",
   "metadata": {},
   "source": [
    "__add__(self, value):self + value\n",
    "\n",
    "__sub__(self, value)\n",
    "\n",
    "__mul__(self, value)\n",
    "\n",
    "__truediv__(self, value)\n",
    "\n",
    "__floordiv__(self, value)\n",
    "\n",
    "__mod__(self, value)\n",
    "\n",
    "__pow__(self, value)"
   ]
  },
  {
   "cell_type": "code",
   "execution_count": 19,
   "metadata": {},
   "outputs": [
    {
     "name": "stdout",
     "output_type": "stream",
     "text": [
      "MyList([1, 2, 3, 4, 5, 6])\n"
     ]
    }
   ],
   "source": [
    "class MyList:\n",
    "    def __init__(self, iterable=()):\n",
    "        self.data = list(iterable)\n",
    "\n",
    "    def __repr__(self):\n",
    "        return 'MyList({})'.format(self.data)\n",
    "\n",
    "    def __add__(self, rhs):\n",
    "        return MyList(self.data + rhs.data)\n",
    "\n",
    "    def __mul__(self, rhs):\n",
    "        return MyList(self.data * rhs)\n",
    "\n",
    "L1 = MyList([1, 2, 3])\n",
    "L2 = MyList([4, 5, 6])\n",
    "\n",
    "L3 = L1 + L2\n",
    "print(L3)  "
   ]
  },
  {
   "cell_type": "markdown",
   "metadata": {},
   "source": [
    "### 反向运算符"
   ]
  },
  {
   "cell_type": "raw",
   "metadata": {},
   "source": [
    "__radd__(self, value):value+self\n",
    "\n",
    "__rsub__(self, value)\n",
    "\n",
    "__rmul__(self, value)\n",
    "\n",
    "__rtruediv__(self, value)\n",
    "\n",
    "__rfloordiv__(self, value)\n",
    "\n",
    "__rmod__(self, value)\n",
    "\n",
    "__rpow__(self, value)"
   ]
  },
  {
   "cell_type": "markdown",
   "metadata": {},
   "source": [
    "### 复合赋值算数运算符"
   ]
  },
  {
   "cell_type": "raw",
   "metadata": {},
   "source": [
    "__iadd__(self, value): self+=value\n",
    "\n",
    "__isub__(self, value)\n",
    "\n",
    "__imul__(self, value)\n",
    "\n",
    "__itruediv__(self, value)\n",
    "\n",
    "__ifloordiv__(self, value)\n",
    "\n",
    "__imod__(self, value)\n",
    "\n",
    "__ipow__(self, value)"
   ]
  },
  {
   "cell_type": "code",
   "execution_count": 20,
   "metadata": {},
   "outputs": [
    {
     "name": "stdout",
     "output_type": "stream",
     "text": [
      "__iadd__被调用了\n",
      "MyList([4, 5, 6, 1, 2, 3])\n"
     ]
    }
   ],
   "source": [
    "class MyList:\n",
    "    def __init__(self, iterable=()):\n",
    "        self.data = list(iterable)\n",
    "\n",
    "    def __repr__(self):\n",
    "        return 'MyList({})'.format(self.data)\n",
    "\n",
    "    def __add__(self, rhs):\n",
    "        return MyList(self.data + rhs.data)\n",
    "   \n",
    "    def __iadd__(self, rhs):\n",
    "        print('__iadd__被调用了')\n",
    "        self.data += rhs.data\n",
    "        return self\n",
    "\n",
    "L1 = MyList([1, 2, 3])\n",
    "L2 = MyList([4, 5, 6])\n",
    "\n",
    "L2 += L1  # 调用 __iadd__方法\n",
    "print(L2)  "
   ]
  },
  {
   "cell_type": "markdown",
   "metadata": {},
   "source": [
    "## 比较运算符"
   ]
  },
  {
   "cell_type": "raw",
   "metadata": {},
   "source": [
    "__lt__(self, value)\n",
    "\n",
    "__gt__(self, value)\n",
    "\n",
    "__le__(self, value)\n",
    "\n",
    "__ge__(self, value)\n",
    "\n",
    "__eq__(self, value)\n",
    "\n",
    "__ne__(self, value)"
   ]
  },
  {
   "cell_type": "markdown",
   "metadata": {},
   "source": [
    "## 位运算符"
   ]
  },
  {
   "cell_type": "raw",
   "metadata": {},
   "source": [
    "__and__(self, value)\t\n",
    "\n",
    "__or__(self, value)\t\n",
    "\n",
    "__xor__(self, value)\t\n",
    "\n",
    "__lshift__(self, value)\t\n",
    "\n",
    "__rshift__(self, value)"
   ]
  },
  {
   "cell_type": "code",
   "execution_count": 21,
   "metadata": {
    "scrolled": true
   },
   "outputs": [
    {
     "name": "stdout",
     "output_type": "stream",
     "text": [
      "OrderSet([3, 4])\n",
      "OrderSet([1, 2, 3, 4, 5])\n",
      "OrderSet([1, 2, 5])\n"
     ]
    }
   ],
   "source": [
    "class OrderSet:\n",
    "    def __init__(self, iterable=()):\n",
    "        self.__data = iterable\n",
    "\n",
    "    def __repr__(self):\n",
    "        return 'OrderSet({})'.format(self.__data)\n",
    "\n",
    "    def __and__(self, rhs):\n",
    "        r = set(self.__data) & set(rhs.__data)\n",
    "        return OrderSet(list(r))\n",
    "\n",
    "    def __or__(self, rhs):\n",
    "        r = set(self.__data) | set(rhs.__data)\n",
    "        return OrderSet(list(r))\n",
    "\n",
    "    def __xor__(self, rhs):\n",
    "        r = set(self.__data) ^ set(rhs.__data)\n",
    "        return OrderSet(list(r))\n",
    "\n",
    "s1 = OrderSet([1, 2, 3, 4])\n",
    "s2 = OrderSet([3, 4, 5])\n",
    "print(s1 & s2)  # OrderSet([3, 4])\n",
    "print(s1 | s2)  # OrderSet([1, 2, 3, 4, 5])\n",
    "print(s1 ^ s2)  # OrderSet([1, 2, 5])"
   ]
  },
  {
   "cell_type": "markdown",
   "metadata": {},
   "source": [
    "## 一元运算符"
   ]
  },
  {
   "cell_type": "raw",
   "metadata": {},
   "source": [
    "__neg__(self)：负号\n",
    "\n",
    "__pos__(self)：正号\n",
    "\n",
    "__invert__(self)：取反"
   ]
  },
  {
   "cell_type": "code",
   "execution_count": 22,
   "metadata": {},
   "outputs": [
    {
     "name": "stdout",
     "output_type": "stream",
     "text": [
      "MyList([-1, 2, -3, 4, -5])\n"
     ]
    }
   ],
   "source": [
    "class MyList:\n",
    "    def __init__(self, iterable=()):\n",
    "        self.data = list(iterable)\n",
    "\n",
    "    def __repr__(self):\n",
    "        return 'MyList({})'.format(self.data)\n",
    "\n",
    "    def __neg__(self):\n",
    "        G = [-x for x in self.data]\n",
    "        return MyList(G)\n",
    "\n",
    "L1 = MyList([1, -2, 3, -4, 5])\n",
    "L2 = -L1\n",
    "print(L2)  "
   ]
  },
  {
   "cell_type": "markdown",
   "metadata": {},
   "source": [
    "## in / not in "
   ]
  },
  {
   "cell_type": "raw",
   "metadata": {},
   "source": [
    "__contains__(self,item)"
   ]
  },
  {
   "cell_type": "code",
   "execution_count": null,
   "metadata": {},
   "outputs": [],
   "source": [
    "def __contains__(self, item):\n",
    "    return item in self.__data\n",
    "\n",
    "s1 = OrderSet([1, 2, 3, 4])\n",
    "if 2 in s1:\n",
    "    print('2 in s1 为真')"
   ]
  },
  {
   "cell_type": "markdown",
   "metadata": {},
   "source": [
    "## 索引和切片运算符"
   ]
  },
  {
   "cell_type": "raw",
   "metadata": {},
   "source": [
    "__getitem__(self,i)：x = self[i]\n",
    "\n",
    "__setitem__(self,i,v)：self[i] = v\n",
    "\n",
    "__delitem__(self,i)：del self[i]"
   ]
  },
  {
   "cell_type": "code",
   "execution_count": 24,
   "metadata": {},
   "outputs": [
    {
     "name": "stdout",
     "output_type": "stream",
     "text": [
      "i的值是 3\n",
      "-4\n",
      "MyList([1, -2, 0, 2, 5])\n",
      "MyList([1, -2, 2, 5])\n",
      "i的值是 slice(None, None, 2)\n",
      "[1, 2]\n"
     ]
    }
   ],
   "source": [
    "class MyList:\n",
    "    def __init__(self, iterable=()):\n",
    "        self.__data = list(iterable)\n",
    "\n",
    "    def __repr__(self):\n",
    "        return 'MyList({})'.format(self.__data)\n",
    "\n",
    "    def __getitem__(self, i):\n",
    "        print('i的值是', i)  # i的值是 3\n",
    "        return self.__data[i]\n",
    "\n",
    "    def __setitem__(self, key, value):\n",
    "        self.__data[key] = value\n",
    "\n",
    "    def __delitem__(self, key):\n",
    "        # del self.__data[key]\n",
    "        self.__data.pop(key)\n",
    "\n",
    "L1 = MyList([1, -2, 0, -4, 5])\n",
    "x = L1[3]\n",
    "print(x)  # 4\n",
    "L1[3] = 2\n",
    "print(L1)  # MyList([1, -2, 0, 2, 5])\n",
    "\n",
    "del L1[2]\n",
    "print(L1)  # MyList([1, -2, 2, 5])\n",
    "\n",
    "print(L1[::2])"
   ]
  },
  {
   "cell_type": "markdown",
   "metadata": {},
   "source": [
    "## 待解决"
   ]
  },
  {
   "cell_type": "raw",
   "metadata": {},
   "source": [
    "__repr__：可评估求值的字符串\n",
    "\n",
    "__str__：可打印的字符串\n",
    "\n",
    "__call__：函数调用，X(*args,**kargs)\n",
    "\n",
    "__getattr__：属性点号运算，X.undefined\n",
    "\n",
    "__setattr__：属性赋值运算，使用self.__dict__[attr] = value，避免无穷递归循环\n",
    "\n",
    "__delattr__：属性删除，del X.any\n",
    "\n",
    "__getattribute__：属性获取，X.any\t\n",
    "\n",
    "__len__\n",
    "\n",
    "__bool__\n",
    "\n",
    "__iter__，__next__：迭代环境\n",
    "\n",
    "__contains__：成员关系测试\n",
    "\n",
    "__index__\t\n",
    "\n",
    "__get__，__set__：X.attr，X.attr = value"
   ]
  },
  {
   "cell_type": "markdown",
   "metadata": {},
   "source": [
    "# 类继承\n",
    "class SubClassName (ParentClass1[, ParentClass2, ...])"
   ]
  },
  {
   "cell_type": "code",
   "execution_count": null,
   "metadata": {},
   "outputs": [],
   "source": [
    "class Parent：\n",
    "    .....\n",
    "\n",
    "class Child(Parent):\n",
    "    .....\n",
    "\n",
    "### 从多个父类来构建一个新的类\n",
    "class A:        \n",
    "    .....\n",
    "\n",
    "class B:         \n",
    "    .....\n",
    "\n",
    "class C(A, B): # subclass of A and B\n",
    "    ....."
   ]
  },
  {
   "cell_type": "markdown",
   "metadata": {},
   "source": [
    "<font color=\"red\">继承搜索会从实例往上进行，之后到子类，然后到超类</font>\n",
    "\n",
    "重载：在较低处发生的重新定义、取代属性的动作\n",
    "\n",
    "<font color=\"red\">为减少名称冲突，对类私有变量前面加“_\"</font>\n",
    "\n",
    "issubclass(sub，sup)布尔函数如果给定的子类sub确实是超类sup的子类返回True\n",
    "\n",
    "isinstance(obj，Class)布尔函数如果obj是类Class的一个实例，或者是类的一个子类的实例则返回True"
   ]
  },
  {
   "cell_type": "markdown",
   "metadata": {},
   "source": [
    "## 方法重载"
   ]
  },
  {
   "cell_type": "code",
   "execution_count": 15,
   "metadata": {},
   "outputs": [
    {
     "name": "stdout",
     "output_type": "stream",
     "text": [
      "Calling child method\n"
     ]
    }
   ],
   "source": [
    "class Parent:        # define parent class\n",
    "   def myMethod(self):\n",
    "      print ('Calling parent method')\n",
    "\n",
    "class Child(Parent): # define child class\n",
    "   def myMethod(self):\n",
    "      print ('Calling child method')\n",
    "\n",
    "c = Child()          # instance of child\n",
    "c.myMethod()         # child calls overridden method"
   ]
  },
  {
   "cell_type": "markdown",
   "metadata": {},
   "source": [
    "## 重载运算符"
   ]
  },
  {
   "cell_type": "code",
   "execution_count": 16,
   "metadata": {},
   "outputs": [
    {
     "name": "stdout",
     "output_type": "stream",
     "text": [
      "Vector (7, 8)\n"
     ]
    }
   ],
   "source": [
    "class Vector:\n",
    "   def __init__(self, a, b):\n",
    "      self.a = a\n",
    "      self.b = b\n",
    "\n",
    "   def __str__(self):\n",
    "      return 'Vector (%d, %d)' % (self.a, self.b)\n",
    "\n",
    "   def __add__(self,other):\n",
    "      return Vector(self.a + other.a, self.b + other.b)\n",
    "\n",
    "v1 = Vector(2,10)\n",
    "v2 = Vector(5,-2)\n",
    "print (v1 + v2)"
   ]
  },
  {
   "cell_type": "markdown",
   "metadata": {},
   "source": [
    "## 限制实例的属性\n",
    "定义一个特殊的__slots__变量 "
   ]
  },
  {
   "cell_type": "code",
   "execution_count": 18,
   "metadata": {},
   "outputs": [],
   "source": [
    "#仅允许绑定这三个属性，可以节约内存\n",
    "#对继承的子类是不起作用，留出修改空间\n",
    "class Date:\n",
    "    __slots__ = ['year', 'month', 'day']\n",
    "    def __init__(self, year, month, day):\n",
    "        self.year = year\n",
    "        self.month = month\n",
    "        self.day = day"
   ]
  },
  {
   "cell_type": "markdown",
   "metadata": {},
   "source": [
    "# 数据隐藏\n",
    "<font color=\"red\">对象的属性在类定义之外可能或不可见</font>\n",
    "\n",
    "需要使用双下划线前缀命名属性，然后这些属性将不会直接对外部可见。"
   ]
  },
  {
   "cell_type": "code",
   "execution_count": 17,
   "metadata": {},
   "outputs": [
    {
     "name": "stdout",
     "output_type": "stream",
     "text": [
      "1\n",
      "2\n"
     ]
    },
    {
     "ename": "AttributeError",
     "evalue": "'JustCounter' object has no attribute '__secretCount'",
     "output_type": "error",
     "traceback": [
      "\u001b[1;31m---------------------------------------------------------------------------\u001b[0m",
      "\u001b[1;31mAttributeError\u001b[0m                            Traceback (most recent call last)",
      "\u001b[1;32m<ipython-input-17-8e2e37c53fe9>\u001b[0m in \u001b[0;36m<module>\u001b[1;34m\u001b[0m\n\u001b[0;32m      9\u001b[0m \u001b[0mcounter\u001b[0m\u001b[1;33m.\u001b[0m\u001b[0mcount\u001b[0m\u001b[1;33m(\u001b[0m\u001b[1;33m)\u001b[0m\u001b[1;33m\u001b[0m\u001b[0m\n\u001b[0;32m     10\u001b[0m \u001b[0mcounter\u001b[0m\u001b[1;33m.\u001b[0m\u001b[0mcount\u001b[0m\u001b[1;33m(\u001b[0m\u001b[1;33m)\u001b[0m\u001b[1;33m\u001b[0m\u001b[0m\n\u001b[1;32m---> 11\u001b[1;33m \u001b[0mprint\u001b[0m \u001b[1;33m(\u001b[0m\u001b[0mcounter\u001b[0m\u001b[1;33m.\u001b[0m\u001b[0m__secretCount\u001b[0m\u001b[1;33m)\u001b[0m\u001b[1;33m\u001b[0m\u001b[0m\n\u001b[0m",
      "\u001b[1;31mAttributeError\u001b[0m: 'JustCounter' object has no attribute '__secretCount'"
     ]
    }
   ],
   "source": [
    "class JustCounter:\n",
    "   __secretCount = 0\n",
    "\n",
    "   def count(self):\n",
    "      self.__secretCount += 1\n",
    "      print (self.__secretCount)\n",
    "\n",
    "counter = JustCounter()\n",
    "counter.count()\n",
    "counter.count()\n",
    "print (counter.__secretCount)"
   ]
  }
 ],
 "metadata": {
  "hide_input": false,
  "kernelspec": {
   "display_name": "Python 3",
   "language": "python",
   "name": "python3"
  },
  "language_info": {
   "codemirror_mode": {
    "name": "ipython",
    "version": 3
   },
   "file_extension": ".py",
   "mimetype": "text/x-python",
   "name": "python",
   "nbconvert_exporter": "python",
   "pygments_lexer": "ipython3",
   "version": "3.6.0"
  },
  "toc": {
   "base_numbering": 1,
   "nav_menu": {},
   "number_sections": true,
   "sideBar": true,
   "skip_h1_title": false,
   "title_cell": "Table of Contents",
   "title_sidebar": "Contents",
   "toc_cell": false,
   "toc_position": {},
   "toc_section_display": true,
   "toc_window_display": true
  },
  "varInspector": {
   "cols": {
    "lenName": 16,
    "lenType": 16,
    "lenVar": 40
   },
   "kernels_config": {
    "python": {
     "delete_cmd_postfix": "",
     "delete_cmd_prefix": "del ",
     "library": "var_list.py",
     "varRefreshCmd": "print(var_dic_list())"
    },
    "r": {
     "delete_cmd_postfix": ") ",
     "delete_cmd_prefix": "rm(",
     "library": "var_list.r",
     "varRefreshCmd": "cat(var_dic_list()) "
    }
   },
   "types_to_exclude": [
    "module",
    "function",
    "builtin_function_or_method",
    "instance",
    "_Feature"
   ],
   "window_display": false
  }
 },
 "nbformat": 4,
 "nbformat_minor": 2
}
