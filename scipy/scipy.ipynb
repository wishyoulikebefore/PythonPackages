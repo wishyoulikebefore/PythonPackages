{
 "cells": [
  {
   "cell_type": "code",
   "execution_count": 2,
   "metadata": {
    "ExecuteTime": {
     "end_time": "2018-11-20T12:49:02.466957Z",
     "start_time": "2018-11-20T12:48:56.478081Z"
    }
   },
   "outputs": [],
   "source": [
    "from scipy import stats"
   ]
  },
  {
   "cell_type": "markdown",
   "metadata": {},
   "source": [
    "个人想法：\n",
    "scipy似乎处理浮点数很不好，支持的检验分布也不是很完整，因此需要调用R函数"
   ]
  },
  {
   "cell_type": "markdown",
   "metadata": {},
   "source": [
    "## 概率分布\n",
    "> 离散概率分布，即概率质量函数（probability mass function, pmf）\n",
    ">> 二项分布：binom.pmf\n",
    "\n",
    ">> 泊松分布：poisson.pmf\n",
    "\n",
    ">> 几何分布：geom.pmf\n",
    "\n",
    ">> 超几何分布：hypergeom.pmf\n",
    "\n",
    "> 连续概率分布，即概率密度函数（probability density function, pdf）\n",
    ">> 正态分布：norm.pdf\n",
    "\n",
    ">> 指数分布：expon.pdf\n",
    "\n",
    ">> β分布：beta.pdf"
   ]
  },
  {
   "cell_type": "markdown",
   "metadata": {},
   "source": [
    "## 假设检验\n",
    "> 伯努利检验：binom_test(x, n=None, p=0.5, alternative='two-sided')\n",
    "\n",
    "> 卡方检验：chisquare(f_obs, f_exp=None, ddof=0, axis=0) 用于理论值与观察值的比较\n",
    ">> chi2, p = chisquare(f_obs, f_exp)\n",
    "\n",
    "> Pearson卡方检验：chi2_contingency(observed, correction=True, lambda_=None) 检验变量间是否有关联\n",
    ">> chi2, p, dof, ex = chi2_contingency(obs, correction=False)\n",
    "\n",
    "> fisher精确检验：fisher_exact(table, alternative='two-sided')\n",
    ">> oddsratio, pvalue = fisher_exact([[8, 2], [1, 5]])"
   ]
  },
  {
   "cell_type": "markdown",
   "metadata": {},
   "source": [
    "## 回归检验\n",
    "> Spearman correlation：spearmanr\n",
    ">> corr, p_value = spearmanr(x, y)\n",
    "\n",
    "> Pearson correlation：pearsonr\n",
    ">> corr, p_value = pearsonr(x, y)"
   ]
  },
  {
   "cell_type": "markdown",
   "metadata": {},
   "source": [
    "## 示例"
   ]
  },
  {
   "cell_type": "markdown",
   "metadata": {},
   "source": [
    "### 泊松分布的应用"
   ]
  },
  {
   "cell_type": "markdown",
   "metadata": {},
   "source": [
    "某家小杂货店，平均每周售出两个水果罐头，请问该水果店的最佳库存量是多少？\n",
    "\n",
    "分析：假定不存在季节因素，可以近似认为，该问题满足Poisson分布三个条件：\n",
    "\n",
    "1)顾客购买水果罐头是小概率事件\n",
    "\n",
    "2)购买水果罐头的顾客之间是独立的，也即不会互相依赖或者影响\n",
    "\n",
    "3)顾客购买水果罐头的概率是稳定的"
   ]
  },
  {
   "cell_type": "code",
   "execution_count": 11,
   "metadata": {
    "ExecuteTime": {
     "end_time": "2018-11-20T12:56:45.016543Z",
     "start_time": "2018-11-20T12:56:45.001555Z"
    }
   },
   "outputs": [
    {
     "data": {
      "text/plain": [
       "array([0.13533528, 0.40600585, 0.67667642, 0.85712346, 0.94734698,\n",
       "       0.98343639, 0.99546619])"
      ]
     },
     "execution_count": 11,
     "metadata": {},
     "output_type": "execute_result"
    }
   ],
   "source": [
    "stats.poisson.pmf(range(7),2).cumsum()"
   ]
  },
  {
   "cell_type": "markdown",
   "metadata": {},
   "source": [
    "存货5个罐头时，缺货的几率＜0.05"
   ]
  },
  {
   "cell_type": "markdown",
   "metadata": {},
   "source": [
    "### 泊松分布与美国枪击案"
   ]
  },
  {
   "cell_type": "markdown",
   "metadata": {},
   "source": [
    "判断”美国枪击案发生的次数”是否满足”泊松分布”的三个条件：\n",
    "\n",
    "1)枪击案是小概率事件\n",
    "\n",
    "2)枪击案之间彼此独立，不会互相影响\n",
    "\n",
    "3)枪击案的发生概率是稳定的\n",
    "\n",
    "显然，第三个条件是关键，如果成立，说明美国的治安没有恶化"
   ]
  },
  {
   "cell_type": "code",
   "execution_count": 6,
   "metadata": {
    "ExecuteTime": {
     "end_time": "2018-11-20T12:54:45.976411Z",
     "start_time": "2018-11-20T12:54:45.964421Z"
    }
   },
   "outputs": [
    {
     "data": {
      "image/jpeg": "[encoded data removed]",
      "text/plain": [
       "<IPython.core.display.Image object>"
      ]
     },
     "execution_count": 6,
     "metadata": {
      "image/jpeg": {
       "height": 800,
       "width": 600
      }
     },
     "output_type": "execute_result"
    }
   ],
   "source": [
    "# 1982-2012的31年间枪击案的分布情况为\n",
    "from IPython.display import Image\n",
    "Image(filename=\"C:/Users/zty/Desktop/US_gun.jpg\",width=600,height=800)"
   ]
  },
  {
   "cell_type": "code",
   "execution_count": 8,
   "metadata": {
    "ExecuteTime": {
     "end_time": "2018-11-20T12:55:31.637217Z",
     "start_time": "2018-11-20T12:55:31.627222Z"
    }
   },
   "outputs": [
    {
     "data": {
      "text/plain": [
       "2.0"
      ]
     },
     "execution_count": 8,
     "metadata": {},
     "output_type": "execute_result"
    }
   ],
   "source": [
    "num_of_years=[4,10,7,5,4,0,0,1]\n",
    "mu = sum(x*y for x,y in zip(range(8),num_of_years))/sum(num_of_years)\n",
    "mu"
   ]
  },
  {
   "cell_type": "code",
   "execution_count": 23,
   "metadata": {
    "ExecuteTime": {
     "end_time": "2018-11-20T13:15:33.240317Z",
     "start_time": "2018-11-20T13:15:33.230323Z"
    }
   },
   "outputs": [
    {
     "data": {
      "text/plain": [
       "array([4.19539378, 8.39078756, 8.39078756, 5.59385837, 2.79692919,\n",
       "       1.11877167, 0.37292389, 0.10654968])"
      ]
     },
     "execution_count": 23,
     "metadata": {},
     "output_type": "execute_result"
    }
   ],
   "source": [
    "#理论分布\n",
    "exp = sum(num_of_years)*stats.poisson.pmf(range(8),2)\n",
    "exp"
   ]
  },
  {
   "cell_type": "code",
   "execution_count": 25,
   "metadata": {
    "ExecuteTime": {
     "end_time": "2018-11-20T13:17:17.894261Z",
     "start_time": "2018-11-20T13:17:17.519491Z"
    }
   },
   "outputs": [
    {
     "data": {
      "text/plain": [
       "<BarContainer object of 8 artists>"
      ]
     },
     "execution_count": 25,
     "metadata": {},
     "output_type": "execute_result"
    },
    {
     "data": {
      "text/plain": [
       "[<matplotlib.lines.Line2D at 0x11678ec3be0>]"
      ]
     },
     "execution_count": 25,
     "metadata": {},
     "output_type": "execute_result"
    },
    {
     "data": {
      "text/plain": [
       "(-1, 8)"
      ]
     },
     "execution_count": 25,
     "metadata": {},
     "output_type": "execute_result"
    },
    {
     "data": {
      "text/plain": [
       "(0, 11)"
      ]
     },
     "execution_count": 25,
     "metadata": {},
     "output_type": "execute_result"
    },
    {
     "data": {
      "text/plain": [
       "Text(0.5, 0, 'mass shootings in a year')"
      ]
     },
     "execution_count": 25,
     "metadata": {},
     "output_type": "execute_result"
    },
    {
     "data": {
      "text/plain": [
       "Text(0, 0.5, 'years')"
      ]
     },
     "execution_count": 25,
     "metadata": {},
     "output_type": "execute_result"
    },
    {
     "data": {
      "text/plain": [
       "<matplotlib.legend.Legend at 0x1167afe6e80>"
      ]
     },
     "execution_count": 25,
     "metadata": {},
     "output_type": "execute_result"
    },
    {
     "data": {
      "image/png": "[encoded data removed]",
      "text/plain": [
       "<Figure size 432x288 with 1 Axes>"
      ]
     },
     "metadata": {
      "needs_background": "light"
     },
     "output_type": "display_data"
    }
   ],
   "source": [
    "# 绘图大致观察分布\n",
    "import numpy as np\n",
    "import matplotlib.pyplot as plt\n",
    "%matplotlib inline\n",
    "\n",
    "plt.bar(np.arange(8)-0.4,num_of_years,label='Observed instances')\n",
    "plt.plot(range(8),exp,ls='dashed',lw=2,c='r',label='Poisson distribution\\n$(\\lambda=2.0)$')\n",
    "plt.xlim([-1,8])\n",
    "plt.ylim([0,11])\n",
    "plt.xlabel('mass shootings in a year')\n",
    "plt.ylabel('years')\n",
    "plt.legend(loc='best')"
   ]
  },
  {
   "cell_type": "markdown",
   "metadata": {},
   "source": [
    "分布形态比较符合poisson分布"
   ]
  },
  {
   "cell_type": "code",
   "execution_count": 13,
   "metadata": {
    "ExecuteTime": {
     "end_time": "2018-11-20T12:58:28.354827Z",
     "start_time": "2018-11-20T12:58:28.343834Z"
    }
   },
   "outputs": [
    {
     "data": {
      "image/jpeg": "[encoded data removed]",
      "text/plain": [
       "<IPython.core.display.Image object>"
      ]
     },
     "execution_count": 13,
     "metadata": {
      "image/jpeg": {
       "height": 800,
       "width": 600
      }
     },
     "output_type": "execute_result"
    }
   ],
   "source": [
    "# 对比\n",
    "from IPython.display import Image\n",
    "Image(filename=\"C:/Users/zty/Desktop/US_gun2.jpg\",width=600,height=800)"
   ]
  },
  {
   "cell_type": "code",
   "execution_count": 22,
   "metadata": {
    "ExecuteTime": {
     "end_time": "2018-11-20T13:13:33.467098Z",
     "start_time": "2018-11-20T13:13:33.456107Z"
    }
   },
   "outputs": [
    {
     "data": {
      "text/plain": [
       "Power_divergenceResult(statistic=4.151125076682338, pvalue=0.7622155611255714)"
      ]
     },
     "execution_count": 22,
     "metadata": {},
     "output_type": "execute_result"
    }
   ],
   "source": [
    "# 利用chi-square test检验是否存在差异\n",
    "stats.chisquare([4,10,7,5,4,0,0,1],[4.2,8.39,8.39,5.59,2.8,1.12,0.37,0.31])"
   ]
  },
  {
   "cell_type": "markdown",
   "metadata": {},
   "source": [
    "结论：枪击案符合泊松分布"
   ]
  }
 ],
 "metadata": {
  "kernelspec": {
   "display_name": "Python 3",
   "language": "python",
   "name": "python3"
  },
  "toc": {
   "base_numbering": 1,
   "nav_menu": {},
   "number_sections": true,
   "sideBar": true,
   "skip_h1_title": false,
   "title_cell": "Table of Contents",
   "title_sidebar": "Contents",
   "toc_cell": false,
   "toc_position": {},
   "toc_section_display": true,
   "toc_window_display": true
  },
  "varInspector": {
   "cols": {
    "lenName": 16,
    "lenType": 16,
    "lenVar": 40
   },
   "kernels_config": {
    "python": {
     "delete_cmd_postfix": "",
     "delete_cmd_prefix": "del ",
     "library": "var_list.py",
     "varRefreshCmd": "print(var_dic_list())"
    },
    "r": {
     "delete_cmd_postfix": ") ",
     "delete_cmd_prefix": "rm(",
     "library": "var_list.r",
     "varRefreshCmd": "cat(var_dic_list()) "
    }
   },
   "types_to_exclude": [
    "module",
    "function",
    "builtin_function_or_method",
    "instance",
    "_Feature"
   ],
   "window_display": false
  }
 },
 "nbformat": 4,
 "nbformat_minor": 2
}
