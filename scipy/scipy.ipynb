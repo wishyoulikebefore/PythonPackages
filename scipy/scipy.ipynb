{
 "cells": [
  {
   "cell_type": "code",
   "execution_count": 1,
   "metadata": {},
   "outputs": [],
   "source": [
    "from scipy import stats"
   ]
  },
  {
   "cell_type": "markdown",
   "metadata": {},
   "source": [
    "## 概率分布\n",
    "> 离散概率分布，即概率质量函数（probability mass function, pmf）\n",
    ">> 二项分布：binom.pmf\n",
    "\n",
    ">> 泊松分布：poisson.pmf\n",
    "\n",
    ">> 几何分布：geom.pmf\n",
    "\n",
    ">> 超几何分布：hypergeom.pmf\n",
    "\n",
    "> 连续概率分布，即概率密度函数（probability density function, pdf）\n",
    ">> 正态分布：norm.pdf\n",
    "\n",
    ">> 指数分布：expon.pdf\n",
    "\n",
    ">> β分布：beta.pdf"
   ]
  },
  {
   "cell_type": "markdown",
   "metadata": {},
   "source": [
    "## 假设检验\n",
    "> 伯努利检验：binom_test(x, n=None, p=0.5, alternative='two-sided')\n",
    "\n",
    "> 卡方检验：chi2_contingency(observed, correction=True, lambda_=None)\n",
    ">> chi2, p, dof, ex = chi2_contingency(obs, correction=False)\n",
    "\n",
    "> fisher精确检验：fisher_exact(table, alternative='two-sided')\n",
    ">> oddsratio, pvalue = fisher_exact([[8, 2], [1, 5]])"
   ]
  },
  {
   "cell_type": "markdown",
   "metadata": {},
   "source": [
    "## 回归检验\n",
    "> Spearman correlation：spearmanr\n",
    ">> corr, p_value = spearmanr(x, y)\n",
    "\n",
    "> Pearson correlation：pearsonr\n",
    ">> corr, p_value = pearsonr(x, y)"
   ]
  }
 ],
 "metadata": {
  "kernelspec": {
   "display_name": "Python 3",
   "language": "python",
   "name": "python3"
  },
  "language_info": {
   "codemirror_mode": {
    "name": "ipython",
    "version": 3
   },
   "file_extension": ".py",
   "mimetype": "text/x-python",
   "name": "python",
   "nbconvert_exporter": "python",
   "pygments_lexer": "ipython3",
   "version": "3.5.4"
  },
  "varInspector": {
   "cols": {
    "lenName": 16,
    "lenType": 16,
    "lenVar": 40
   },
   "kernels_config": {
    "python": {
     "delete_cmd_postfix": "",
     "delete_cmd_prefix": "del ",
     "library": "var_list.py",
     "varRefreshCmd": "print(var_dic_list())"
    },
    "r": {
     "delete_cmd_postfix": ") ",
     "delete_cmd_prefix": "rm(",
     "library": "var_list.r",
     "varRefreshCmd": "cat(var_dic_list()) "
    }
   },
   "types_to_exclude": [
    "module",
    "function",
    "builtin_function_or_method",
    "instance",
    "_Feature"
   ],
   "window_display": false
  }
 },
 "nbformat": 4,
 "nbformat_minor": 2
}
