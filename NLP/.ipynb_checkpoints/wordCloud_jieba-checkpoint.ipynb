{
 "cells": [
  {
   "cell_type": "markdown",
   "metadata": {},
   "source": [
    "#  wordcloud"
   ]
  },
  {
   "cell_type": "markdown",
   "metadata": {},
   "source": [
    "> ImageColorGenerator()：默认RGB取色，可以设置从背景图片生成颜色值\n",
    "\n",
    "> WordCloud()\n",
    ">> width : int (default=400)\n",
    "\n",
    ">> height : int (default=200)\n",
    "\n",
    ">> max_words : number (default=200)\n",
    "\n",
    ">> background_color : color value (default=\"black\")\n",
    "\n",
    ">> min_font_size : int (default=4)\n",
    "\n",
    ">> max_font_size : int or None (default=None)\n",
    "\n",
    ">> mask : nd-array or None (default=None)  设置背景图片\n",
    "\n",
    ">> stopwords : set of strings or None  用于忽略某些常见词汇"
   ]
  },
  {
   "cell_type": "markdown",
   "metadata": {},
   "source": [
    "# jieba\n",
    "中文分词"
   ]
  },
  {
   "cell_type": "markdown",
   "metadata": {},
   "source": [
    "## 分词\n",
    "> 精确模式：试图将句子最精确地切开，适合文本分析\n",
    "\n",
    "> 全模式：速度非常快，但不能解决歧义\n",
    "\n",
    "> 搜索引擎模式：在精确模式的基础上，对长词再次切分，提高召回率，适合用于搜索引擎分词"
   ]
  },
  {
   "cell_type": "raw",
   "metadata": {},
   "source": [
    "cut(sentence, cut_all=False, HMM=True)\n",
    "#cut_all 参数用来控制是否采用全模式(默认精确模式)； HMM 模型\n",
    "\n",
    "cut_for_search(sentence, HMM=True)\n",
    "#该方法适合用于搜索引擎构建倒排索引的分词，粒度比较细\n",
    "#cut和cut_for_search返回的结构都是一个可迭代的 generator，可以用lcut 以及 lcut_for_search 直接返回 list"
   ]
  },
  {
   "cell_type": "markdown",
   "metadata": {},
   "source": [
    "## 关键词提取 "
   ]
  },
  {
   "cell_type": "raw",
   "metadata": {},
   "source": [
    "基于 TF-IDF（term frequency–inverse document frequency） 算法\n",
    "analyse.extract_tags(sentence, topK=20, withWeight=False, allowPOS=())\n",
    "#topK： 为返回几个 TF/IDF 权重最大的关键词，默认值为 20\n",
    "#withWeight ： 为是否一并返回关键词权重值，默认值为 False\n",
    "#allowPOS ： 仅包括指定词性的词，默认值为空，即不筛选\n",
    "\n",
    "基于 TextRank 算法的关键词抽取\n",
    "analyse.textrank(sentence, topK=20, withWeight=False, allowPOS=(‘ns’, ‘n’, ‘vn’, ‘v’))"
   ]
  },
  {
   "cell_type": "markdown",
   "metadata": {},
   "source": [
    "# 示例"
   ]
  },
  {
   "cell_type": "code",
   "execution_count": null,
   "metadata": {},
   "outputs": [],
   "source": [
    "from scipy.misc import imread\n",
    "import matplotlib.pyplot as plt\n",
    "from wordcloud import WordCloud, STOPWORDS, ImageColorGenerator\n",
    "import random\n",
    "import matplotlib as mpl\n",
    "\n",
    "mpl.rcParams[\"font.sans-serif\"] = [\"SimHei\"]\n",
    "text = open(\"wordCloudV2.txt\").read()\n",
    "mask = imread(\"helmet.png\")\n",
    "\n",
    "def grey_color_func(word, font_size, position, orientation, random_state=None, **kwargs):\n",
    "    return \"hsl(0, 0%%, %d%%)\" % random.randint(60, 100)\n",
    "\n",
    "wc=WordCloud(background_color=\"white\",max_words=2000,mask=mask,stopwords=STOPWORDS.add(\"said\"),max_font_size=40)\n",
    "wc.generate(text)\n",
    "default_color = wc.to_array()\n",
    "\n",
    "plt.title(\"灰色\")\n",
    "plt.imshow(wc.recolor(color_func=grey_color_func, random_state=3))\n",
    "plt.axis(\"off\")\n",
    "wc.to_file(\"grey.jpg\")\n",
    "\n",
    "plt.figure()\n",
    "plt.title(\"彩色\")\n",
    "plt.imshow(default_color)\n",
    "plt.axis(\"off\")\n",
    "wc.to_file(\"color.jpg\")\n",
    "\n",
    "plt.show()"
   ]
  }
 ],
 "metadata": {
  "kernelspec": {
   "display_name": "Python 3",
   "language": "python",
   "name": "python3"
  },
  "language_info": {
   "codemirror_mode": {
    "name": "ipython",
    "version": 3
   },
   "file_extension": ".py",
   "mimetype": "text/x-python",
   "name": "python",
   "nbconvert_exporter": "python",
   "pygments_lexer": "ipython3",
   "version": "3.5.4"
  },
  "toc": {
   "base_numbering": 1,
   "nav_menu": {},
   "number_sections": true,
   "sideBar": true,
   "skip_h1_title": false,
   "title_cell": "Table of Contents",
   "title_sidebar": "Contents",
   "toc_cell": false,
   "toc_position": {},
   "toc_section_display": true,
   "toc_window_display": false
  },
  "varInspector": {
   "cols": {
    "lenName": 16,
    "lenType": 16,
    "lenVar": 40
   },
   "kernels_config": {
    "python": {
     "delete_cmd_postfix": "",
     "delete_cmd_prefix": "del ",
     "library": "var_list.py",
     "varRefreshCmd": "print(var_dic_list())"
    },
    "r": {
     "delete_cmd_postfix": ") ",
     "delete_cmd_prefix": "rm(",
     "library": "var_list.r",
     "varRefreshCmd": "cat(var_dic_list()) "
    }
   },
   "types_to_exclude": [
    "module",
    "function",
    "builtin_function_or_method",
    "instance",
    "_Feature"
   ],
   "window_display": false
  }
 },
 "nbformat": 4,
 "nbformat_minor": 2
}
