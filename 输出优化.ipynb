{
 "cells": [
  {
   "cell_type": "code",
   "execution_count": 23,
   "metadata": {},
   "outputs": [],
   "source": [
    "import time\n",
    "from pprint import pprint\n",
    "from prettytable import PrettyTable\n",
    "from colorama import Fore,Back,init\n",
    "import pyprind"
   ]
  },
  {
   "cell_type": "markdown",
   "metadata": {},
   "source": [
    "## pprint\n",
    "> pprint(object, stream=None, indent=1, width=80, depth=None)\n",
    "> #适用于输出json数据"
   ]
  },
  {
   "cell_type": "markdown",
   "metadata": {},
   "source": [
    "## prettytable\n",
    "> PrettyTable(field_names=None, **kwargs)\n",
    "> #输出表格内容\n",
    ">> header：是否输出header\n",
    "\n",
    ">> border：是否输出边界\n",
    "\n",
    ">> sortby\n",
    "\n",
    ">> valign(垂直对齐)：t m b \n",
    "\n",
    ">> align(水平对齐)：l c r \n",
    "\n",
    ">> reversesort - True or False to sort in descending or ascending order"
   ]
  },
  {
   "cell_type": "code",
   "execution_count": 5,
   "metadata": {},
   "outputs": [
    {
     "name": "stdout",
     "output_type": "stream",
     "text": [
      "+-----------+------+------------+-----------------+\n",
      "| City name | Area | Population | Annual Rainfall |\n",
      "+-----------+------+------------+-----------------+\n",
      "|  Adelaide | 1295 |  1158259   |      600.5      |\n",
      "|  Brisbane | 5905 |  1857594   |      1146.4     |\n",
      "|   Darwin  | 112  |   120900   |      1714.7     |\n",
      "+-----------+------+------------+-----------------+\n"
     ]
    }
   ],
   "source": [
    "#逐行添加\n",
    "table = PrettyTable([\"City name\", \"Area\", \"Population\", \"Annual Rainfall\"])\n",
    "table.add_row([\"Adelaide\", 1295, 1158259, 600.5])    \n",
    "table.add_row([\"Brisbane\", 5905, 1857594, 1146.4])\n",
    "table.add_row([\"Darwin\", 112, 120900, 1714.7])\n",
    "table.sort_key(\"City name\")\n",
    "table.reversesort = True\n",
    "print(table)"
   ]
  },
  {
   "cell_type": "code",
   "execution_count": 6,
   "metadata": {},
   "outputs": [
    {
     "name": "stdout",
     "output_type": "stream",
     "text": [
      "+-----------+------+------------+-----------------+\n",
      "| City name | Area | Population | Annual Rainfall |\n",
      "+-----------+------+------------+-----------------+\n",
      "|  Adelaide | 1295 |  1158259   |      600.5      |\n",
      "|  Brisbane | 5905 |  1857594   |      1146.4     |\n",
      "|   Darwin  | 112  |   120900   |      1714.7     |\n",
      "|   Hobart  | 1357 |   205556   |      619.5      |\n",
      "|   Sydney  | 2058 |  4336374   |      1214.8     |\n",
      "+-----------+------+------------+-----------------+\n"
     ]
    }
   ],
   "source": [
    "#逐列添加\n",
    "table = PrettyTable()\n",
    "column_names = [\"City name\", \"Area\", \"Population\", \"Annual Rainfall\"]\n",
    "table.add_column(column_names[0], [\"Adelaide\", \"Brisbane\", \"Darwin\",\"Hobart\", \"Sydney\"])\n",
    "table.add_column(column_names[1], [1295, 5905, 112, 1357, 2058])\n",
    "table.add_column(column_names[2], [1158259, 1857594, 120900, 205556, 4336374])\n",
    "table.add_column(column_names[3], [600.5, 1146.4, 1714.7, 619.5, 1214.8])\n",
    "print(table)"
   ]
  },
  {
   "cell_type": "code",
   "execution_count": 7,
   "metadata": {},
   "outputs": [],
   "source": [
    "#从已有文件创建\n",
    "from prettytable import from_csv\n",
    "with open(\"data.csv\", \"r\") as f:\n",
    "    x = from_csv(fp)"
   ]
  },
  {
   "cell_type": "code",
   "execution_count": null,
   "metadata": {},
   "outputs": [],
   "source": [
    "#输出形式\n",
    "##直接输出\n",
    "print(table)\n",
    "\n",
    "##无表格框输出\n",
    "print(table.get_string())\n",
    "\n",
    "##选择字表\n",
    "print(table.get_string(fields=[\"City name\",\"Area\"]))\n",
    "\n",
    "##输出前4列\n",
    "print(table.get_string(start=0,end=3))\n",
    "\n",
    "##表格排序\n",
    "print(table.get_string(sortby=\"City name\",reversesort=True)"
   ]
  },
  {
   "cell_type": "markdown",
   "metadata": {},
   "source": [
    "## colorama\n",
    "控制台输出字体为彩色"
   ]
  },
  {
   "cell_type": "code",
   "execution_count": null,
   "metadata": {},
   "outputs": [],
   "source": [
    "init(autoreset=True)   \n",
    "#让变色效果只对当前输出起作用，输出完成后颜色恢复默认设置\n",
    "\n",
    "print(Fore.GREEN+\"aaa\")\n",
    "print(Back.CYAN+\"bbb\")"
   ]
  },
  {
   "cell_type": "markdown",
   "metadata": {},
   "source": [
    "## pyprind\n",
    "提供了一个进度条和一个百分比指示器对象，允许跟踪循环结构或其他迭代计算的进度\n",
    "\n",
    "典型的应用程序包括处理大数据集，以便在运行时对计算的进展提供直观的估计\n",
    "\n",
    "> prog_bar()：进度条指标\n",
    "\n",
    "> prog_percent()：百分比指标"
   ]
  },
  {
   "cell_type": "code",
   "execution_count": 24,
   "metadata": {},
   "outputs": [
    {
     "name": "stderr",
     "output_type": "stream",
     "text": [
      "0% [####################] 100% | ETA: 00:00:00\n",
      "Total time elapsed: 00:00:04\n"
     ]
    }
   ],
   "source": [
    "for progress in pyprind.prog_bar(range(20)):\n",
    "    time.sleep(0.2)"
   ]
  },
  {
   "cell_type": "code",
   "execution_count": 25,
   "metadata": {},
   "outputs": [
    {
     "name": "stderr",
     "output_type": "stream",
     "text": [
      "[100 %] Time elapsed: 00:00:04 | ETA: 00:00:00\n",
      "Total time elapsed: 00:00:04\n"
     ]
    }
   ],
   "source": [
    "for progress in pyprind.prog_percent(range(20)):\n",
    "    time.sleep(0.2)"
   ]
  },
  {
   "cell_type": "code",
   "execution_count": null,
   "metadata": {},
   "outputs": [],
   "source": [
    "#更改进度条显示符号\n",
    "bar = pyprind.ProgBar(30,monitor=True,title=\"job01\",bar_char=\"-\")  "
   ]
  }
 ],
 "metadata": {
  "kernelspec": {
   "display_name": "Python 3",
   "language": "python",
   "name": "python3"
  },
  "language_info": {
   "codemirror_mode": {
    "name": "ipython",
    "version": 3
   },
   "file_extension": ".py",
   "mimetype": "text/x-python",
   "name": "python",
   "nbconvert_exporter": "python",
   "pygments_lexer": "ipython3",
   "version": "3.5.4"
  },
  "varInspector": {
   "cols": {
    "lenName": 16,
    "lenType": 16,
    "lenVar": 40
   },
   "kernels_config": {
    "python": {
     "delete_cmd_postfix": "",
     "delete_cmd_prefix": "del ",
     "library": "var_list.py",
     "varRefreshCmd": "print(var_dic_list())"
    },
    "r": {
     "delete_cmd_postfix": ") ",
     "delete_cmd_prefix": "rm(",
     "library": "var_list.r",
     "varRefreshCmd": "cat(var_dic_list()) "
    }
   },
   "types_to_exclude": [
    "module",
    "function",
    "builtin_function_or_method",
    "instance",
    "_Feature"
   ],
   "window_display": false
  }
 },
 "nbformat": 4,
 "nbformat_minor": 2
}
