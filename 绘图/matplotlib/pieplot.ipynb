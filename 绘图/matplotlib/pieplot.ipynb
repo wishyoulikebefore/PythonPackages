{
 "cells": [
  {
   "cell_type": "code",
   "execution_count": 1,
   "metadata": {
    "ExecuteTime": {
     "end_time": "2018-12-31T02:24:59.540628Z",
     "start_time": "2018-12-31T02:24:59.151868Z"
    }
   },
   "outputs": [],
   "source": [
    "import matplotlib.pyplot as plt"
   ]
  },
  {
   "cell_type": "markdown",
   "metadata": {},
   "source": [
    "pie(x, explode=None, labels=None, colors=None, autopct=None, pctdistance=0.6, shadow=False, labeldistance=1.1, startangle=None, radius=None, counterclock=True, wedgeprops=None, textprops=None, center=(0, 0), frame=False, hold=None, data=None)\n",
    "> explode：指定某部分如同楔子抽出的距离大小\n",
    "\n",
    "> aotopct：数字的表示方式\n",
    "\n",
    "> pctdistance：文本起始到圆心距离的比例"
   ]
  },
  {
   "cell_type": "code",
   "execution_count": 2,
   "metadata": {
    "ExecuteTime": {
     "end_time": "2018-12-31T02:25:01.892606Z",
     "start_time": "2018-12-31T02:25:01.700620Z"
    }
   },
   "outputs": [
    {
     "data": {
      "text/plain": [
       "([<matplotlib.patches.Wedge at 0x14740b20e10>,\n",
       "  <matplotlib.patches.Wedge at 0x14740b2a7f0>,\n",
       "  <matplotlib.patches.Wedge at 0x14740b341d0>,\n",
       "  <matplotlib.patches.Wedge at 0x14740b34b70>],\n",
       " [Text(-0.4993895680663527, 0.9801071672559598, 'Frogs'),\n",
       "  Text(-1.1412677917792124, -0.3708204787324995, 'Hogs'),\n",
       "  Text(0.9801072140121813, -0.4993894763020948, 'Dogs'),\n",
       "  Text(0.33991864973549485, 1.0461621822461364, 'Logs')],\n",
       " [Text(-0.2723943098543742, 0.5346039094123416, '15.0%'),\n",
       "  Text(-0.6657395452045406, -0.2163119459272914, '30.0%'),\n",
       "  Text(0.5346039349157352, -0.27239425980114257, '45.0%'),\n",
       "  Text(0.1854101725829972, 0.5706339175888016, '10.0%')])"
      ]
     },
     "execution_count": 2,
     "metadata": {},
     "output_type": "execute_result"
    },
    {
     "data": {
      "text/plain": [
       "(-1.2142507666786346,\n",
       " 1.134711077927507,\n",
       " -1.1258468317413044,\n",
       " 1.101230806657754)"
      ]
     },
     "execution_count": 2,
     "metadata": {},
     "output_type": "execute_result"
    },
    {
     "data": {
      "image/png": "[encoded data removed]",
      "text/plain": [
       "<Figure size 432x288 with 1 Axes>"
      ]
     },
     "metadata": {},
     "output_type": "display_data"
    }
   ],
   "source": [
    "labels = ['Frogs', 'Hogs', 'Dogs', 'Logs']\n",
    "sizes = [15, 30, 45, 10]\n",
    "explode = [0, 0.1, 0, 0]\n",
    "\n",
    "fig1, ax1 = plt.subplots()\n",
    "ax1.pie(sizes, explode=explode, labels=labels, autopct='%1.1f%%',shadow=True, startangle=90)\n",
    "ax1.axis('equal')      #调整画布长宽均匀，使饼状图更像圆\n",
    "\n",
    "plt.show()"
   ]
  }
 ],
 "metadata": {
  "kernelspec": {
   "display_name": "Python 3",
   "language": "python",
   "name": "python3"
  },
  "language_info": {
   "codemirror_mode": {
    "name": "ipython",
    "version": 3
   },
   "file_extension": ".py",
   "mimetype": "text/x-python",
   "name": "python",
   "nbconvert_exporter": "python",
   "pygments_lexer": "ipython3",
   "version": "3.5.4"
  },
  "toc": {
   "base_numbering": 1,
   "nav_menu": {},
   "number_sections": true,
   "sideBar": true,
   "skip_h1_title": false,
   "title_cell": "Table of Contents",
   "title_sidebar": "Contents",
   "toc_cell": false,
   "toc_position": {},
   "toc_section_display": true,
   "toc_window_display": false
  },
  "varInspector": {
   "cols": {
    "lenName": 16,
    "lenType": 16,
    "lenVar": 40
   },
   "kernels_config": {
    "python": {
     "delete_cmd_postfix": "",
     "delete_cmd_prefix": "del ",
     "library": "var_list.py",
     "varRefreshCmd": "print(var_dic_list())"
    },
    "r": {
     "delete_cmd_postfix": ") ",
     "delete_cmd_prefix": "rm(",
     "library": "var_list.r",
     "varRefreshCmd": "cat(var_dic_list()) "
    }
   },
   "types_to_exclude": [
    "module",
    "function",
    "builtin_function_or_method",
    "instance",
    "_Feature"
   ],
   "window_display": false
  }
 },
 "nbformat": 4,
 "nbformat_minor": 2
}
