{
 "cells": [
  {
   "cell_type": "markdown",
   "metadata": {},
   "source": [
    "# heatmap\n",
    "> 利用pcolor创建伪彩色图\n",
    "\n",
    "> 根据栅格颜色确定label颜色"
   ]
  },
  {
   "cell_type": "code",
   "execution_count": 1,
   "metadata": {
    "ExecuteTime": {
     "end_time": "2018-12-31T09:35:12.827550Z",
     "start_time": "2018-12-31T09:35:12.808561Z"
    }
   },
   "outputs": [],
   "source": [
    "def heatmap(values, xlabel, ylabel, xticklabels, yticklabels, cmap=None,\n",
    "            vmin=None, vmax=None, ax=None, fmt=\"%0.2f\"):\n",
    "    if ax is None:\n",
    "        ax = plt.gca()\n",
    "    img = ax.pcolor(values, cmap=cmap, vmin=vmin, vmax=vmax)  #创建伪彩色图\n",
    "    img.update_scalarmappable()\n",
    "    ax.set_xlabel(xlabel)\n",
    "    ax.set_ylabel(ylabel)\n",
    "    ax.set_xticks(np.arange(len(xticklabels)) + .5)\n",
    "    ax.set_yticks(np.arange(len(yticklabels)) + .5)\n",
    "    ax.set_xticklabels(xticklabels)\n",
    "    ax.set_yticklabels(yticklabels)\n",
    "    ax.set_aspect(1)   #the ratio of y-unit to x-unit\n",
    "\n",
    "    \"\"\"\n",
    "    根据格子颜色，改变anno的颜色\n",
    "    get_paths()获得栅格角坐标\n",
    "    get_facecolors()获得颜色\n",
    "    get_array()获得对应值\n",
    "    \"\"\"\n",
    "    for p, color, value in zip(img.get_paths(), img.get_facecolors(),\n",
    "                               img.get_array()):\n",
    "        x, y = p.vertices[:-2, :].mean(0)    #前四个坐标为四个边角的坐标，后两个是左下角坐标\n",
    "        if np.mean(color[:3]) > 0.5:\n",
    "            c = 'k'\n",
    "        else:\n",
    "            c = 'w'\n",
    "        ax.text(x, y, fmt % value, color=c, ha=\"center\", va=\"center\")\n",
    "    return img"
   ]
  },
  {
   "cell_type": "raw",
   "metadata": {},
   "source": [
    "matplotlib.axes.Axes.pcolormesh()：创造非规则矩形网格的伪彩色图，比pcolor速度更快\n",
    "> 可用于自定义cmap"
   ]
  },
  {
   "cell_type": "code",
   "execution_count": 3,
   "metadata": {
    "ExecuteTime": {
     "end_time": "2018-12-31T09:36:37.185786Z",
     "start_time": "2018-12-31T09:36:37.022124Z"
    }
   },
   "outputs": [
    {
     "data": {
      "text/plain": [
       "[<matplotlib.axis.XTick at 0x23edcf08d30>,\n",
       " <matplotlib.axis.XTick at 0x23edcf08710>,\n",
       " <matplotlib.axis.XTick at 0x23edcf085c0>]"
      ]
     },
     "execution_count": 3,
     "metadata": {},
     "output_type": "execute_result"
    },
    {
     "data": {
      "text/plain": [
       "[Text(0, 0, '0'), Text(0, 0, '0.5'), Text(0, 0, '1')]"
      ]
     },
     "execution_count": 3,
     "metadata": {},
     "output_type": "execute_result"
    },
    {
     "data": {
      "text/plain": [
       "[]"
      ]
     },
     "execution_count": 3,
     "metadata": {},
     "output_type": "execute_result"
    },
    {
     "data": {
      "text/plain": [
       "[]"
      ]
     },
     "execution_count": 3,
     "metadata": {},
     "output_type": "execute_result"
    },
    {
     "data": {
      "text/plain": [
       "<matplotlib.image.AxesImage at 0x23edcf16ba8>"
      ]
     },
     "execution_count": 3,
     "metadata": {},
     "output_type": "execute_result"
    },
    {
     "data": {
      "image/png": "[encoded data removed]",
      "text/plain": [
       "<Figure size 648x144 with 1 Axes>"
      ]
     },
     "metadata": {
      "needs_background": "light"
     },
     "output_type": "display_data"
    }
   ],
   "source": [
    "import numpy as np\n",
    "import matplotlib.pyplot as plt\n",
    "from matplotlib.colors import LinearSegmentedColormap\n",
    "\n",
    "# Create custom colormaps\n",
    "cdict = {'red': ((0.0, 1.0, 1.0),   # Full red at the first stop\n",
    "                 (0.5, 0.0, 0.0),   # No red at second stop\n",
    "                 (1.0, 1.0, 1.0)),  # Full red at final stop\n",
    "        #\n",
    "        'green': ((0.0, 0.0, 0.0),  # No green at all stop\n",
    "                 (0.5, 0.0, 0.0),   # \n",
    "                 (1.0, 0.0, 0.0)),  # \n",
    "        #\n",
    "        'blue': ((0.0, 0.0, 0.0),   # No blue at first stop\n",
    "                 (0.5, 1.0, 1.0),   # Full blue at second stop\n",
    "                 (1.0, 0.0, 0.0))}  # No blue at final stop\n",
    "\n",
    "cmap = LinearSegmentedColormap('Rd_Bl_Rd', cdict, 256)\n",
    "im = np.outer(np.ones(10), np.linspace(0, 255, 256))\n",
    "fig = plt.figure(figsize=(9, 2))\n",
    "ax = fig.add_subplot('111')\n",
    "ax.set_xticks(np.linspace(0, 255, 3))\n",
    "ax.set_xticklabels([0, 0.5, 1])\n",
    "ax.set_yticks([])\n",
    "ax.set_yticklabels([])\n",
    "ax.imshow(im, interpolation='nearest', cmap=cmap)\n",
    "\n",
    "plt.show()"
   ]
  },
  {
   "cell_type": "markdown",
   "metadata": {},
   "source": [
    "# scatter\n",
    "> 利用plot逐一添加点"
   ]
  },
  {
   "cell_type": "code",
   "execution_count": 4,
   "metadata": {
    "ExecuteTime": {
     "end_time": "2018-12-31T09:38:14.461526Z",
     "start_time": "2018-12-31T09:38:14.436534Z"
    }
   },
   "outputs": [],
   "source": [
    "def discrete_scatter(x1, x2, y=None, markers=None, s=10, ax=None,\n",
    "                     labels=None, padding=.2, alpha=1, c=None, markeredgewidth=None):\n",
    "\n",
    "    #对于缺少参数的处理\n",
    "    if ax is None:\n",
    "        ax = plt.gca()\n",
    "\n",
    "    if y is None:    #未指定分类\n",
    "        y = np.zeros(len(x1))\n",
    "\n",
    "    unique_y = np.unique(y)\n",
    "\n",
    "    if markers is None:    #未指定marker\n",
    "        markers = ['o', '^', 'v', 'D', 's', '*', 'p', 'h', 'H', '8', '<', '>'] \n",
    "\n",
    "    if len(markers) == 1:   #只指定了1个marker\n",
    "        markers = markers * len(unique_y)\n",
    "\n",
    "    if labels is None:\n",
    "        labels = unique_y\n",
    "\n",
    "    # lines in the matplotlib sense, not actual lines\n",
    "    lines = []\n",
    "\n",
    "    current_cycler = mpl.rcParams['axes.prop_cycle']    #更改默认属性中的颜色循环\n",
    "\n",
    "    for i, (yy, cycle) in enumerate(zip(unique_y, current_cycler())):\n",
    "        mask = y == yy      #mask = (y == yy)    y为array，所以返回Boolean array\n",
    "        # if c is none, use color cycle\n",
    "        if c is None:\n",
    "            color = cycle['color']\n",
    "        elif len(c) > 1:\n",
    "            color = c[i]\n",
    "        else:\n",
    "            color = c\n",
    "        # use light edge for dark markers\n",
    "        if np.mean(colorConverter.to_rgb(color)) < .4:\n",
    "            markeredgecolor = \"grey\"\n",
    "        else:\n",
    "            markeredgecolor = \"black\"\n",
    "\n",
    "        lines.append(ax.plot(x1[mask], x2[mask], markers[i], markersize=s,\n",
    "                             label=labels[i], alpha=alpha, c=color,\n",
    "                             markeredgewidth=markeredgewidth,\n",
    "                             markeredgecolor=markeredgecolor))\n",
    "\n",
    "    if padding != 0:\n",
    "        pad1 = x1.std() * padding\n",
    "        pad2 = x2.std() * padding\n",
    "        xlim = ax.get_xlim()\n",
    "        ylim = ax.get_ylim()\n",
    "        ax.set_xlim(min(x1.min() - pad1, xlim[0]), max(x1.max() + pad1, xlim[1]))\n",
    "        ax.set_ylim(min(x2.min() - pad2, ylim[0]), max(x2.max() + pad2, ylim[1]))\n",
    "\n",
    "    return lines"
   ]
  }
 ],
 "metadata": {
  "kernelspec": {
   "display_name": "Python 3",
   "language": "python",
   "name": "python3"
  },
  "language_info": {
   "codemirror_mode": {
    "name": "ipython",
    "version": 3
   },
   "file_extension": ".py",
   "mimetype": "text/x-python",
   "name": "python",
   "nbconvert_exporter": "python",
   "pygments_lexer": "ipython3",
   "version": "3.5.4"
  },
  "toc": {
   "base_numbering": 1,
   "nav_menu": {},
   "number_sections": true,
   "sideBar": true,
   "skip_h1_title": false,
   "title_cell": "Table of Contents",
   "title_sidebar": "Contents",
   "toc_cell": false,
   "toc_position": {},
   "toc_section_display": true,
   "toc_window_display": false
  },
  "varInspector": {
   "cols": {
    "lenName": 16,
    "lenType": 16,
    "lenVar": 40
   },
   "kernels_config": {
    "python": {
     "delete_cmd_postfix": "",
     "delete_cmd_prefix": "del ",
     "library": "var_list.py",
     "varRefreshCmd": "print(var_dic_list())"
    },
    "r": {
     "delete_cmd_postfix": ") ",
     "delete_cmd_prefix": "rm(",
     "library": "var_list.r",
     "varRefreshCmd": "cat(var_dic_list()) "
    }
   },
   "types_to_exclude": [
    "module",
    "function",
    "builtin_function_or_method",
    "instance",
    "_Feature"
   ],
   "window_display": false
  }
 },
 "nbformat": 4,
 "nbformat_minor": 2
}
