{
 "cells": [
  {
   "cell_type": "code",
   "execution_count": 1,
   "metadata": {
    "ExecuteTime": {
     "end_time": "2018-11-20T14:07:08.187278Z",
     "start_time": "2018-11-20T14:07:08.181278Z"
    }
   },
   "outputs": [],
   "source": [
    "from pymongo import MongoClient"
   ]
  },
  {
   "cell_type": "markdown",
   "metadata": {},
   "source": [
    "mongodb是一个轻量级的数据库\n",
    "\n",
    "数据格式为JSON风格"
   ]
  },
  {
   "cell_type": "markdown",
   "metadata": {},
   "source": [
    "## 连接到mongodb数据库 "
   ]
  },
  {
   "cell_type": "code",
   "execution_count": 2,
   "metadata": {
    "ExecuteTime": {
     "end_time": "2018-11-20T14:12:12.425003Z",
     "start_time": "2018-11-20T14:12:12.403016Z"
    }
   },
   "outputs": [],
   "source": [
    "#默认连接本地数据库\n",
    "client = MongoClient()    "
   ]
  },
  {
   "cell_type": "markdown",
   "metadata": {},
   "source": [
    "## 创建数据库"
   ]
  },
  {
   "cell_type": "code",
   "execution_count": 3,
   "metadata": {
    "ExecuteTime": {
     "end_time": "2018-11-20T14:12:53.166406Z",
     "start_time": "2018-11-20T14:12:53.160411Z"
    }
   },
   "outputs": [],
   "source": [
    "db = client['test_database']"
   ]
  },
  {
   "cell_type": "markdown",
   "metadata": {},
   "source": [
    "### 查看数据库\n",
    "> client.database_names()"
   ]
  },
  {
   "cell_type": "markdown",
   "metadata": {},
   "source": [
    "###  删除数据库\n",
    "> client.drop_database()"
   ]
  },
  {
   "cell_type": "markdown",
   "metadata": {},
   "source": [
    "## 从数据库中选择集合"
   ]
  },
  {
   "cell_type": "code",
   "execution_count": 4,
   "metadata": {
    "ExecuteTime": {
     "end_time": "2018-11-20T14:14:45.299788Z",
     "start_time": "2018-11-20T14:14:45.295791Z"
    }
   },
   "outputs": [],
   "source": [
    "collection = db['test_collection']"
   ]
  },
  {
   "cell_type": "markdown",
   "metadata": {},
   "source": [
    "### 查看下面的集合\n",
    "> db.collection_names()"
   ]
  },
  {
   "cell_type": "markdown",
   "metadata": {},
   "source": [
    "## 操作符\n",
    "\n",
    "### 第一部分\n",
    "> $set：替换某个field的值     \n",
    "\n",
    "> $unset：取消某个field       \n",
    "\n",
    "> $addToSet：插入值至array\n",
    "\n",
    "> $inc：+1\n",
    "\n",
    "> $mul：乘\n",
    "\n",
    "> $rename：重命名     \t\t \n",
    "\n",
    "> $min：指定值比存在值小则更新\n",
    "\n",
    "> $max                 "
   ]
  },
  {
   "cell_type": "markdown",
   "metadata": {},
   "source": [
    "### 第二部分\n",
    "\n",
    "> \\$lt：小于\n",
    ">> {'age': {'$lt': 20}}\n",
    "\n",
    "> \\$gt：大于\n",
    ">> {'age': {'$gt': 20}}\n",
    "\n",
    "> \\$lte：小于等于\n",
    ">> {'age': {'$lte': 20}}\n",
    "\n",
    "> \\$gte：大于等于\n",
    ">> {'age': {'$gte': 20}}\n",
    "\n",
    "> \\$ne：不等于\n",
    ">> {'age': {'$ne': 20}}\n",
    "\n",
    "> \\$in：在范围内\n",
    ">> {'age': {'$in': [20, 23]}}\n",
    "\n",
    "> \\$nin：不在范围内\n",
    ">> {'age': {'$nin': [20, 23]}}"
   ]
  },
  {
   "cell_type": "markdown",
   "metadata": {},
   "source": [
    "### 第三部分\n",
    "> \\$regex匹配正则\n",
    ">> {\"name\": {\"$regex\": \"^M.*\"}}\n",
    "\n",
    "> \\$exists属性是否存在\n",
    ">> {\"name\": {\"$exists\": True}}   \n",
    ">> #判断name属性存在\n",
    "\n",
    "> \\$type类型判断\n",
    ">> {\"age\": {\"$type\": \"int\"}}\n",
    ">> #判断age的类型为int\n",
    "\n",
    "> \\$mod数字模操作\n",
    ">> {\"age\": {\"$mod\": [5, 0]}}\n",
    ">> #判断年龄模5余0\n",
    "\n",
    "> \\$text文本查询\n",
    ">> {\"$text\": {\"$search\": \"Mike\"}}\n",
    "\n",
    "> \\$where高级条件查询\n",
    ">> {\"$where\": \"obj.fans_count == obj.follows_count\"} "
   ]
  },
  {
   "cell_type": "markdown",
   "metadata": {},
   "source": [
    "## 插入数据\n",
    "> 插入单条数据：insert_one(document)\n",
    ">> collection.insert_one({“x”:1})\n",
    "\n",
    "> 插入多条数据：insert_many(documents)\n",
    ">> collection.insert_many([{“x”:1} for I in range(2)])"
   ]
  },
  {
   "cell_type": "markdown",
   "metadata": {},
   "source": [
    "## 查询数据\n",
    "> 查询单条数据：find_one()\n",
    ">> collection.find_one({'主题页面': href})\n",
    "\n",
    "> 查询多条数据：find()\n",
    ">> collection.find({'age': {'$gt': 20}})\n",
    "\n",
    ">> collection.find() - 查看所有数据 \n",
    "\n",
    "> 查询并操作，返回对应内容\n",
    ">> find_one_and_delete(filter, projection=None, sort=None)\n",
    ">>> collection.find_one_and_delete({\"x\":1})\n",
    "\n",
    ">> find_one_and_replace(filter, replacement, projection=None, sort=None)\n",
    ">>> collection. find_one_and_replace({\"x\": 1}, {\"y\": 1})\n",
    "\n",
    ">> find_one_and_update(filter, update, projection=None, sort=None)\n",
    ">>> collection. find_one_and_update({\"_id\": 665}, {\"\\\\$inc\": {\"count\": 1}, '$set': {\"done\": True}})\n",
    "\n",
    "无论是否查询到，find()返回值均不为F"
   ]
  },
  {
   "cell_type": "markdown",
   "metadata": {},
   "source": [
    "## 替换数据\n",
    "> replace_one(filter, replacement, upsert=False) \n",
    ">> collection.replace_one({“x”:1},{“y”:1})\n",
    ">> #upsert=True ：若匹配文档不存在，则插入新的"
   ]
  },
  {
   "cell_type": "markdown",
   "metadata": {},
   "source": [
    "## 删除数据\n",
    "> 删除单条数据\n",
    ">> delete_one()\n",
    "\n",
    "> 删除多条数据\n",
    ">> delete_many()\n",
    "\n",
    "> 删除集合\n",
    ">> collection.drop()\n",
    "\n",
    "> 删除集合里所有记录\n",
    ">> collection.remove()"
   ]
  },
  {
   "cell_type": "markdown",
   "metadata": {},
   "source": [
    "## 更新数据\n",
    "> 更新单条数据：update_one(filter, update, upsert=False)\n",
    ">> collection.update_one({'x': 1}, {'$inc': {'x': 3}})\n",
    "\n",
    "> 更新多条数据：update_many(filter, update, upsert=False)\n",
    ">> collection.update_many({'x': 1}, {'$inc': {'x': 3}})\n",
    ">> #可以通过collection.update_many({}, {condition})跳过筛选条件"
   ]
  },
  {
   "cell_type": "markdown",
   "metadata": {},
   "source": [
    "## 其它\n",
    "> 计数：count()\n",
    ">> collection.find({\"author\": \"Mike\"}).count()\n",
    "\n",
    "> 排序：sort()\n",
    "> #1为升序排列, -1为降序排列；或者使用pymongo.ASCENDING\n",
    ">> collection.find().sort({\"likes\":-1})\n",
    "\n",
    ">>collection.find().sort(\"likes”, pymongo.ASCENDING)\n",
    "\n",
    "> 偏倚\n",
    ">> skip()：指定忽略的个数\n",
    ">>> collection.find().sort('name', pymongo.ASCENDING).skip(2)\n",
    ">>> #skip(2)为忽略前2个元素，得到第三个及以后的元素\n",
    "\n",
    ">> limit()：指定选取的个数\n",
    ">>> collection.find().sort('name', pymongo.ASCENDING).skip(2).limit(2)\n",
    "\n",
    "> 索引：createIndex()\n",
    "> #能够极大的提高查询的效率,升序降序同sort（）\n",
    ">> collection.createIndex({“title”:1})                \n",
    ">> #单索引\n",
    "\n",
    ">> collection.createIndex({“title”:1,“description”:-1})    \t\n",
    ">> #多索引\n",
    "\n",
    "> 寻找key的特异值\n",
    ">> distinct(key, filter=None, **kwargs)"
   ]
  },
  {
   "cell_type": "markdown",
   "metadata": {},
   "source": [
    "## 对数组进行操作\n",
    "> \\$all：判断数组属性是否包含全部条件\n",
    ">> collection.find({\"data\":{\"\\\\$all\":[2,3,4]}})\n",
    "\n",
    "> \\$size：匹配数组属性元素数量\n",
    ">> collection.find({\"data\":{\"\\\\$size\":3}})\n",
    "\n",
    "> \\$type：判断属性\n",
    ">> collection.find({\"t\":{\"\\\\$type\":1}})\n",
    ">> #其中1：数字，2：字符串，4：array，8：boolean\n",
    "\n",
    "> \\$each：添加多个元素\n",
    ">> collection.update_many({\"name\":\"user2\",{\"\\\\$addToSet\":{\"data\":{\"\\\\$each\":[1,2,3,4]}}}})\n",
    "\n",
    "> \\\\$push 和 \\$pushAll：向数组添加元素\n",
    "> #而$addToSet仅在该元素不存在时才添加\n",
    "\n",
    "> \\$pop：移除数组属性的元素(数组下标)\n",
    ">> collection.update_many({\"name\":\"user2\",{\"\\\\$pop\":{\"data\":1}})\n",
    ">> #其中1：移除最后一个元素; -1：移除第一个元素\n",
    "\n",
    "> \\$pull：按值移除\n",
    ">> collection.update_many({\"name\":\"user2\",{\"\\\\$pull\":{\"data\":2}})\n",
    "\n",
    "> \\$pullAll：移除所有符合提交的元素\n",
    ">> collection.update_many({\"name\":\"user2\",{\"\\\\$pullAll\":{\"data\":[3,5,6]}})"
   ]
  },
  {
   "cell_type": "markdown",
   "metadata": {},
   "source": [
    "## 示例 "
   ]
  },
  {
   "cell_type": "markdown",
   "metadata": {},
   "source": [
    "StockConceptMongo()运用以下功能：\n",
    ">  \"$pull\":{concept_type:concept}：剔除相关概念\n",
    "\n",
    ">  concept_type:{\"\\$exists\": True}：判断属性是否存在concept_type\n",
    "\n",
    ">  concept_type:{\"\\$all\":[concept]}：判断concept_type中是否包含特定概念\n",
    "\n",
    "> \\\\$set, \\$addToSet"
   ]
  },
  {
   "cell_type": "code",
   "execution_count": null,
   "metadata": {},
   "outputs": [],
   "source": [
    "class StockConceptMongo():\n",
    "\n",
    "    def __init__(self,timeout=300):\n",
    "        self.client = MongoClient()\n",
    "        self.db = self.client[\"stock\"]\n",
    "        self.collection = self.db[\"stockConcept\"]\n",
    "        self.timeout = timeout\n",
    "\n",
    "    def find_one(self,stock_code):\n",
    "        return self.collection.find_one({\"stock_code\":stock_code})\n",
    "\n",
    "    def pull(self,stock_code,concept_type,concept):\n",
    "        self.collection.update({\"stock_code\":stock_code},{\"$pull\":{concept_type:concept}})\n",
    "\n",
    "    def update(self,stock_code,stock_name,concept_type,concept):\n",
    "        #2018-11-12 添加若股票出现新概念，则提醒 -- 还需要添加新概念提醒\n",
    "        if not self.collection.find_one({\"stock_code\": stock_code, concept_type: {\"$exists\": True}}) or \\   \n",
    "                not self.collection.find_one({\"stock_code\":stock_code,concept_type:{\"$all\":[concept]}}):    \n",
    "            print(\"%s出现新概念%s\" %(stock_code,concept))\n",
    "            self.collection.update({\"stock_code\":stock_code},\n",
    "                                   {\"$set\":{\"stock_name\":stock_name},\"$addToSet\":{concept_type:concept}},\n",
    "                                    upsert=True)\n",
    "        else:\n",
    "            pass"
   ]
  },
  {
   "cell_type": "markdown",
   "metadata": {},
   "source": [
    "YesterdayZtMongo运用以下功能：\n",
    "> \"\\$inc\":{\"con_zt_days\":1}：+1\n",
    "\n",
    "> delete_many({\"today\": {\"\\$ne\": self.today}})：删除昨日Zt数据\n",
    "\n",
    "> update_many({\"jqkConcept\":{\"\\$all\":[\"昨日涨停\"]}},{\"\\$pull\":{\"jqkConcept\":\"昨日涨停\"}})：删除昨日Zt概念\n",
    "\n",
    "> sort(\"con_zt_days\",pymongo.DESCENDING)[0][\"con_zt_days\"]：排序"
   ]
  },
  {
   "cell_type": "code",
   "execution_count": null,
   "metadata": {},
   "outputs": [],
   "source": [
    "class YesterdayZtMongo():\n",
    "    \"\"\"\n",
    "    先利用昨日涨停股计算该该概念的今日涨幅\n",
    "    再更新今日涨停股\n",
    "    最后删除昨日涨停股\n",
    "    \"\"\"\n",
    "\n",
    "    def __init__(self,timeout=300):\n",
    "        self.client = MongoClient()\n",
    "        self.db = self.client[\"stock\"]\n",
    "        self.collection = self.db[\"yesterdayZt\"]\n",
    "        self.concept_collection = self.db[\"stockConcept\"]\n",
    "        self.timeout = timeout\n",
    "        self.today = judge_date()\n",
    "\n",
    "    def find_one(self,stock_code):\n",
    "        return self.collection.find_one({\"stock_code\":stock_code})\n",
    "\n",
    "    def delete_one(self,stock_code):\n",
    "        self.collection.delete_one({\"stock_code\":stock_code})\n",
    "\n",
    "    def get_today_ave_pchange(self,df):\n",
    "        stockList= []\n",
    "        for item in self.collection.find():\n",
    "            stockList.append(item[\"stock_code\"])\n",
    "        filter = df.ix[stockList]\n",
    "        aveChange = round(filter[\"changepercent\"].sum()/len(stockList),2)\n",
    "        print(\"昨日涨停的今日涨幅: %s\" % (aveChange))\n",
    "        return aveChange\n",
    "\n",
    "    def update(self,stock_code,stock_name):\n",
    "        if self.db[\"newStock\"].find_one({\"stock_code\":stock_code,\"kb\":False}):\n",
    "            pass\n",
    "        else:\n",
    "            if self.collection.find_one({\"stock_code\":stock_code}):\n",
    "                if self.collection.find_one({\"stock_code\":stock_code})[\"today\"] != self.today:\n",
    "                    self.collection.update({\"stock_code\": stock_code},\n",
    "                                            {\"$set\":{\"stock_name\":stock_name,\"today\":self.today},\"$inc\":{\"con_zt_days\":1}},\n",
    "                                            upsert=True)\n",
    "                con_zt_days = self.collection.find_one({\"stock_code\":stock_code})[\"con_zt_days\"]\n",
    "                print(\"%s %s连续%s天涨停\" %(stock_code,stock_name,con_zt_days))\n",
    "            else:\n",
    "                con_zt_days = max(get_conZt_num(stock_code),1)\n",
    "                self.collection.insert_one({\"stock_code\":stock_code,\"stock_name\":stock_name,\"today\":self.today,\"con_zt_days\":con_zt_days})\n",
    "\n",
    "    def refresh(self):\n",
    "        self.collection.delete_many({\"today\": {\"$ne\": self.today}})\n",
    "\n",
    "    def trasnfer2concept(self):\n",
    "        self.concept_collection.update_many({\"jqkConcept\":{\"$all\":[\"昨日涨停\"]}},{\"$pull\":{\"jqkConcept\":\"昨日涨停\"}})\n",
    "        for item in self.collection.find({\"today\":self.today}):\n",
    "            stock_code = item[\"stock_code\"]\n",
    "            stock_name = item[\"stock_name\"]\n",
    "            self.concept_collection.update({\"stock_code\":stock_code},\n",
    "                                          {\"$set\":{\"stock_name\":stock_name},\"$addToSet\":{\"jqkConcept\":\"昨日涨停\"}},\n",
    "                                           upsert=True)\n",
    "    def get_max_zt_days(self):\n",
    "        return self.collection.find().sort(\"con_zt_days\",pymongo.DESCENDING)[0][\"con_zt_days\"]"
   ]
  }
 ],
 "metadata": {
  "kernelspec": {
   "display_name": "Python 3",
   "language": "python",
   "name": "python3"
  },
  "toc": {
   "base_numbering": 1,
   "nav_menu": {},
   "number_sections": true,
   "sideBar": true,
   "skip_h1_title": false,
   "title_cell": "Table of Contents",
   "title_sidebar": "Contents",
   "toc_cell": false,
   "toc_position": {},
   "toc_section_display": true,
   "toc_window_display": false
  },
  "varInspector": {
   "cols": {
    "lenName": 16,
    "lenType": 16,
    "lenVar": 40
   },
   "kernels_config": {
    "python": {
     "delete_cmd_postfix": "",
     "delete_cmd_prefix": "del ",
     "library": "var_list.py",
     "varRefreshCmd": "print(var_dic_list())"
    },
    "r": {
     "delete_cmd_postfix": ") ",
     "delete_cmd_prefix": "rm(",
     "library": "var_list.r",
     "varRefreshCmd": "cat(var_dic_list()) "
    }
   },
   "types_to_exclude": [
    "module",
    "function",
    "builtin_function_or_method",
    "instance",
    "_Feature"
   ],
   "window_display": false
  }
 },
 "nbformat": 4,
 "nbformat_minor": 2
}
