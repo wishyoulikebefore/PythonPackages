{
 "cells": [
  {
   "cell_type": "markdown",
   "metadata": {},
   "source": [
    "## json数据 "
   ]
  },
  {
   "cell_type": "markdown",
   "metadata": {},
   "source": [
    "### json\n",
    "> loads()：读写json数据\n",
    "\n",
    "> dumps()：输出json数据\n",
    "\n",
    "> load(open(file))：读写json文件\n",
    "\n",
    "> dump(dict,file)：输出json文件\n",
    "\n",
    "> keys()：查看Json数据结构"
   ]
  },
  {
   "cell_type": "markdown",
   "metadata": {},
   "source": [
    "## YAML数据\n",
    "YAML数据结构可以用类似大纲的缩排方式呈现，结构通过缩进来表示，连续的项目通过减号“-”来表示，map结构里面的key/value对用冒号“:”来分隔\n",
    "\n",
    "例如：\n",
    "\n",
    "name: task_markdup\n",
    " \n",
    "type: sample\n",
    " \n",
    "command:\n",
    " \n",
    "    - Picard_MarkDuplicates.sh\n",
    "  \n",
    "prerequisite: task_mapping\n",
    " \n",
    "ncpu: 8\n",
    " \n",
    "#在缩排中空白字符的数目并不是非常重要，只要相同阶层的元素左侧对齐就可以了\n",
    "#在一个档案中，可同时包含多个文件，并用“——”分隔"
   ]
  },
  {
   "cell_type": "markdown",
   "metadata": {},
   "source": [
    "### yaml\n",
    "> load：将yaml格式的字符串转换成Python对象 \n",
    "\n",
    "> dump：将Python对象转换成yaml格式文档"
   ]
  },
  {
   "cell_type": "markdown",
   "metadata": {},
   "source": [
    "## 压缩文件 "
   ]
  },
  {
   "cell_type": "markdown",
   "metadata": {},
   "source": [
    "### gzip\n",
    "> open()"
   ]
  },
  {
   "cell_type": "code",
   "execution_count": 1,
   "metadata": {},
   "outputs": [],
   "source": [
    "def trim_file(R2_file):\n",
    "    with gzip.open(\"trimmed_%s\" %(R2_file),\"a\") as output:\n",
    "        with gzip.open(R2_file) as f:\n",
    "            for nu,line in enumerate(f):\n",
    "                if nu % 4 == 1 or nu % 4 ==3:\n",
    "                    if len(line.strip()) == 300:\n",
    "                        output.write(line[30:])\n",
    "                    else:\n",
    "                        output.write(line)\n",
    "                else:\n",
    "                    output.write(line)\n",
    "        f.close()\n",
    "        print(\"%s已处理完毕\" %(R2_file))"
   ]
  }
 ],
 "metadata": {
  "kernelspec": {
   "display_name": "Python 3",
   "language": "python",
   "name": "python3"
  },
  "language_info": {
   "codemirror_mode": {
    "name": "ipython",
    "version": 3
   },
   "file_extension": ".py",
   "mimetype": "text/x-python",
   "name": "python",
   "nbconvert_exporter": "python",
   "pygments_lexer": "ipython3",
   "version": "3.5.4"
  },
  "varInspector": {
   "cols": {
    "lenName": 16,
    "lenType": 16,
    "lenVar": 40
   },
   "kernels_config": {
    "python": {
     "delete_cmd_postfix": "",
     "delete_cmd_prefix": "del ",
     "library": "var_list.py",
     "varRefreshCmd": "print(var_dic_list())"
    },
    "r": {
     "delete_cmd_postfix": ") ",
     "delete_cmd_prefix": "rm(",
     "library": "var_list.r",
     "varRefreshCmd": "cat(var_dic_list()) "
    }
   },
   "types_to_exclude": [
    "module",
    "function",
    "builtin_function_or_method",
    "instance",
    "_Feature"
   ],
   "window_display": false
  }
 },
 "nbformat": 4,
 "nbformat_minor": 2
}
