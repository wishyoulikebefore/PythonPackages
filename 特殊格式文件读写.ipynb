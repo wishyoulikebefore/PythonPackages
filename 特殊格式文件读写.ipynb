{
 "cells": [
  {
   "cell_type": "markdown",
   "metadata": {},
   "source": [
    "## json数据 "
   ]
  },
  {
   "cell_type": "markdown",
   "metadata": {},
   "source": [
    "### json\n",
    "> loads()：读写json数据\n",
    "\n",
    "> dumps()：输出json数据\n",
    "\n",
    "> load(open(file))：读写json文件\n",
    "\n",
    "> dump(dict,file)：输出json文件\n",
    "\n",
    "> keys()：查看Json数据结构"
   ]
  },
  {
   "cell_type": "markdown",
   "metadata": {},
   "source": [
    "## YAML数据\n",
    "YAML数据结构可以用类似大纲的缩排方式呈现，结构通过缩进来表示，连续的项目通过减号“-”来表示，map结构里面的key/value对用冒号“:”来分隔\n",
    "\n",
    "例如：\n",
    "\n",
    "name: task_markdup\n",
    " \n",
    "type: sample\n",
    " \n",
    "command:\n",
    " \n",
    "    - Picard_MarkDuplicates.sh\n",
    "  \n",
    "prerequisite: task_mapping\n",
    " \n",
    "ncpu: 8\n",
    " \n",
    "#在缩排中空白字符的数目并不是非常重要，只要相同阶层的元素左侧对齐就可以了\n",
    "#在一个档案中，可同时包含多个文件，并用“——”分隔"
   ]
  },
  {
   "cell_type": "markdown",
   "metadata": {},
   "source": [
    "### yaml\n",
    "> load：将yaml格式的字符串转换成Python对象 \n",
    "\n",
    "> dump：将Python对象转换成yaml格式文档"
   ]
  },
  {
   "cell_type": "markdown",
   "metadata": {},
   "source": [
    "## 压缩文件 "
   ]
  },
  {
   "cell_type": "markdown",
   "metadata": {},
   "source": [
    "### gzip\n",
    "> open()"
   ]
  },
  {
   "cell_type": "code",
   "execution_count": 1,
   "metadata": {},
   "outputs": [],
   "source": [
    "def trim_file(R2_file):\n",
    "    with gzip.open(\"trimmed_%s\" %(R2_file),\"a\") as output:\n",
    "        with gzip.open(R2_file) as f:\n",
    "            for nu,line in enumerate(f):\n",
    "                if nu % 4 == 1 or nu % 4 ==3:\n",
    "                    if len(line.strip()) == 300:\n",
    "                        output.write(line[30:])\n",
    "                    else:\n",
    "                        output.write(line)\n",
    "                else:\n",
    "                    output.write(line)\n",
    "        f.close()\n",
    "        print(\"%s已处理完毕\" %(R2_file))"
   ]
  },
  {
   "cell_type": "markdown",
   "metadata": {},
   "source": [
    "## 配置文件（.ini格式）"
   ]
  },
  {
   "cell_type": "code",
   "execution_count": 4,
   "metadata": {
    "ExecuteTime": {
     "end_time": "2018-12-04T11:58:05.198215Z",
     "start_time": "2018-12-04T11:58:05.193217Z"
    }
   },
   "outputs": [],
   "source": [
    "_file = \"\"\"\n",
    "; config.ini\n",
    "; Sample configuration file\n",
    "\n",
    "[installation]\n",
    "library=%(prefix)s/lib\n",
    "include=%(prefix)s/include\n",
    "bin=%(prefix)s/bin\n",
    "prefix=/usr/local\n",
    "\n",
    "# Setting related to debug configuration\n",
    "[debug]\n",
    "log_errors=true\n",
    "show_warnings=False\n",
    "\n",
    "[server]\n",
    "port: 8080\n",
    "nworkers: 32\n",
    "pid-file=/tmp/spam.pid\n",
    "root=/www/root\n",
    "\"\"\""
   ]
  },
  {
   "cell_type": "code",
   "execution_count": 2,
   "metadata": {
    "ExecuteTime": {
     "end_time": "2018-12-04T11:57:24.912556Z",
     "start_time": "2018-12-04T11:57:24.897566Z"
    }
   },
   "outputs": [],
   "source": [
    "from configparser import ConfigParser\n",
    "\n",
    "cfg = ConfigParser()"
   ]
  },
  {
   "cell_type": "code",
   "execution_count": 6,
   "metadata": {
    "ExecuteTime": {
     "end_time": "2018-12-04T12:03:40.736796Z",
     "start_time": "2018-12-04T12:03:40.726801Z"
    }
   },
   "outputs": [
    {
     "data": {
      "text/plain": [
       "['C:/Users/zty/Desktop/config.ini']"
      ]
     },
     "execution_count": 6,
     "metadata": {},
     "output_type": "execute_result"
    }
   ],
   "source": [
    "cfg.read('C:/Users/zty/Desktop/config.ini')"
   ]
  },
  {
   "cell_type": "markdown",
   "metadata": {},
   "source": [
    "### 提取配置"
   ]
  },
  {
   "cell_type": "code",
   "execution_count": 7,
   "metadata": {
    "ExecuteTime": {
     "end_time": "2018-12-04T12:03:46.452544Z",
     "start_time": "2018-12-04T12:03:46.445546Z"
    }
   },
   "outputs": [
    {
     "data": {
      "text/plain": [
       "['installation', 'debug', 'server']"
      ]
     },
     "execution_count": 7,
     "metadata": {},
     "output_type": "execute_result"
    }
   ],
   "source": [
    "cfg.sections()"
   ]
  },
  {
   "cell_type": "code",
   "execution_count": 8,
   "metadata": {
    "ExecuteTime": {
     "end_time": "2018-12-04T12:03:53.341664Z",
     "start_time": "2018-12-04T12:03:53.333666Z"
    }
   },
   "outputs": [
    {
     "data": {
      "text/plain": [
       "'/usr/local/lib'"
      ]
     },
     "execution_count": 8,
     "metadata": {},
     "output_type": "execute_result"
    }
   ],
   "source": [
    "cfg.get('installation','library')"
   ]
  },
  {
   "cell_type": "code",
   "execution_count": 9,
   "metadata": {
    "ExecuteTime": {
     "end_time": "2018-12-04T12:03:56.901031Z",
     "start_time": "2018-12-04T12:03:56.894035Z"
    }
   },
   "outputs": [
    {
     "data": {
      "text/plain": [
       "True"
      ]
     },
     "execution_count": 9,
     "metadata": {},
     "output_type": "execute_result"
    }
   ],
   "source": [
    "cfg.getboolean('debug','log_errors')"
   ]
  },
  {
   "cell_type": "code",
   "execution_count": 10,
   "metadata": {
    "ExecuteTime": {
     "end_time": "2018-12-04T12:04:09.589318Z",
     "start_time": "2018-12-04T12:04:09.582321Z"
    }
   },
   "outputs": [
    {
     "data": {
      "text/plain": [
       "8080"
      ]
     },
     "execution_count": 10,
     "metadata": {},
     "output_type": "execute_result"
    }
   ],
   "source": [
    "cfg.getint('server','port')"
   ]
  },
  {
   "cell_type": "markdown",
   "metadata": {},
   "source": [
    "### 修改配置 "
   ]
  },
  {
   "cell_type": "code",
   "execution_count": 12,
   "metadata": {
    "ExecuteTime": {
     "end_time": "2018-12-04T12:09:02.947942Z",
     "start_time": "2018-12-04T12:09:02.938948Z"
    },
    "scrolled": true
   },
   "outputs": [
    {
     "name": "stdout",
     "output_type": "stream",
     "text": [
      "[installation]\n",
      "library = %(prefix)s/lib\n",
      "include = %(prefix)s/include\n",
      "bin = %(prefix)s/bin\n",
      "prefix = /usr/local\n",
      "\n",
      "[debug]\n",
      "log_errors = true\n",
      "show_warnings = False\n",
      "\n",
      "[server]\n",
      "port = 9000\n",
      "nworkers = 32\n",
      "pid-file = /tmp/spam.pid\n",
      "root = /www/root\n",
      "\n"
     ]
    }
   ],
   "source": [
    "cfg.set('server','port','9000')\n",
    "\n",
    "import sys\n",
    "cfg.write(sys.stdout)"
   ]
  },
  {
   "cell_type": "markdown",
   "metadata": {},
   "source": [
    "### 注意\n",
    "> = 和：等效\n",
    "\n",
    "> 不区分大小写"
   ]
  }
 ],
 "metadata": {
  "kernelspec": {
   "display_name": "Python 3",
   "language": "python",
   "name": "python3"
  },
  "toc": {
   "base_numbering": 1,
   "nav_menu": {},
   "number_sections": true,
   "sideBar": true,
   "skip_h1_title": false,
   "title_cell": "Table of Contents",
   "title_sidebar": "Contents",
   "toc_cell": false,
   "toc_position": {},
   "toc_section_display": true,
   "toc_window_display": true
  },
  "varInspector": {
   "cols": {
    "lenName": 16,
    "lenType": 16,
    "lenVar": 40
   },
   "kernels_config": {
    "python": {
     "delete_cmd_postfix": "",
     "delete_cmd_prefix": "del ",
     "library": "var_list.py",
     "varRefreshCmd": "print(var_dic_list())"
    },
    "r": {
     "delete_cmd_postfix": ") ",
     "delete_cmd_prefix": "rm(",
     "library": "var_list.r",
     "varRefreshCmd": "cat(var_dic_list()) "
    }
   },
   "types_to_exclude": [
    "module",
    "function",
    "builtin_function_or_method",
    "instance",
    "_Feature"
   ],
   "window_display": false
  }
 },
 "nbformat": 4,
 "nbformat_minor": 2
}
