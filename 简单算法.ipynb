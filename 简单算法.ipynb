{
 "cells": [
  {
   "cell_type": "markdown",
   "metadata": {},
   "source": [
    "# functools 增强函数功能"
   ]
  },
  {
   "cell_type": "markdown",
   "metadata": {},
   "source": [
    "partial(func, *args, **keywords)\n",
    "> 创建偏函数：将某些不变的参数冻结，适用于某次使用只需要更改部分参数的情况\n",
    "\n",
    "wraps\n",
    "> 使用装饰器修饰后的函数会丢失元信息（如名字、文档字符串、注解和参数签名），导致在多进程中不可被pickle，而使用wraps充当其装饰器时，可以避免这个问题"
   ]
  },
  {
   "cell_type": "code",
   "execution_count": 4,
   "metadata": {},
   "outputs": [],
   "source": [
    "from functools import partial,wraps"
   ]
  },
  {
   "cell_type": "code",
   "execution_count": 1,
   "metadata": {},
   "outputs": [],
   "source": [
    "def take(n, iterable):\n",
    "    \"\"\"Return first *n* items of the iterable as a list.\n",
    "        >>> take(3, range(10))\n",
    "        [0, 1, 2]\n",
    "    \"\"\"\n",
    "    return list(itertools.islice(iterable, n))\n",
    "\n",
    "def chunked(iterable, n):\n",
    "    \"\"\"Break *iterable* into lists of length *n*:\n",
    "        >>> list(chunked([1, 2, 3, 4, 5, 6], 3))\n",
    "        [[1, 2, 3], [4, 5, 6]]\n",
    "        >>> list(chunked([1, 2, 3, 4, 5, 6, 7, 8], 3))\n",
    "        [[1, 2, 3], [4, 5, 6], [7, 8]]\n",
    "    \"\"\"\n",
    "    return iter(functools.partial(take, n, iter(iterable)), [])  \n",
    "\n",
    "#iter(callable, sentinel) 会持续调用参数callable直至其返回sentinel，因此会使得iter(iterable)不断进行直至抛出错误"
   ]
  },
  {
   "cell_type": "code",
   "execution_count": 2,
   "metadata": {},
   "outputs": [],
   "source": [
    "def my_decorator(func):  \n",
    "    @wraps\n",
    "    def wrapper(*args, **kwargs):  \n",
    "        print('Calling decorated function...')  \n",
    "        return func(*args, **kwargs)  \n",
    "    return wrapper  "
   ]
  },
  {
   "cell_type": "markdown",
   "metadata": {},
   "source": [
    "#  itertools 各种迭代器 "
   ]
  },
  {
   "cell_type": "code",
   "execution_count": 3,
   "metadata": {},
   "outputs": [],
   "source": [
    "import itertools"
   ]
  },
  {
   "cell_type": "markdown",
   "metadata": {},
   "source": [
    "## 无限迭代 \n",
    "count(start=0, step=1) --> start, start+step, start+2 * step, ... \n",
    "> count(10) --> 10 11 12 13 14 ...\n",
    "\n",
    "cycle(p) --> p0, p1, ... plast, p0, p1, ...\n",
    "> cycle('ABCD') --> A B C D A B C D ...\n",
    "\n",
    "repeat(elem [,n]) --> elem, elem, elem, ... endlessly or up to n times\n",
    "> repeat(10, 3) --> 10 10 10"
   ]
  },
  {
   "cell_type": "markdown",
   "metadata": {},
   "source": [
    "## 有限迭代\n",
    "accumulate(p[, func]) --> p0, p0+p1, p0+p1+p2\n",
    "> accumulate([1,2,3,4,5]) --> 1 3 6 10 15\n",
    "\n",
    "chain(p, q, ...) --> p0, p1, ... plast, q0, q1, ... \n",
    "> chain('ABC', 'DEF') --> A B C D E F\n",
    "\n",
    "compress(iterable, Boolean)：输出iterable对象中对应选择器为True的元素\n",
    "\n",
    "dropwhile(pred, seq) --> seq[n], seq[n+1], starting when pred fails"
   ]
  },
  {
   "cell_type": "markdown",
   "metadata": {},
   "source": [
    "### accumulate(p[, func]) \n",
    "> 累加：p0, p0+p1, p0+p1+p2\n",
    "\n",
    "也可以做其它用处"
   ]
  },
  {
   "cell_type": "code",
   "execution_count": 7,
   "metadata": {},
   "outputs": [],
   "source": [
    "def accumulate(iterable, func=operator.add):\n",
    "    it = iter(iterable)\n",
    "    try:\n",
    "        total = next(it)\n",
    "    except StopIteration:\n",
    "        return\n",
    "    yield total\n",
    "    for element in it:\n",
    "        total = func(total, element)\n",
    "        yield total"
   ]
  },
  {
   "cell_type": "code",
   "execution_count": 8,
   "metadata": {},
   "outputs": [
    {
     "data": {
      "text/plain": [
       "[1, 3, 6, 10, 15]"
      ]
     },
     "execution_count": 8,
     "metadata": {},
     "output_type": "execute_result"
    }
   ],
   "source": [
    "_iter = itertools.accumulate([1,2,3,4,5])\n",
    "list(_iter)"
   ]
  },
  {
   "cell_type": "code",
   "execution_count": 9,
   "metadata": {},
   "outputs": [
    {
     "data": {
      "text/plain": [
       "[1, 2, 6, 24, 120]"
      ]
     },
     "execution_count": 9,
     "metadata": {},
     "output_type": "execute_result"
    }
   ],
   "source": [
    "_iter = itertools.accumulate([1,2,3,4,5],operator.mul)\n",
    "list(_iter)"
   ]
  },
  {
   "cell_type": "code",
   "execution_count": 10,
   "metadata": {},
   "outputs": [
    {
     "data": {
      "text/plain": [
       "[1, 2, 3, 4, 5]"
      ]
     },
     "execution_count": 10,
     "metadata": {},
     "output_type": "execute_result"
    }
   ],
   "source": [
    "_iter = itertools.accumulate([1,2,3,4,5],max)\n",
    "list(_iter)"
   ]
  },
  {
   "cell_type": "code",
   "execution_count": 11,
   "metadata": {},
   "outputs": [
    {
     "data": {
      "text/plain": [
       "[1, 4, 11, 26, 57]"
      ]
     },
     "execution_count": 11,
     "metadata": {},
     "output_type": "execute_result"
    }
   ],
   "source": [
    "_iter = itertools.accumulate([1,2,3,4,5],lambda bal, pmt: bal*2 + pmt)\n",
    "list(_iter)"
   ]
  },
  {
   "cell_type": "markdown",
   "metadata": {},
   "source": [
    "### chain(p, q, ...) \n",
    "> 把多个迭代体合并：p0, p1, ... plast, q0, q1, ... "
   ]
  },
  {
   "cell_type": "code",
   "execution_count": 12,
   "metadata": {},
   "outputs": [],
   "source": [
    "def chain(*iterables):\n",
    "    for it in iterables:\n",
    "        for element in it:\n",
    "            yield element"
   ]
  },
  {
   "cell_type": "code",
   "execution_count": 13,
   "metadata": {},
   "outputs": [
    {
     "data": {
      "text/plain": [
       "['A', 'B', 'C', 'D', 'E', 'F']"
      ]
     },
     "execution_count": 13,
     "metadata": {},
     "output_type": "execute_result"
    }
   ],
   "source": [
    "_iter = itertools.chain('ABC', 'DEF')\n",
    "list(_iter)"
   ]
  },
  {
   "cell_type": "markdown",
   "metadata": {},
   "source": [
    "### compress(iterable, Boolean)\n",
    "> 输出iterable对象中对应选择器为True的元素"
   ]
  },
  {
   "cell_type": "code",
   "execution_count": 15,
   "metadata": {},
   "outputs": [
    {
     "data": {
      "text/plain": [
       "['5800 E 58TH', '1060 W ADDISON', '4801 N BROADWAY']"
      ]
     },
     "execution_count": 15,
     "metadata": {},
     "output_type": "execute_result"
    }
   ],
   "source": [
    "addresses = [\n",
    "    '5412 N CLARK',\n",
    "    '5148 N CLARK',\n",
    "    '5800 E 58TH',\n",
    "    '2122 N CLARK',\n",
    "    '5645 N RAVENSWOOD',\n",
    "    '1060 W ADDISON',\n",
    "    '4801 N BROADWAY',\n",
    "    '1039 W GRANVILLE',\n",
    "]\n",
    "_bool = [False, False, True, False, False, True, True, False]\n",
    "_iter = itertools.compress(addresses, _bool)\n",
    "list(_iter)"
   ]
  },
  {
   "cell_type": "markdown",
   "metadata": {},
   "source": [
    "### dropwhile(pred, seq) \n",
    "> 到某处开始：seq[n], seq[n+1], starting when pred fails "
   ]
  },
  {
   "cell_type": "code",
   "execution_count": 16,
   "metadata": {},
   "outputs": [],
   "source": [
    "def dropwhile(predicate, iterable):\n",
    "    iterable = iter(iterable)\n",
    "    for x in iterable:\n",
    "        if not predicate(x):\n",
    "            yield x\n",
    "            break\n",
    "    for x in iterable:\n",
    "        yield x"
   ]
  },
  {
   "cell_type": "code",
   "execution_count": 17,
   "metadata": {},
   "outputs": [
    {
     "data": {
      "text/plain": [
       "[6, 4, 1]"
      ]
     },
     "execution_count": 17,
     "metadata": {},
     "output_type": "execute_result"
    }
   ],
   "source": [
    "_iter = itertools.dropwhile(lambda x: x<5, [1,4,6,4,1])\n",
    "list(_iter)"
   ]
  },
  {
   "cell_type": "markdown",
   "metadata": {},
   "source": [
    "### takewhile(pred, seq) \n",
    "> 到某处停止：seq[0], seq[1], until pred fails "
   ]
  },
  {
   "cell_type": "code",
   "execution_count": 18,
   "metadata": {},
   "outputs": [
    {
     "data": {
      "text/plain": [
       "[1, 4]"
      ]
     },
     "execution_count": 18,
     "metadata": {},
     "output_type": "execute_result"
    }
   ],
   "source": [
    "_iter = itertools.takewhile(lambda x: x<5, [1,4,6,4,1])\n",
    "list(_iter)"
   ]
  },
  {
   "cell_type": "markdown",
   "metadata": {},
   "source": [
    "### filterfalse(pred, seq) \n",
    "> 根据条件筛选：filter elements of seq where pred(elem) is False"
   ]
  },
  {
   "cell_type": "code",
   "execution_count": 19,
   "metadata": {},
   "outputs": [
    {
     "data": {
      "text/plain": [
       "[0, 2, 4, 6, 8]"
      ]
     },
     "execution_count": 19,
     "metadata": {},
     "output_type": "execute_result"
    }
   ],
   "source": [
    "_iter = itertools.filterfalse(lambda x: x%2, range(10)) \n",
    "list(_iter)"
   ]
  },
  {
   "cell_type": "markdown",
   "metadata": {},
   "source": [
    "### islice(seq, [start,] stop [, step]) \n",
    "> 切片：elements from seq[start:stop:step] "
   ]
  },
  {
   "cell_type": "code",
   "execution_count": 20,
   "metadata": {},
   "outputs": [],
   "source": [
    "def islice(iterable, *args):\n",
    "    s = slice(*args)\n",
    "    it = iter(range(s.start or 0, s.stop or sys.maxsize, s.step or 1))\n",
    "    try:\n",
    "        nexti = next(it)\n",
    "    except StopIteration:\n",
    "        return\n",
    "    for i, element in enumerate(iterable):\n",
    "        if i == nexti:\n",
    "            yield element\n",
    "            nexti = next(it)"
   ]
  },
  {
   "cell_type": "code",
   "execution_count": 21,
   "metadata": {},
   "outputs": [
    {
     "data": {
      "text/plain": [
       "['C', 'D', 'E', 'F', 'G']"
      ]
     },
     "execution_count": 21,
     "metadata": {},
     "output_type": "execute_result"
    }
   ],
   "source": [
    "_iter = itertools.islice('ABCDEFG', 2, None) \n",
    "list(_iter)"
   ]
  },
  {
   "cell_type": "markdown",
   "metadata": {},
   "source": [
    "### starmap(fun, seq) \n",
    "> map升级版：fun(*seq[0]), fun(*seq[1]) "
   ]
  },
  {
   "cell_type": "code",
   "execution_count": 22,
   "metadata": {},
   "outputs": [
    {
     "data": {
      "text/plain": [
       "[32, 9, 1000]"
      ]
     },
     "execution_count": 22,
     "metadata": {},
     "output_type": "execute_result"
    }
   ],
   "source": [
    "_iter = itertools.starmap(pow, [(2,5), (3,2), (10,3)])\n",
    "list(_iter)"
   ]
  },
  {
   "cell_type": "markdown",
   "metadata": {},
   "source": [
    "### tee(it, n=2) \n",
    "> 分割迭代器：(it1, it2 , ... itn)"
   ]
  },
  {
   "cell_type": "code",
   "execution_count": 23,
   "metadata": {},
   "outputs": [],
   "source": [
    "def tee(iterable, n=2):\n",
    "    it = iter(iterable)\n",
    "    deques = [collections.deque() for i in range(n)]\n",
    "    def gen(mydeque):\n",
    "        while True:\n",
    "            if not mydeque:             # when the local deque is empty\n",
    "                try:\n",
    "                    newval = next(it)   # fetch a new value and\n",
    "                except StopIteration:\n",
    "                    return\n",
    "                for d in deques:        # load it to all the deques\n",
    "                    d.append(newval)\n",
    "            yield mydeque.popleft()\n",
    "    return tuple(gen(d) for d in deques)"
   ]
  },
  {
   "cell_type": "markdown",
   "metadata": {},
   "source": [
    "### zip_longest(p, q, ...) \n",
    "> 按最长长度zip：(p[0], q[0]), (p[1], q[1]), ...  "
   ]
  },
  {
   "cell_type": "code",
   "execution_count": 24,
   "metadata": {},
   "outputs": [],
   "source": [
    "def zip_longest(*args, **kwds):\n",
    "    # zip_longest('ABCD', 'xy', fillvalue='-') --> Ax By C- D-\n",
    "    fillvalue = kwds.get('fillvalue')\n",
    "    counter = len(args) - 1\n",
    "    def sentinel():\n",
    "        nonlocal counter\n",
    "        if not counter:\n",
    "            raise ZipExhausted\n",
    "        counter -= 1\n",
    "        yield fillvalue\n",
    "    fillers = repeat(fillvalue)\n",
    "    iterators = [chain(it, sentinel(), fillers) for it in args]\n",
    "    try:\n",
    "        while iterators:\n",
    "            yield tuple(map(next, iterators))\n",
    "    except ZipExhausted:\n",
    "        pass"
   ]
  },
  {
   "cell_type": "code",
   "execution_count": 25,
   "metadata": {},
   "outputs": [
    {
     "data": {
      "text/plain": [
       "[('A', 'x'), ('B', 'y'), ('C', '-'), ('D', '-')]"
      ]
     },
     "execution_count": 25,
     "metadata": {},
     "output_type": "execute_result"
    }
   ],
   "source": [
    "_iter = itertools.zip_longest('ABCD', 'xy', fillvalue='-')\n",
    "list(_iter)"
   ]
  },
  {
   "cell_type": "markdown",
   "metadata": {},
   "source": [
    "### 排列组合 \n",
    "> product(p, q, ... [repeat=1])：有放回的排列\n",
    "\n",
    "> permutations(p[, r])：排列\n",
    "\n",
    "> combinations(p, r)：组合\n",
    "\n",
    "> combinations_with_replacement(p, r) ：有放回的组合"
   ]
  },
  {
   "cell_type": "code",
   "execution_count": 26,
   "metadata": {},
   "outputs": [],
   "source": [
    "def permutations(iterable, r=None):\n",
    "    # permutations('ABCD', 2) --> AB AC AD BA BC BD CA CB CD DA DB DC\n",
    "    # permutations(range(3)) --> 012 021 102 120 201 210\n",
    "    pool = tuple(iterable)\n",
    "    n = len(pool)\n",
    "    r = n if r is None else r\n",
    "    if r > n:\n",
    "        return\n",
    "    indices = list(range(n))\n",
    "    cycles = list(range(n, n-r, -1))\n",
    "    yield tuple(pool[i] for i in indices[:r])\n",
    "    while n:\n",
    "        for i in reversed(range(r)):\n",
    "            cycles[i] -= 1\n",
    "            if cycles[i] == 0:\n",
    "                indices[i:] = indices[i+1:] + indices[i:i+1]\n",
    "                cycles[i] = n - i\n",
    "            else:\n",
    "                j = cycles[i]\n",
    "                indices[i], indices[-j] = indices[-j], indices[i]\n",
    "                yield tuple(pool[i] for i in indices[:r])\n",
    "                break\n",
    "        else:\n",
    "            return"
   ]
  },
  {
   "cell_type": "code",
   "execution_count": 27,
   "metadata": {},
   "outputs": [],
   "source": [
    "def combinations(iterable, r):\n",
    "    pool = tuple(iterable)\n",
    "    n = len(pool)\n",
    "    if r > n:\n",
    "        return\n",
    "    indices = list(range(r))\n",
    "    yield tuple(pool[i] for i in indices)\n",
    "    while True:\n",
    "        for i in reversed(range(r)):\n",
    "            if indices[i] != i + n - r:\n",
    "                break\n",
    "        else:\n",
    "            return\n",
    "        indices[i] += 1\n",
    "        for j in range(i+1, r):\n",
    "            indices[j] = indices[j-1] + 1\n",
    "        yield tuple(pool[i] for i in indices)"
   ]
  },
  {
   "cell_type": "code",
   "execution_count": 28,
   "metadata": {},
   "outputs": [],
   "source": [
    "def combinations_with_replacement(iterable, r):\n",
    "    pool = tuple(iterable)\n",
    "    n = len(pool)\n",
    "    if not n and r:\n",
    "        return\n",
    "    indices = [0] * r\n",
    "    yield tuple(pool[i] for i in indices)\n",
    "    while True:\n",
    "        for i in reversed(range(r)):\n",
    "            if indices[i] != n - 1:\n",
    "                break\n",
    "        else:\n",
    "            return\n",
    "        indices[i:] = [indices[i] + 1] * (r - i)\n",
    "        yield tuple(pool[i] for i in indices)"
   ]
  },
  {
   "cell_type": "code",
   "execution_count": 29,
   "metadata": {},
   "outputs": [
    {
     "data": {
      "text/plain": [
       "[('A', 'A'),\n",
       " ('A', 'B'),\n",
       " ('A', 'C'),\n",
       " ('A', 'D'),\n",
       " ('B', 'A'),\n",
       " ('B', 'B'),\n",
       " ('B', 'C'),\n",
       " ('B', 'D'),\n",
       " ('C', 'A'),\n",
       " ('C', 'B'),\n",
       " ('C', 'C'),\n",
       " ('C', 'D'),\n",
       " ('D', 'A'),\n",
       " ('D', 'B'),\n",
       " ('D', 'C'),\n",
       " ('D', 'D')]"
      ]
     },
     "execution_count": 29,
     "metadata": {},
     "output_type": "execute_result"
    }
   ],
   "source": [
    "_iter = itertools.product('ABCD', repeat=2)\n",
    "list(_iter)"
   ]
  },
  {
   "cell_type": "code",
   "execution_count": 30,
   "metadata": {},
   "outputs": [
    {
     "data": {
      "text/plain": [
       "[('A', 'B'),\n",
       " ('A', 'C'),\n",
       " ('A', 'D'),\n",
       " ('B', 'A'),\n",
       " ('B', 'C'),\n",
       " ('B', 'D'),\n",
       " ('C', 'A'),\n",
       " ('C', 'B'),\n",
       " ('C', 'D'),\n",
       " ('D', 'A'),\n",
       " ('D', 'B'),\n",
       " ('D', 'C')]"
      ]
     },
     "execution_count": 30,
     "metadata": {},
     "output_type": "execute_result"
    }
   ],
   "source": [
    "_iter = itertools.permutations('ABCD',2)\n",
    "list(_iter)"
   ]
  },
  {
   "cell_type": "code",
   "execution_count": 31,
   "metadata": {},
   "outputs": [
    {
     "data": {
      "text/plain": [
       "[('A', 'B'), ('A', 'C'), ('A', 'D'), ('B', 'C'), ('B', 'D'), ('C', 'D')]"
      ]
     },
     "execution_count": 31,
     "metadata": {},
     "output_type": "execute_result"
    }
   ],
   "source": [
    "_iter = itertools.combinations('ABCD',2)\n",
    "list(_iter)"
   ]
  },
  {
   "cell_type": "code",
   "execution_count": 32,
   "metadata": {},
   "outputs": [
    {
     "data": {
      "text/plain": [
       "[('A', 'A'),\n",
       " ('A', 'B'),\n",
       " ('A', 'C'),\n",
       " ('A', 'D'),\n",
       " ('B', 'B'),\n",
       " ('B', 'C'),\n",
       " ('B', 'D'),\n",
       " ('C', 'C'),\n",
       " ('C', 'D'),\n",
       " ('D', 'D')]"
      ]
     },
     "execution_count": 32,
     "metadata": {},
     "output_type": "execute_result"
    }
   ],
   "source": [
    "_iter = itertools.combinations_with_replacement('ABCD',2)\n",
    "list(_iter)"
   ]
  },
  {
   "cell_type": "markdown",
   "metadata": {},
   "source": [
    "# operator 内置操作符接口"
   ]
  },
  {
   "cell_type": "raw",
   "metadata": {},
   "source": [
    "abs(...)\n",
    "    abs(a) -- Same as abs(a).\n",
    "\n",
    "add(...)\n",
    "    add(a, b) -- Same as a + b.\n",
    "    \n",
    "iadd(...)\n",
    "    a = iadd(a, b) -- Same as a += b.\n",
    "\n",
    "concat(...)\n",
    "    concat(a, b) -- Same as a + b, for a and b sequences.\n",
    "\n",
    "contains(...)\n",
    "    contains(a, b) -- Same as b in a (note reversed operands).\n",
    "\n",
    "countOf(...)\n",
    "    countOf(a, b) -- Return the number of times b occurs in a.\n",
    "\n",
    "eq(...)\n",
    "    eq(a, b) -- Same as a==b.\n",
    "\n",
    "ge(...)\n",
    "    ge(a, b) -- Same as a>=b.\n",
    "\n",
    "gt(...)\n",
    "    gt(a, b) -- Same as a>b.\n",
    "\n",
    "le(...)\n",
    "    le(a, b) -- Same as a<=b.\n",
    "\n",
    "mod(...)\n",
    "    mod(a, b) -- Same as a % b.\n",
    "\n",
    "mul(...)\n",
    "    mul(a, b) -- Same as a * b.\n",
    "\n",
    "ne(...)\n",
    "    ne(a, b) -- Same as a!=b.\n",
    "\n",
    "neg(...)\n",
    "    neg(a) -- Same as -a.\n",
    "\n",
    "pos(...)\n",
    "    pos(a) -- Same as +a.\n",
    "\n",
    "pow(...)\n",
    "    pow(a, b) -- Same as a ** b.\n",
    "\n",
    "sub(...)\n",
    "    sub(a, b) -- Same as a - b."
   ]
  },
  {
   "cell_type": "code",
   "execution_count": 6,
   "metadata": {},
   "outputs": [],
   "source": [
    "import operator"
   ]
  },
  {
   "cell_type": "markdown",
   "metadata": {},
   "source": [
    "# more_itertools\n",
    "itertools模块的补充"
   ]
  },
  {
   "cell_type": "code",
   "execution_count": 38,
   "metadata": {},
   "outputs": [],
   "source": [
    "import more_itertools"
   ]
  },
  {
   "cell_type": "markdown",
   "metadata": {},
   "source": [
    "## chunked(iterable, n) \n",
    "将迭代器的每n项提出来组成一个新的list\n",
    "\n",
    "等同于 zip(\\*[iter(iterable)]\\*n)"
   ]
  },
  {
   "cell_type": "code",
   "execution_count": 39,
   "metadata": {},
   "outputs": [],
   "source": [
    "def take(n, iterable):\n",
    "    \"\"\"Return first *n* items of the iterable as a list.\n",
    "        >>> take(3, range(10))\n",
    "        [0, 1, 2]\n",
    "    \"\"\"\n",
    "    return list(itertools.islice(iterable, n))\n",
    "\n",
    "def chunked(iterable, n):\n",
    "    \"\"\"Break *iterable* into lists of length *n*:\n",
    "        >>> list(chunked([1, 2, 3, 4, 5, 6], 3))\n",
    "        [[1, 2, 3], [4, 5, 6]]\n",
    "        >>> list(chunked([1, 2, 3, 4, 5, 6, 7, 8], 3))\n",
    "        [[1, 2, 3], [4, 5, 6], [7, 8]]\n",
    "    \"\"\"\n",
    "    return iter(functools.partial(take, n, iter(iterable)), []) "
   ]
  },
  {
   "cell_type": "markdown",
   "metadata": {},
   "source": [
    "## collate(*iterables)     \t\n",
    "按序整合：比itertools.chain更进一步"
   ]
  },
  {
   "cell_type": "code",
   "execution_count": 40,
   "metadata": {},
   "outputs": [],
   "source": [
    "def collapse(iterable, base_type=None, levels=None):\n",
    "    \"\"\"\n",
    "    Flatten an iterable with multiple levels of nesting into non-iterable types.\n",
    "    >>> iterable = [(1, 2), ([3, 4], [[5], [6]])]\n",
    "    >>> list(collapse(iterable))\n",
    "            [1, 2, 3, 4, 5, 6]\n",
    "    String types are not considered iterable and will not be collapsed.\n",
    "    To avoid collapsing other types, specify *base_type*:\n",
    "    >>> iterable = ['ab', ('cd', 'ef'), ['gh', 'ij']]\n",
    "    >>> list(collapse(iterable, base_type=tuple))\n",
    "            ['ab', ('cd', 'ef'), 'gh', 'ij']\n",
    "    Specify *levels* to stop flattening after a certain level:\n",
    "    >>> iterable = [('a', ['b']), ('c', ['d'])]\n",
    "    >>> list(collapse(iterable, levels=1))  # Only one level flattened\n",
    "        ['a', ['b'], 'c', ['d']]\n",
    "    \"\"\"\n",
    "    def walk(node, level):\n",
    "        if (\n",
    "            ((levels is not None) and (level > levels)) or\n",
    "            isinstance(node, string_types) or\n",
    "            ((base_type is not None) and isinstance(node, base_type))\n",
    "        ):\n",
    "            yield node\n",
    "            return\n",
    "\n",
    "        try:\n",
    "            tree = iter(node)\n",
    "        except TypeError:\n",
    "            yield node\n",
    "            return\n",
    "        else:\n",
    "            for child in tree:\n",
    "                for x in walk(child, level + 1):\n",
    "                    yield x\n",
    "    for x in walk(iterable, 0):\n",
    "        yield x"
   ]
  },
  {
   "cell_type": "code",
   "execution_count": 41,
   "metadata": {},
   "outputs": [
    {
     "data": {
      "text/plain": [
       "['A', 'A', 'C', 'D', 'J', 'K', 'L', 'Z', 'Z']"
      ]
     },
     "execution_count": 41,
     "metadata": {},
     "output_type": "execute_result"
    }
   ],
   "source": [
    "_iter = more_itertools.collate('ACDZ', 'AZ', 'JKL')\n",
    "list(_iter)"
   ]
  },
  {
   "cell_type": "markdown",
   "metadata": {},
   "source": [
    "## distribute(n, iterable)\n",
    "distribute the items from iterable among n smaller iterables"
   ]
  },
  {
   "cell_type": "code",
   "execution_count": 42,
   "metadata": {},
   "outputs": [
    {
     "data": {
      "text/plain": [
       "[[1, 4, 7], [2, 5], [3, 6]]"
      ]
     },
     "execution_count": 42,
     "metadata": {},
     "output_type": "execute_result"
    }
   ],
   "source": [
    "children = more_itertools.distribute(3, [1, 2, 3, 4, 5, 6, 7])\n",
    "[list(c) for c in children]"
   ]
  },
  {
   "cell_type": "markdown",
   "metadata": {},
   "source": [
    "## split_at(iterable, pred) \n",
    "The lists do not include the delimiting items"
   ]
  },
  {
   "cell_type": "code",
   "execution_count": 43,
   "metadata": {},
   "outputs": [
    {
     "data": {
      "text/plain": [
       "[[0], [2], [4], [6], [8], []]"
      ]
     },
     "execution_count": 43,
     "metadata": {},
     "output_type": "execute_result"
    }
   ],
   "source": [
    "list(more_itertools.split_at(range(10), lambda n: n % 2 == 1))"
   ]
  },
  {
   "cell_type": "markdown",
   "metadata": {},
   "source": [
    "## split_before(iterable, pred)\n",
    "each list starts with an item where callable pred returns "
   ]
  },
  {
   "cell_type": "code",
   "execution_count": 44,
   "metadata": {},
   "outputs": [
    {
     "data": {
      "text/plain": [
       "[[0, 1, 2], [3, 4, 5], [6, 7, 8], [9]]"
      ]
     },
     "execution_count": 44,
     "metadata": {},
     "output_type": "execute_result"
    }
   ],
   "source": [
    "list(more_itertools.split_before(range(10), lambda n: n % 3 == 0))"
   ]
  },
  {
   "cell_type": "markdown",
   "metadata": {},
   "source": [
    "## windowed(seq, n, fillvalue=None, step=1)\n",
    "滑动"
   ]
  },
  {
   "cell_type": "code",
   "execution_count": 45,
   "metadata": {},
   "outputs": [
    {
     "data": {
      "text/plain": [
       "[(1, 2, 3), (2, 3, 4), (3, 4, 5)]"
      ]
     },
     "execution_count": 45,
     "metadata": {},
     "output_type": "execute_result"
    }
   ],
   "source": [
    "all_windows = more_itertools.windowed([1, 2, 3, 4, 5], 3)\n",
    "list(all_windows)"
   ]
  },
  {
   "cell_type": "markdown",
   "metadata": {},
   "source": [
    "## count_cycle(iterable, n=None)\n",
    "Cycle through the items from iterable up to n times\n",
    "\n",
    "相当于iterable和range(n)之间的组合"
   ]
  },
  {
   "cell_type": "code",
   "execution_count": 46,
   "metadata": {},
   "outputs": [
    {
     "data": {
      "text/plain": [
       "[(0, 'A'), (0, 'B'), (1, 'A'), (1, 'B'), (2, 'A'), (2, 'B')]"
      ]
     },
     "execution_count": 46,
     "metadata": {},
     "output_type": "execute_result"
    }
   ],
   "source": [
    "list(more_itertools.count_cycle('AB', 3))"
   ]
  },
  {
   "cell_type": "markdown",
   "metadata": {},
   "source": [
    "## intersperse(e, iterable, n=1)\n",
    "Intersperse filler element e among the items in iterable, leaving n items between each filler element"
   ]
  },
  {
   "cell_type": "code",
   "execution_count": 47,
   "metadata": {},
   "outputs": [
    {
     "data": {
      "text/plain": [
       "[1, 2, '!', 3, 4, '!', 5]"
      ]
     },
     "execution_count": 47,
     "metadata": {},
     "output_type": "execute_result"
    }
   ],
   "source": [
    "list(more_itertools.intersperse('!', [1, 2, 3, 4, 5], n=2))"
   ]
  }
 ],
 "metadata": {
  "hide_input": false,
  "kernelspec": {
   "display_name": "Python 3",
   "language": "python",
   "name": "python3"
  },
  "language_info": {
   "codemirror_mode": {
    "name": "ipython",
    "version": 3
   },
   "file_extension": ".py",
   "mimetype": "text/x-python",
   "name": "python",
   "nbconvert_exporter": "python",
   "pygments_lexer": "ipython3",
   "version": "3.6.6"
  },
  "toc": {
   "base_numbering": 1,
   "nav_menu": {},
   "number_sections": true,
   "sideBar": true,
   "skip_h1_title": false,
   "title_cell": "Table of Contents",
   "title_sidebar": "Contents",
   "toc_cell": false,
   "toc_position": {},
   "toc_section_display": true,
   "toc_window_display": true
  }
 },
 "nbformat": 4,
 "nbformat_minor": 2
}
