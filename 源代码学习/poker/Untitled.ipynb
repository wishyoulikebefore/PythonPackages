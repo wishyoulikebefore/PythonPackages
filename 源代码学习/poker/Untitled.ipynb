{
 "cells": [
  {
   "cell_type": "markdown",
   "metadata": {},
   "source": [
    "文档地址：https://poker.readthedocs.io/en/latest/basic.html"
   ]
  },
  {
   "cell_type": "markdown",
   "metadata": {},
   "source": [
    "# _common"
   ]
  },
  {
   "cell_type": "code",
   "execution_count": 1,
   "metadata": {},
   "outputs": [],
   "source": [
    "import random\n",
    "import functools\n",
    "from collections.abc import Iterable\n",
    "import enum\n",
    "\n",
    "\n",
    "class _PokerEnumMeta(enum.EnumMeta):\n",
    "    def __init__(self, clsname, bases, classdict):\n",
    "        # make sure we only have tuple values, not single values\n",
    "        for member in self.__members__.values():\n",
    "            values = member._value_\n",
    "            if not isinstance(values, Iterable) or isinstance(values, str):\n",
    "                raise TypeError(\n",
    "                    f\"{member._name_} = {values!r}, should be iterable, not {type(values)}!\"\n",
    "                )\n",
    "            for alias in values:\n",
    "                if isinstance(alias, str):\n",
    "                    alias = alias.upper()\n",
    "                self._value2member_map_.setdefault(alias, member)\n",
    "\n",
    "    def __call__(cls, value):\n",
    "        \"\"\"Return the appropriate instance with any of the values listed. If values contains\n",
    "        text types, those will be looked up in a case insensitive manner.\"\"\"\n",
    "        if isinstance(value, str):\n",
    "            value = value.upper()\n",
    "        return super().__call__(value)\n",
    "\n",
    "    def make_random(cls):\n",
    "        return random.choice(list(cls))\n",
    "\n",
    "\n",
    "@functools.total_ordering\n",
    "class _OrderableMixin:\n",
    "    # I couldn't inline this to PokerEnum because Enum do some magic which don't like it.\n",
    "\n",
    "    # From Python manual:\n",
    "    # If a class that overrides __eq__() needs to retain\n",
    "    # the implementation of __hash__() from a parent class,\n",
    "    # the interpreter must be told this explicitly\n",
    "    def __hash__(self):\n",
    "        return super().__hash__()\n",
    "\n",
    "    def __eq__(self, other):\n",
    "        if self.__class__ is other.__class__:\n",
    "            return self._value_ == other._value_\n",
    "        return NotImplemented\n",
    "\n",
    "    def __lt__(self, other):\n",
    "        if self.__class__ is other.__class__:\n",
    "            names = self.__class__._member_names_\n",
    "            return names.index(self._name_) < names.index(other._name_)\n",
    "        return NotImplemented\n",
    "\n",
    "\n",
    "class PokerEnum(_OrderableMixin, enum.Enum, metaclass=_PokerEnumMeta):\n",
    "    def __str__(self):\n",
    "        return str(self._value_[0])\n",
    "\n",
    "    def __repr__(self):\n",
    "        val = self._value_[0]\n",
    "        apostrophe = \"'\" if isinstance(val, str) else \"\"\n",
    "        return f\"{self.__class__.__name__}({apostrophe}{val}{apostrophe})\"\n",
    "\n",
    "    def __format__(self, format_spec):\n",
    "        return str(self._value_[0])\n",
    "\n",
    "    @property\n",
    "    def val(self):\n",
    "        \"\"\"The first value of the Enum member.\"\"\"\n",
    "        return self._value_[0]\n",
    "\n",
    "\n",
    "class _ReprMixin:\n",
    "    def __repr__(self):\n",
    "        return f\"{self.__class__.__name__}('{self}')\"\n",
    "\n",
    "\n",
    "def _make_float(string):\n",
    "    return float(string.strip().replace(\",\", \"\"))\n",
    "\n",
    "\n",
    "def _make_int(string):\n",
    "    return int(string.strip().replace(\",\", \"\"))"
   ]
  },
  {
   "cell_type": "markdown",
   "metadata": {},
   "source": [
    "# card"
   ]
  },
  {
   "cell_type": "code",
   "execution_count": 9,
   "metadata": {},
   "outputs": [
    {
     "ename": "NameError",
     "evalue": "name 'PokerEnum' is not defined",
     "output_type": "error",
     "traceback": [
      "\u001b[1;31m---------------------------------------------------------------------------\u001b[0m",
      "\u001b[1;31mNameError\u001b[0m                                 Traceback (most recent call last)",
      "\u001b[1;32m<ipython-input-9-5838bdd027d7>\u001b[0m in \u001b[0;36m<module>\u001b[1;34m\u001b[0m\n\u001b[1;32m----> 1\u001b[1;33m \u001b[1;32mclass\u001b[0m \u001b[0mSuit\u001b[0m\u001b[1;33m(\u001b[0m\u001b[0mPokerEnum\u001b[0m\u001b[1;33m)\u001b[0m\u001b[1;33m:\u001b[0m\u001b[1;33m\u001b[0m\u001b[0m\n\u001b[0m\u001b[0;32m      2\u001b[0m     \u001b[0mCLUBS\u001b[0m \u001b[1;33m=\u001b[0m \u001b[1;34m\"♣\"\u001b[0m\u001b[1;33m,\u001b[0m \u001b[1;34m\"c\"\u001b[0m\u001b[1;33m,\u001b[0m \u001b[1;34m\"clubs\"\u001b[0m         \u001b[1;31m### set\u001b[0m\u001b[1;33m\u001b[0m\u001b[0m\n\u001b[0;32m      3\u001b[0m     \u001b[0mDIAMONDS\u001b[0m \u001b[1;33m=\u001b[0m \u001b[1;34m\"♦\"\u001b[0m\u001b[1;33m,\u001b[0m \u001b[1;34m\"d\"\u001b[0m\u001b[1;33m,\u001b[0m \u001b[1;34m\"diamonds\"\u001b[0m\u001b[1;33m\u001b[0m\u001b[0m\n\u001b[0;32m      4\u001b[0m     \u001b[0mHEARTS\u001b[0m \u001b[1;33m=\u001b[0m \u001b[1;34m\"♥\"\u001b[0m\u001b[1;33m,\u001b[0m \u001b[1;34m\"h\"\u001b[0m\u001b[1;33m,\u001b[0m \u001b[1;34m\"hearts\"\u001b[0m\u001b[1;33m\u001b[0m\u001b[0m\n\u001b[0;32m      5\u001b[0m     \u001b[0mSPADES\u001b[0m \u001b[1;33m=\u001b[0m \u001b[1;34m\"♠\"\u001b[0m\u001b[1;33m,\u001b[0m \u001b[1;34m\"s\"\u001b[0m\u001b[1;33m,\u001b[0m \u001b[1;34m\"spades\"\u001b[0m\u001b[1;33m\u001b[0m\u001b[0m\n",
      "\u001b[1;31mNameError\u001b[0m: name 'PokerEnum' is not defined"
     ]
    }
   ],
   "source": [
    "class Suit(PokerEnum):\n",
    "    CLUBS = \"♣\", \"c\", \"clubs\"         ### set\n",
    "    DIAMONDS = \"♦\", \"d\", \"diamonds\"\n",
    "    HEARTS = \"♥\", \"h\", \"hearts\"\n",
    "    SPADES = \"♠\", \"s\", \"spades\""
   ]
  },
  {
   "cell_type": "code",
   "execution_count": 10,
   "metadata": {},
   "outputs": [],
   "source": [
    "CLUBS = (\"♣\", \"c\", \"clubs\") "
   ]
  },
  {
   "cell_type": "code",
   "execution_count": null,
   "metadata": {},
   "outputs": [],
   "source": []
  }
 ],
 "metadata": {
  "hide_input": false,
  "kernelspec": {
   "display_name": "Python 3",
   "language": "python",
   "name": "python3"
  },
  "language_info": {
   "codemirror_mode": {
    "name": "ipython",
    "version": 3
   },
   "file_extension": ".py",
   "mimetype": "text/x-python",
   "name": "python",
   "nbconvert_exporter": "python",
   "pygments_lexer": "ipython3",
   "version": "3.6.0"
  },
  "toc": {
   "base_numbering": 1,
   "nav_menu": {},
   "number_sections": true,
   "sideBar": true,
   "skip_h1_title": false,
   "title_cell": "Table of Contents",
   "title_sidebar": "Contents",
   "toc_cell": false,
   "toc_position": {},
   "toc_section_display": true,
   "toc_window_display": false
  }
 },
 "nbformat": 4,
 "nbformat_minor": 2
}
