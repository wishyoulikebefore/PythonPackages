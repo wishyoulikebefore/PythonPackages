{
 "cells": [
  {
   "cell_type": "markdown",
   "metadata": {},
   "source": [
    "# arg validators"
   ]
  },
  {
   "cell_type": "code",
   "execution_count": null,
   "metadata": {},
   "outputs": [],
   "source": [
    "if not isinstance(data, pd.core.frame.DataFrame):\n",
    "    raise TypeError('Expect data as DataFrame')\n",
    "\n",
    "if not isinstance(data.index,pd.core.indexes.datetimes.DatetimeIndex):\n",
    "    raise TypeError('Expect data.index as DatetimeIndex')"
   ]
  },
  {
   "cell_type": "code",
   "execution_count": null,
   "metadata": {},
   "outputs": [],
   "source": [
    "same_length = len(opens) == len(highs) == len(lows) == len(closes)\n",
    "if not same_length:\n",
    "    raise ValueError('O,H,L,C must have the same length!')"
   ]
  },
  {
   "cell_type": "code",
   "execution_count": null,
   "metadata": {},
   "outputs": [],
   "source": [
    "# MA线\n",
    "mavprices = pd.Series(prices).rolling(mav).mean().values\n",
    "ax.plot(xdates, mavprices, linewidth=lw, color=next(mavc))"
   ]
  },
  {
   "cell_type": "code",
   "execution_count": null,
   "metadata": {},
   "outputs": [],
   "source": [
    "# 蜡烛图\n",
    "def _construct_candlestick_collections(dates, opens, highs, lows, closes, marketcolors=None, config=None):\n",
    "    \"\"\"\n",
    "    Returns\n",
    "    -------\n",
    "    ret : list\n",
    "        (lineCollection, barCollection)\n",
    "    \"\"\"\n",
    "\n",
    "    delta = config['_width_config']['candle_width'] / 2.0\n",
    "    \n",
    "    ### 柱四个角的坐标\n",
    "    barVerts = [((date - delta, open),\n",
    "                 (date - delta, close),\n",
    "                 (date + delta, close),\n",
    "                 (date + delta, open))\n",
    "                for date, open, close in zip(dates, opens, closes)]\n",
    "\n",
    "    ### 下影线坐标\n",
    "    rangeSegLow   = [((date, low), (date, min(open,close)))\n",
    "                     for date, low, open, close in zip(dates, lows, opens, closes)]\n",
    "    \n",
    "    ### 上影线坐标\n",
    "    rangeSegHigh  = [((date, high), (date, max(open,close)))\n",
    "                     for date, high, open, close in zip(dates, highs, opens, closes)]\n",
    "                      \n",
    "    rangeSegments = rangeSegLow + rangeSegHigh\n",
    "\n",
    "    alpha  = marketcolors['alpha']\n",
    "\n",
    "    uc     = mcolors.to_rgba(marketcolors['candle'][ 'up' ], alpha)\n",
    "    dc     = mcolors.to_rgba(marketcolors['candle']['down'], alpha)\n",
    "    colors = _updown_colors(uc, dc, opens, closes)\n",
    "\n",
    "    uc     = mcolors.to_rgba(marketcolors['edge'][ 'up' ], 1.0)\n",
    "    dc     = mcolors.to_rgba(marketcolors['edge']['down'], 1.0)\n",
    "    edgecolor = _updown_colors(uc, dc, opens, closes)\n",
    "    \n",
    "    uc     = mcolors.to_rgba(marketcolors['wick'][ 'up' ], 1.0)\n",
    "    dc     = mcolors.to_rgba(marketcolors['wick']['down'], 1.0)\n",
    "    wickcolor = _updown_colors(uc, dc, opens, closes)\n",
    "\n",
    "    lw = config['_width_config']['candle_linewidth']\n",
    "\n",
    "    rangeCollection = LineCollection(rangeSegments,\n",
    "                                     colors=wickcolor,\n",
    "                                     linewidths=lw,\n",
    "                                     )\n",
    "\n",
    "    barCollection = PolyCollection(barVerts,\n",
    "                                   facecolors=colors,\n",
    "                                   edgecolors=edgecolor,\n",
    "                                   linewidths=lw\n",
    "                                   )\n",
    "\n",
    "    return [rangeCollection, barCollection]"
   ]
  }
 ],
 "metadata": {
  "hide_input": false,
  "kernelspec": {
   "display_name": "Python 3",
   "language": "python",
   "name": "python3"
  },
  "language_info": {
   "codemirror_mode": {
    "name": "ipython",
    "version": 3
   },
   "file_extension": ".py",
   "mimetype": "text/x-python",
   "name": "python",
   "nbconvert_exporter": "python",
   "pygments_lexer": "ipython3",
   "version": "3.6.0"
  },
  "toc": {
   "base_numbering": 1,
   "nav_menu": {},
   "number_sections": true,
   "sideBar": true,
   "skip_h1_title": false,
   "title_cell": "Table of Contents",
   "title_sidebar": "Contents",
   "toc_cell": false,
   "toc_position": {},
   "toc_section_display": true,
   "toc_window_display": false
  }
 },
 "nbformat": 4,
 "nbformat_minor": 2
}
