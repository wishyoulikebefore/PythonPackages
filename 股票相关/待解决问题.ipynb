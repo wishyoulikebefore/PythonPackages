{
 "cells": [
  {
   "cell_type": "code",
   "execution_count": 2,
   "metadata": {},
   "outputs": [],
   "source": [
    "import tushare as ts\n",
    "import pandas as pd\n",
    "import numpy as np"
   ]
  },
  {
   "cell_type": "markdown",
   "metadata": {},
   "source": [
    "# 黄金和比特币趋势"
   ]
  },
  {
   "cell_type": "markdown",
   "metadata": {},
   "source": [
    "## 比特币数据"
   ]
  },
  {
   "cell_type": "code",
   "execution_count": 3,
   "metadata": {},
   "outputs": [],
   "source": [
    "ts.set_token(\"409115656486e3f61481103ec280339511aee50ee9026f9b008985ea\")\n",
    "\n",
    "pro = ts.pro_api()\n",
    "df = pro.btc_pricevol(start_date='20180101', end_date='20180801')"
   ]
  },
  {
   "cell_type": "markdown",
   "metadata": {},
   "source": [
    "# 期货-股票联动"
   ]
  },
  {
   "cell_type": "markdown",
   "metadata": {},
   "source": [
    "http://goodsfu.10jqka.com.cn\n",
    "\n",
    "https://zhuanlan.zhihu.com/p/40802537"
   ]
  },
  {
   "cell_type": "markdown",
   "metadata": {},
   "source": [
    "# 妖股反弹"
   ]
  },
  {
   "cell_type": "markdown",
   "metadata": {},
   "source": [
    "原理：前期大涨的股票，在热点切换、调整后，回到5日线或10日线，会反弹（量能配合）"
   ]
  }
 ],
 "metadata": {
  "hide_input": false,
  "kernelspec": {
   "display_name": "Python 3",
   "language": "python",
   "name": "python3"
  },
  "language_info": {
   "codemirror_mode": {
    "name": "ipython",
    "version": 3
   },
   "file_extension": ".py",
   "mimetype": "text/x-python",
   "name": "python",
   "nbconvert_exporter": "python",
   "pygments_lexer": "ipython3",
   "version": "3.6.0"
  },
  "toc": {
   "base_numbering": 1,
   "nav_menu": {},
   "number_sections": true,
   "sideBar": true,
   "skip_h1_title": false,
   "title_cell": "Table of Contents",
   "title_sidebar": "Contents",
   "toc_cell": false,
   "toc_position": {},
   "toc_section_display": true,
   "toc_window_display": false
  }
 },
 "nbformat": 4,
 "nbformat_minor": 2
}
