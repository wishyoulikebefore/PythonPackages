{
 "cells": [
  {
   "cell_type": "markdown",
   "metadata": {},
   "source": [
    "歪打误撞，非自己决策的开仓——赚一笔就跑\n",
    "\n",
    "原则：\n",
    "1. 市场上的钱比你聪明的多，其追逐的热点就是正确\n",
    "\n",
    "2. 只想我该如何进入热点，不要想着热点如何为我所处的领域所用"
   ]
  },
  {
   "cell_type": "code",
   "execution_count": 16,
   "metadata": {},
   "outputs": [
    {
     "name": "stderr",
     "output_type": "stream",
     "text": [
      "c:\\users\\administrator\\appdata\\local\\programs\\python\\python36\\lib\\site-packages\\tushare\\util\\upass.py:28: FutureWarning: \n",
      ".ix is deprecated. Please use\n",
      ".loc for label based indexing or\n",
      ".iloc for positional indexing\n",
      "\n",
      "See the documentation here:\n",
      "http://pandas.pydata.org/pandas-docs/stable/user_guide/indexing.html#ix-indexer-is-deprecated\n",
      "  return str(df.ix[0]['token'])\n"
     ]
    }
   ],
   "source": [
    "import tushare as ts\n",
    "\n",
    "ts.set_token('409115656486e3f61481103ec280339511aee50ee9026f9b008985ea')\n",
    "pro = ts.pro_api()"
   ]
  },
  {
   "cell_type": "markdown",
   "metadata": {},
   "source": [
    "# 黄金和比特币趋势"
   ]
  },
  {
   "cell_type": "markdown",
   "metadata": {},
   "source": [
    "## 比特币数据"
   ]
  },
  {
   "cell_type": "code",
   "execution_count": 31,
   "metadata": {},
   "outputs": [
    {
     "name": "stderr",
     "output_type": "stream",
     "text": [
      "c:\\users\\administrator\\appdata\\local\\programs\\python\\python36\\lib\\site-packages\\tushare\\util\\upass.py:28: FutureWarning: \n",
      ".ix is deprecated. Please use\n",
      ".loc for label based indexing or\n",
      ".iloc for positional indexing\n",
      "\n",
      "See the documentation here:\n",
      "http://pandas.pydata.org/pandas-docs/stable/user_guide/indexing.html#ix-indexer-is-deprecated\n",
      "  return str(df.ix[0]['token'])\n"
     ]
    }
   ],
   "source": [
    "ts.set_token(\"409115656486e3f61481103ec280339511aee50ee9026f9b008985ea\")\n",
    "\n",
    "pro = ts.pro_api()\n",
    "df = pro.btc_pricevol(start_date='20180101', end_date='20180801')"
   ]
  },
  {
   "cell_type": "code",
   "execution_count": 32,
   "metadata": {},
   "outputs": [
    {
     "data": {
      "text/html": [
       "<div>\n",
       "<style scoped>\n",
       "    .dataframe tbody tr th:only-of-type {\n",
       "        vertical-align: middle;\n",
       "    }\n",
       "\n",
       "    .dataframe tbody tr th {\n",
       "        vertical-align: top;\n",
       "    }\n",
       "\n",
       "    .dataframe thead th {\n",
       "        text-align: right;\n",
       "    }\n",
       "</style>\n",
       "<table border=\"1\" class=\"dataframe\">\n",
       "  <thead>\n",
       "    <tr style=\"text-align: right;\">\n",
       "      <th></th>\n",
       "      <th>date</th>\n",
       "      <th>price</th>\n",
       "      <th>volume</th>\n",
       "    </tr>\n",
       "  </thead>\n",
       "  <tbody>\n",
       "    <tr>\n",
       "      <th>0</th>\n",
       "      <td>20180801</td>\n",
       "      <td>7579.056837</td>\n",
       "      <td>5.759918e+08</td>\n",
       "    </tr>\n",
       "    <tr>\n",
       "      <th>1</th>\n",
       "      <td>20180731</td>\n",
       "      <td>7915.267761</td>\n",
       "      <td>7.305237e+08</td>\n",
       "    </tr>\n",
       "    <tr>\n",
       "      <th>2</th>\n",
       "      <td>20180730</td>\n",
       "      <td>8128.549310</td>\n",
       "      <td>6.716885e+08</td>\n",
       "    </tr>\n",
       "    <tr>\n",
       "      <th>3</th>\n",
       "      <td>20180729</td>\n",
       "      <td>8193.888653</td>\n",
       "      <td>2.656748e+08</td>\n",
       "    </tr>\n",
       "    <tr>\n",
       "      <th>4</th>\n",
       "      <td>20180728</td>\n",
       "      <td>8168.527643</td>\n",
       "      <td>2.808106e+08</td>\n",
       "    </tr>\n",
       "  </tbody>\n",
       "</table>\n",
       "</div>"
      ],
      "text/plain": [
       "       date        price        volume\n",
       "0  20180801  7579.056837  5.759918e+08\n",
       "1  20180731  7915.267761  7.305237e+08\n",
       "2  20180730  8128.549310  6.716885e+08\n",
       "3  20180729  8193.888653  2.656748e+08\n",
       "4  20180728  8168.527643  2.808106e+08"
      ]
     },
     "execution_count": 32,
     "metadata": {},
     "output_type": "execute_result"
    }
   ],
   "source": [
    "df.head()"
   ]
  },
  {
   "cell_type": "markdown",
   "metadata": {},
   "source": [
    "## 黄金数据"
   ]
  },
  {
   "cell_type": "markdown",
   "metadata": {},
   "source": [
    "# 期货-股票联动\n",
    "http://goodsfu.10jqka.com.cn\n",
    "\n",
    "https://zhuanlan.zhihu.com/p/40802537"
   ]
  },
  {
   "cell_type": "markdown",
   "metadata": {},
   "source": [
    "# 妖股反弹"
   ]
  },
  {
   "cell_type": "markdown",
   "metadata": {},
   "source": [
    "# 跌停抄底"
   ]
  },
  {
   "cell_type": "code",
   "execution_count": 14,
   "metadata": {},
   "outputs": [],
   "source": [
    "from pymongo import MongoClient\n",
    "\n",
    "client = MongoClient()\n",
    "db = client[\"stock\"]\n",
    "collection = db[\"jqk_concept\"]"
   ]
  },
  {
   "cell_type": "code",
   "execution_count": 19,
   "metadata": {},
   "outputs": [],
   "source": [
    "import tushare as ts\n",
    "import pandas as pd\n",
    "\n",
    "def get_daily_pro(trade_date):\n",
    "    \"\"\"\n",
    "    应对旧接口get_today_all指令失效\n",
    "    \"\"\"\n",
    "    trade_date = re.sub(\"-\",\"\",trade_date)\n",
    "    ts.set_token('409115656486e3f61481103ec280339511aee50ee9026f9b008985ea')\n",
    "    pro = ts.pro_api()\n",
    "    df = pro.daily(trade_date=trade_date)\n",
    "    df[\"code\"] = df[\"ts_code\"].str[:6]\n",
    "    df[\"pct_change\"] = df.apply(lambda x: round(x[\"close\"] / x[\"pre_close\"] * 100 - 100, 2), axis=1)\n",
    "    df[\"low_pct_change\"] = df.apply(lambda x: round(x[\"low\"] / x[\"pre_close\"] * 100 - 100, 2), axis=1)\n",
    "    df[\"high_pct_change\"] = df.apply(lambda x: round(x[\"high\"] / x[\"pre_close\"] * 100 - 100, 2), axis=1)\n",
    "    df.drop([\"change\", \"pct_chg\", \"ts_code\"], axis=1, inplace=True)\n",
    "    return df"
   ]
  },
  {
   "cell_type": "code",
   "execution_count": 21,
   "metadata": {},
   "outputs": [
    {
     "name": "stderr",
     "output_type": "stream",
     "text": [
      "c:\\users\\administrator\\appdata\\local\\programs\\python\\python36\\lib\\site-packages\\tushare\\util\\upass.py:28: FutureWarning: \n",
      ".ix is deprecated. Please use\n",
      ".loc for label based indexing or\n",
      ".iloc for positional indexing\n",
      "\n",
      "See the documentation here:\n",
      "http://pandas.pydata.org/pandas-docs/stable/user_guide/indexing.html#ix-indexer-is-deprecated\n",
      "  return str(df.ix[0]['token'])\n"
     ]
    }
   ],
   "source": [
    "import re\n",
    "\n",
    "df = get_daily_pro(\"20200507\")"
   ]
  },
  {
   "cell_type": "code",
   "execution_count": 22,
   "metadata": {},
   "outputs": [
    {
     "data": {
      "text/html": [
       "<div>\n",
       "<style scoped>\n",
       "    .dataframe tbody tr th:only-of-type {\n",
       "        vertical-align: middle;\n",
       "    }\n",
       "\n",
       "    .dataframe tbody tr th {\n",
       "        vertical-align: top;\n",
       "    }\n",
       "\n",
       "    .dataframe thead th {\n",
       "        text-align: right;\n",
       "    }\n",
       "</style>\n",
       "<table border=\"1\" class=\"dataframe\">\n",
       "  <thead>\n",
       "    <tr style=\"text-align: right;\">\n",
       "      <th></th>\n",
       "      <th>trade_date</th>\n",
       "      <th>open</th>\n",
       "      <th>high</th>\n",
       "      <th>low</th>\n",
       "      <th>close</th>\n",
       "      <th>pre_close</th>\n",
       "      <th>vol</th>\n",
       "      <th>amount</th>\n",
       "      <th>code</th>\n",
       "      <th>pct_change</th>\n",
       "      <th>low_pct_change</th>\n",
       "      <th>high_pct_change</th>\n",
       "    </tr>\n",
       "  </thead>\n",
       "  <tbody>\n",
       "    <tr>\n",
       "      <th>0</th>\n",
       "      <td>20200507</td>\n",
       "      <td>5.66</td>\n",
       "      <td>5.83</td>\n",
       "      <td>5.57</td>\n",
       "      <td>5.74</td>\n",
       "      <td>5.66</td>\n",
       "      <td>244749.35</td>\n",
       "      <td>139664.831</td>\n",
       "      <td>600336</td>\n",
       "      <td>1.41</td>\n",
       "      <td>-1.59</td>\n",
       "      <td>3.00</td>\n",
       "    </tr>\n",
       "    <tr>\n",
       "      <th>1</th>\n",
       "      <td>20200507</td>\n",
       "      <td>4.07</td>\n",
       "      <td>4.17</td>\n",
       "      <td>4.05</td>\n",
       "      <td>4.16</td>\n",
       "      <td>4.07</td>\n",
       "      <td>112401.63</td>\n",
       "      <td>46203.088</td>\n",
       "      <td>600337</td>\n",
       "      <td>2.21</td>\n",
       "      <td>-0.49</td>\n",
       "      <td>2.46</td>\n",
       "    </tr>\n",
       "    <tr>\n",
       "      <th>2</th>\n",
       "      <td>20200507</td>\n",
       "      <td>7.80</td>\n",
       "      <td>8.10</td>\n",
       "      <td>7.75</td>\n",
       "      <td>7.85</td>\n",
       "      <td>7.85</td>\n",
       "      <td>120595.69</td>\n",
       "      <td>95328.979</td>\n",
       "      <td>600338</td>\n",
       "      <td>0.00</td>\n",
       "      <td>-1.27</td>\n",
       "      <td>3.18</td>\n",
       "    </tr>\n",
       "    <tr>\n",
       "      <th>3</th>\n",
       "      <td>20200507</td>\n",
       "      <td>2.44</td>\n",
       "      <td>2.46</td>\n",
       "      <td>2.39</td>\n",
       "      <td>2.40</td>\n",
       "      <td>2.46</td>\n",
       "      <td>384607.54</td>\n",
       "      <td>92936.096</td>\n",
       "      <td>600339</td>\n",
       "      <td>-2.44</td>\n",
       "      <td>-2.85</td>\n",
       "      <td>0.00</td>\n",
       "    </tr>\n",
       "    <tr>\n",
       "      <th>4</th>\n",
       "      <td>20200507</td>\n",
       "      <td>21.04</td>\n",
       "      <td>21.68</td>\n",
       "      <td>20.73</td>\n",
       "      <td>20.82</td>\n",
       "      <td>20.81</td>\n",
       "      <td>54168.20</td>\n",
       "      <td>114698.094</td>\n",
       "      <td>600345</td>\n",
       "      <td>0.05</td>\n",
       "      <td>-0.38</td>\n",
       "      <td>4.18</td>\n",
       "    </tr>\n",
       "  </tbody>\n",
       "</table>\n",
       "</div>"
      ],
      "text/plain": [
       "  trade_date   open   high    low  close  pre_close        vol      amount  \\\n",
       "0   20200507   5.66   5.83   5.57   5.74       5.66  244749.35  139664.831   \n",
       "1   20200507   4.07   4.17   4.05   4.16       4.07  112401.63   46203.088   \n",
       "2   20200507   7.80   8.10   7.75   7.85       7.85  120595.69   95328.979   \n",
       "3   20200507   2.44   2.46   2.39   2.40       2.46  384607.54   92936.096   \n",
       "4   20200507  21.04  21.68  20.73  20.82      20.81   54168.20  114698.094   \n",
       "\n",
       "     code  pct_change  low_pct_change  high_pct_change  \n",
       "0  600336        1.41           -1.59             3.00  \n",
       "1  600337        2.21           -0.49             2.46  \n",
       "2  600338        0.00           -1.27             3.18  \n",
       "3  600339       -2.44           -2.85             0.00  \n",
       "4  600345        0.05           -0.38             4.18  "
      ]
     },
     "execution_count": 22,
     "metadata": {},
     "output_type": "execute_result"
    }
   ],
   "source": [
    "df.head()"
   ]
  },
  {
   "cell_type": "code",
   "execution_count": 23,
   "metadata": {},
   "outputs": [],
   "source": [
    "df.to_csv(\"D:/python_stock/20200507.csv\")"
   ]
  }
 ],
 "metadata": {
  "hide_input": false,
  "kernelspec": {
   "display_name": "Python 3",
   "language": "python",
   "name": "python3"
  },
  "language_info": {
   "codemirror_mode": {
    "name": "ipython",
    "version": 3
   },
   "file_extension": ".py",
   "mimetype": "text/x-python",
   "name": "python",
   "nbconvert_exporter": "python",
   "pygments_lexer": "ipython3",
   "version": "3.6.6"
  },
  "toc": {
   "base_numbering": 1,
   "nav_menu": {},
   "number_sections": true,
   "sideBar": true,
   "skip_h1_title": false,
   "title_cell": "Table of Contents",
   "title_sidebar": "Contents",
   "toc_cell": false,
   "toc_position": {
    "height": "calc(100% - 180px)",
    "left": "10px",
    "top": "150px",
    "width": "380.391px"
   },
   "toc_section_display": true,
   "toc_window_display": false
  }
 },
 "nbformat": 4,
 "nbformat_minor": 2
}
