{
 "cells": [
  {
   "cell_type": "markdown",
   "metadata": {},
   "source": [
    "歪打误撞，非自己决策的开仓——赚一笔就跑"
   ]
  },
  {
   "cell_type": "code",
   "execution_count": 16,
   "metadata": {},
   "outputs": [
    {
     "name": "stderr",
     "output_type": "stream",
     "text": [
      "c:\\users\\administrator\\appdata\\local\\programs\\python\\python36\\lib\\site-packages\\tushare\\util\\upass.py:28: FutureWarning: \n",
      ".ix is deprecated. Please use\n",
      ".loc for label based indexing or\n",
      ".iloc for positional indexing\n",
      "\n",
      "See the documentation here:\n",
      "http://pandas.pydata.org/pandas-docs/stable/user_guide/indexing.html#ix-indexer-is-deprecated\n",
      "  return str(df.ix[0]['token'])\n"
     ]
    }
   ],
   "source": [
    "import tushare as ts\n",
    "\n",
    "ts.set_token('409115656486e3f61481103ec280339511aee50ee9026f9b008985ea')\n",
    "pro = ts.pro_api()"
   ]
  },
  {
   "cell_type": "markdown",
   "metadata": {},
   "source": [
    "# 黄金和比特币趋势"
   ]
  },
  {
   "cell_type": "markdown",
   "metadata": {},
   "source": [
    "## 比特币数据"
   ]
  },
  {
   "cell_type": "code",
   "execution_count": 31,
   "metadata": {},
   "outputs": [
    {
     "name": "stderr",
     "output_type": "stream",
     "text": [
      "c:\\users\\administrator\\appdata\\local\\programs\\python\\python36\\lib\\site-packages\\tushare\\util\\upass.py:28: FutureWarning: \n",
      ".ix is deprecated. Please use\n",
      ".loc for label based indexing or\n",
      ".iloc for positional indexing\n",
      "\n",
      "See the documentation here:\n",
      "http://pandas.pydata.org/pandas-docs/stable/user_guide/indexing.html#ix-indexer-is-deprecated\n",
      "  return str(df.ix[0]['token'])\n"
     ]
    }
   ],
   "source": [
    "ts.set_token(\"409115656486e3f61481103ec280339511aee50ee9026f9b008985ea\")\n",
    "\n",
    "pro = ts.pro_api()\n",
    "df = pro.btc_pricevol(start_date='20180101', end_date='20180801')"
   ]
  },
  {
   "cell_type": "code",
   "execution_count": 32,
   "metadata": {},
   "outputs": [
    {
     "data": {
      "text/html": [
       "<div>\n",
       "<style scoped>\n",
       "    .dataframe tbody tr th:only-of-type {\n",
       "        vertical-align: middle;\n",
       "    }\n",
       "\n",
       "    .dataframe tbody tr th {\n",
       "        vertical-align: top;\n",
       "    }\n",
       "\n",
       "    .dataframe thead th {\n",
       "        text-align: right;\n",
       "    }\n",
       "</style>\n",
       "<table border=\"1\" class=\"dataframe\">\n",
       "  <thead>\n",
       "    <tr style=\"text-align: right;\">\n",
       "      <th></th>\n",
       "      <th>date</th>\n",
       "      <th>price</th>\n",
       "      <th>volume</th>\n",
       "    </tr>\n",
       "  </thead>\n",
       "  <tbody>\n",
       "    <tr>\n",
       "      <th>0</th>\n",
       "      <td>20180801</td>\n",
       "      <td>7579.056837</td>\n",
       "      <td>5.759918e+08</td>\n",
       "    </tr>\n",
       "    <tr>\n",
       "      <th>1</th>\n",
       "      <td>20180731</td>\n",
       "      <td>7915.267761</td>\n",
       "      <td>7.305237e+08</td>\n",
       "    </tr>\n",
       "    <tr>\n",
       "      <th>2</th>\n",
       "      <td>20180730</td>\n",
       "      <td>8128.549310</td>\n",
       "      <td>6.716885e+08</td>\n",
       "    </tr>\n",
       "    <tr>\n",
       "      <th>3</th>\n",
       "      <td>20180729</td>\n",
       "      <td>8193.888653</td>\n",
       "      <td>2.656748e+08</td>\n",
       "    </tr>\n",
       "    <tr>\n",
       "      <th>4</th>\n",
       "      <td>20180728</td>\n",
       "      <td>8168.527643</td>\n",
       "      <td>2.808106e+08</td>\n",
       "    </tr>\n",
       "  </tbody>\n",
       "</table>\n",
       "</div>"
      ],
      "text/plain": [
       "       date        price        volume\n",
       "0  20180801  7579.056837  5.759918e+08\n",
       "1  20180731  7915.267761  7.305237e+08\n",
       "2  20180730  8128.549310  6.716885e+08\n",
       "3  20180729  8193.888653  2.656748e+08\n",
       "4  20180728  8168.527643  2.808106e+08"
      ]
     },
     "execution_count": 32,
     "metadata": {},
     "output_type": "execute_result"
    }
   ],
   "source": [
    "df.head()"
   ]
  },
  {
   "cell_type": "markdown",
   "metadata": {},
   "source": [
    "## 黄金数据"
   ]
  },
  {
   "cell_type": "markdown",
   "metadata": {},
   "source": [
    "# 期货-股票联动\n",
    "农产品、贵金属"
   ]
  },
  {
   "cell_type": "markdown",
   "metadata": {},
   "source": [
    "# 代码调试"
   ]
  },
  {
   "cell_type": "code",
   "execution_count": 1,
   "metadata": {},
   "outputs": [],
   "source": [
    "def get_conzt_num(stock_code):\n",
    "    df = get_hdata(stock_code)\n",
    "    close_list = list(df[\"close\"])\n",
    "    pct_list = [round(close_list[i + 1] / close_list[i] * 100 - 100, 2) for i in range(len(close_list) - 1)]\n",
    "    reversed_percent = pct_list[::-1]\n",
    "    num = len([item for item in itertools.takewhile(lambda x: x >= 9.9, reversed_percent)])\n",
    "    return num"
   ]
  },
  {
   "cell_type": "code",
   "execution_count": 71,
   "metadata": {},
   "outputs": [
    {
     "data": {
      "text/plain": [
       "'2020-03-04'"
      ]
     },
     "execution_count": 71,
     "metadata": {},
     "output_type": "execute_result"
    }
   ],
   "source": [
    "time=\"20200304\"\n",
    "\"%s-%s-%s\" %(time[:4],time[4:6],time[6:])"
   ]
  },
  {
   "cell_type": "code",
   "execution_count": 2,
   "metadata": {},
   "outputs": [],
   "source": [
    "import pandas as pd\n",
    "import numpy as np\n",
    "import os\n",
    "\n",
    "wd = \"D:/python_stock/historical_data\"\n",
    "test_file = \"%s/000001.csv\" %(wd)"
   ]
  },
  {
   "cell_type": "code",
   "execution_count": 3,
   "metadata": {},
   "outputs": [],
   "source": [
    "df = pd.read_csv(test_file,index_col=0)"
   ]
  },
  {
   "cell_type": "code",
   "execution_count": 6,
   "metadata": {},
   "outputs": [],
   "source": [
    "rev_df = df.iloc[::-1]"
   ]
  },
  {
   "cell_type": "markdown",
   "metadata": {},
   "source": [
    "二项操作：\n",
    "1）连续>+9.9的个数\n",
    "2）根据new_stock记录，新开板个股 - 开板高度"
   ]
  },
  {
   "cell_type": "code",
   "execution_count": null,
   "metadata": {},
   "outputs": [],
   "source": [
    "df = df[~df.index.str.startswith(\"688\")]                             ### 排除科创板数据"
   ]
  },
  {
   "cell_type": "code",
   "execution_count": null,
   "metadata": {},
   "outputs": [],
   "source": [
    "class SubNewStockMongo():\n",
    "    \"\"\"\n",
    "    近端次新：60日，远端次新：180日，自动更新\n",
    "    统计开板高度，提醒今日开板\n",
    "    \"\"\"\n",
    "\n",
    "    def __init__(self,timeout=300):\n",
    "        self.client = MongoClient()\n",
    "        self.db = self.client[\"stock\"]\n",
    "        self.collection = self.db[\"new_stock\"]\n",
    "        self.concept_collection = self.db[\"stock_concept\"]\n",
    "\n",
    "    def get_ave_pchange(self, df, type):\n",
    "        stock_list= []\n",
    "        for item in self.collection.find({\"type\":type,\"kb\":True}):    #排除未开板新股\n",
    "            stock_list.append(item[\"stock_code\"])\n",
    "        filter = df.loc[stock_list,:]\n",
    "        os.chdir(os.path.join(\"D:/python_stock/涨停概念分析\",judge_date()))\n",
    "        filter.to_csv(\"%s次新.csv\" %(type), encoding=\"utf_8_sig\")\n",
    "        ave_change = round(filter[\"changepercent\"].sum()/len(stock_list), 2)\n",
    "        print(\"开板%s次新的今日涨幅: %s\" %(type,ave_change))\n",
    "        return ave_change\n",
    "\n",
    "    def find_one(self,stock_code):\n",
    "        return self.collection.find_one({\"stock_code\":stock_code})\n",
    "\n",
    "    def delete_one(self,stock_code):\n",
    "        self.collection.delete_one({\"stock_code\":stock_code})\n",
    "\n",
    "    def degrade(self,stock_code):\n",
    "        self.collection.update({\"stock_code\":stock_code},{\"$set\":{\"type\":\"远端\"}},upsert=True)\n",
    "\n",
    "    def update(self, stock_code, stock_name, ttm, issue_price):\n",
    "        \"\"\"\n",
    "        ttm：开板时间（为什么当时要取这个名字）\n",
    "        \"\"\"\n",
    "        if not self.find_one(stock_code):\n",
    "            print(\"出现新股：%s\\t%s，于%s上市\" % (stock_code, stock_name, ttm))\n",
    "            self.collection.update({\"stock_code\": stock_code},\n",
    "                                   {\"$set\": {\"stock_name\": stock_name, \"ttm\": ttm, \"issue_price\": issue_price,\"kb\": False,\"type\":\"近端\"}},\n",
    "                                    upsert=True)\n",
    "        if self.collection.find_one({\"stock_code\": stock_code, \"kb\": False}):\n",
    "            kbgd = get_kbgd(stock_code)\n",
    "            if kbgd == 0:\n",
    "                self.collection.update({\"stock_code\": stock_code},\n",
    "                                       {\"$set\": {\"stock_name\": stock_name, \"ttm\": ttm, \"issue_price\": issue_price,\"kb\": False, \"type\":\"近端\"}},\n",
    "                                        upsert=True)\n",
    "            else:\n",
    "                self.collection.update({\"stock_code\": stock_code},\n",
    "                                       {\"$set\": {\"stock_name\": stock_name, \"ttm\": ttm, \"issue_price\": issue_price,\"kb\": True, \"kbgd\": kbgd, \"type\":\"近端\"}},\n",
    "                                        upsert=True)\n",
    "                self.concept_collection.update({\"stock_code\": stock_code},\n",
    "                                               {\"$addToSet\": {\"jqk_concept\": \"开板近端次新\"}},\n",
    "                                               upsert=True)\n",
    "                print(\"%s %s今天开板，开板高度%s\" % (stock_code, stock_name, kbgd))\n",
    "        else:\n",
    "            pass"
   ]
  }
 ],
 "metadata": {
  "hide_input": false,
  "kernelspec": {
   "display_name": "Python 3",
   "language": "python",
   "name": "python3"
  },
  "language_info": {
   "codemirror_mode": {
    "name": "ipython",
    "version": 3
   },
   "file_extension": ".py",
   "mimetype": "text/x-python",
   "name": "python",
   "nbconvert_exporter": "python",
   "pygments_lexer": "ipython3",
   "version": "3.6.6"
  },
  "toc": {
   "base_numbering": 1,
   "nav_menu": {},
   "number_sections": true,
   "sideBar": true,
   "skip_h1_title": false,
   "title_cell": "Table of Contents",
   "title_sidebar": "Contents",
   "toc_cell": false,
   "toc_position": {
    "height": "calc(100% - 180px)",
    "left": "10px",
    "top": "150px",
    "width": "380.391px"
   },
   "toc_section_display": true,
   "toc_window_display": true
  }
 },
 "nbformat": 4,
 "nbformat_minor": 2
}
