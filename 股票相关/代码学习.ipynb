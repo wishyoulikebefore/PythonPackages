{
 "cells": [
  {
   "cell_type": "code",
   "execution_count": 13,
   "metadata": {},
   "outputs": [],
   "source": [
    "import tushare as ts\n",
    "import pandas as pd\n",
    "import numpy as np\n",
    "import matplotlib.pyplot as plt"
   ]
  },
  {
   "cell_type": "code",
   "execution_count": 2,
   "metadata": {},
   "outputs": [],
   "source": [
    "data = ts.get_k_data(\"601398\", start=\"2018-01-01\", end=\"2018-05-27\")"
   ]
  },
  {
   "cell_type": "code",
   "execution_count": 4,
   "metadata": {},
   "outputs": [
    {
     "data": {
      "text/html": [
       "<div>\n",
       "<style scoped>\n",
       "    .dataframe tbody tr th:only-of-type {\n",
       "        vertical-align: middle;\n",
       "    }\n",
       "\n",
       "    .dataframe tbody tr th {\n",
       "        vertical-align: top;\n",
       "    }\n",
       "\n",
       "    .dataframe thead th {\n",
       "        text-align: right;\n",
       "    }\n",
       "</style>\n",
       "<table border=\"1\" class=\"dataframe\">\n",
       "  <thead>\n",
       "    <tr style=\"text-align: right;\">\n",
       "      <th></th>\n",
       "      <th>date</th>\n",
       "      <th>open</th>\n",
       "      <th>close</th>\n",
       "      <th>high</th>\n",
       "      <th>low</th>\n",
       "      <th>volume</th>\n",
       "      <th>code</th>\n",
       "    </tr>\n",
       "  </thead>\n",
       "  <tbody>\n",
       "    <tr>\n",
       "      <th>0</th>\n",
       "      <td>2018-01-02</td>\n",
       "      <td>5.928</td>\n",
       "      <td>5.918</td>\n",
       "      <td>6.119</td>\n",
       "      <td>5.851</td>\n",
       "      <td>5374662.0</td>\n",
       "      <td>601398</td>\n",
       "    </tr>\n",
       "    <tr>\n",
       "      <th>1</th>\n",
       "      <td>2018-01-03</td>\n",
       "      <td>5.918</td>\n",
       "      <td>5.899</td>\n",
       "      <td>6.052</td>\n",
       "      <td>5.861</td>\n",
       "      <td>3493611.0</td>\n",
       "      <td>601398</td>\n",
       "    </tr>\n",
       "    <tr>\n",
       "      <th>2</th>\n",
       "      <td>2018-01-04</td>\n",
       "      <td>5.918</td>\n",
       "      <td>5.813</td>\n",
       "      <td>5.918</td>\n",
       "      <td>5.803</td>\n",
       "      <td>4351365.0</td>\n",
       "      <td>601398</td>\n",
       "    </tr>\n",
       "    <tr>\n",
       "      <th>3</th>\n",
       "      <td>2018-01-05</td>\n",
       "      <td>5.832</td>\n",
       "      <td>5.822</td>\n",
       "      <td>5.851</td>\n",
       "      <td>5.803</td>\n",
       "      <td>2817842.0</td>\n",
       "      <td>601398</td>\n",
       "    </tr>\n",
       "    <tr>\n",
       "      <th>4</th>\n",
       "      <td>2018-01-08</td>\n",
       "      <td>5.832</td>\n",
       "      <td>5.813</td>\n",
       "      <td>5.841</td>\n",
       "      <td>5.784</td>\n",
       "      <td>2184876.0</td>\n",
       "      <td>601398</td>\n",
       "    </tr>\n",
       "  </tbody>\n",
       "</table>\n",
       "</div>"
      ],
      "text/plain": [
       "         date   open  close   high    low     volume    code\n",
       "0  2018-01-02  5.928  5.918  6.119  5.851  5374662.0  601398\n",
       "1  2018-01-03  5.918  5.899  6.052  5.861  3493611.0  601398\n",
       "2  2018-01-04  5.918  5.813  5.918  5.803  4351365.0  601398\n",
       "3  2018-01-05  5.832  5.822  5.851  5.803  2817842.0  601398\n",
       "4  2018-01-08  5.832  5.813  5.841  5.784  2184876.0  601398"
      ]
     },
     "execution_count": 4,
     "metadata": {},
     "output_type": "execute_result"
    }
   ],
   "source": [
    "data.head()"
   ]
  },
  {
   "cell_type": "markdown",
   "metadata": {},
   "source": [
    "# MA值\n",
    "Moving average，即移动平均线指标"
   ]
  },
  {
   "cell_type": "markdown",
   "metadata": {},
   "source": [
    "## 计算方法"
   ]
  },
  {
   "cell_type": "markdown",
   "metadata": {},
   "source": [
    "MA = (C1+C2+C3+C4+C5+....+Cn)/n （C 为收盘价答，n 为移动平均周期数）"
   ]
  },
  {
   "cell_type": "markdown",
   "metadata": {},
   "source": [
    "## 实现代码"
   ]
  },
  {
   "cell_type": "code",
   "execution_count": 25,
   "metadata": {},
   "outputs": [],
   "source": [
    "def ma(data, n=10, val_name=\"close\"):\n",
    "    '''\n",
    "    移动平均线 Moving Average\n",
    "    Parameters\n",
    "    ------\n",
    "      data:pandas.DataFrame\n",
    "                  通过 get_h_data 取得的股票数据\n",
    "      n:int\n",
    "                  移动平均线时长，时间单位根据data决定\n",
    "      val_name:string\n",
    "                  计算哪一列的列名，默认为 close 收盘值\n",
    "\n",
    "    return\n",
    "    -------\n",
    "      list\n",
    "          移动平均线\n",
    "    '''\n",
    "\n",
    "    values = []\n",
    "    MA = []\n",
    "\n",
    "    for index, row in data.iterrows():\n",
    "        values.append(row[val_name])\n",
    "#         if len(values) == n:            此处有误\n",
    "#             del values[0]\n",
    "        MA.append(np.average(values))\n",
    "        if len(values) == n:        \n",
    "            del values[0]    \n",
    "\n",
    "    return np.asarray(MA)\n",
    "\n",
    "### 收盘前，当日的MA线是会移动的"
   ]
  },
  {
   "cell_type": "markdown",
   "metadata": {},
   "source": [
    "# EMA值"
   ]
  },
  {
   "cell_type": "markdown",
   "metadata": {},
   "source": [
    "Exponential Moving Average，指数移动平均值，以指数式递减加权的移动平均（时间越靠近当今，权重越大）\n",
    "\n",
    "当要比较数值与均价的关系时，用 MA 就可以了，而要比较均价的趋势快慢时，用 EMA 更稳定"
   ]
  },
  {
   "cell_type": "markdown",
   "metadata": {},
   "source": [
    "## 计算方法"
   ]
  },
  {
   "cell_type": "code",
   "execution_count": 39,
   "metadata": {},
   "outputs": [
    {
     "data": {
      "text/latex": [
       "定义式\n",
       "$$EMA_N(X_n)=\\frac{2}{N+1}\\sum_{k=0}^{\\infty}(\\frac{N-1}{N+1})^k x_{n-k}$$\n",
       "\n",
       "推递式\n",
       "$$EMA_N(X_n)=\\frac{2x_n+(N-1)EMA_N(X_{n-1})}{N+1}$$\n"
      ],
      "text/plain": [
       "<IPython.core.display.Latex object>"
      ]
     },
     "metadata": {},
     "output_type": "display_data"
    }
   ],
   "source": [
    "%%latex\n",
    "定义式\n",
    "$$EMA_N(X_n)=\\frac{2}{N+1}\\sum_{k=0}^{\\infty}(\\frac{N-1}{N+1})^k x_{n-k}$$\n",
    "\n",
    "推递式\n",
    "$$EMA_N(X_n)=\\frac{2x_n+(N-1)EMA_N(X_{n-1})}{N+1}$$"
   ]
  },
  {
   "cell_type": "markdown",
   "metadata": {},
   "source": [
    "## 实现代码"
   ]
  },
  {
   "cell_type": "code",
   "execution_count": null,
   "metadata": {},
   "outputs": [],
   "source": [
    "def ema(data, n=12, val_name=\"close\"):\n",
    "    '''\n",
    "        指数平均数指标 Exponential Moving Average\n",
    "        Parameters\n",
    "        ------\n",
    "          data:pandas.DataFrame\n",
    "                      通过 get_h_data 取得的股票数据\n",
    "          n:int\n",
    "                      移动平均线时长，时间单位根据data决定\n",
    "          val_name:string\n",
    "                      计算哪一列的列名，默认为 close 收盘值\n",
    "\n",
    "        return\n",
    "        -------\n",
    "          EMA:numpy.ndarray<numpy.float64>\n",
    "              指数平均数指标\n",
    "    '''\n",
    "\n",
    "    prices = []\n",
    "\n",
    "    EMA = []\n",
    "\n",
    "    for index, row in data.iterrows():\n",
    "        if index == 0:\n",
    "            past_ema = row[val_name]\n",
    "            EMA.append(row[val_name])\n",
    "        else:\n",
    "            today_ema = (2 * row[val_name] + (n - 1) * past_ema) / (n + 1)\n",
    "            past_ema = today_ema\n",
    "\n",
    "            EMA.append(today_ema)\n",
    "\n",
    "    return np.asarray(EMA)"
   ]
  },
  {
   "cell_type": "markdown",
   "metadata": {},
   "source": [
    "# MACD指标\n",
    "Moving Average Convergence / Divergence，异同移动平均线，是从双指数移动平均线发展而来的"
   ]
  },
  {
   "cell_type": "markdown",
   "metadata": {},
   "source": [
    "## 计算方法"
   ]
  },
  {
   "cell_type": "markdown",
   "metadata": {},
   "source": [
    "由快的指数移动平均线（EMA12）减去慢的指数移动平均线（EMA26）得到快线DIF，再用2×（快线DIF-DIF的9日加权移动均线DEA）得到MACD柱"
   ]
  },
  {
   "cell_type": "markdown",
   "metadata": {},
   "source": [
    "## 实现代码"
   ]
  },
  {
   "cell_type": "code",
   "execution_count": 41,
   "metadata": {},
   "outputs": [],
   "source": [
    "def macd(data, quick_n=12, slow_n=26, dem_n=9, val_name=\"close\"):\n",
    "    '''\n",
    "        指数平滑异同平均线(MACD: Moving Average Convergence Divergence)\n",
    "        Parameters\n",
    "        ------\n",
    "          data:pandas.DataFrame\n",
    "                      通过 get_h_data 取得的股票数据\n",
    "          quick_n:int\n",
    "                      DIFF差离值中快速移动天数\n",
    "          slow_n:int\n",
    "                      DIFF差离值中慢速移动天数\n",
    "          dem_n:int\n",
    "                      DEM讯号线的移动天数\n",
    "          val_name:string\n",
    "                      计算哪一列的列名，默认为 close 收盘值\n",
    "\n",
    "        return\n",
    "        -------\n",
    "          OSC:numpy.ndarray<numpy.float64>\n",
    "              MACD bar / OSC 差值柱形图 DIFF - DEM\n",
    "          DIFF:numpy.ndarray<numpy.float64>\n",
    "              差离值\n",
    "          DEM:numpy.ndarray<numpy.float64>\n",
    "              讯号线\n",
    "    '''\n",
    "\n",
    "    ema_quick = np.asarray(ema(data, quick_n, val_name))\n",
    "    ema_slow = np.asarray(ema(data, slow_n, val_name))\n",
    "    DIFF = ema_quick - ema_slow\n",
    "    data[\"diff\"] = DIFF\n",
    "    DEM = ema(data, dem_n, \"diff\")\n",
    "    OSC = DIFF - DEM\n",
    "    return 2*OSC"
   ]
  },
  {
   "cell_type": "markdown",
   "metadata": {},
   "source": [
    "# KDJ指标\n",
    "随机指标，根据统计学原理，通过一个特定的周期（常为9日、9周等）内出现过的最高价、最低价及最后一个计算周期的收盘价及这三者之间的比例关系，来计算最后一个计算周期的未成熟随机值RSV，然后根据平滑移动平均线的方法来计算K值、D值与J值"
   ]
  },
  {
   "cell_type": "markdown",
   "metadata": {},
   "source": [
    "## 计算方法"
   ]
  },
  {
   "cell_type": "markdown",
   "metadata": {},
   "source": [
    "n日RSV=（Cn－Ln）/（Hn－Ln）×100，其中Cn为第n日收盘价；Ln为n日内的最低价；Hn为n日内的最高价\n",
    "\n",
    "其次，计算K值与D值：\n",
    "\n",
    "当日K值=2/3×前一日K值+1/3×当日RSV\n",
    "\n",
    "当日D值=2/3×前一日D值+1/3×当日K值\n",
    "\n",
    "若无前一日K 值与D值，则可分别用50来代替。\n",
    "\n",
    "J值=3*当日K值-2*当日D值\n",
    "\n",
    "以9日为周期的KD线为例，即未成熟随机值\n",
    "\n",
    "计算公式为9日RSV=（C－L9）÷（H9－L9）×100%，其中C为第9日的收盘价；L9为9日内的最低价；H9为9日内的最高价\n",
    "\n",
    "K值=2/3×第8日K值+1/3×第9日RSV\n",
    "\n",
    "D值=2/3×第8日D值+1/3×第9日K值\n",
    "\n",
    "J值=3*第9日K值-2*第9日D值\n",
    "\n",
    "若无前一日K值与D值，则可以分别用50代替"
   ]
  },
  {
   "cell_type": "markdown",
   "metadata": {},
   "source": [
    "## 实现代码"
   ]
  },
  {
   "cell_type": "code",
   "execution_count": 40,
   "metadata": {},
   "outputs": [],
   "source": [
    "def kdj(data):\n",
    "    '''\n",
    "        随机指标KDJ\n",
    "        Parameters\n",
    "        ------\n",
    "          data:pandas.DataFrame\n",
    "                通过 get_h_data 取得的股票数据\n",
    "        return\n",
    "        -------\n",
    "          K:numpy.ndarray<numpy.float64>\n",
    "              K线\n",
    "          D:numpy.ndarray<numpy.float64>\n",
    "              D线\n",
    "          J:numpy.ndarray<numpy.float64>\n",
    "              J线\n",
    "    '''\n",
    "\n",
    "    K, D, J = [], [], []\n",
    "    last_k, last_d = None, None\n",
    "    for index, row in data.iterrows():\n",
    "        if last_k is None or last_d is None:\n",
    "            last_k = 50\n",
    "            last_d = 50\n",
    "\n",
    "        c, l, h = row[\"close\"], row[\"low\"], row[\"high\"]\n",
    "\n",
    "        rsv = (c - l) / (h - l) * 100\n",
    "\n",
    "        k = (2 / 3) * last_k + (1 / 3) * rsv\n",
    "        d = (2 / 3) * last_d + (1 / 3) * k\n",
    "        j = 3 * k - 2 * d\n",
    "\n",
    "        K.append(k)\n",
    "        D.append(d)\n",
    "        J.append(j)\n",
    "\n",
    "        last_k, last_d = k, d\n",
    "\n",
    "    return np.asarray(K), np.asarray(D), np.asarray(J)"
   ]
  },
  {
   "cell_type": "markdown",
   "metadata": {},
   "source": [
    "# RSI指标"
   ]
  },
  {
   "cell_type": "markdown",
   "metadata": {},
   "source": [
    "## 实现代码"
   ]
  },
  {
   "cell_type": "code",
   "execution_count": 42,
   "metadata": {},
   "outputs": [],
   "source": [
    "def rsi(data, n=6, val_name=\"close\"):\n",
    "    import numpy as np\n",
    "\n",
    "    '''\n",
    "        相对强弱指标RSI\n",
    "        Parameters\n",
    "        ------\n",
    "          data:pandas.DataFrame\n",
    "                      通过 get_h_data 取得的股票数据\n",
    "          n:int\n",
    "                统计时长，时间单位根据data决定\n",
    "        return\n",
    "        -------\n",
    "          RSI:numpy.ndarray<numpy.float64>\n",
    "              RSI线\n",
    "        \n",
    "    '''\n",
    "\n",
    "    RSI = []\n",
    "    UP = []\n",
    "    DOWN = []\n",
    "    for index, row in data.iterrows():\n",
    "        if index == 0:\n",
    "            past_value = row[val_name]\n",
    "            RSI.append(0)\n",
    "        else:\n",
    "            diff = row[val_name] - past_value\n",
    "            if diff > 0:\n",
    "                UP.append(diff)\n",
    "                DOWN.append(0)\n",
    "            else:\n",
    "                UP.append(0)\n",
    "                DOWN.append(diff)\n",
    "\n",
    "            if len(UP) == n:\n",
    "                del UP[0]\n",
    "            if len(DOWN) == n:\n",
    "                del DOWN[0]\n",
    "\n",
    "            past_value = row[val_name]\n",
    "\n",
    "            rsi = np.sum(UP) / (-np.sum(DOWN) + np.sum(UP)) * 100\n",
    "            RSI.append(rsi)\n",
    "\n",
    "    return np.asarray(RSI)"
   ]
  },
  {
   "cell_type": "markdown",
   "metadata": {},
   "source": [
    "# bool指标"
   ]
  },
  {
   "cell_type": "markdown",
   "metadata": {},
   "source": [
    "## 实现代码"
   ]
  },
  {
   "cell_type": "code",
   "execution_count": 43,
   "metadata": {},
   "outputs": [],
   "source": [
    "def boll(data, n=10, val_name=\"close\", k=2):\n",
    "    '''\n",
    "        布林线指标BOLL\n",
    "        Parameters\n",
    "        ------\n",
    "          data:pandas.DataFrame\n",
    "                      通过 get_h_data 取得的股票数据\n",
    "          n:int\n",
    "                统计时长，时间单位根据data决定\n",
    "        return\n",
    "        -------\n",
    "          BOLL:numpy.ndarray<numpy.float64>\n",
    "              中轨线\n",
    "          UPPER:numpy.ndarray<numpy.float64>\n",
    "              D线\n",
    "          J:numpy.ndarray<numpy.float64>\n",
    "              J线\n",
    "    '''\n",
    "\n",
    "    BOLL = ma(data, n, val_name)\n",
    "\n",
    "    MD = md(data, n, val_name)\n",
    "\n",
    "    UPPER = BOLL + k * MD\n",
    "\n",
    "    LOWER = BOLL - k * MD\n",
    "\n",
    "    return BOLL, UPPER, LOWER"
   ]
  },
  {
   "cell_type": "code",
   "execution_count": null,
   "metadata": {},
   "outputs": [],
   "source": []
  }
 ],
 "metadata": {
  "hide_input": false,
  "kernelspec": {
   "display_name": "Python 3",
   "language": "python",
   "name": "python3"
  },
  "language_info": {
   "codemirror_mode": {
    "name": "ipython",
    "version": 3
   },
   "file_extension": ".py",
   "mimetype": "text/x-python",
   "name": "python",
   "nbconvert_exporter": "python",
   "pygments_lexer": "ipython3",
   "version": "3.6.0"
  },
  "toc": {
   "base_numbering": 1,
   "nav_menu": {},
   "number_sections": true,
   "sideBar": true,
   "skip_h1_title": false,
   "title_cell": "Table of Contents",
   "title_sidebar": "Contents",
   "toc_cell": false,
   "toc_position": {},
   "toc_section_display": true,
   "toc_window_display": true
  }
 },
 "nbformat": 4,
 "nbformat_minor": 2
}
