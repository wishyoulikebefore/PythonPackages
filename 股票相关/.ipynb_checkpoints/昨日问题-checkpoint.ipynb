{
 "cells": [
  {
   "cell_type": "markdown",
   "metadata": {},
   "source": [
    "歪打误撞，非自己决策的开仓——赚一笔就跑\n",
    "\n",
    "原则：\n",
    "1. 市场上的钱比你聪明的多，其追逐的热点就是正确\n",
    "\n",
    "2. 只想我该如何进入热点，不要想着热点如何为我所处的领域所用"
   ]
  },
  {
   "cell_type": "code",
   "execution_count": 16,
   "metadata": {},
   "outputs": [
    {
     "name": "stderr",
     "output_type": "stream",
     "text": [
      "c:\\users\\administrator\\appdata\\local\\programs\\python\\python36\\lib\\site-packages\\tushare\\util\\upass.py:28: FutureWarning: \n",
      ".ix is deprecated. Please use\n",
      ".loc for label based indexing or\n",
      ".iloc for positional indexing\n",
      "\n",
      "See the documentation here:\n",
      "http://pandas.pydata.org/pandas-docs/stable/user_guide/indexing.html#ix-indexer-is-deprecated\n",
      "  return str(df.ix[0]['token'])\n"
     ]
    }
   ],
   "source": [
    "import tushare as ts\n",
    "\n",
    "ts.set_token('409115656486e3f61481103ec280339511aee50ee9026f9b008985ea')\n",
    "pro = ts.pro_api()"
   ]
  },
  {
   "cell_type": "markdown",
   "metadata": {},
   "source": [
    "# Q1"
   ]
  },
  {
   "cell_type": "code",
   "execution_count": 1,
   "metadata": {},
   "outputs": [],
   "source": [
    "from pymongo import MongoClient\n",
    "\n",
    "client = MongoClient()\n",
    "db = client[\"stock\"]\n",
    "collection = db[\"stock_2Month\"]"
   ]
  },
  {
   "cell_type": "code",
   "execution_count": 12,
   "metadata": {},
   "outputs": [],
   "source": [
    "import tushare as ts\n",
    "import pandas as pd\n",
    "import re\n",
    "\n",
    "def get_daily_pro(trade_date):\n",
    "    \"\"\"\n",
    "    应对旧接口get_today_all指令失效\n",
    "    \"\"\"\n",
    "    trade_date = re.sub(\"-\",\"\",trade_date)\n",
    "    ts.set_token('409115656486e3f61481103ec280339511aee50ee9026f9b008985ea')\n",
    "    pro = ts.pro_api()\n",
    "    df = pro.daily(trade_date=trade_date)\n",
    "    df[\"code\"] = df[\"ts_code\"].str[:6]\n",
    "    df[\"pct_change\"] = df.apply(lambda x: round(x[\"close\"] / x[\"pre_close\"] * 100 - 100, 2), axis=1)\n",
    "    df[\"low_pct_change\"] = df.apply(lambda x: round(x[\"low\"] / x[\"pre_close\"] * 100 - 100, 2), axis=1)\n",
    "    df[\"high_pct_change\"] = df.apply(lambda x: round(x[\"high\"] / x[\"pre_close\"] * 100 - 100, 2), axis=1)\n",
    "    df.drop([\"change\", \"pct_chg\", \"ts_code\"], axis=1, inplace=True)\n",
    "    return df"
   ]
  },
  {
   "cell_type": "code",
   "execution_count": 13,
   "metadata": {},
   "outputs": [
    {
     "name": "stderr",
     "output_type": "stream",
     "text": [
      "c:\\users\\administrator\\appdata\\local\\programs\\python\\python36\\lib\\site-packages\\tushare\\util\\upass.py:28: FutureWarning: \n",
      ".ix is deprecated. Please use\n",
      ".loc for label based indexing or\n",
      ".iloc for positional indexing\n",
      "\n",
      "See the documentation here:\n",
      "http://pandas.pydata.org/pandas-docs/stable/user_guide/indexing.html#ix-indexer-is-deprecated\n",
      "  return str(df.ix[0]['token'])\n"
     ]
    }
   ],
   "source": [
    "df = get_daily_pro(\"2020-05-15\")"
   ]
  },
  {
   "cell_type": "code",
   "execution_count": 14,
   "metadata": {},
   "outputs": [
    {
     "data": {
      "text/html": [
       "<div>\n",
       "<style scoped>\n",
       "    .dataframe tbody tr th:only-of-type {\n",
       "        vertical-align: middle;\n",
       "    }\n",
       "\n",
       "    .dataframe tbody tr th {\n",
       "        vertical-align: top;\n",
       "    }\n",
       "\n",
       "    .dataframe thead th {\n",
       "        text-align: right;\n",
       "    }\n",
       "</style>\n",
       "<table border=\"1\" class=\"dataframe\">\n",
       "  <thead>\n",
       "    <tr style=\"text-align: right;\">\n",
       "      <th></th>\n",
       "      <th>trade_date</th>\n",
       "      <th>open</th>\n",
       "      <th>high</th>\n",
       "      <th>low</th>\n",
       "      <th>close</th>\n",
       "      <th>pre_close</th>\n",
       "      <th>vol</th>\n",
       "      <th>amount</th>\n",
       "      <th>code</th>\n",
       "      <th>pct_change</th>\n",
       "      <th>low_pct_change</th>\n",
       "      <th>high_pct_change</th>\n",
       "    </tr>\n",
       "  </thead>\n",
       "  <tbody>\n",
       "    <tr>\n",
       "      <th>0</th>\n",
       "      <td>20200515</td>\n",
       "      <td>13.18</td>\n",
       "      <td>13.18</td>\n",
       "      <td>12.76</td>\n",
       "      <td>12.82</td>\n",
       "      <td>13.01</td>\n",
       "      <td>357218.06</td>\n",
       "      <td>461794.753</td>\n",
       "      <td>000877</td>\n",
       "      <td>-1.46</td>\n",
       "      <td>-1.92</td>\n",
       "      <td>1.31</td>\n",
       "    </tr>\n",
       "    <tr>\n",
       "      <th>1</th>\n",
       "      <td>20200515</td>\n",
       "      <td>9.50</td>\n",
       "      <td>9.54</td>\n",
       "      <td>9.46</td>\n",
       "      <td>9.50</td>\n",
       "      <td>9.45</td>\n",
       "      <td>103738.71</td>\n",
       "      <td>98533.597</td>\n",
       "      <td>000878</td>\n",
       "      <td>0.53</td>\n",
       "      <td>0.11</td>\n",
       "      <td>0.95</td>\n",
       "    </tr>\n",
       "    <tr>\n",
       "      <th>2</th>\n",
       "      <td>20200515</td>\n",
       "      <td>7.74</td>\n",
       "      <td>7.82</td>\n",
       "      <td>7.71</td>\n",
       "      <td>7.74</td>\n",
       "      <td>7.73</td>\n",
       "      <td>18431.87</td>\n",
       "      <td>14297.047</td>\n",
       "      <td>000880</td>\n",
       "      <td>0.13</td>\n",
       "      <td>-0.26</td>\n",
       "      <td>1.16</td>\n",
       "    </tr>\n",
       "    <tr>\n",
       "      <th>3</th>\n",
       "      <td>20200515</td>\n",
       "      <td>6.72</td>\n",
       "      <td>6.85</td>\n",
       "      <td>6.67</td>\n",
       "      <td>6.78</td>\n",
       "      <td>6.72</td>\n",
       "      <td>30182.60</td>\n",
       "      <td>20417.377</td>\n",
       "      <td>000881</td>\n",
       "      <td>0.89</td>\n",
       "      <td>-0.74</td>\n",
       "      <td>1.93</td>\n",
       "    </tr>\n",
       "    <tr>\n",
       "      <th>4</th>\n",
       "      <td>20200515</td>\n",
       "      <td>1.85</td>\n",
       "      <td>1.86</td>\n",
       "      <td>1.83</td>\n",
       "      <td>1.84</td>\n",
       "      <td>1.85</td>\n",
       "      <td>81117.00</td>\n",
       "      <td>14947.601</td>\n",
       "      <td>000882</td>\n",
       "      <td>-0.54</td>\n",
       "      <td>-1.08</td>\n",
       "      <td>0.54</td>\n",
       "    </tr>\n",
       "  </tbody>\n",
       "</table>\n",
       "</div>"
      ],
      "text/plain": [
       "  trade_date   open   high    low  close  pre_close        vol      amount  \\\n",
       "0   20200515  13.18  13.18  12.76  12.82      13.01  357218.06  461794.753   \n",
       "1   20200515   9.50   9.54   9.46   9.50       9.45  103738.71   98533.597   \n",
       "2   20200515   7.74   7.82   7.71   7.74       7.73   18431.87   14297.047   \n",
       "3   20200515   6.72   6.85   6.67   6.78       6.72   30182.60   20417.377   \n",
       "4   20200515   1.85   1.86   1.83   1.84       1.85   81117.00   14947.601   \n",
       "\n",
       "     code  pct_change  low_pct_change  high_pct_change  \n",
       "0  000877       -1.46           -1.92             1.31  \n",
       "1  000878        0.53            0.11             0.95  \n",
       "2  000880        0.13           -0.26             1.16  \n",
       "3  000881        0.89           -0.74             1.93  \n",
       "4  000882       -0.54           -1.08             0.54  "
      ]
     },
     "execution_count": 14,
     "metadata": {},
     "output_type": "execute_result"
    }
   ],
   "source": [
    "df.head()"
   ]
  }
 ],
 "metadata": {
  "hide_input": false,
  "kernelspec": {
   "display_name": "Python 3",
   "language": "python",
   "name": "python3"
  },
  "language_info": {
   "codemirror_mode": {
    "name": "ipython",
    "version": 3
   },
   "file_extension": ".py",
   "mimetype": "text/x-python",
   "name": "python",
   "nbconvert_exporter": "python",
   "pygments_lexer": "ipython3",
   "version": "3.6.6"
  },
  "toc": {
   "base_numbering": 1,
   "nav_menu": {},
   "number_sections": true,
   "sideBar": true,
   "skip_h1_title": false,
   "title_cell": "Table of Contents",
   "title_sidebar": "Contents",
   "toc_cell": false,
   "toc_position": {
    "height": "calc(100% - 180px)",
    "left": "10px",
    "top": "150px",
    "width": "380.391px"
   },
   "toc_section_display": true,
   "toc_window_display": false
  }
 },
 "nbformat": 4,
 "nbformat_minor": 2
}
