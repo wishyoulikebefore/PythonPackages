{
 "cells": [
  {
   "cell_type": "markdown",
   "metadata": {},
   "source": [
    "歪打误撞，非自己决策的开仓——赚一笔就跑\n",
    "\n",
    "原则：\n",
    "1. 市场上的钱比你聪明的多，其追逐的热点就是正确\n",
    "\n",
    "2. 只想我该如何进入热点，不要想着热点如何为我所处的领域所用"
   ]
  },
  {
   "cell_type": "code",
   "execution_count": 16,
   "metadata": {},
   "outputs": [
    {
     "name": "stderr",
     "output_type": "stream",
     "text": [
      "c:\\users\\administrator\\appdata\\local\\programs\\python\\python36\\lib\\site-packages\\tushare\\util\\upass.py:28: FutureWarning: \n",
      ".ix is deprecated. Please use\n",
      ".loc for label based indexing or\n",
      ".iloc for positional indexing\n",
      "\n",
      "See the documentation here:\n",
      "http://pandas.pydata.org/pandas-docs/stable/user_guide/indexing.html#ix-indexer-is-deprecated\n",
      "  return str(df.ix[0]['token'])\n"
     ]
    }
   ],
   "source": [
    "import tushare as ts\n",
    "\n",
    "ts.set_token('409115656486e3f61481103ec280339511aee50ee9026f9b008985ea')\n",
    "pro = ts.pro_api()"
   ]
  },
  {
   "cell_type": "markdown",
   "metadata": {},
   "source": [
    "# 黄金和比特币趋势"
   ]
  },
  {
   "cell_type": "markdown",
   "metadata": {},
   "source": [
    "## 比特币数据"
   ]
  },
  {
   "cell_type": "code",
   "execution_count": 31,
   "metadata": {},
   "outputs": [
    {
     "name": "stderr",
     "output_type": "stream",
     "text": [
      "c:\\users\\administrator\\appdata\\local\\programs\\python\\python36\\lib\\site-packages\\tushare\\util\\upass.py:28: FutureWarning: \n",
      ".ix is deprecated. Please use\n",
      ".loc for label based indexing or\n",
      ".iloc for positional indexing\n",
      "\n",
      "See the documentation here:\n",
      "http://pandas.pydata.org/pandas-docs/stable/user_guide/indexing.html#ix-indexer-is-deprecated\n",
      "  return str(df.ix[0]['token'])\n"
     ]
    }
   ],
   "source": [
    "ts.set_token(\"409115656486e3f61481103ec280339511aee50ee9026f9b008985ea\")\n",
    "\n",
    "pro = ts.pro_api()\n",
    "df = pro.btc_pricevol(start_date='20180101', end_date='20180801')"
   ]
  },
  {
   "cell_type": "code",
   "execution_count": 32,
   "metadata": {},
   "outputs": [
    {
     "data": {
      "text/html": [
       "<div>\n",
       "<style scoped>\n",
       "    .dataframe tbody tr th:only-of-type {\n",
       "        vertical-align: middle;\n",
       "    }\n",
       "\n",
       "    .dataframe tbody tr th {\n",
       "        vertical-align: top;\n",
       "    }\n",
       "\n",
       "    .dataframe thead th {\n",
       "        text-align: right;\n",
       "    }\n",
       "</style>\n",
       "<table border=\"1\" class=\"dataframe\">\n",
       "  <thead>\n",
       "    <tr style=\"text-align: right;\">\n",
       "      <th></th>\n",
       "      <th>date</th>\n",
       "      <th>price</th>\n",
       "      <th>volume</th>\n",
       "    </tr>\n",
       "  </thead>\n",
       "  <tbody>\n",
       "    <tr>\n",
       "      <th>0</th>\n",
       "      <td>20180801</td>\n",
       "      <td>7579.056837</td>\n",
       "      <td>5.759918e+08</td>\n",
       "    </tr>\n",
       "    <tr>\n",
       "      <th>1</th>\n",
       "      <td>20180731</td>\n",
       "      <td>7915.267761</td>\n",
       "      <td>7.305237e+08</td>\n",
       "    </tr>\n",
       "    <tr>\n",
       "      <th>2</th>\n",
       "      <td>20180730</td>\n",
       "      <td>8128.549310</td>\n",
       "      <td>6.716885e+08</td>\n",
       "    </tr>\n",
       "    <tr>\n",
       "      <th>3</th>\n",
       "      <td>20180729</td>\n",
       "      <td>8193.888653</td>\n",
       "      <td>2.656748e+08</td>\n",
       "    </tr>\n",
       "    <tr>\n",
       "      <th>4</th>\n",
       "      <td>20180728</td>\n",
       "      <td>8168.527643</td>\n",
       "      <td>2.808106e+08</td>\n",
       "    </tr>\n",
       "  </tbody>\n",
       "</table>\n",
       "</div>"
      ],
      "text/plain": [
       "       date        price        volume\n",
       "0  20180801  7579.056837  5.759918e+08\n",
       "1  20180731  7915.267761  7.305237e+08\n",
       "2  20180730  8128.549310  6.716885e+08\n",
       "3  20180729  8193.888653  2.656748e+08\n",
       "4  20180728  8168.527643  2.808106e+08"
      ]
     },
     "execution_count": 32,
     "metadata": {},
     "output_type": "execute_result"
    }
   ],
   "source": [
    "df.head()"
   ]
  },
  {
   "cell_type": "markdown",
   "metadata": {},
   "source": [
    "## 黄金数据"
   ]
  },
  {
   "cell_type": "markdown",
   "metadata": {},
   "source": [
    "# 期货-股票联动\n",
    "http://goodsfu.10jqka.com.cn\n",
    "\n",
    "https://zhuanlan.zhihu.com/p/40802537"
   ]
  },
  {
   "cell_type": "markdown",
   "metadata": {},
   "source": [
    "# 妖股反弹"
   ]
  },
  {
   "cell_type": "markdown",
   "metadata": {},
   "source": [
    "# 跌停抄底"
   ]
  },
  {
   "cell_type": "code",
   "execution_count": 14,
   "metadata": {},
   "outputs": [],
   "source": [
    "from pymongo import MongoClient\n",
    "\n",
    "client = MongoClient()\n",
    "db = client[\"stock\"]\n",
    "collection = db[\"jqk_concept\"]"
   ]
  },
  {
   "cell_type": "code",
   "execution_count": 1,
   "metadata": {},
   "outputs": [],
   "source": [
    "import tushare as ts\n",
    "import pandas as pd\n",
    "\n",
    "def get_daily_pro(trade_date):\n",
    "    \"\"\"\n",
    "    应对旧接口get_today_all指令失效\n",
    "    \"\"\"\n",
    "    trade_date = re.sub(\"-\",\"\",trade_date)\n",
    "    ts.set_token('409115656486e3f61481103ec280339511aee50ee9026f9b008985ea')\n",
    "    pro = ts.pro_api()\n",
    "    df = pro.daily(trade_date=trade_date)\n",
    "    df[\"code\"] = df[\"ts_code\"].str[:6]\n",
    "    df[\"pct_change\"] = df.apply(lambda x: round(x[\"close\"] / x[\"pre_close\"] * 100 - 100, 2), axis=1)\n",
    "    df[\"low_pct_change\"] = df.apply(lambda x: round(x[\"low\"] / x[\"pre_close\"] * 100 - 100, 2), axis=1)\n",
    "    df[\"high_pct_change\"] = df.apply(lambda x: round(x[\"high\"] / x[\"pre_close\"] * 100 - 100, 2), axis=1)\n",
    "    df.drop([\"change\", \"pct_chg\", \"ts_code\"], axis=1, inplace=True)\n",
    "    return df"
   ]
  },
  {
   "cell_type": "code",
   "execution_count": 2,
   "metadata": {},
   "outputs": [
    {
     "name": "stderr",
     "output_type": "stream",
     "text": [
      "c:\\users\\administrator\\appdata\\local\\programs\\python\\python36\\lib\\site-packages\\tushare\\util\\upass.py:28: FutureWarning: \n",
      ".ix is deprecated. Please use\n",
      ".loc for label based indexing or\n",
      ".iloc for positional indexing\n",
      "\n",
      "See the documentation here:\n",
      "http://pandas.pydata.org/pandas-docs/stable/user_guide/indexing.html#ix-indexer-is-deprecated\n",
      "  return str(df.ix[0]['token'])\n"
     ]
    }
   ],
   "source": [
    "import re\n",
    "\n",
    "df = get_daily_pro(\"20200511\")"
   ]
  },
  {
   "cell_type": "code",
   "execution_count": 3,
   "metadata": {},
   "outputs": [
    {
     "data": {
      "text/html": [
       "<div>\n",
       "<style scoped>\n",
       "    .dataframe tbody tr th:only-of-type {\n",
       "        vertical-align: middle;\n",
       "    }\n",
       "\n",
       "    .dataframe tbody tr th {\n",
       "        vertical-align: top;\n",
       "    }\n",
       "\n",
       "    .dataframe thead th {\n",
       "        text-align: right;\n",
       "    }\n",
       "</style>\n",
       "<table border=\"1\" class=\"dataframe\">\n",
       "  <thead>\n",
       "    <tr style=\"text-align: right;\">\n",
       "      <th></th>\n",
       "      <th>trade_date</th>\n",
       "      <th>open</th>\n",
       "      <th>high</th>\n",
       "      <th>low</th>\n",
       "      <th>close</th>\n",
       "      <th>pre_close</th>\n",
       "      <th>vol</th>\n",
       "      <th>amount</th>\n",
       "      <th>code</th>\n",
       "      <th>pct_change</th>\n",
       "      <th>low_pct_change</th>\n",
       "      <th>high_pct_change</th>\n",
       "    </tr>\n",
       "  </thead>\n",
       "  <tbody>\n",
       "    <tr>\n",
       "      <th>0</th>\n",
       "      <td>20200511</td>\n",
       "      <td>3.17</td>\n",
       "      <td>3.20</td>\n",
       "      <td>3.05</td>\n",
       "      <td>3.09</td>\n",
       "      <td>3.16</td>\n",
       "      <td>83283.12</td>\n",
       "      <td>25846.541</td>\n",
       "      <td>000927</td>\n",
       "      <td>-2.22</td>\n",
       "      <td>-3.48</td>\n",
       "      <td>1.27</td>\n",
       "    </tr>\n",
       "    <tr>\n",
       "      <th>1</th>\n",
       "      <td>20200511</td>\n",
       "      <td>4.19</td>\n",
       "      <td>4.32</td>\n",
       "      <td>4.18</td>\n",
       "      <td>4.28</td>\n",
       "      <td>4.19</td>\n",
       "      <td>146603.26</td>\n",
       "      <td>62435.999</td>\n",
       "      <td>000928</td>\n",
       "      <td>2.15</td>\n",
       "      <td>-0.24</td>\n",
       "      <td>3.10</td>\n",
       "    </tr>\n",
       "    <tr>\n",
       "      <th>2</th>\n",
       "      <td>20200511</td>\n",
       "      <td>6.24</td>\n",
       "      <td>6.24</td>\n",
       "      <td>6.17</td>\n",
       "      <td>6.20</td>\n",
       "      <td>6.20</td>\n",
       "      <td>9958.01</td>\n",
       "      <td>6175.554</td>\n",
       "      <td>000929</td>\n",
       "      <td>0.00</td>\n",
       "      <td>-0.48</td>\n",
       "      <td>0.65</td>\n",
       "    </tr>\n",
       "    <tr>\n",
       "      <th>3</th>\n",
       "      <td>20200511</td>\n",
       "      <td>7.63</td>\n",
       "      <td>7.78</td>\n",
       "      <td>7.50</td>\n",
       "      <td>7.60</td>\n",
       "      <td>7.70</td>\n",
       "      <td>281786.65</td>\n",
       "      <td>214862.873</td>\n",
       "      <td>000930</td>\n",
       "      <td>-1.30</td>\n",
       "      <td>-2.60</td>\n",
       "      <td>1.04</td>\n",
       "    </tr>\n",
       "    <tr>\n",
       "      <th>4</th>\n",
       "      <td>20200511</td>\n",
       "      <td>9.06</td>\n",
       "      <td>9.12</td>\n",
       "      <td>8.95</td>\n",
       "      <td>8.98</td>\n",
       "      <td>9.05</td>\n",
       "      <td>44670.97</td>\n",
       "      <td>40268.924</td>\n",
       "      <td>000931</td>\n",
       "      <td>-0.77</td>\n",
       "      <td>-1.10</td>\n",
       "      <td>0.77</td>\n",
       "    </tr>\n",
       "  </tbody>\n",
       "</table>\n",
       "</div>"
      ],
      "text/plain": [
       "  trade_date  open  high   low  close  pre_close        vol      amount  \\\n",
       "0   20200511  3.17  3.20  3.05   3.09       3.16   83283.12   25846.541   \n",
       "1   20200511  4.19  4.32  4.18   4.28       4.19  146603.26   62435.999   \n",
       "2   20200511  6.24  6.24  6.17   6.20       6.20    9958.01    6175.554   \n",
       "3   20200511  7.63  7.78  7.50   7.60       7.70  281786.65  214862.873   \n",
       "4   20200511  9.06  9.12  8.95   8.98       9.05   44670.97   40268.924   \n",
       "\n",
       "     code  pct_change  low_pct_change  high_pct_change  \n",
       "0  000927       -2.22           -3.48             1.27  \n",
       "1  000928        2.15           -0.24             3.10  \n",
       "2  000929        0.00           -0.48             0.65  \n",
       "3  000930       -1.30           -2.60             1.04  \n",
       "4  000931       -0.77           -1.10             0.77  "
      ]
     },
     "execution_count": 3,
     "metadata": {},
     "output_type": "execute_result"
    }
   ],
   "source": [
    "df.head()"
   ]
  },
  {
   "cell_type": "code",
   "execution_count": 5,
   "metadata": {},
   "outputs": [],
   "source": [
    "df.to_csv(\"D:/python_stock/20200511.csv\")"
   ]
  },
  {
   "cell_type": "code",
   "execution_count": 6,
   "metadata": {},
   "outputs": [
    {
     "ename": "ModuleNotFoundError",
     "evalue": "No module named 'pymongo_functions'",
     "output_type": "error",
     "traceback": [
      "\u001b[1;31m---------------------------------------------------------------------------\u001b[0m",
      "\u001b[1;31mModuleNotFoundError\u001b[0m                       Traceback (most recent call last)",
      "\u001b[1;32m<ipython-input-6-6134c4fa985a>\u001b[0m in \u001b[0;36m<module>\u001b[1;34m\u001b[0m\n\u001b[1;32m----> 1\u001b[1;33m \u001b[1;32mfrom\u001b[0m \u001b[0mpymongo_functions\u001b[0m \u001b[1;32mimport\u001b[0m \u001b[0mget_today_zt\u001b[0m\u001b[1;33m\u001b[0m\u001b[0m\n\u001b[0m\u001b[0;32m      2\u001b[0m \u001b[1;32mfrom\u001b[0m \u001b[0mpymongo_class\u001b[0m \u001b[1;32mimport\u001b[0m \u001b[1;33m*\u001b[0m\u001b[1;33m\u001b[0m\u001b[0m\n\u001b[0;32m      3\u001b[0m \u001b[1;32mfrom\u001b[0m \u001b[0mcrawl_api\u001b[0m \u001b[1;32mimport\u001b[0m \u001b[1;33m*\u001b[0m\u001b[1;33m\u001b[0m\u001b[0m\n\u001b[0;32m      4\u001b[0m \u001b[1;32mimport\u001b[0m \u001b[0mpandas\u001b[0m \u001b[1;32mas\u001b[0m \u001b[0mpd\u001b[0m\u001b[1;33m\u001b[0m\u001b[0m\n\u001b[0;32m      5\u001b[0m \u001b[1;32mfrom\u001b[0m \u001b[0mgeneral_functions\u001b[0m \u001b[1;32mimport\u001b[0m \u001b[0mjudge_date\u001b[0m\u001b[1;33m,\u001b[0m\u001b[0mJQK_concept_pct\u001b[0m\u001b[1;33m\u001b[0m\u001b[0m\n",
      "\u001b[1;31mModuleNotFoundError\u001b[0m: No module named 'pymongo_functions'"
     ]
    }
   ],
   "source": [
    "from pymongo_functions import get_today_zt\n",
    "from pymongo_class import *\n",
    "from crawl_api import *\n",
    "import pandas as pd\n",
    "from general_functions import judge_date,JQK_concept_pct\n",
    "from tushare_api import get_daily_pro\n",
    "from keywords import concept_url,concept_list,daily_analysis_dir\n",
    "from collections import defaultdict\n",
    "\n",
    "class AnalysisZt():\n",
    "\n",
    "    \"\"\"\n",
    "    分析每日涨停股对应概念\n",
    "    \"\"\"\n",
    "\n",
    "    def __init__(self,min_zt_num=1,timeout=300):\n",
    "        self.zt_collection = StockZtMongo()\n",
    "        self.concept_collection = ConceptSummaryMongo()\n",
    "        self.stock2month_collection = Stock2MonthMongo()\n",
    "        self.concept2month_collection = JQKConcept2MonthMongo()\n",
    "        self.min_zt_num = min_zt_num\n",
    "        self.trade_date = judge_date()\n",
    "\n",
    "    def update_stock2month(self,df):\n",
    "        self.stock2month_collection.init_db()\n",
    "        row_len = len(df)\n",
    "        for row_num in range(row_len):\n",
    "            content = df.iloc[row_num, :]\n",
    "            self.stock2month_collection.update_daily(content[\"code\"], content[\"pct_change\"], content[\"low_pct_change\"],\n",
    "                              content[\"high_pct_change\"], content[\"volume\"], self.trade_date)\n",
    "\n",
    "    def update_concept2month(self):\n",
    "        self.concept2month_collection.init_db()\n",
    "\n",
    "\n",
    "    def get_break_zt(self,df):\n",
    "        \"\"\"\n",
    "        返回涨停回落个股数目\n",
    "        \"\"\"\n",
    "        filter_df = df[(df[\"high\"] / df[\"settlement\"] >= 1.099) & (df[\"changepercent\"] < 1.099)]\n",
    "        return len(filter_df)\n",
    "\n",
    "    def start_analysis(self):\n",
    "        yesterday_max_zt = self.zt_collection.get_max_zt_days()\n",
    "        df = get_daily_pro(self.trade_date)\n",
    "        print(\"\\n数据已获得\")\n",
    "        self.update_stock2month(df)\n",
    "        zt_dict = get_today_zt(df)\n",
    "        print(\"今日涨停回落股数%s\" %(self.get_break_zt(df)))\n",
    "        self.zt_collection.refresh()\n",
    "        today_max_zt = self.zt_collection.get_max_zt_days()\n",
    "        print(\"昨日涨停高度：%s，今日涨停高度：%s\"%(yesterday_max_zt,today_max_zt))"
   ]
  },
  {
   "cell_type": "code",
   "execution_count": null,
   "metadata": {},
   "outputs": [],
   "source": []
  }
 ],
 "metadata": {
  "hide_input": false,
  "kernelspec": {
   "display_name": "Python 3",
   "language": "python",
   "name": "python3"
  },
  "language_info": {
   "codemirror_mode": {
    "name": "ipython",
    "version": 3
   },
   "file_extension": ".py",
   "mimetype": "text/x-python",
   "name": "python",
   "nbconvert_exporter": "python",
   "pygments_lexer": "ipython3",
   "version": "3.6.6"
  },
  "toc": {
   "base_numbering": 1,
   "nav_menu": {},
   "number_sections": true,
   "sideBar": true,
   "skip_h1_title": false,
   "title_cell": "Table of Contents",
   "title_sidebar": "Contents",
   "toc_cell": false,
   "toc_position": {
    "height": "calc(100% - 180px)",
    "left": "10px",
    "top": "150px",
    "width": "380.391px"
   },
   "toc_section_display": true,
   "toc_window_display": false
  }
 },
 "nbformat": 4,
 "nbformat_minor": 2
}
