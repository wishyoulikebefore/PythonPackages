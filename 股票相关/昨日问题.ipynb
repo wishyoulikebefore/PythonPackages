{
 "cells": [
  {
   "cell_type": "markdown",
   "metadata": {},
   "source": [
    "歪打误撞，非自己决策的开仓——赚一笔就跑\n",
    "\n",
    "原则：\n",
    "1. 市场上的钱比你聪明的多，其追逐的热点就是正确\n",
    "\n",
    "2. 只想我该如何进入热点，不要想着热点如何为我所处的领域所用"
   ]
  },
  {
   "cell_type": "code",
   "execution_count": 16,
   "metadata": {},
   "outputs": [
    {
     "name": "stderr",
     "output_type": "stream",
     "text": [
      "c:\\users\\administrator\\appdata\\local\\programs\\python\\python36\\lib\\site-packages\\tushare\\util\\upass.py:28: FutureWarning: \n",
      ".ix is deprecated. Please use\n",
      ".loc for label based indexing or\n",
      ".iloc for positional indexing\n",
      "\n",
      "See the documentation here:\n",
      "http://pandas.pydata.org/pandas-docs/stable/user_guide/indexing.html#ix-indexer-is-deprecated\n",
      "  return str(df.ix[0]['token'])\n"
     ]
    }
   ],
   "source": [
    "import tushare as ts\n",
    "\n",
    "ts.set_token('409115656486e3f61481103ec280339511aee50ee9026f9b008985ea')\n",
    "pro = ts.pro_api()"
   ]
  },
  {
   "cell_type": "markdown",
   "metadata": {},
   "source": [
    "# Q1"
   ]
  },
  {
   "cell_type": "code",
   "execution_count": 1,
   "metadata": {},
   "outputs": [],
   "source": [
    "from pymongo import MongoClient\n",
    "\n",
    "client = MongoClient()\n",
    "db = client[\"stock\"]\n",
    "collection = db[\"stock_2Month\"]"
   ]
  },
  {
   "cell_type": "code",
   "execution_count": 20,
   "metadata": {},
   "outputs": [],
   "source": [
    "import tushare as ts\n",
    "import pandas as pd\n",
    "\n",
    "def get_daily_pro(trade_date):\n",
    "    \"\"\"\n",
    "    应对旧接口get_today_all指令失效\n",
    "    \"\"\"\n",
    "    trade_date = re.sub(\"-\",\"\",trade_date)\n",
    "    ts.set_token('409115656486e3f61481103ec280339511aee50ee9026f9b008985ea')\n",
    "    pro = ts.pro_api()\n",
    "    df = pro.daily(trade_date=trade_date)\n",
    "    df[\"code\"] = df[\"ts_code\"].str[:6]\n",
    "    df[\"pct_change\"] = df.apply(lambda x: round(x[\"close\"] / x[\"pre_close\"] * 100 - 100, 2), axis=1)\n",
    "    df[\"low_pct_change\"] = df.apply(lambda x: round(x[\"low\"] / x[\"pre_close\"] * 100 - 100, 2), axis=1)\n",
    "    df[\"high_pct_change\"] = df.apply(lambda x: round(x[\"high\"] / x[\"pre_close\"] * 100 - 100, 2), axis=1)\n",
    "    df.drop([\"change\", \"pct_chg\", \"ts_code\"], axis=1, inplace=True)\n",
    "    return df"
   ]
  },
  {
   "cell_type": "code",
   "execution_count": null,
   "metadata": {},
   "outputs": [],
   "source": []
  }
 ],
 "metadata": {
  "hide_input": false,
  "kernelspec": {
   "display_name": "Python 3",
   "language": "python",
   "name": "python3"
  },
  "language_info": {
   "codemirror_mode": {
    "name": "ipython",
    "version": 3
   },
   "file_extension": ".py",
   "mimetype": "text/x-python",
   "name": "python",
   "nbconvert_exporter": "python",
   "pygments_lexer": "ipython3",
   "version": "3.6.6"
  },
  "toc": {
   "base_numbering": 1,
   "nav_menu": {},
   "number_sections": true,
   "sideBar": true,
   "skip_h1_title": false,
   "title_cell": "Table of Contents",
   "title_sidebar": "Contents",
   "toc_cell": false,
   "toc_position": {
    "height": "calc(100% - 180px)",
    "left": "10px",
    "top": "150px",
    "width": "380.391px"
   },
   "toc_section_display": true,
   "toc_window_display": false
  }
 },
 "nbformat": 4,
 "nbformat_minor": 2
}
