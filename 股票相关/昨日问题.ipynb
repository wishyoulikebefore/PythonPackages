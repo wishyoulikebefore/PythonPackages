{
 "cells": [
  {
   "cell_type": "markdown",
   "metadata": {},
   "source": [
    "歪打误撞，非自己决策的开仓——赚一笔就跑\n",
    "\n",
    "原则：\n",
    "1. 市场上的钱比你聪明的多，其追逐的热点就是正确\n",
    "\n",
    "2. 只想我该如何进入热点，不要想着热点如何为我所处的领域所用"
   ]
  },
  {
   "cell_type": "code",
   "execution_count": 16,
   "metadata": {},
   "outputs": [
    {
     "name": "stderr",
     "output_type": "stream",
     "text": [
      "c:\\users\\administrator\\appdata\\local\\programs\\python\\python36\\lib\\site-packages\\tushare\\util\\upass.py:28: FutureWarning: \n",
      ".ix is deprecated. Please use\n",
      ".loc for label based indexing or\n",
      ".iloc for positional indexing\n",
      "\n",
      "See the documentation here:\n",
      "http://pandas.pydata.org/pandas-docs/stable/user_guide/indexing.html#ix-indexer-is-deprecated\n",
      "  return str(df.ix[0]['token'])\n"
     ]
    }
   ],
   "source": [
    "import tushare as ts\n",
    "\n",
    "ts.set_token('409115656486e3f61481103ec280339511aee50ee9026f9b008985ea')\n",
    "pro = ts.pro_api()"
   ]
  },
  {
   "cell_type": "markdown",
   "metadata": {},
   "source": [
    "# Q1"
   ]
  },
  {
   "cell_type": "code",
   "execution_count": 1,
   "metadata": {},
   "outputs": [],
   "source": [
    "from pymongo import MongoClient\n",
    "\n",
    "client = MongoClient()\n",
    "db = client[\"stock\"]\n",
    "collection = db[\"stock_2Month\"]"
   ]
  },
  {
   "cell_type": "code",
   "execution_count": 12,
   "metadata": {},
   "outputs": [],
   "source": [
    "import tushare as ts\n",
    "import pandas as pd\n",
    "import re\n",
    "\n",
    "def get_daily_pro(trade_date):\n",
    "    \"\"\"\n",
    "    应对旧接口get_today_all指令失效\n",
    "    \"\"\"\n",
    "    trade_date = re.sub(\"-\",\"\",trade_date)\n",
    "    ts.set_token('409115656486e3f61481103ec280339511aee50ee9026f9b008985ea')\n",
    "    pro = ts.pro_api()\n",
    "    df = pro.daily(trade_date=trade_date)\n",
    "    df[\"code\"] = df[\"ts_code\"].str[:6]\n",
    "    df[\"pct_change\"] = df.apply(lambda x: round(x[\"close\"] / x[\"pre_close\"] * 100 - 100, 2), axis=1)\n",
    "    df[\"low_pct_change\"] = df.apply(lambda x: round(x[\"low\"] / x[\"pre_close\"] * 100 - 100, 2), axis=1)\n",
    "    df[\"high_pct_change\"] = df.apply(lambda x: round(x[\"high\"] / x[\"pre_close\"] * 100 - 100, 2), axis=1)\n",
    "    df.drop([\"change\", \"pct_chg\", \"ts_code\"], axis=1, inplace=True)\n",
    "    return df"
   ]
  },
  {
   "cell_type": "code",
   "execution_count": 13,
   "metadata": {},
   "outputs": [
    {
     "name": "stderr",
     "output_type": "stream",
     "text": [
      "c:\\users\\administrator\\appdata\\local\\programs\\python\\python36\\lib\\site-packages\\tushare\\util\\upass.py:28: FutureWarning: \n",
      ".ix is deprecated. Please use\n",
      ".loc for label based indexing or\n",
      ".iloc for positional indexing\n",
      "\n",
      "See the documentation here:\n",
      "http://pandas.pydata.org/pandas-docs/stable/user_guide/indexing.html#ix-indexer-is-deprecated\n",
      "  return str(df.ix[0]['token'])\n"
     ]
    }
   ],
   "source": [
    "df = get_daily_pro(\"2020-05-15\")"
   ]
  },
  {
   "cell_type": "markdown",
   "metadata": {},
   "source": [
    "# code list"
   ]
  },
  {
   "cell_type": "code",
   "execution_count": 3,
   "metadata": {},
   "outputs": [],
   "source": [
    "import tushare as ts\n",
    "\n",
    "ts.set_token('409115656486e3f61481103ec280339511aee50ee9026f9b008985ea')\n",
    "pro = ts.pro_api()\n",
    "data = pro.stock_basic(exchange='', list_status='L', fields='ts_code,symbol,name')"
   ]
  },
  {
   "cell_type": "code",
   "execution_count": 7,
   "metadata": {},
   "outputs": [],
   "source": [
    "data = data.rename(columns={\"name\":\"stock_name\",\"symbol\":\"stock_code\"})"
   ]
  },
  {
   "cell_type": "code",
   "execution_count": 8,
   "metadata": {},
   "outputs": [
    {
     "data": {
      "text/html": [
       "<div>\n",
       "<style scoped>\n",
       "    .dataframe tbody tr th:only-of-type {\n",
       "        vertical-align: middle;\n",
       "    }\n",
       "\n",
       "    .dataframe tbody tr th {\n",
       "        vertical-align: top;\n",
       "    }\n",
       "\n",
       "    .dataframe thead th {\n",
       "        text-align: right;\n",
       "    }\n",
       "</style>\n",
       "<table border=\"1\" class=\"dataframe\">\n",
       "  <thead>\n",
       "    <tr style=\"text-align: right;\">\n",
       "      <th></th>\n",
       "      <th>ts_code</th>\n",
       "      <th>stock_code</th>\n",
       "      <th>stock_name</th>\n",
       "    </tr>\n",
       "  </thead>\n",
       "  <tbody>\n",
       "    <tr>\n",
       "      <th>0</th>\n",
       "      <td>000001.SZ</td>\n",
       "      <td>000001</td>\n",
       "      <td>平安银行</td>\n",
       "    </tr>\n",
       "    <tr>\n",
       "      <th>1</th>\n",
       "      <td>000002.SZ</td>\n",
       "      <td>000002</td>\n",
       "      <td>万科A</td>\n",
       "    </tr>\n",
       "    <tr>\n",
       "      <th>2</th>\n",
       "      <td>000004.SZ</td>\n",
       "      <td>000004</td>\n",
       "      <td>国农科技</td>\n",
       "    </tr>\n",
       "    <tr>\n",
       "      <th>3</th>\n",
       "      <td>000005.SZ</td>\n",
       "      <td>000005</td>\n",
       "      <td>世纪星源</td>\n",
       "    </tr>\n",
       "    <tr>\n",
       "      <th>4</th>\n",
       "      <td>000006.SZ</td>\n",
       "      <td>000006</td>\n",
       "      <td>深振业A</td>\n",
       "    </tr>\n",
       "    <tr>\n",
       "      <th>...</th>\n",
       "      <td>...</td>\n",
       "      <td>...</td>\n",
       "      <td>...</td>\n",
       "    </tr>\n",
       "    <tr>\n",
       "      <th>3824</th>\n",
       "      <td>688399.SH</td>\n",
       "      <td>688399</td>\n",
       "      <td>硕世生物</td>\n",
       "    </tr>\n",
       "    <tr>\n",
       "      <th>3825</th>\n",
       "      <td>688466.SH</td>\n",
       "      <td>688466</td>\n",
       "      <td>金科环境</td>\n",
       "    </tr>\n",
       "    <tr>\n",
       "      <th>3826</th>\n",
       "      <td>688566.SH</td>\n",
       "      <td>688566</td>\n",
       "      <td>吉贝尔</td>\n",
       "    </tr>\n",
       "    <tr>\n",
       "      <th>3827</th>\n",
       "      <td>688588.SH</td>\n",
       "      <td>688588</td>\n",
       "      <td>凌志软件</td>\n",
       "    </tr>\n",
       "    <tr>\n",
       "      <th>3828</th>\n",
       "      <td>688598.SH</td>\n",
       "      <td>688598</td>\n",
       "      <td>金博股份</td>\n",
       "    </tr>\n",
       "  </tbody>\n",
       "</table>\n",
       "<p>3829 rows × 3 columns</p>\n",
       "</div>"
      ],
      "text/plain": [
       "        ts_code stock_code stock_name\n",
       "0     000001.SZ     000001       平安银行\n",
       "1     000002.SZ     000002        万科A\n",
       "2     000004.SZ     000004       国农科技\n",
       "3     000005.SZ     000005       世纪星源\n",
       "4     000006.SZ     000006       深振业A\n",
       "...         ...        ...        ...\n",
       "3824  688399.SH     688399       硕世生物\n",
       "3825  688466.SH     688466       金科环境\n",
       "3826  688566.SH     688566        吉贝尔\n",
       "3827  688588.SH     688588       凌志软件\n",
       "3828  688598.SH     688598       金博股份\n",
       "\n",
       "[3829 rows x 3 columns]"
      ]
     },
     "execution_count": 8,
     "metadata": {},
     "output_type": "execute_result"
    }
   ],
   "source": [
    "data"
   ]
  },
  {
   "cell_type": "code",
   "execution_count": null,
   "metadata": {},
   "outputs": [],
   "source": []
  }
 ],
 "metadata": {
  "hide_input": false,
  "kernelspec": {
   "display_name": "Python 3",
   "language": "python",
   "name": "python3"
  },
  "language_info": {
   "codemirror_mode": {
    "name": "ipython",
    "version": 3
   },
   "file_extension": ".py",
   "mimetype": "text/x-python",
   "name": "python",
   "nbconvert_exporter": "python",
   "pygments_lexer": "ipython3",
   "version": "3.6.0"
  },
  "toc": {
   "base_numbering": 1,
   "nav_menu": {},
   "number_sections": true,
   "sideBar": true,
   "skip_h1_title": false,
   "title_cell": "Table of Contents",
   "title_sidebar": "Contents",
   "toc_cell": false,
   "toc_position": {
    "height": "calc(100% - 180px)",
    "left": "10px",
    "top": "150px",
    "width": "380.391px"
   },
   "toc_section_display": true,
   "toc_window_display": false
  }
 },
 "nbformat": 4,
 "nbformat_minor": 2
}
