{
 "cells": [
  {
   "cell_type": "code",
   "execution_count": 1,
   "id": "65d80b33",
   "metadata": {},
   "outputs": [],
   "source": [
    "def draw_Kline(stock_code,stock_name,save_dir):\n",
    "    test_file = \"%s/%s.csv\" %(history_data_dir,stock_code)\n",
    "    df = pd.read_csv(test_file)\n",
    "    df.rename(columns={\"vol\":\"volume\"},inplace=True)\n",
    "    # date必须作为index，且格式需要调整\n",
    "    df[\"trade_date\"] = pd.to_datetime(df[\"trade_date\"],format='%Y%m%d')\n",
    "    df.set_index(\"trade_date\", inplace=True)\n",
    "\n",
    "    # 符合中国习惯的配色风格——红涨绿跌自然是必须实现的第一步\n",
    "    my_color = mpl.make_marketcolors(up='r',\n",
    "                                     down='g',\n",
    "                                     edge='inherit',\n",
    "                                     wick='inherit',\n",
    "                                     volume='inherit')\n",
    "    # 设置图表的背景色\n",
    "    my_style = mpl.make_mpf_style(marketcolors=my_color,\n",
    "                                  figcolor='(0.82, 0.83, 0.85)',\n",
    "                                  gridcolor='(0.82, 0.83, 0.85)')\n",
    "\n",
    "    df[\"macd_fast\"],df[\"macd_slow\"],df[\"macd_volume\"] = macd(df)\n",
    "    plot_df = df.iloc[-200:,]\n",
    "    # 增加图表\n",
    "    add_plot = [mpl.make_addplot(plot_df[\"macd_fast\"], color=\"red\",panel=2),\n",
    "                mpl.make_addplot(plot_df[\"macd_slow\"], color=\"green\",panel=2),\n",
    "                mpl.make_addplot(plot_df[\"macd_volume\"], type='bar', width=0.7,panel=2)]\n",
    "    save = '%s/%s.jpg' %(save_dir,stock_name)\n",
    "    # type指定图类型，addplot增加图，mav增加均线,savefig做存储\n",
    "    mpl.plot(plot_df, type = 'candle',style=my_style,figsize=(12, 8),title=stock_name,addplot=add_plot,\n",
    "                 mav = (5, 10, 20, 30,60,120),volume = True, savefig=save)"
   ]
  }
 ],
 "metadata": {
  "kernelspec": {
   "display_name": "Python 3 (ipykernel)",
   "language": "python",
   "name": "python3"
  },
  "language_info": {
   "codemirror_mode": {
    "name": "ipython",
    "version": 3
   },
   "file_extension": ".py",
   "mimetype": "text/x-python",
   "name": "python",
   "nbconvert_exporter": "python",
   "pygments_lexer": "ipython3",
   "version": "3.7.9"
  },
  "toc": {
   "base_numbering": 1,
   "nav_menu": {},
   "number_sections": true,
   "sideBar": true,
   "skip_h1_title": false,
   "title_cell": "Table of Contents",
   "title_sidebar": "Contents",
   "toc_cell": false,
   "toc_position": {},
   "toc_section_display": true,
   "toc_window_display": false
  }
 },
 "nbformat": 4,
 "nbformat_minor": 5
}
