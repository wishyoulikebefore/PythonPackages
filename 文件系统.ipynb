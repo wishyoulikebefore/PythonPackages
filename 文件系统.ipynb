{
 "cells": [
  {
   "cell_type": "code",
   "execution_count": 8,
   "metadata": {
    "ExecuteTime": {
     "end_time": "2019-03-20T13:51:14.232823Z",
     "start_time": "2019-03-20T13:51:14.227826Z"
    }
   },
   "outputs": [],
   "source": [
    "import os\n",
    "import glob\n",
    "import shlex\n",
    "import shutil\n",
    "import subprocess\n",
    "import tempfile"
   ]
  },
  {
   "cell_type": "markdown",
   "metadata": {},
   "source": [
    "# os 跨平台的文件名操作"
   ]
  },
  {
   "cell_type": "markdown",
   "metadata": {},
   "source": [
    "操作文件和目录\n",
    "> getcwd()\n",
    "\n",
    "> chdir()\n",
    "\n",
    "> listdir()\n",
    "\n",
    "> pardir():获取当前目录的父目录字符串名\n",
    "\n",
    "> makedirs()：生成多层递归目录\n",
    "\n",
    "> removedirs()：删除多层递归空目录，若目录不为空则无法删除\n",
    "\n",
    "> mkdir()：生成单级目录\n",
    "\n",
    "> rmdir()：删除单级空目录，若目录不为空则无法删除，报错，需要用shutil.rmtree\n",
    "\n",
    "> remove()：删除一个文件\n",
    "\n",
    "> walk()：遍历文件夹，返回(dirpath, dirnames, filenames)\n",
    "\n",
    "路径相关\n",
    "> path.isfile()和path.isdir()：检验给出的路径是文件还是目录\n",
    "\n",
    "> path.exists()：检验给出的路径是否存在\n",
    "\n",
    "> path.split()：返回一个路径的目录名和文件名\n",
    "\n",
    "> path.abspath()：获得绝对路径\n",
    "\n",
    "> path.basename()：返回文件基名\n",
    "\n",
    "> path.getsize()：获得文件大小\n",
    "\n",
    "> path.getatime(),getctime()和getmtime()：时间戳形式，需要转换：datetime.datetime.fromtimestamp()\n",
    "\n",
    "> path.splitext()：分离文件名与扩展名，用于判断某一类型文件\n",
    "\n",
    "> path.join(path,name)：连接目录与文件名或目录\n",
    "\n",
    "系统相关  \n",
    "> os.system()：运行shell命令"
   ]
  },
  {
   "cell_type": "code",
   "execution_count": 5,
   "metadata": {
    "ExecuteTime": {
     "end_time": "2019-03-20T13:52:34.793584Z",
     "start_time": "2019-03-20T13:52:34.784590Z"
    }
   },
   "outputs": [
    {
     "data": {
      "text/plain": [
       "('/path/to/filename', '.txt')"
      ]
     },
     "execution_count": 5,
     "metadata": {},
     "output_type": "execute_result"
    }
   ],
   "source": [
    "### 拆分文件路径\n",
    "os.path.splitext(\"/path/to/filename.txt\")"
   ]
  },
  {
   "cell_type": "code",
   "execution_count": 6,
   "metadata": {
    "ExecuteTime": {
     "end_time": "2019-03-20T13:52:10.222745Z",
     "start_time": "2019-03-20T13:52:10.198760Z"
    },
    "scrolled": true
   },
   "outputs": [
    {
     "data": {
      "text/plain": [
       "'filename.txt'"
      ]
     },
     "execution_count": 6,
     "metadata": {},
     "output_type": "execute_result"
    }
   ],
   "source": [
    "### 获取文件名\n",
    "os.path.basename(\"/path/to/filename.txt\")"
   ]
  },
  {
   "cell_type": "code",
   "execution_count": 7,
   "metadata": {
    "ExecuteTime": {
     "end_time": "2019-03-20T13:54:11.383094Z",
     "start_time": "2019-03-20T13:54:11.374101Z"
    }
   },
   "outputs": [
    {
     "data": {
      "text/plain": [
       "98"
      ]
     },
     "execution_count": 7,
     "metadata": {},
     "output_type": "execute_result"
    }
   ],
   "source": [
    "### 获取单个文件大小\n",
    "os.path.getsize(\"C:/Users/zty/Desktop/ts_pro.txt\")"
   ]
  },
  {
   "cell_type": "code",
   "execution_count": 10,
   "metadata": {
    "ExecuteTime": {
     "end_time": "2019-03-20T13:56:16.357343Z",
     "start_time": "2019-03-20T13:56:16.340355Z"
    }
   },
   "outputs": [
    {
     "data": {
      "text/plain": [
       "6.966499328613281"
      ]
     },
     "execution_count": 10,
     "metadata": {},
     "output_type": "execute_result"
    }
   ],
   "source": [
    "### 获取文件夹大小\n",
    "def getdirsize(dir):\n",
    "   size = 0\n",
    "   for root, dirs, files in os.walk(dir):\n",
    "      size += sum([os.path.getsize(os.path.join(root, name)) for name in files])\n",
    "   return size/float(1024*1024)\n",
    "\n",
    "getdirsize(\"C:/Users/zty/Desktop/工作文献\")"
   ]
  },
  {
   "cell_type": "code",
   "execution_count": 11,
   "metadata": {
    "ExecuteTime": {
     "end_time": "2019-03-20T13:57:45.254466Z",
     "start_time": "2019-03-20T13:57:45.244473Z"
    }
   },
   "outputs": [
    {
     "data": {
      "text/plain": [
       "datetime.datetime(2019, 3, 14, 21, 35, 8, 643226)"
      ]
     },
     "execution_count": 11,
     "metadata": {},
     "output_type": "execute_result"
    }
   ],
   "source": [
    "### 获取文件生成时间\n",
    "import datetime\n",
    "\n",
    "datetime.datetime.fromtimestamp(os.path.getmtime(\"C:/Users/zty/Desktop/工作文献\"))"
   ]
  },
  {
   "cell_type": "code",
   "execution_count": null,
   "metadata": {},
   "outputs": [],
   "source": [
    "#自动关机 \n",
    "os.system('shutdown -s -t 1') \n",
    "\n",
    "#重启 \n",
    "os.system('shutdown -r')"
   ]
  },
  {
   "cell_type": "markdown",
   "metadata": {},
   "source": [
    "# sys"
   ]
  },
  {
   "cell_type": "markdown",
   "metadata": {},
   "source": [
    "argv：命令行参数List，第一个元素是程序本身路径\n",
    "\n",
    "version：获取Python解释程序的版本信息\n",
    "\n",
    "path：返回模块的搜索路径\n",
    "> 在脚本中额外指定模块路径 sys.path.append(\"/nextcode/nfs_test/users/jiawei_new/lib/python2.7/site-packages\")\n",
    "\n",
    "platform                             \n",
    "\n",
    "exit(n)：退出程序\n",
    "> 正常退出时exit(0)\n",
    "\n",
    "getdefaultencoding()                   \n",
    "\n",
    "setdefaultencoding(name)               \n",
    "\n",
    "stderr：错误输出\n",
    "\n",
    "stdin：标准输入\n",
    "\n",
    "stdout：标准输出\n",
    "> stdout.write() 只支持输出字符串\n",
    "\n",
    "> stdout.flush() 手动刷新缓冲区，可以边迭代边输出"
   ]
  },
  {
   "cell_type": "markdown",
   "metadata": {},
   "source": [
    "# glob 文件名规则匹配\n",
    "glob.glob(pathname, recursive=False)：返回匹配列表"
   ]
  },
  {
   "cell_type": "code",
   "execution_count": null,
   "metadata": {},
   "outputs": [],
   "source": [
    "for _file in glob.glob(\"%s/*success\" %(log_dir)):\n",
    "    sample_name = re.search(r\".*\\.(.*-[NT])\\..*\",_file).group(1)\n",
    "    finished_samples.append(sample_name)"
   ]
  },
  {
   "cell_type": "markdown",
   "metadata": {},
   "source": [
    "通配符\n",
    "> 星号（*）：匹配<font color=\"red\">零个或者多个</font>字符\n",
    "\n",
    "> 问号（？）：匹配任何<font color=\"red\">单个</font>字符"
   ]
  },
  {
   "cell_type": "markdown",
   "metadata": {},
   "source": [
    "# shlex\n",
    "为shell语法编写词法分析器"
   ]
  },
  {
   "cell_type": "code",
   "execution_count": null,
   "metadata": {},
   "outputs": [],
   "source": [
    "#使用类shell语法拆分字符串\n",
    "shlex.split(\"grep -c success %s\" %cmd)"
   ]
  },
  {
   "cell_type": "markdown",
   "metadata": {},
   "source": [
    "# shutil 高阶文件操作\n",
    "对文件的复制与删除操作支持更好"
   ]
  },
  {
   "cell_type": "markdown",
   "metadata": {},
   "source": [
    "## 复制文件\n",
    "copy(src, dst, *, follow_symlinks=True)\n",
    "    \n",
    "copy2(src, dst, *, follow_symlinks=True)：在copy上的基础上最后访问时间与修改时间也复制过来了\t\n",
    "    \n",
    "copyfile(src, dst, *, follow_symlinks=True)\n",
    "\n",
    "copyfileobj(fsrc, fdst, length=16384)：用于下载网上资源"
   ]
  },
  {
   "cell_type": "markdown",
   "metadata": {},
   "source": [
    "## 复制目录\n",
    "copytree(src, dst, symlinks=False, ignore=None, ignore_dangling_symlinks=False)：迭代复制目录，dst必需存在"
   ]
  },
  {
   "cell_type": "markdown",
   "metadata": {},
   "source": [
    "## 移动\n",
    "move(src, dst)"
   ]
  },
  {
   "cell_type": "markdown",
   "metadata": {},
   "source": [
    "## 删除\n",
    "rmtree(path, ignore_errors=False, onerror=None)：可以删除非空目录（os.rmdir无法做到）"
   ]
  },
  {
   "cell_type": "markdown",
   "metadata": {},
   "source": [
    "## 压缩&解压缩\n",
    "unpack_archive(filename,extract_dir=None)：解压缩文件\n",
    "\n",
    "make_archive(base_name, format, root_dir=None)：压缩文件\n",
    "> base_name：压缩完文件的名字\n",
    "\n",
    "> format：bztar, gztar, tar, zip\n",
    "\n",
    "> root_dir：压缩文件的起始位置（默认当前目录）"
   ]
  },
  {
   "cell_type": "markdown",
   "metadata": {},
   "source": [
    "# tempfile 临时对象文件"
   ]
  },
  {
   "cell_type": "markdown",
   "metadata": {},
   "source": [
    "TemporaryFile：打开并返回一个未命名的临时文件\n",
    "\n",
    "NamedTemporaryFile：打开并返回一个命名临时文件\n",
    "\n",
    "SpooledTemporaryFile：会在将数据写入磁盘之前将内容保存在内存中\n",
    "\n",
    "TemporaryDirectory：是一个上下文管理器，它会在上下文关闭的时候移除目录"
   ]
  },
  {
   "cell_type": "markdown",
   "metadata": {},
   "source": [
    "## 临时文件"
   ]
  },
  {
   "cell_type": "code",
   "execution_count": 9,
   "metadata": {},
   "outputs": [
    {
     "name": "stdout",
     "output_type": "stream",
     "text": [
      "TemporaryFile:\n",
      "temp:\n",
      "  <tempfile._TemporaryFileWrapper object at 0x000001932895F908>\n",
      "temp.name:\n",
      "  'C:\\\\Users\\\\86188\\\\AppData\\\\Local\\\\Temp\\\\tmpu3tetgll'\n"
     ]
    }
   ],
   "source": [
    "print('TemporaryFile:')\n",
    "with tempfile.TemporaryFile() as temp:\n",
    "    print('temp:')\n",
    "    print('  {!r}'.format(temp))\n",
    "    print('temp.name:')\n",
    "    print('  {!r}'.format(temp.name))"
   ]
  },
  {
   "cell_type": "markdown",
   "metadata": {},
   "source": [
    "## 命名临时文件\n",
    "适用于跨进程甚至跨主机应用程序"
   ]
  },
  {
   "cell_type": "code",
   "execution_count": 10,
   "metadata": {},
   "outputs": [
    {
     "name": "stdout",
     "output_type": "stream",
     "text": [
      "temp:\n",
      "  <tempfile._TemporaryFileWrapper object at 0x00000193285B16D8>\n",
      "temp.name:\n",
      "  'C:\\\\Users\\\\86188\\\\AppData\\\\Local\\\\Temp\\\\tmpsf81bekx'\n",
      "Exists after close: False\n"
     ]
    }
   ],
   "source": [
    "import pathlib\n",
    "\n",
    "with tempfile.NamedTemporaryFile() as temp:\n",
    "    print('temp:')\n",
    "    print('  {!r}'.format(temp))\n",
    "    print('temp.name:')\n",
    "    print('  {!r}'.format(temp.name))\n",
    "\n",
    "    f = pathlib.Path(temp.name)\n",
    "\n",
    "print('Exists after close:', f.exists())"
   ]
  },
  {
   "cell_type": "markdown",
   "metadata": {},
   "source": [
    "## 缓冲文件"
   ]
  },
  {
   "cell_type": "code",
   "execution_count": 11,
   "metadata": {},
   "outputs": [
    {
     "name": "stdout",
     "output_type": "stream",
     "text": [
      "temp: <tempfile.SpooledTemporaryFile object at 0x000001932895F438>\n",
      "False <_io.StringIO object at 0x000001932893C9D8>\n",
      "False <_io.StringIO object at 0x000001932893C9D8>\n",
      "True <tempfile._TemporaryFileWrapper object at 0x000001932895FB70>\n"
     ]
    }
   ],
   "source": [
    "with tempfile.SpooledTemporaryFile(max_size=100,\n",
    "                                   mode='w+t',\n",
    "                                   encoding='utf-8') as temp:\n",
    "    print('temp: {!r}'.format(temp))\n",
    "\n",
    "    for i in range(3):\n",
    "        temp.write('This line is repeated over and over.\\n')\n",
    "        print(temp._rolled, temp._file)"
   ]
  },
  {
   "cell_type": "markdown",
   "metadata": {},
   "source": [
    "## 临时目录"
   ]
  },
  {
   "cell_type": "code",
   "execution_count": 12,
   "metadata": {},
   "outputs": [
    {
     "name": "stdout",
     "output_type": "stream",
     "text": [
      "C:\\Users\\86188\\AppData\\Local\\Temp\\tmpqhx2ka59\n",
      "Directory exists after? False\n",
      "Contents after: []\n"
     ]
    }
   ],
   "source": [
    "import pathlib\n",
    "\n",
    "with tempfile.TemporaryDirectory() as directory_name:\n",
    "    the_dir = pathlib.Path(directory_name)\n",
    "    print(the_dir)\n",
    "    a_file = the_dir / 'a_file.txt'\n",
    "    a_file.write_text('This file is deleted.')\n",
    "\n",
    "print('Directory exists after?', the_dir.exists())\n",
    "print('Contents after:', list(the_dir.glob('*')))"
   ]
  }
 ],
 "metadata": {
  "hide_input": false,
  "kernelspec": {
   "display_name": "Python 3",
   "language": "python",
   "name": "python3"
  },
  "language_info": {
   "codemirror_mode": {
    "name": "ipython",
    "version": 3
   },
   "file_extension": ".py",
   "mimetype": "text/x-python",
   "name": "python",
   "nbconvert_exporter": "python",
   "pygments_lexer": "ipython3",
   "version": "3.6.6"
  },
  "toc": {
   "base_numbering": 1,
   "nav_menu": {},
   "number_sections": true,
   "sideBar": true,
   "skip_h1_title": false,
   "title_cell": "Table of Contents",
   "title_sidebar": "Contents",
   "toc_cell": false,
   "toc_position": {
    "height": "calc(100% - 180px)",
    "left": "10px",
    "top": "150px",
    "width": "380.797px"
   },
   "toc_section_display": true,
   "toc_window_display": true
  },
  "varInspector": {
   "cols": {
    "lenName": 16,
    "lenType": 16,
    "lenVar": 40
   },
   "kernels_config": {
    "python": {
     "delete_cmd_postfix": "",
     "delete_cmd_prefix": "del ",
     "library": "var_list.py",
     "varRefreshCmd": "print(var_dic_list())"
    },
    "r": {
     "delete_cmd_postfix": ") ",
     "delete_cmd_prefix": "rm(",
     "library": "var_list.r",
     "varRefreshCmd": "cat(var_dic_list()) "
    }
   },
   "types_to_exclude": [
    "module",
    "function",
    "builtin_function_or_method",
    "instance",
    "_Feature"
   ],
   "window_display": false
  }
 },
 "nbformat": 4,
 "nbformat_minor": 2
}
