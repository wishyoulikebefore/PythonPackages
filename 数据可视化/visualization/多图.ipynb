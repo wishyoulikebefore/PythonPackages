{
 "cells": [
  {
   "cell_type": "code",
   "execution_count": 6,
   "metadata": {
    "ExecuteTime": {
     "end_time": "2019-01-31T14:27:50.206943Z",
     "start_time": "2019-01-31T14:27:50.198947Z"
    }
   },
   "outputs": [],
   "source": [
    "import numpy as np\n",
    "import seaborn as sns\n",
    "import matplotlib.pyplot as plt\n",
    "%matplotlib inline"
   ]
  },
  {
   "cell_type": "markdown",
   "metadata": {},
   "source": [
    "## 指定ax \n",
    "seaborn中，除了lmplot和clusterplot外，都可以指定ax，方便呈现多图\n",
    "\n",
    "> add_subplot：自动切换ax\n",
    "\n",
    "> subplots：不定数目ax迭代时，需要封闭在函数中（利用return）；或者人为切换ax"
   ]
  },
  {
   "cell_type": "markdown",
   "metadata": {},
   "source": [
    "### fig, axes = plt.subplots(nrow, ncol)"
   ]
  },
  {
   "cell_type": "code",
   "execution_count": null,
   "metadata": {},
   "outputs": [],
   "source": [
    "f,axes = plt.subplots(1,ax_num,figsize=(8*ax_num,8))\n",
    "plt.tight_layout()\n",
    "plt.subplots_adjust(left=0.15, bottom=0.1, top=0.9, right=0.95, hspace=0.2, wspace=0.25)\n",
    "\n",
    "for nu,(_file,title,ax) in enumerate(zip(process_files,titles,axes)):"
   ]
  },
  {
   "cell_type": "markdown",
   "metadata": {},
   "source": [
    "### fig.add_subplot(nrow, ncol, n) "
   ]
  },
  {
   "cell_type": "code",
   "execution_count": null,
   "metadata": {},
   "outputs": [],
   "source": [
    "f = plt.figure(figsize=(8*ax_num,8))\n",
    "plt.tight_layout()\n",
    "plt.subplots_adjust(left=0.15, bottom=0.1, top=0.9, right=0.95, hspace=0.2, wspace=0.25)\n",
    "\n",
    "for nu,(_file,title) in enumerate(zip(process_files,titles)):\n",
    "    ax = f.add_subplot(1, ax_num, 1+nu)"
   ]
  },
  {
   "cell_type": "markdown",
   "metadata": {},
   "source": [
    "### 灵感来源 "
   ]
  },
  {
   "cell_type": "code",
   "execution_count": 7,
   "metadata": {
    "ExecuteTime": {
     "end_time": "2019-01-31T14:30:17.709271Z",
     "start_time": "2019-01-31T14:30:17.153612Z"
    }
   },
   "outputs": [
    {
     "data": {
      "image/png": "[encoded data removed]",
      "text/plain": [
       "<Figure size 576x432 with 3 Axes>"
      ]
     },
     "metadata": {},
     "output_type": "display_data"
    }
   ],
   "source": [
    "sns.set(style=\"white\", context=\"talk\")\n",
    "rs = np.random.RandomState(7)\n",
    "f, (ax1,ax2,ax3) = plt.subplots(3, 1, figsize=(8, 6), sharex=True)\n",
    "\n",
    "x = np.array(list(\"ABCDEFGHI\"))\n",
    "y1 = np.arange(1, 10)\n",
    "sns.barplot(x, y1, palette=\"BuGn_d\", ax=ax1)     #指定ax\n",
    "ax1.set_ylabel(\"Sequential\")\n",
    "\n",
    "y2 = y1 - 5\n",
    "sns.barplot(x, y2, palette=\"RdBu_r\", ax=ax2)\n",
    "ax2.set_ylabel(\"Diverging\")\n",
    "\n",
    "y3 = rs.choice(y1, 9, replace=False)\n",
    "sns.barplot(x, y3, palette=\"Set3\", ax=ax3)\n",
    "ax3.set_ylabel(\"Qualitative\")\n",
    "\n",
    "sns.despine(bottom=True)\n",
    "plt.setp(f.axes,yticks=[])\n",
    "plt.tight_layout(h_pad=3)\n",
    "\n",
    "plt.show()"
   ]
  },
  {
   "cell_type": "markdown",
   "metadata": {},
   "source": [
    "### 源代码收获\n",
    "隐藏某些坐标轴"
   ]
  },
  {
   "cell_type": "code",
   "execution_count": null,
   "metadata": {},
   "outputs": [],
   "source": [
    "if sharex:\n",
    "    for ax in self._not_bottom_axes:\n",
    "        for label in ax.get_xticklabels():\n",
    "            label.set_visible(False)\n",
    "        ax.xaxis.offsetText.set_visible(False)\n",
    "        \n",
    "if sharey:\n",
    "    for ax in self._not_left_axes:\n",
    "        for label in ax.get_yticklabels():\n",
    "            label.set_visible(False)\n",
    "        ax.yaxis.offsetText.set_visible(False)"
   ]
  },
  {
   "cell_type": "markdown",
   "metadata": {},
   "source": [
    "### 实际应用 "
   ]
  },
  {
   "cell_type": "code",
   "execution_count": null,
   "metadata": {},
   "outputs": [],
   "source": [
    "## WGBS QC \n",
    "# Created by zty on 2019/1/8\n",
    "import pandas as pd\n",
    "import numpy as np\n",
    "import seaborn as sns\n",
    "import matplotlib.pyplot as plt\n",
    "\n",
    "sns.set(style=\"white\",font_scale=2)\n",
    "\n",
    "data = pd.read_csv(\"WGBS_QC.csv\",index_col=0)\n",
    "data = data.fillna(data.mean())\n",
    "data[\"type\"] = np.where(data.index.str.contains(\"T\"),\"Tumor\",\"Normal\")\n",
    "\n",
    "varList = data.columns.tolist()[:-1]\n",
    "\n",
    "f = plt.figure(figsize=(24,12))\n",
    "#控制子图间距\n",
    "plt.tight_layout()\n",
    "plt.subplots_adjust(left=0.15,bottom=0.1,top=0.9,right=0.95,hspace=0.2,wspace=0.25)\n",
    "\n",
    "for nu,var in enumerate(varList):\n",
    "    ax = f.add_subplot(1,len(varList),1+nu)\n",
    "    sns.boxplot(\"type\",var,data=data,ax=ax)\n",
    "    ax.set_xlabel(\"Group\",fontdict={\"size\":16,\"weight\":\"bold\"})\n",
    "    if var == \"depth\":\n",
    "        ax.set_ylabel(var.capitalize(), fontdict={\"size\":20,\"weight\":\"bold\"})\n",
    "    else:\n",
    "        ax.set_ylabel(\"%s (%%)\" %(var.capitalize()), fontdict={\"size\":20,\"weight\":\"bold\"})\n",
    "    ax.set_title(\"%s\" %(var.capitalize()),fontdict={\"size\":20,\"weight\":\"bold\"})\n",
    "f.savefig('WGBS_boxplot.png', dpi=100, bbox_inches='tight')"
   ]
  },
  {
   "cell_type": "markdown",
   "metadata": {},
   "source": [
    "## 多图标题\n",
    "> sns：利用np.percentile判断在哪一个ax写标题\n",
    "\n",
    "> matplotlib：利用add_gridspec和add_subplot为title空出一个子图，再利用set_axis_off()"
   ]
  },
  {
   "cell_type": "markdown",
   "metadata": {},
   "source": [
    "### 示例 "
   ]
  },
  {
   "cell_type": "code",
   "execution_count": null,
   "metadata": {},
   "outputs": [],
   "source": [
    "regulator_data = pd.read_csv(\"/root/mnt/analysis/baidu_II/PCA/GO_term_methy_regulator/dmr/log2FC_dmr_corr.csv\",index_col=0)\n",
    "regulator_data.rename(columns={\"gene\":\"gene body\"},inplace=True)\n",
    "melt_regulator_data = pd.melt(regulator_data,var_name=\"type\",value_name=\"value\")\n",
    "annotated_data = regulator_data.dropna(how=\"any\")\n",
    "annotated_data = annotated_data[(np.abs(annotated_data[\"gene body\"]) >= 0.5) | (np.abs(annotated_data[\"promoter\"]) >= 0.5)]\n",
    "\n",
    "sns.set(style=\"white\",font_scale=2)\n",
    "\n",
    "f = plt.figure(figsize=(16,10))\n",
    "gs = f.add_gridspec(10, 12)\n",
    "ax1 = f.add_subplot(gs[1:, 0:4])\n",
    "ax2 = f.add_subplot(gs[1:, 5:])\n",
    "ax3 = f.add_subplot(gs[:1,:])\n",
    "\n",
    "sns.boxplot(x=\"type\",y=\"value\",data=melt_regulator_data,ax=ax1)\n",
    "ax1.set_xlabel(\"\",fontdict={\"size\": 20, \"weight\": \"bold\"})\n",
    "ax1.set_ylabel(\"correlation\",fontdict={\"size\": 20, \"weight\": \"bold\"})\n",
    "\n",
    "sns.scatterplot(x=\"gene body\", y=\"promoter\", data=regulator_data.fillna(0),ax=ax2)\n",
    "ax2.set_xlabel(\"Gene body\",fontdict={\"size\": 20, \"weight\": \"bold\"})\n",
    "ax2.set_ylabel(\"Promoter\",fontdict={\"size\": 20, \"weight\": \"bold\"})\n",
    "\n",
    "for gene in annotated_data.index:\n",
    "    x_value = annotated_data.ix[gene][\"gene body\"]\n",
    "    y_value = annotated_data.ix[gene][\"promoter\"]\n",
    "    ax2.annotate(gene,xy=(x_value,y_value),xytext=(x_value+0.1,y_value-0.1),arrowprops=dict(facecolor=\"red\", shrink=0.05))\n",
    "\n",
    "# 具体坐标需要调试\n",
    "ax3.text(0.2,0.8,\"GO_term_methy_regulator\",transform=ax3.transAxes,fontsize=20, fontweight='bold', va='top')\n",
    "ax3.set_axis_off()\n",
    "\n",
    "f.savefig(\"/root/mnt/analysis/baidu_II/PCA/GO_term_methy_regulator/dmr/merge.png\",dpi=100,bbox_inches='tight')"
   ]
  },
  {
   "cell_type": "markdown",
   "metadata": {},
   "source": [
    "## 模仿pheatmap\n",
    "基于gridspec划分多图空间"
   ]
  },
  {
   "cell_type": "code",
   "execution_count": null,
   "metadata": {},
   "outputs": [],
   "source": []
  }
 ],
 "metadata": {
  "kernelspec": {
   "display_name": "Python 3",
   "language": "python",
   "name": "python3"
  },
  "language_info": {
   "codemirror_mode": {
    "name": "ipython",
    "version": 3
   },
   "file_extension": ".py",
   "mimetype": "text/x-python",
   "name": "python",
   "nbconvert_exporter": "python",
   "pygments_lexer": "ipython3",
   "version": "3.5.4"
  },
  "toc": {
   "base_numbering": 1,
   "nav_menu": {},
   "number_sections": true,
   "sideBar": true,
   "skip_h1_title": false,
   "title_cell": "Table of Contents",
   "title_sidebar": "Contents",
   "toc_cell": false,
   "toc_position": {},
   "toc_section_display": true,
   "toc_window_display": false
  },
  "varInspector": {
   "cols": {
    "lenName": 16,
    "lenType": 16,
    "lenVar": 40
   },
   "kernels_config": {
    "python": {
     "delete_cmd_postfix": "",
     "delete_cmd_prefix": "del ",
     "library": "var_list.py",
     "varRefreshCmd": "print(var_dic_list())"
    },
    "r": {
     "delete_cmd_postfix": ") ",
     "delete_cmd_prefix": "rm(",
     "library": "var_list.r",
     "varRefreshCmd": "cat(var_dic_list()) "
    }
   },
   "types_to_exclude": [
    "module",
    "function",
    "builtin_function_or_method",
    "instance",
    "_Feature"
   ],
   "window_display": false
  }
 },
 "nbformat": 4,
 "nbformat_minor": 2
}
