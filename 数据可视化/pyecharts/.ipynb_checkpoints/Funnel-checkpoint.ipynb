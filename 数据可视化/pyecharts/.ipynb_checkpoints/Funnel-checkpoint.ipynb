{
 "cells": [
  {
   "cell_type": "markdown",
   "metadata": {},
   "source": [
    "### 适用于有逻辑顺序的流程流量分析\n",
    "随着流程的推进，每个环节所要达成的成功数量在减少。最终的成交量是企业想要达成的交易数量。通过将各个流程中数量的信息画入漏斗图可以清晰的分析到哪个环节是当前业务流程中的薄弱环节，哪个环节是流量转化的瓶颈，进而帮助人们更加专注于薄弱环节提高整个流程的产出"
   ]
  },
  {
   "cell_type": "code",
   "execution_count": 5,
   "metadata": {
    "ExecuteTime": {
     "end_time": "2018-11-15T13:37:32.331186Z",
     "start_time": "2018-11-15T13:37:32.307201Z"
    }
   },
   "outputs": [
    {
     "data": {
      "text/html": [
       "<script>\n",
       "    require.config({\n",
       "        paths: {\n",
       "            'echarts': '/nbextensions/echarts/echarts.min'\n",
       "        }\n",
       "    });\n",
       "</script>\n",
       "    <div id=\"e31720d666434dacb6664916a457236c\" style=\"width:600px;height:400px;\"></div>\n",
       "\n",
       "\n",
       "<script>\n",
       "    require(['echarts'], function(echarts) {\n",
       "        \n",
       "var myChart_e31720d666434dacb6664916a457236c = echarts.init(document.getElementById('e31720d666434dacb6664916a457236c'), 'light', {renderer: 'canvas'});\n",
       "\n",
       "var option_e31720d666434dacb6664916a457236c = {\n",
       "    \"legend\": [\n",
       "        {\n",
       "            \"orient\": \"horizontal\",\n",
       "            \"selectedMode\": \"multiple\",\n",
       "            \"top\": \"top\",\n",
       "            \"textStyle\": {\n",
       "                \"fontSize\": 12\n",
       "            },\n",
       "            \"show\": false,\n",
       "            \"data\": [\n",
       "                \"\\u5b8c\\u6210\\u4ea4\\u6613\",\n",
       "                \"\\u653e\\u5165\\u8d2d\\u7269\\u8f66\",\n",
       "                \"\\u751f\\u6210\\u8ba2\\u5355\",\n",
       "                \"\\u652f\\u4ed8\\u8ba2\\u5355\",\n",
       "                \"\\u6d4f\\u89c8\\u7f51\\u7ad9\"\n",
       "            ],\n",
       "            \"left\": \"center\"\n",
       "        }\n",
       "    ],\n",
       "    \"series\": [\n",
       "        {\n",
       "            \"label\": {\n",
       "                \"normal\": {\n",
       "                    \"position\": \"inside\",\n",
       "                    \"textStyle\": {\n",
       "                        \"fontSize\": 12,\n",
       "                        \"color\": \"black\"\n",
       "                    },\n",
       "                    \"show\": true\n",
       "                },\n",
       "                \"emphasis\": {\n",
       "                    \"textStyle\": {\n",
       "                        \"fontSize\": 12\n",
       "                    },\n",
       "                    \"show\": true\n",
       "                }\n",
       "            },\n",
       "            \"type\": \"funnel\",\n",
       "            \"sort\": \"descending\",\n",
       "            \"gap\": 0,\n",
       "            \"data\": [\n",
       "                {\n",
       "                    \"value\": 1000,\n",
       "                    \"name\": \"\\u6d4f\\u89c8\\u7f51\\u7ad9\"\n",
       "                },\n",
       "                {\n",
       "                    \"value\": 400,\n",
       "                    \"name\": \"\\u653e\\u5165\\u8d2d\\u7269\\u8f66\"\n",
       "                },\n",
       "                {\n",
       "                    \"value\": 260,\n",
       "                    \"name\": \"\\u751f\\u6210\\u8ba2\\u5355\"\n",
       "                },\n",
       "                {\n",
       "                    \"value\": 180,\n",
       "                    \"name\": \"\\u652f\\u4ed8\\u8ba2\\u5355\"\n",
       "                },\n",
       "                {\n",
       "                    \"value\": 180,\n",
       "                    \"name\": \"\\u5b8c\\u6210\\u4ea4\\u6613\"\n",
       "                }\n",
       "            ]\n",
       "        }\n",
       "    ],\n",
       "    \"color\": [\n",
       "        \"#c23531\",\n",
       "        \"#2f4554\",\n",
       "        \"#61a0a8\",\n",
       "        \"#d48265\",\n",
       "        \"#749f83\",\n",
       "        \"#ca8622\",\n",
       "        \"#bda29a\",\n",
       "        \"#6e7074\",\n",
       "        \"#546570\",\n",
       "        \"#c4ccd3\",\n",
       "        \"#f05b72\",\n",
       "        \"#ef5b9c\",\n",
       "        \"#f47920\",\n",
       "        \"#905a3d\",\n",
       "        \"#fab27b\",\n",
       "        \"#2a5caa\",\n",
       "        \"#444693\",\n",
       "        \"#726930\",\n",
       "        \"#b2d235\",\n",
       "        \"#6d8346\",\n",
       "        \"#ac6767\",\n",
       "        \"#1d953f\",\n",
       "        \"#6950a1\",\n",
       "        \"#918597\",\n",
       "        \"#f6f5ec\"\n",
       "    ],\n",
       "    \"tooltip\": {\n",
       "        \"trigger\": \"item\",\n",
       "        \"borderColor\": \"#333\",\n",
       "        \"borderWidth\": 0,\n",
       "        \"textStyle\": {\n",
       "            \"fontSize\": 14\n",
       "        },\n",
       "        \"axisPointer\": {\n",
       "            \"type\": \"line\"\n",
       "        },\n",
       "        \"triggerOn\": \"mousemove|click\",\n",
       "        \"backgroundColor\": \"rgba(50,50,50,0.7)\"\n",
       "    },\n",
       "    \"animation\": true,\n",
       "    \"title\": [\n",
       "        {\n",
       "            \"top\": \"auto\",\n",
       "            \"textStyle\": {\n",
       "                \"fontSize\": 18\n",
       "            },\n",
       "            \"text\": \"\\u6f0f\\u6597\\u56fe\\u793a\\u4f8b\",\n",
       "            \"subtextStyle\": {\n",
       "                \"fontSize\": 12\n",
       "            },\n",
       "            \"left\": \"center\"\n",
       "        }\n",
       "    ],\n",
       "    \"series_id\": 4491690,\n",
       "    \"toolbox\": {\n",
       "        \"top\": \"center\",\n",
       "        \"orient\": \"vertical\",\n",
       "        \"show\": true,\n",
       "        \"feature\": {\n",
       "            \"saveAsImage\": {\n",
       "                \"title\": \"save as image\",\n",
       "                \"show\": true\n",
       "            },\n",
       "            \"restore\": {\n",
       "                \"title\": \"restore\",\n",
       "                \"show\": true\n",
       "            },\n",
       "            \"dataView\": {\n",
       "                \"title\": \"data view\",\n",
       "                \"show\": true\n",
       "            }\n",
       "        },\n",
       "        \"left\": \"95%\"\n",
       "    }\n",
       "};\n",
       "myChart_e31720d666434dacb6664916a457236c.setOption(option_e31720d666434dacb6664916a457236c);\n",
       "\n",
       "    });\n",
       "</script>\n"
      ],
      "text/plain": [
       "<pyecharts.charts.funnel.Funnel at 0x2ef437a45f8>"
      ]
     },
     "execution_count": 5,
     "metadata": {},
     "output_type": "execute_result"
    }
   ],
   "source": [
    "from pyecharts import Funnel\n",
    "from pyecharts_snapshot.main import make_a_snapshot\n",
    "\n",
    "attr = [\"浏览网站\", \"放入购物车\", \"生成订单\", \"支付订单\", \"完成交易\"]\n",
    "value = [1000, 400, 260, 180, 180]\n",
    "funnel = Funnel(\"漏斗图示例\", width=600, height=400, title_pos='center')\n",
    "funnel.add(\"\", attr, value, is_label_show=True,label_pos=\"inside\",label_text_color=\"black\",\n",
    "           is_legend_show=False,\n",
    "           )"
   ]
  },
  {
   "cell_type": "markdown",
   "metadata": {},
   "source": [
    "### 对比漏斗图（未实现） "
   ]
  },
  {
   "cell_type": "code",
   "execution_count": 7,
   "metadata": {
    "ExecuteTime": {
     "end_time": "2018-11-15T13:39:25.676252Z",
     "start_time": "2018-11-15T13:39:25.665255Z"
    }
   },
   "outputs": [
    {
     "data": {
      "image/jpeg": "[encoded data removed]",
      "text/plain": [
       "<IPython.core.display.Image object>"
      ]
     },
     "execution_count": 7,
     "metadata": {
      "image/jpeg": {
       "height": 600,
       "width": 600
      }
     },
     "output_type": "execute_result"
    }
   ],
   "source": [
    "from IPython.display import Image\n",
    "Image(filename=\"C:/Users/zty/Desktop/example.jpg\",width=600,height=600)"
   ]
  }
 ],
 "metadata": {
  "kernelspec": {
   "display_name": "Python 3",
   "language": "python",
   "name": "python3"
  }
 },
 "nbformat": 4,
 "nbformat_minor": 2
}
