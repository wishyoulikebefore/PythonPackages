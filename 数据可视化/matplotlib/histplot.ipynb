{
 "cells": [
  {
   "cell_type": "code",
   "execution_count": 1,
   "metadata": {
    "ExecuteTime": {
     "end_time": "2018-12-31T02:19:14.143002Z",
     "start_time": "2018-12-31T02:19:13.737255Z"
    }
   },
   "outputs": [],
   "source": [
    "import numpy as np\n",
    "import matplotlib.pyplot as plt"
   ]
  },
  {
   "cell_type": "raw",
   "metadata": {},
   "source": [
    "hist(x, bins=10, range=None, normed=False, orientation='vertical', log=False, label=None)"
   ]
  },
  {
   "cell_type": "code",
   "execution_count": 2,
   "metadata": {
    "ExecuteTime": {
     "end_time": "2018-12-31T02:20:05.750103Z",
     "start_time": "2018-12-31T02:20:04.840519Z"
    }
   },
   "outputs": [
    {
     "data": {
      "text/plain": [
       "(array([  2.,   1.,   1.,   2.,   4.,   3.,   7.,   9.,  17.,  18.,  32.,\n",
       "         49.,  61.,  85., 129., 135., 179., 235., 224., 286., 383., 402.,\n",
       "        444., 524., 534., 554., 567., 570., 544., 564., 514., 499., 410.,\n",
       "        358., 332., 277., 236., 185., 167., 132.,  98.,  93.,  42.,  34.,\n",
       "         21.,  13.,  11.,   7.,   4.,   2.]),\n",
       " array([-116.42695234, -112.12574055, -107.82452877, -103.52331698,\n",
       "         -99.2221052 ,  -94.92089341,  -90.61968163,  -86.31846984,\n",
       "         -82.01725806,  -77.71604627,  -73.41483449,  -69.1136227 ,\n",
       "         -64.81241092,  -60.51119913,  -56.20998735,  -51.90877556,\n",
       "         -47.60756378,  -43.30635199,  -39.00514021,  -34.70392842,\n",
       "         -30.40271664,  -26.10150485,  -21.80029307,  -17.49908128,\n",
       "         -13.1978695 ,   -8.89665771,   -4.59544593,   -0.29423414,\n",
       "           4.00697764,    8.30818943,   12.60940121,   16.910613  ,\n",
       "          21.21182478,   25.51303657,   29.81424835,   34.11546014,\n",
       "          38.41667192,   42.71788371,   47.01909549,   51.32030728,\n",
       "          55.62151906,   59.92273085,   64.22394263,   68.52515442,\n",
       "          72.8263662 ,   77.12757799,   81.42878977,   85.73000156,\n",
       "          90.03121334,   94.33242513,   98.63363692]),\n",
       " <a list of 50 Patch objects>)"
      ]
     },
     "execution_count": 2,
     "metadata": {},
     "output_type": "execute_result"
    },
    {
     "data": {
      "text/plain": [
       "Text(0.05, 0.95, '$\\\\mu=0.48$\\n$\\\\mathrm{median}=0.54$\\n$\\\\sigma=29.86$')"
      ]
     },
     "execution_count": 2,
     "metadata": {},
     "output_type": "execute_result"
    },
    {
     "data": {
      "image/png": "[encoded data removed]",
      "text/plain": [
       "<Figure size 432x288 with 1 Axes>"
      ]
     },
     "metadata": {
      "needs_background": "light"
     },
     "output_type": "display_data"
    }
   ],
   "source": [
    "np.random.seed(1234)\n",
    "fig, ax = plt.subplots(1)\n",
    "x = 30*np.random.randn(10000)\n",
    "mu = x.mean()\n",
    "median = np.median(x)\n",
    "sigma = x.std()\n",
    "textstr = \"$\\mu=%.2f$\\n$\\mathrm{median}=%.2f$\\n$\\sigma=%.2f$\"%(mu, median, sigma)\n",
    "ax.hist(x, 50)\n",
    "ax.text(0.05, 0.95, textstr, transform=ax.transAxes, fontsize=14,\n",
    "        verticalalignment=\"top\", bbox=dict(boxstyle=\"round\", facecolor=\"wheat\", alpha=0.5))\n",
    "\n",
    "plt.show()"
   ]
  }
 ],
 "metadata": {
  "hide_input": false,
  "kernelspec": {
   "display_name": "Python 3",
   "language": "python",
   "name": "python3"
  },
  "language_info": {
   "codemirror_mode": {
    "name": "ipython",
    "version": 3
   },
   "file_extension": ".py",
   "mimetype": "text/x-python",
   "name": "python",
   "nbconvert_exporter": "python",
   "pygments_lexer": "ipython3",
   "version": "3.6.6"
  },
  "toc": {
   "base_numbering": 1,
   "nav_menu": {},
   "number_sections": true,
   "sideBar": true,
   "skip_h1_title": false,
   "title_cell": "Table of Contents",
   "title_sidebar": "Contents",
   "toc_cell": false,
   "toc_position": {},
   "toc_section_display": true,
   "toc_window_display": false
  },
  "varInspector": {
   "cols": {
    "lenName": 16,
    "lenType": 16,
    "lenVar": 40
   },
   "kernels_config": {
    "python": {
     "delete_cmd_postfix": "",
     "delete_cmd_prefix": "del ",
     "library": "var_list.py",
     "varRefreshCmd": "print(var_dic_list())"
    },
    "r": {
     "delete_cmd_postfix": ") ",
     "delete_cmd_prefix": "rm(",
     "library": "var_list.r",
     "varRefreshCmd": "cat(var_dic_list()) "
    }
   },
   "types_to_exclude": [
    "module",
    "function",
    "builtin_function_or_method",
    "instance",
    "_Feature"
   ],
   "window_display": false
  }
 },
 "nbformat": 4,
 "nbformat_minor": 2
}
