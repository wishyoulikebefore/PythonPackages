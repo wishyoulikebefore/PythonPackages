{
 "cells": [
  {
   "cell_type": "code",
   "execution_count": 3,
   "metadata": {
    "ExecuteTime": {
     "end_time": "2018-12-08T13:03:03.889586Z",
     "start_time": "2018-12-08T13:03:03.685713Z"
    }
   },
   "outputs": [],
   "source": [
    "from pymongo import MongoClient"
   ]
  },
  {
   "cell_type": "markdown",
   "metadata": {},
   "source": [
    "mongodb是一个轻量级的数据库\n",
    "\n",
    "数据格式为JSON风格"
   ]
  },
  {
   "cell_type": "markdown",
   "metadata": {},
   "source": [
    "# 数据库连接"
   ]
  },
  {
   "cell_type": "code",
   "execution_count": 4,
   "metadata": {
    "ExecuteTime": {
     "end_time": "2018-12-08T13:03:05.779739Z",
     "start_time": "2018-12-08T13:03:05.759750Z"
    }
   },
   "outputs": [],
   "source": [
    "#默认连接本地数据库\n",
    "client = MongoClient()    "
   ]
  },
  {
   "cell_type": "markdown",
   "metadata": {},
   "source": [
    "## 创建数据库"
   ]
  },
  {
   "cell_type": "code",
   "execution_count": 5,
   "metadata": {
    "ExecuteTime": {
     "end_time": "2018-12-08T13:03:08.218392Z",
     "start_time": "2018-12-08T13:03:08.212396Z"
    }
   },
   "outputs": [],
   "source": [
    "db = client['stock']"
   ]
  },
  {
   "cell_type": "markdown",
   "metadata": {},
   "source": [
    "### 查看数据库\n",
    "> client.database_names()"
   ]
  },
  {
   "cell_type": "markdown",
   "metadata": {},
   "source": [
    "###  删除数据库\n",
    "> client.drop_database()"
   ]
  },
  {
   "cell_type": "markdown",
   "metadata": {},
   "source": [
    "## 从数据库中选择集合"
   ]
  },
  {
   "cell_type": "code",
   "execution_count": 6,
   "metadata": {
    "ExecuteTime": {
     "end_time": "2018-12-08T13:03:23.633195Z",
     "start_time": "2018-12-08T13:03:23.628198Z"
    }
   },
   "outputs": [],
   "source": [
    "collection = db['stockConcept']"
   ]
  },
  {
   "cell_type": "markdown",
   "metadata": {},
   "source": [
    "### 查看下面的集合\n",
    "> db.list_collection_names()"
   ]
  },
  {
   "cell_type": "code",
   "execution_count": 8,
   "metadata": {
    "ExecuteTime": {
     "end_time": "2018-12-08T13:04:23.947274Z",
     "start_time": "2018-12-08T13:04:23.934282Z"
    }
   },
   "outputs": [
    {
     "data": {
      "text/plain": [
       "['yjyg',\n",
       " 'newstock',\n",
       " 'stockConcept',\n",
       " 'stockName2Index',\n",
       " 'xsjj',\n",
       " 'xkhs',\n",
       " 'test',\n",
       " 'todayConcept',\n",
       " 'yesterdayZt',\n",
       " 'newStock',\n",
       " 'regionAnalysis',\n",
       " 'gsz',\n",
       " 'conceptSummary',\n",
       " 'tfp']"
      ]
     },
     "execution_count": 8,
     "metadata": {},
     "output_type": "execute_result"
    }
   ],
   "source": [
    "db.list_collection_names()"
   ]
  },
  {
   "cell_type": "markdown",
   "metadata": {},
   "source": [
    "# 操作符\n",
    "\n",
    "## 第一部分\n",
    "> $set：替换某个field的值     \n",
    "\n",
    "> $unset：取消某个field       \n",
    "\n",
    "> $addToSet：插入值至array\n",
    "\n",
    "> $inc：+1\n",
    "\n",
    "> $mul：乘\n",
    "\n",
    "> $rename：重命名     \t\t \n",
    "\n",
    "> $min：指定值比存在值小则更新\n",
    "\n",
    "> $max                 "
   ]
  },
  {
   "cell_type": "markdown",
   "metadata": {},
   "source": [
    "## 第二部分\n",
    "\n",
    "> \\$lt：小于\n",
    ">> {'age': {'$lt': 20}}\n",
    "\n",
    "> \\$gt：大于\n",
    ">> {'age': {'$gt': 20}}\n",
    "\n",
    "> \\$lte：小于等于\n",
    ">> {'age': {'$lte': 20}}\n",
    "\n",
    "> \\$gte：大于等于\n",
    ">> {'age': {'$gte': 20}}\n",
    "\n",
    "> \\$ne：不等于\n",
    ">> {'age': {'$ne': 20}}\n",
    "\n",
    "> \\$in：在范围内\n",
    ">> {'age': {'$in': [20, 23]}}\n",
    "\n",
    "> \\$nin：不在范围内\n",
    ">> {'age': {'$nin': [20, 23]}}"
   ]
  },
  {
   "cell_type": "markdown",
   "metadata": {},
   "source": [
    "## 第三部分\n",
    "> \\$regex匹配正则\n",
    ">> {\"name\": {\"$regex\": \"^M.*\"}}\n",
    "\n",
    "> \\$exists属性是否存在\n",
    ">> {\"name\": {\"$exists\": True}}   \n",
    ">> #判断name属性存在\n",
    "\n",
    "> \\$type类型判断\n",
    ">> {\"age\": {\"$type\": \"int\"}}\n",
    ">> #判断age的类型为int\n",
    "\n",
    "> \\$mod数字模操作\n",
    ">> {\"age\": {\"$mod\": [5, 0]}}\n",
    ">> #判断年龄模5余0\n",
    "\n",
    "> \\$text文本查询\n",
    ">> {\"$text\": {\"$search\": \"Mike\"}}\n",
    "\n",
    "> \\$where高级条件查询\n",
    ">> {\"$where\": \"obj.fans_count == obj.follows_count\"} "
   ]
  },
  {
   "cell_type": "markdown",
   "metadata": {},
   "source": [
    "# 操作"
   ]
  },
  {
   "cell_type": "markdown",
   "metadata": {},
   "source": [
    "## 插入数据\n",
    "> 插入单条数据：insert_one(document)\n",
    ">> collection.insert_one({“x”:1})\n",
    "\n",
    "> 插入多条数据：insert_many(documents)\n",
    ">> collection.insert_many([{“x”:1} for I in range(2)])"
   ]
  },
  {
   "cell_type": "markdown",
   "metadata": {},
   "source": [
    "## 查询数据\n",
    "> 查询单条数据：find_one()\n",
    ">> collection.find_one({'主题页面': href})\n",
    "\n",
    "> 查询多条数据：find()\n",
    ">> collection.find({'age': {'$gt': 20}})\n",
    "\n",
    ">> collection.find() - 查看所有数据 \n",
    "\n",
    "> 查询并操作，返回对应内容\n",
    ">> find_one_and_delete(filter, projection=None, sort=None)\n",
    ">>> collection.find_one_and_delete({\"x\":1})\n",
    "\n",
    ">> find_one_and_replace(filter, replacement, projection=None, sort=None)\n",
    ">>> collection. find_one_and_replace({\"x\": 1}, {\"y\": 1})\n",
    "\n",
    ">> find_one_and_update(filter, update, projection=None, sort=None)\n",
    ">>> collection. find_one_and_update({\"_id\": 665}, {\"\\\\$inc\": {\"count\": 1}, '$set': {\"done\": True}})\n",
    "\n",
    "无论是否查询到，find()返回值均不为F"
   ]
  },
  {
   "cell_type": "markdown",
   "metadata": {},
   "source": [
    "## 替换数据\n",
    "> replace_one(filter, replacement, upsert=False) \n",
    ">> collection.replace_one({“x”:1},{“y”:1})\n",
    ">> #upsert=True ：若匹配文档不存在，则插入新的"
   ]
  },
  {
   "cell_type": "markdown",
   "metadata": {},
   "source": [
    "## 删除数据\n",
    "> 删除单条数据\n",
    ">> delete_one()\n",
    "\n",
    "> 删除多条数据\n",
    ">> delete_many()\n",
    "\n",
    "> 删除集合\n",
    ">> collection.drop()\n",
    "\n",
    "> 删除集合里所有记录\n",
    ">> collection.remove()"
   ]
  },
  {
   "cell_type": "markdown",
   "metadata": {},
   "source": [
    "## 更新数据\n",
    "> 更新单条数据：update_one(filter, update, upsert=False)\n",
    ">> collection.update_one({'x': 1}, {'$inc': {'x': 3}})\n",
    "\n",
    "> 更新多条数据：update_many(filter, update, upsert=False)\n",
    ">> collection.update_many({'x': 1}, {'$inc': {'x': 3}})\n",
    ">> #可以通过collection.update_many({}, {condition})跳过筛选条件"
   ]
  },
  {
   "cell_type": "markdown",
   "metadata": {},
   "source": [
    "## 其它\n",
    "> 计数：count()\n",
    ">> collection.find({\"author\": \"Mike\"}).count()\n",
    "\n",
    "> 排序：sort()\n",
    "> #1为升序排列, -1为降序排列；或者使用pymongo.ASCENDING\n",
    ">> collection.find().sort({\"likes\":-1})\n",
    "\n",
    ">>collection.find().sort(\"likes”, pymongo.ASCENDING)\n",
    "\n",
    "> 偏倚\n",
    ">> skip()：指定忽略的个数\n",
    ">>> collection.find().sort('name', pymongo.ASCENDING).skip(2)\n",
    ">>> #skip(2)为忽略前2个元素，得到第三个及以后的元素\n",
    "\n",
    ">> limit()：指定选取的个数\n",
    ">>> collection.find().sort('name', pymongo.ASCENDING).skip(2).limit(2)\n",
    "\n",
    "> 整体查询\n",
    ">> estimated_document_count()：获得collection的document数\n",
    "\n",
    ">> distinct(key, filter=None, session=None, **kwargs)：获取特异值"
   ]
  },
  {
   "cell_type": "code",
   "execution_count": 9,
   "metadata": {
    "ExecuteTime": {
     "end_time": "2018-12-08T13:06:09.124874Z",
     "start_time": "2018-12-08T13:06:08.977921Z"
    }
   },
   "outputs": [
    {
     "data": {
      "text/plain": [
       "3567"
      ]
     },
     "execution_count": 9,
     "metadata": {},
     "output_type": "execute_result"
    }
   ],
   "source": [
    "collection.estimated_document_count()"
   ]
  },
  {
   "cell_type": "markdown",
   "metadata": {},
   "source": [
    "## 对数组进行操作\n",
    "> \\$all：判断数组属性是否包含全部条件\n",
    ">> collection.find({\"data\":{\"\\\\$all\":[2,3,4]}})\n",
    "\n",
    "> \\$size：匹配数组属性元素数量\n",
    ">> collection.find({\"data\":{\"\\\\$size\":3}})\n",
    "\n",
    "> \\$type：判断属性\n",
    ">> collection.find({\"t\":{\"\\\\$type\":1}})\n",
    ">> #其中1：数字，2：字符串，4：array，8：boolean\n",
    "\n",
    "> \\$each：添加多个元素\n",
    ">> collection.update_many({\"name\":\"user2\",{\"\\\\$addToSet\":{\"data\":{\"\\\\$each\":[1,2,3,4]}}}})\n",
    "\n",
    "> \\\\$push 和 \\$pushAll：向数组添加元素\n",
    "> #而$addToSet仅在该元素不存在时才添加\n",
    "\n",
    "> \\$pop：移除数组属性的元素(数组下标)\n",
    ">> collection.update_many({\"name\":\"user2\",{\"\\\\$pop\":{\"data\":1}})\n",
    ">> #其中1：移除最后一个元素; -1：移除第一个元素\n",
    "\n",
    "> \\$pull：按值移除\n",
    ">> collection.update_many({\"name\":\"user2\",{\"\\\\$pull\":{\"data\":2}})\n",
    "\n",
    "> \\$pullAll：移除所有符合提交的元素\n",
    ">> collection.update_many({\"name\":\"user2\",{\"\\\\$pullAll\":{\"data\":[3,5,6]}})"
   ]
  },
  {
   "cell_type": "markdown",
   "metadata": {},
   "source": [
    "## 索引\n",
    "> 创建索引\n",
    ">> create_index(keys, session=None, **kwargs)：创建单个索引\n",
    "\n",
    ">> create_indexes(keys, session=None, **kwargs)：创建多个索引\n",
    "\n",
    "\n",
    "> 丢弃索引\n",
    ">> drop_index(index_or_name)\n",
    "\n",
    ">> drop_indexes()：丢弃所有索引\n",
    "\n",
    "> 重建所有索引\n",
    ">> reindex(）\n",
    "\n",
    "> 列出索引\n",
    ">> list_indexes（）"
   ]
  },
  {
   "cell_type": "code",
   "execution_count": null,
   "metadata": {},
   "outputs": [],
   "source": [
    "#创建单个索引\n",
    "collection.create_index([(\"mike\", pymongo.DESCENDING),(\"eliot\", pymongo.ASCENDING)],background=True)"
   ]
  },
  {
   "cell_type": "code",
   "execution_count": null,
   "metadata": {},
   "outputs": [],
   "source": [
    "#创建多个索引\n",
    "from pymongo import IndexModel, ASCENDING, DESCENDING\n",
    "index1 = IndexModel([(\"hello\", DESCENDING),(\"world\", ASCENDING)], name=\"hello_world\")\n",
    "index2 = IndexModel([(\"goodbye\", DESCENDING)])\n",
    "db[\"test\"].create_indexes([index1, index2],unique=True)"
   ]
  },
  {
   "cell_type": "markdown",
   "metadata": {},
   "source": [
    "# 转换成DataFrame"
   ]
  },
  {
   "cell_type": "code",
   "execution_count": 5,
   "metadata": {},
   "outputs": [
    {
     "data": {
      "text/html": [
       "<div>\n",
       "<style scoped>\n",
       "    .dataframe tbody tr th:only-of-type {\n",
       "        vertical-align: middle;\n",
       "    }\n",
       "\n",
       "    .dataframe tbody tr th {\n",
       "        vertical-align: top;\n",
       "    }\n",
       "\n",
       "    .dataframe thead th {\n",
       "        text-align: right;\n",
       "    }\n",
       "</style>\n",
       "<table border=\"1\" class=\"dataframe\">\n",
       "  <thead>\n",
       "    <tr style=\"text-align: right;\">\n",
       "      <th></th>\n",
       "      <th>jqk_concept</th>\n",
       "      <th>stock_name</th>\n",
       "    </tr>\n",
       "    <tr>\n",
       "      <th>stock_code</th>\n",
       "      <th></th>\n",
       "      <th></th>\n",
       "    </tr>\n",
       "  </thead>\n",
       "  <tbody>\n",
       "    <tr>\n",
       "      <th>688399</th>\n",
       "      <td>[流感, 新股与次新股, 医疗器械概念]</td>\n",
       "      <td>硕世生物</td>\n",
       "    </tr>\n",
       "    <tr>\n",
       "      <th>688398</th>\n",
       "      <td>[冷链物流, 新材料概念]</td>\n",
       "      <td>赛特新材</td>\n",
       "    </tr>\n",
       "    <tr>\n",
       "      <th>688396</th>\n",
       "      <td>[氮化镓, 芯片概念]</td>\n",
       "      <td>华润微</td>\n",
       "    </tr>\n",
       "    <tr>\n",
       "      <th>688389</th>\n",
       "      <td>[融资融券, 新股与次新股, 医疗器械概念]</td>\n",
       "      <td>普门科技</td>\n",
       "    </tr>\n",
       "    <tr>\n",
       "      <th>688388</th>\n",
       "      <td>[锂电池, 新能源汽车, 新股与次新股, 融资融券]</td>\n",
       "      <td>嘉元科技</td>\n",
       "    </tr>\n",
       "    <tr>\n",
       "      <th>688369</th>\n",
       "      <td>[国产软件, 华为概念, 区块链, 融资融券, 微信小程序, 新股与次新股, 云办公]</td>\n",
       "      <td>致远互联</td>\n",
       "    </tr>\n",
       "    <tr>\n",
       "      <th>688368</th>\n",
       "      <td>[集成电路概念, 小米概念, 新股与次新股, 芯片概念, 融资融券]</td>\n",
       "      <td>晶丰明源</td>\n",
       "    </tr>\n",
       "    <tr>\n",
       "      <th>688366</th>\n",
       "      <td>[融资融券, 新股与次新股]</td>\n",
       "      <td>昊海生科</td>\n",
       "    </tr>\n",
       "    <tr>\n",
       "      <th>688363</th>\n",
       "      <td>[新股与次新股]</td>\n",
       "      <td>华熙生物</td>\n",
       "    </tr>\n",
       "    <tr>\n",
       "      <th>688358</th>\n",
       "      <td>[融资融券, 新股与次新股, 医疗器械概念]</td>\n",
       "      <td>祥生医疗</td>\n",
       "    </tr>\n",
       "  </tbody>\n",
       "</table>\n",
       "</div>"
      ],
      "text/plain": [
       "                                            jqk_concept stock_name\n",
       "stock_code                                                        \n",
       "688399                             [流感, 新股与次新股, 医疗器械概念]       硕世生物\n",
       "688398                                    [冷链物流, 新材料概念]       赛特新材\n",
       "688396                                      [氮化镓, 芯片概念]        华润微\n",
       "688389                           [融资融券, 新股与次新股, 医疗器械概念]       普门科技\n",
       "688388                       [锂电池, 新能源汽车, 新股与次新股, 融资融券]       嘉元科技\n",
       "688369      [国产软件, 华为概念, 区块链, 融资融券, 微信小程序, 新股与次新股, 云办公]       致远互联\n",
       "688368               [集成电路概念, 小米概念, 新股与次新股, 芯片概念, 融资融券]       晶丰明源\n",
       "688366                                   [融资融券, 新股与次新股]       昊海生科\n",
       "688363                                         [新股与次新股]       华熙生物\n",
       "688358                           [融资融券, 新股与次新股, 医疗器械概念]       祥生医疗"
      ]
     },
     "execution_count": 5,
     "metadata": {},
     "output_type": "execute_result"
    }
   ],
   "source": [
    "from pymongo import MongoClient\n",
    "import pandas as pd\n",
    "\n",
    "client = MongoClient()\n",
    "db = client[\"stock\"]\n",
    "collection = db[\"stock_concept\"]\n",
    "\n",
    "cursor = collection.find().sort(\"stock_code\",-1).limit(10)\n",
    "df = pd.DataFrame(list(cursor)).drop(\"_id\",axis=1).set_index(\"stock_code\")\n",
    "df"
   ]
  },
  {
   "cell_type": "markdown",
   "metadata": {},
   "source": [
    "# 示例 "
   ]
  },
  {
   "cell_type": "markdown",
   "metadata": {},
   "source": [
    "StockConceptMongo()运用以下功能：\n",
    ">  \"$pull\":{concept_type:concept}：剔除相关概念\n",
    "\n",
    ">  concept_type:{\"\\$exists\": True}：判断属性是否存在concept_type\n",
    "\n",
    ">  concept_type:{\"\\$all\":[concept]}：判断concept_type中是否包含特定概念\n",
    "\n",
    "> \\\\$set, \\$addToSet"
   ]
  },
  {
   "cell_type": "code",
   "execution_count": null,
   "metadata": {},
   "outputs": [],
   "source": [
    "class StockConceptMongo():\n",
    "    \"\"\"\n",
    "    用于更新股票概念，在crawlConcept中使用\n",
    "    可能会有这种情况：某只股票的概念不再适用了，删除了？\n",
    "    \"\"\"\n",
    "    def __init__(self,timeout=300):\n",
    "        self.client = MongoClient()\n",
    "        self.db = self.client[\"stock\"]\n",
    "        self.collection = self.db[\"stock_concept\"]\n",
    "        self.expire_collection = self.db[\"expire_collection\"]\n",
    "        self.timeout = timeout\n",
    "\n",
    "    def find_one(self,stock_code):\n",
    "        return self.collection.find_one({\"stock_code\":stock_code})\n",
    "\n",
    "    def pull(self,stock_code,concept_type,concept_name):\n",
    "        self.collection.update({\"stock_code\":stock_code},{\"$pull\":{concept_type:concept_name}})\n",
    "\n",
    "    def update(self,stock_code,stock_name,concept_type,concept_name):\n",
    "        \"\"\"\n",
    "        新概念提醒，过期概念删除: 过期概念从expire_concept中取\n",
    "        \"\"\"\n",
    "        if not self.collection.find_one({\"stock_code\": stock_code, concept_type: {\"$exists\": True}}) or \\\n",
    "                not self.collection.find_one({\"stock_code\":stock_code,concept_type:{\"$all\":[concept_name]}}):\n",
    "            print(\"%s出现新概念%s\" %(stock_code,concept_name))\n",
    "            self.collection.update({\"stock_code\":stock_code},\n",
    "                                   {\"$set\":{\"stock_name\":stock_name},\"$addToSet\":{concept_type:concept_name}},\n",
    "                                    upsert=True)\n",
    "        else:\n",
    "            pass\n",
    "\n",
    "    def pullAll_expire(self,concept_type):\n",
    "        \"\"\"\n",
    "        读取expire_concept表数据和update_many\n",
    "        \"\"\"\n",
    "        try:\n",
    "            expire_list = self.expire_collection.find_one({\"concept_type\":concept_type})[\"concept_name\"]\n",
    "        except:\n",
    "            return\n",
    "        for item in self.collection.find():\n",
    "            self.collection.update_many({}, {\"$pullAll\": {\"content\":expire_list}})\n",
    "\n",
    "    def get_all_code(self):\n",
    "        code_list = []\n",
    "        for item in self.collection.find():\n",
    "            code_list.append(item[\"stock_code\"])\n",
    "        return code_list"
   ]
  },
  {
   "cell_type": "markdown",
   "metadata": {},
   "source": [
    "YesterdayZtMongo运用以下功能：\n",
    "> \"\\$inc\":{\"con_zt_days\":1}：+1\n",
    "\n",
    "> delete_many({\"today\": {\"\\$ne\": self.today}})：删除昨日Zt数据\n",
    "\n",
    "> update_many({\"jqkConcept\":{\"\\$all\":[\"昨日涨停\"]}},{\"\\$pull\":{\"jqkConcept\":\"昨日涨停\"}})：删除昨日Zt概念\n",
    "\n",
    "> sort(\"con_zt_days\",pymongo.DESCENDING)[0][\"con_zt_days\"]：排序"
   ]
  }
 ],
 "metadata": {
  "hide_input": false,
  "kernelspec": {
   "display_name": "Python 3",
   "language": "python",
   "name": "python3"
  },
  "language_info": {
   "codemirror_mode": {
    "name": "ipython",
    "version": 3
   },
   "file_extension": ".py",
   "mimetype": "text/x-python",
   "name": "python",
   "nbconvert_exporter": "python",
   "pygments_lexer": "ipython3",
   "version": "3.6.6"
  },
  "toc": {
   "base_numbering": 1,
   "nav_menu": {},
   "number_sections": true,
   "sideBar": true,
   "skip_h1_title": false,
   "title_cell": "Table of Contents",
   "title_sidebar": "Contents",
   "toc_cell": false,
   "toc_position": {
    "height": "calc(100% - 180px)",
    "left": "10px",
    "top": "150px",
    "width": "380.391px"
   },
   "toc_section_display": true,
   "toc_window_display": true
  },
  "varInspector": {
   "cols": {
    "lenName": 16,
    "lenType": 16,
    "lenVar": 40
   },
   "kernels_config": {
    "python": {
     "delete_cmd_postfix": "",
     "delete_cmd_prefix": "del ",
     "library": "var_list.py",
     "varRefreshCmd": "print(var_dic_list())"
    },
    "r": {
     "delete_cmd_postfix": ") ",
     "delete_cmd_prefix": "rm(",
     "library": "var_list.r",
     "varRefreshCmd": "cat(var_dic_list()) "
    }
   },
   "types_to_exclude": [
    "module",
    "function",
    "builtin_function_or_method",
    "instance",
    "_Feature"
   ],
   "window_display": false
  }
 },
 "nbformat": 4,
 "nbformat_minor": 2
}
