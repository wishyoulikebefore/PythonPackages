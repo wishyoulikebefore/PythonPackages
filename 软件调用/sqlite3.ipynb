{
 "cells": [
  {
   "cell_type": "code",
   "execution_count": 1,
   "metadata": {
    "ExecuteTime": {
     "end_time": "2018-12-30T02:49:55.208721Z",
     "start_time": "2018-12-30T02:49:55.201726Z"
    }
   },
   "outputs": [],
   "source": [
    "import sqlite3"
   ]
  },
  {
   "cell_type": "markdown",
   "metadata": {},
   "source": [
    "## 连接与查询\n",
    "> 创建/打开数据库：connect\n",
    ">> cx = sqlite3.connect(\"E:/test.db\")\n",
    "\n",
    "> 数据库连接对象\n",
    ">> commit()：事务提交   \n",
    "\n",
    ">> rollback()：事务回滚   \n",
    "\n",
    ">> close()：关闭一个数据库连接   \n",
    "\n",
    ">> cursor()：创建一个游标 \n",
    "\n",
    "> 使用游标查询数据库：cx.cursor()\n",
    ">> execute()：执行sql语句   \n",
    "\n",
    ">> executemany：执行多条sql语句   \n",
    "\n",
    ">> close()：关闭游标   \n",
    "\n",
    ">> fetchone()：从结果中取一条记录，并将游标指向下一条记录   \n",
    "\n",
    ">> fetchmany()：从结果中取多条记录   \n",
    "\n",
    ">> fetchall()：从结果中取出所有记录   "
   ]
  },
  {
   "cell_type": "markdown",
   "metadata": {},
   "source": [
    "## 数据库操作"
   ]
  },
  {
   "cell_type": "raw",
   "metadata": {},
   "source": [
    "1.\t建表\n",
    "sqlite3.connect(\"E:/test_db\").cursor().execute(\"create table catalog (id integer primary key,pid integer,name varchar(10) UNIQUE,nickname text NULL)\")\n",
    "#创建一个叫catalog的表\n",
    "#id 属性为数字，primary key表示约束，不能为空值——确保数据唯一性\n",
    "#pid 属性为数字\n",
    "#name 最大字符串长度为10，UNIQUE表示不可重复\n",
    "#nickname 属性为文本，默认为NULL\n",
    "\n",
    "2.\t插入数据\n",
    "for t in [(0,10,’abc’,’Yu’),(1,20,’cba’,’Xu’)]:\n",
    "\tsqlite3.connect(“E:/test_db”).cursor().execute(“insert into catalog values (?,?,?,?)”,t)\n",
    "sqlite3.connect(“E:/test_db”).commit()\n",
    "\n",
    "3.\t查询\n",
    "sqlite3.connect(“E:/test_db”).cursor().execute(“select * from catalog”)\n",
    "sqlite3.connect(“E:/test_db”).cursor(). fetchall()\n",
    "# sqlite3.connect(“E:/test_db”).cursor(). fetchone()会首先返回列表第一项，再次使用返回第二项\n",
    "#for row in sqlite3.connect(“E:/test_db”).cursor():\n",
    "\n",
    "4.\t修改\n",
    "sqlite3.connect(“E:/test_db”).cursor().execute(“update catalog set name=’boy’ where id=0”)\n",
    "sqlite3.connect(“E:/test_db”).commit()\n",
    "\n",
    "5.\t删除\n",
    "sqlite3.connect(“E:/test_db”).cursor().execute(“delete from catalog where id=1”)\n",
    "sqlite3.connect(“E:/test_db”).commit()\n",
    "\n",
    "6.\t使用中文\n",
    "x=u’余’\n",
    "显示出中文字体需要依次打印每个字符串\n",
    "\n",
    "7.\t如果存在表则删除\n",
    "sqlite3.connect(“E:/test_db”).cursor().execute(“drop table if exists catalog”)"
   ]
  }
 ],
 "metadata": {
  "kernelspec": {
   "display_name": "Python 3",
   "language": "python",
   "name": "python3"
  },
  "language_info": {
   "codemirror_mode": {
    "name": "ipython",
    "version": 3
   },
   "file_extension": ".py",
   "mimetype": "text/x-python",
   "name": "python",
   "nbconvert_exporter": "python",
   "pygments_lexer": "ipython3",
   "version": "3.5.4"
  },
  "toc": {
   "base_numbering": 1,
   "nav_menu": {},
   "number_sections": true,
   "sideBar": true,
   "skip_h1_title": false,
   "title_cell": "Table of Contents",
   "title_sidebar": "Contents",
   "toc_cell": false,
   "toc_position": {},
   "toc_section_display": true,
   "toc_window_display": false
  },
  "varInspector": {
   "cols": {
    "lenName": 16,
    "lenType": 16,
    "lenVar": 40
   },
   "kernels_config": {
    "python": {
     "delete_cmd_postfix": "",
     "delete_cmd_prefix": "del ",
     "library": "var_list.py",
     "varRefreshCmd": "print(var_dic_list())"
    },
    "r": {
     "delete_cmd_postfix": ") ",
     "delete_cmd_prefix": "rm(",
     "library": "var_list.r",
     "varRefreshCmd": "cat(var_dic_list()) "
    }
   },
   "types_to_exclude": [
    "module",
    "function",
    "builtin_function_or_method",
    "instance",
    "_Feature"
   ],
   "window_display": false
  }
 },
 "nbformat": 4,
 "nbformat_minor": 2
}
