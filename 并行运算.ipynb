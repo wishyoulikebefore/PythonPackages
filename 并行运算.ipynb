{
 "cells": [
  {
   "cell_type": "code",
   "execution_count": 21,
   "metadata": {},
   "outputs": [],
   "source": [
    "import subprocess\n",
    "from multiprocessing import Process,Semaphore,Lock,Queue,Pool\n",
    "import asyncio\n",
    "import time\n",
    "import nest_asyncio\n",
    "import aiohttp\n",
    "from bs4 import BeautifulSoup\n",
    "import logging\n",
    "import random\n",
    "\n",
    "nest_asyncio.apply()"
   ]
  },
  {
   "cell_type": "markdown",
   "metadata": {},
   "source": [
    "# subprocess 生成多余进程\n",
    "执行shell相关命令，替代os的部分功能，如os.system()"
   ]
  },
  {
   "cell_type": "markdown",
   "metadata": {},
   "source": [
    "## 运行外部命令"
   ]
  },
  {
   "cell_type": "code",
   "execution_count": null,
   "metadata": {},
   "outputs": [],
   "source": [
    "completed = subprocess.run(['ls', '-1'])\n",
    "print('returncode:', completed.returncode)"
   ]
  },
  {
   "cell_type": "markdown",
   "metadata": {},
   "source": [
    "total 104\n",
    "-rw-rw-r--  1 ubuntu ubuntu 33224 Mar 10 13:30 360linuxc(172.16.102.5_8080_8090).sh\n",
    "drwxrwxr-x  2 ubuntu ubuntu  4096 Nov 18  2019 Anaconda\n",
    "drwxrwxr-x 23 ubuntu ubuntu  4096 Nov 19  2019 anaconda3\n",
    "drwxrwxr-x  3 ubuntu ubuntu  4096 Nov 29  2019 docker_test\n",
    "drwxrwxr-x  2 ubuntu ubuntu  4096 Apr 13 10:55 K8S_test\n",
    "returncode: 0"
   ]
  },
  {
   "cell_type": "code",
   "execution_count": null,
   "metadata": {},
   "outputs": [],
   "source": [
    "subprocess.run('echo $HOME', shell=True)"
   ]
  },
  {
   "cell_type": "markdown",
   "metadata": {},
   "source": [
    "/home/ubuntu\n",
    "CompletedProcess(args='echo $HOME', returncode=0)"
   ]
  },
  {
   "cell_type": "markdown",
   "metadata": {},
   "source": [
    "### 捕获错误\n",
    "subprocess.CalledProcessError"
   ]
  },
  {
   "cell_type": "markdown",
   "metadata": {},
   "source": [
    "### 捕获输出"
   ]
  },
  {
   "cell_type": "code",
   "execution_count": null,
   "metadata": {},
   "outputs": [],
   "source": [
    "completed = subprocess.run(['ls', '-1'],stdout=subprocess.PIPE,)\n",
    "\n",
    "print('returncode:', completed.returncode)\n",
    "print('Have {} bytes in stdout:\\n{}'.format(\n",
    "    len(completed.stdout),\n",
    "    completed.stdout.decode('utf-8'))\n",
    ")"
   ]
  },
  {
   "cell_type": "markdown",
   "metadata": {},
   "source": [
    "## 直接使用管道"
   ]
  },
  {
   "cell_type": "markdown",
   "metadata": {},
   "source": [
    "call(args, *, stdin=None, stdout=None, stderr=None, shell=False, timeout=None)：执行命令，返回状态码\n",
    "\n",
    "check_call(args, *, stdin=None, stdout=None, stderr=None, shell=False, timeout=None)：检查执行命令后的返回值，如果是0则返回，如果不是则抛出异常\n",
    " \n",
    "check_output(args, *, stdin=None, stderr=None, shell=False, universal_newlines=False, timeout=None)：检查执行命令后的返回值，如果是0则返回执行结果，如果不是则抛出异常"
   ]
  },
  {
   "cell_type": "markdown",
   "metadata": {},
   "source": [
    "**使用方法**\n",
    "\n",
    "用数组作为参数\n",
    "> subprocess.call(['df', '-h'])\n",
    "\n",
    "用字符串作为参数(shell=True)，尤其对必须在shell中解析的regex\n",
    "> subprocess.call(['df -h',shell=True])"
   ]
  },
  {
   "cell_type": "markdown",
   "metadata": {},
   "source": [
    "## 与进程通信"
   ]
  },
  {
   "cell_type": "markdown",
   "metadata": {},
   "source": [
    "Popen(args,bufsize=-1,stdin=None, stdout=None, stderr=None,cwd=None)：用于执行复杂的系统命令\n",
    "\n",
    "利用communicate()函数返回一个tuple(标准输出和错误)\n",
    "> args：shell命令，可以是字符串或者序列类型（如：list，元组）\n",
    "\n",
    "> bufsize：指定缓冲\n",
    "\n",
    "> stdin, stdout, stderr：分别表示程序的标准输入、输出、错误句柄\n",
    "\n",
    "> cwd：用于设置子进程的当前目录\n",
    "\n",
    "对子进程的操作\n",
    "> wait()：等待子进程运行结束后再执行父进程\n",
    "\n",
    "> poll()：检查子进程的状态\n",
    "\n",
    "> kill()：终止子进程\n",
    "\n",
    "> sent_signal()：向子进程发送信号\n",
    "\n",
    "> pid：查看子进程的pid\n",
    "\n",
    "> args：查看shell命令\n",
    "\n",
    "利用管道符号：subprocess.PIPE"
   ]
  },
  {
   "cell_type": "code",
   "execution_count": null,
   "metadata": {},
   "outputs": [],
   "source": [
    "# 解决regex和参数同时存在的情况\n",
    "import glob\n",
    "import subprocess\n",
    "\n",
    "for item in glob.glob(\"*url\"):\n",
    "        tumor = item.replace(\".url\",\"\")\n",
    "        p1 = subprocess.Popen(['wget', '-i', item], stdout=subprocess.PIPE)\n",
    "        p1.communicate()\n",
    "        p2 = subprocess.Popen(['mkdir', \"temp\"], stdout=subprocess.PIPE)\n",
    "        p2.communicate()\n",
    "        #使用一个中间文件，先解决regex，再解决参数\n",
    "        p3 = subprocess.Popen([\"mv *gz temp\"],shell=True,stdout=subprocess.PIPE)\n",
    "        p3.communicate()\n",
    "        p4 = subprocess.Popen([\"mv\",\"temp\",tumor],stdout=subprocess.PIPE)\n",
    "        p4.communicate()"
   ]
  },
  {
   "cell_type": "markdown",
   "metadata": {},
   "source": [
    "# multiprocessing 多进程"
   ]
  },
  {
   "cell_type": "markdown",
   "metadata": {},
   "source": [
    "## 基础操作"
   ]
  },
  {
   "cell_type": "markdown",
   "metadata": {},
   "source": [
    "Process(target [, name [, args [, kwargs]]])：target为调用函数名\n",
    "\n",
    "cpu.count()：获取当前机器的 CPU 核心数量\n",
    "\n",
    "active_children()：获取目前所有的运行的进程\n",
    "\n",
    "start()：启动多个进程\n",
    "\n",
    "daemon：设置为True，则父进程结束后子进程自动终止\n",
    "\n",
    "join()：所有子进程都执行完再结束\n",
    "\n",
    "Lock()：同一时间只能一个进程输出，其他进程等待\n",
    "> 获得锁 Lock(),acquire()\n",
    "\n",
    "> 释放锁 Lock().release()\n",
    "\n",
    "> Semaphore(信号量)：做到同步和互斥，及控制临界资源数量"
   ]
  },
  {
   "cell_type": "markdown",
   "metadata": {},
   "source": [
    "## 进程间通信\n",
    "Queue"
   ]
  },
  {
   "cell_type": "code",
   "execution_count": 8,
   "metadata": {},
   "outputs": [
    {
     "name": "stdout",
     "output_type": "stream",
     "text": [
      "Ended!\n"
     ]
    }
   ],
   "source": [
    "import time\n",
    "from random import random\n",
    "\n",
    "buffer=Queue(10)\n",
    "empty=Semaphore(2)   #缓冲区空余数\n",
    "full=Semaphore(0)    #缓冲区占用数\n",
    "lock=Lock()\n",
    "\n",
    "class Consumer(Process):\n",
    "\n",
    "    def run(self):\n",
    "        global buffer, empty, full, lock\n",
    "        while True:\n",
    "            full.acquire()\n",
    "            lock.acquire()\n",
    "            print(\"Consumer get\",buffer.get())\n",
    "            time.sleep(1)\n",
    "            lock.release()\n",
    "            empty.release()\n",
    "\n",
    "class Producer(Process):\n",
    "\n",
    "    def run(self):\n",
    "        global buffer, empty, full, lock\n",
    "        while True:\n",
    "            empty.acquire()         #占用一个缓冲区位置,缓冲区空余数-1\n",
    "            lock.acquire()\n",
    "            num=random()\n",
    "            print(\"Producer put\",num)\n",
    "            buffer.put(num)         #对缓冲区进行操作\n",
    "            time.sleep(1)\n",
    "            lock.release()\n",
    "            full.release()          #缓冲区占用数+1\n",
    "\n",
    "if __name__ == \"__main__\":\n",
    "    p=Producer()\n",
    "    c=Consumer()\n",
    "    p.daemon=c.daemon=True\n",
    "    p.start()\n",
    "    c.start()\n",
    "    p.join()\n",
    "    c.join()\n",
    "    print(\"Ended!\")"
   ]
  },
  {
   "cell_type": "markdown",
   "metadata": {},
   "source": [
    "## 管道\n",
    "Pipe"
   ]
  },
  {
   "cell_type": "code",
   "execution_count": 9,
   "metadata": {},
   "outputs": [
    {
     "name": "stdout",
     "output_type": "stream",
     "text": [
      "Ended\n"
     ]
    }
   ],
   "source": [
    "class Consumer(Process):\n",
    "    def __init__(self,pipe):\n",
    "        Process.__init__(self)\n",
    "        self.pipe=pipe\n",
    "\n",
    "    def run(self):\n",
    "        self.pipe.send(\"Consumer words\")\n",
    "        print(\"Consumer received: \",self.pipe.recv())\n",
    "\n",
    "class Producer(Process):\n",
    "    def __init__(self, pipe):\n",
    "        Process.__init__(self)\n",
    "        self.pipe = pipe\n",
    "\n",
    "    def run(self):\n",
    "        self.pipe.send(\"Producer words\")\n",
    "        print(\"Producer received: \",self.pipe.recv())\n",
    "\n",
    "if __name__ == \"__main__\":\n",
    "    pipe=Pipe()\n",
    "    p=Producer(pipe[0])       #将管道的两端分别传给两个进程\n",
    "    c=Consumer(pipe[1])\n",
    "    p.daemon=c.daemon=True\n",
    "    p.start()\n",
    "    c.start()\n",
    "    p.join()\n",
    "    c.join()\n",
    "    print(\"Ended\")"
   ]
  },
  {
   "cell_type": "markdown",
   "metadata": {},
   "source": [
    "## 进程池 Pool\n",
    "非阻塞：apply_async()，添加进程后，不一定非要等到改进程执行完就添加其他进程运行\n",
    "\n",
    "阻塞：apply()则相反"
   ]
  },
  {
   "cell_type": "code",
   "execution_count": 17,
   "metadata": {},
   "outputs": [],
   "source": [
    "### 阻塞\n",
    "import math\n",
    "\n",
    "pool=Pool(processes=5)\n",
    "start=time.time()\n",
    "for i in range(10):\n",
    "    pool.apply(math.sqrt,(i,))\n",
    "pool.close()\n",
    "pool.join()"
   ]
  },
  {
   "cell_type": "code",
   "execution_count": 18,
   "metadata": {},
   "outputs": [],
   "source": [
    "### 非阻塞\n",
    "\n",
    "pool=Pool(processes=5)\n",
    "start=time.time()\n",
    "for i in range(10):\n",
    "    pool.apply_async(math.sqrt,(i,))\n",
    "pool.close()\n",
    "pool.join()"
   ]
  },
  {
   "cell_type": "markdown",
   "metadata": {},
   "source": [
    "### 多进程写入同一文件\n",
    "使用multiprocessing库的回调函数（callback）"
   ]
  },
  {
   "cell_type": "code",
   "execution_count": null,
   "metadata": {},
   "outputs": [],
   "source": [
    "def mycallback(x):\n",
    "        output.write(x+\"\\n\")\n",
    "\n",
    "if __name__==\"__main__\":\n",
    "        pool=multiprocessing.Pool(processes=12)\n",
    "        for item in strain_combination:\n",
    "                pool.apply_async(compare2.calculate_distance,(item,),callback=mycallback)\n",
    "        pool.close()\n",
    "        pool.join()"
   ]
  },
  {
   "cell_type": "markdown",
   "metadata": {},
   "source": [
    "**<font color=\"red\">在多进程中使用装饰器时，由于装饰器修饰后的函数会丢失原有函数名，导致不可pickle，需要配合functools.wraps使用</font>**"
   ]
  },
  {
   "cell_type": "markdown",
   "metadata": {},
   "source": [
    "## 实际案例"
   ]
  },
  {
   "cell_type": "code",
   "execution_count": null,
   "metadata": {},
   "outputs": [],
   "source": [
    "### methylation_binom_cal\n",
    "\n",
    "from scipy.stats import binom\n",
    "import argparse\n",
    "import subprocess\n",
    "import pandas as pd\n",
    "import sys\n",
    "sys.path.append(\"/home/zuotianyu/script/stat\")\n",
    "from model_stats import binom_test, generate_binom_table\n",
    "import multiprocessing\n",
    "import glob\n",
    "import os\n",
    "\n",
    "\"\"\"\n",
    "拆成24个文件，30min以内处理完\n",
    "新增加功能：根据输入的conversion_rate先制作table\n",
    "\"\"\"\n",
    "\n",
    "def parse_args():\n",
    "    parser = argparse.ArgumentParser(description=\"检测甲基化位点\")\n",
    "    parser.add_argument(\"-f\")\n",
    "    parser.add_argument(\"-fdr\",required=False,default=0.01)   #non-conversion + sequencing error\n",
    "    parser.add_argument(\"-sd\", required=False, default=\"/ehpcdata/zuotianyu/WGBS_mid_file/binom_test\")\n",
    "    parser.add_argument(\"-pfx\")     #输出文件前缀\n",
    "    args = parser.parse_args()\n",
    "    return args.f,args.fdr,args.sd,args.pfx\n",
    "\n",
    "def get_EX(n,thresholdDict):\n",
    "    exp = thresholdDict.get(n)\n",
    "    if exp:\n",
    "        return exp\n",
    "    else:\n",
    "        return 1\n",
    "\n",
    "def get_pValue(mNum,n,fdr,binomDict):\n",
    "    pValue = binomDict.get(\"%s_%s\" % (n, mNum))\n",
    "    if pValue:\n",
    "        return pValue\n",
    "    else:\n",
    "        return binom_test(mNum,n,fdr)\n",
    "\n",
    "def process_file(_file,fdr,binomDict,thresholdDict):\n",
    "\n",
    "    output = open(\"%s.txt\" %(_file),\"a\")\n",
    "    with open(_file) as f:\n",
    "        for line in f:\n",
    "            lineList = line.rstrip().split()\n",
    "            mNum = int(lineList[3])\n",
    "            umNum = int(lineList[4])\n",
    "            n = mNum+umNum\n",
    "            EX = get_EX(n,thresholdDict)                    #默认0.05\n",
    "            pValue = get_pValue(mNum,n,fdr,binomDict)\n",
    "            output.write(\"%s\\t%s\\t%s\\n\" %(\"\\t\".join(lineList[:7]),EX,pValue))\n",
    "    f.close()\n",
    "    output.close()\n",
    "    os.remove(_file)\n",
    "\n",
    "if __name__ == \"__main__\":\n",
    "    input_file,fdr,sd,output_prefix = parse_args()\n",
    "    fdr = round(float(fdr),3)\n",
    "    if not os.path.exists(output_prefix):\n",
    "        os.mkdir(output_prefix)\n",
    "    os.chdir(output_prefix)\n",
    "\n",
    "    generate_binom_table(fdr,sd)\n",
    "    table = pd.read_table(\"%s/binom_table_%s\" %(sd,fdr), header=None, names=[\"con\", \"p\"], dtype={\"con\": str, \"p\": str})\n",
    "    table2 = pd.read_table(\"%s/binom_threshold_%s\" %(sd,fdr), header=None, names=[\"n\", \"m\"])\n",
    "    binomDict = dict(zip(table[\"con\"], table[\"p\"]))\n",
    "    thresholdDict = dict(zip(table2[\"n\"], table2[\"m\"]))\n",
    "\n",
    "    wd = os.getcwd()\n",
    "    output = open(\"%s.CX_report.txt\" %(output_prefix), \"a\")\n",
    "    subprocess.check_call([\"split\",\"-l\",\"50000000\",input_file,\"%s_piece\" %(output_prefix)])\n",
    "    record = []\n",
    "    pool = multiprocessing.Pool(processes=24)\n",
    "    for piece_file in glob.glob(\"*piece*\"):\n",
    "        pool.apply_async(process_file, args=(piece_file,fdr,binomDict,thresholdDict,))\n",
    "        record.append(piece_file)\n",
    "    pool.close()\n",
    "    pool.join()\n",
    "\n",
    "    for item in record:\n",
    "        _file = \"%s.txt\" %(item)\n",
    "        with open(_file) as f:\n",
    "            for line in f:\n",
    "                output.write(line)\n",
    "        f.close()\n",
    "        os.remove(_file)\n",
    "    output.close()"
   ]
  },
  {
   "cell_type": "code",
   "execution_count": null,
   "metadata": {},
   "outputs": [],
   "source": [
    "### WGBS_chiploc\n",
    "\n",
    "import pandas as pd\n",
    "import time\n",
    "import glob\n",
    "import multiprocessing\n",
    "from functools import wraps\n",
    "\n",
    "\"\"\"\n",
    "处理数据背景：甲基化样本共200+，每个文件10亿+行，需要从中挑出在甲基化芯片中50万+条序列中的位点（每条序列50bp长）\n",
    "速度优化：1）甲基化样本文件不是按照染色体顺序排列，但每条染色体内部的位置都是排过序的\n",
    "          -->需要先对芯片位点排序，按照chr提取起点位置列表至字典中方便调用\n",
    "          2）judge()函数中的搜索优化：终止+位点列表的删减（已检出位点之前所有位点的删除，避免无效搜索）\n",
    "          3）输出每个样本每条染色体的运行时间和总运行时间\n",
    "          4）多进程处理，加快速度（注意decorator的坑）\n",
    "\n",
    "\"\"\"\n",
    "def process_chip():\n",
    "    chip = \"/glusterfs/home/zuo_tianyu/python_script/methylation/human_methylation_450k_beadchip_array.txt\"\n",
    "    table = pd.read_table(chip,dtype={\"CHR\":str})\n",
    "    select_columns = [\"CHR\",\"MAPINFO\"]\n",
    "    df = table[select_columns].dropna()\n",
    "    df.rename(columns={\"MAPINFO\":\"start\",\"CHR\":\"chr\"},inplace=True)    #芯片都是50bp\n",
    "    df[\"chr\"] = \"chr\"+df[\"chr\"]\n",
    "    df.sort_values(by=[\"chr\",\"start\"],inplace=True)\n",
    "    df.set_index(\"chr\",inplace=True)\n",
    "    chrList = df.index.unique()\n",
    "    chr_locDict = {}\n",
    "    for chr_name in chrList:\n",
    "        chr_locDict[chr_name] = df.ix[chr_name][\"start\"].tolist()\n",
    "    print(\"芯片所用序列位点已获得\")\n",
    "    return chr_locDict\n",
    "\n",
    "def timer(func):\n",
    "    \"\"\"\n",
    "    multiprocessing不支持装饰器直接使用（因为装饰器修饰后的函数会丢失原有函数名，导致不可pickle）\n",
    "    使用functools.wraps解决（注解底层包装函数）\n",
    "    \"\"\"\n",
    "    @wraps(func)\n",
    "    def wrapper(*args,**kwargs):\n",
    "        start_time = time.time()\n",
    "        func(*args,**kwargs)\n",
    "        end_time = time.time()\n",
    "        print(\"%s\" % (end_time - start_time))\n",
    "    return wrapper\n",
    "\n",
    "@timer\n",
    "def process_sample(CX_file,chr_locDict):\n",
    "    copyDict = chr_locDict\n",
    "    print(\"%s开始处理\" % (CX_file))\n",
    "    sample_name = CX_file.replace(\".*\", \"\")\n",
    "    output = open(sample_name + \".CX_filtered.txt\", \"a\")\n",
    "    last_chr = \"\"\n",
    "    chr_process_time = time.time()\n",
    "    with open(CX_file) as f:\n",
    "        for line in f:\n",
    "            lineList = line.rstrip().split()\n",
    "            _chr = lineList[0]\n",
    "            loc = lineList[1]\n",
    "            if \"_\" in _chr or _chr == \"chrM\":\n",
    "                continue\n",
    "            if monitor(last_chr,_chr):\n",
    "                print(\"%s的%s处理共耗时%s\" %(sample_name,last_chr,time.time()-chr_process_time))\n",
    "                chr_process_time = time.time()\n",
    "                last_chr = _chr\n",
    "            else:\n",
    "                pass\n",
    "            this_judge = judge(_chr, loc,copyDict)\n",
    "            if this_judge:\n",
    "                output.write(line)\n",
    "                copyDict = this_judge\n",
    "            else:\n",
    "                pass\n",
    "    print(\"%s处理完成\" % (CX_file))\n",
    "    f.close()\n",
    "    output.close()\n",
    "\n",
    "#输出各chr的处理时间\n",
    "def monitor(last_chr,now_chr):\n",
    "    if last_chr != now_chr:\n",
    "        return 1\n",
    "    else:\n",
    "        return\n",
    "\n",
    "def judge(_chr,loc,chr_locDict):\n",
    "    chip_loc = chr_locDict[_chr]\n",
    "    loc = int(loc)\n",
    "    for nu,loci in enumerate(chip_loc):\n",
    "        loci = int(loci)\n",
    "        if loc < loci:\n",
    "            return\n",
    "        elif loc >= loci and loc <= loci+49:\n",
    "            del chip_loc[:nu]\n",
    "            chr_locDict[_chr] = chip_loc\n",
    "            return chr_locDict\n",
    "        else:\n",
    "            pass\n",
    "\n",
    "if __name__ == \"__main__\":\n",
    "    pool = multiprocessing.Pool(processes=24)\n",
    "    chr_locDict = process_chip()\n",
    "    for CX_file in glob.glob(\"*txt\"):\n",
    "        pool.apply_async(process_sample,args=(CX_file,chr_locDict,))\n",
    "    pool.close()\n",
    "    pool.join()"
   ]
  },
  {
   "cell_type": "markdown",
   "metadata": {},
   "source": [
    "# asyncio 异步I/O"
   ]
  },
  {
   "cell_type": "raw",
   "metadata": {},
   "source": [
    "async就是声明一个函数为协程。而await就是代替原来的yield from\n",
    "协程里面是不能有阻塞操作的，对于sleep这样的阻塞我们需要用关键是await来包装一下\n",
    "协程需要搭配事件循环才能使用,用asyncio库里面的get_event_loop来声明一个异步的事件循环\n",
    "然后把我们的add函数注册到loop中去\n",
    "最后我们等待事件完成run_until_complete"
   ]
  },
  {
   "cell_type": "code",
   "execution_count": 22,
   "metadata": {},
   "outputs": [],
   "source": [
    "async def add(x=1,y=2):\n",
    "    print(\"Add {} + {} ...\".format(x,y))\n",
    "    await asyncio.sleep(2)\n",
    "    return x+y"
   ]
  },
  {
   "cell_type": "code",
   "execution_count": 23,
   "metadata": {},
   "outputs": [
    {
     "name": "stdout",
     "output_type": "stream",
     "text": [
      "Add 6 + 16 ...\n",
      "Add 1 + 11 ...\n",
      "Add 7 + 17 ...\n",
      "Add 2 + 12 ...\n",
      "Add 8 + 18 ...\n",
      "Add 3 + 13 ...\n",
      "Add 9 + 19 ...\n",
      "Add 4 + 14 ...\n",
      "Add 5 + 15 ...\n",
      "2.0032901763916016\n"
     ]
    }
   ],
   "source": [
    "### 执行多个task\n",
    "s = time.time()\n",
    "loop = asyncio.get_event_loop()\n",
    "tasks = [add(x,y) for x,y in zip(range(1,10),range(11,20))]\n",
    "loop.run_until_complete(asyncio.wait(tasks))\n",
    "print(time.time()-s)"
   ]
  },
  {
   "cell_type": "code",
   "execution_count": 24,
   "metadata": {},
   "outputs": [
    {
     "name": "stdout",
     "output_type": "stream",
     "text": [
      "Add 1 + 2 ...\n",
      "Add 11 + 12 ...\n",
      "Add 111 + 112 ...\n",
      "3\n",
      "23\n",
      "223\n",
      "2.00235915184021\n"
     ]
    }
   ],
   "source": [
    "# 获取多个并发的task的结果\n",
    "s = time.time()\n",
    "loop = asyncio.get_event_loop()\n",
    "tasks = [loop.create_task(add(1,2)),loop.create_task(add(11,12)),loop.create_task(add(111,112))]\n",
    "loop.run_until_complete(asyncio.wait(tasks))\n",
    "for task in tasks:\n",
    "    print(task.result())\n",
    "print(time.time()-s)"
   ]
  }
 ],
 "metadata": {
  "hide_input": false,
  "kernelspec": {
   "display_name": "Python 3",
   "language": "python",
   "name": "python3"
  },
  "language_info": {
   "codemirror_mode": {
    "name": "ipython",
    "version": 3
   },
   "file_extension": ".py",
   "mimetype": "text/x-python",
   "name": "python",
   "nbconvert_exporter": "python",
   "pygments_lexer": "ipython3",
   "version": "3.6.0"
  },
  "toc": {
   "base_numbering": 1,
   "nav_menu": {},
   "number_sections": true,
   "sideBar": true,
   "skip_h1_title": false,
   "title_cell": "Table of Contents",
   "title_sidebar": "Contents",
   "toc_cell": false,
   "toc_position": {},
   "toc_section_display": true,
   "toc_window_display": true
  }
 },
 "nbformat": 4,
 "nbformat_minor": 2
}
