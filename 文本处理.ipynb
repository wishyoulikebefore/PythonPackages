{
 "cells": [
  {
   "cell_type": "markdown",
   "metadata": {},
   "source": [
    "# re 正则表达式"
   ]
  },
  {
   "cell_type": "raw",
   "metadata": {},
   "source": [
    "元字符\n",
    "\\A       匹配开头\n",
    "\n",
    "\\Z       匹配结尾\n",
    "\n",
    "\\b       匹配开头的空字符\n",
    "\n",
    "\\B       匹配结尾空字符\n",
    "\n",
    "\\d       匹配任何数字，等同于[0-9]\n",
    "\n",
    "\\D       匹配任何非数字，等同于[^\\d].\n",
    "\n",
    "\\s       匹配任何空白字符，等同于[ \\t\\n\\r\\f\\v]\n",
    "\n",
    "\\S       匹配任何非空白字符，等同于[^\\s].\n",
    "\n",
    "\\w       匹配任何字母或数字，等同于[a-zA-Z0-9_]\n",
    "\n",
    "\\W       \n",
    "\n",
    "\\\\       匹配backslash. \n",
    "\n",
    "Python用\" \\\\\\\\ \"表示正则表达式中的\" \\ \"\n",
    "\n",
    "原始字符串(raw string) 用'r'作为字符串的前缀，如 r\"\\n\"：表示两个字符\"\\\"和\"n\"\n",
    "\n",
    "非贪婪匹配：*?、+?、?? 或 {m,n}?"
   ]
  },
  {
   "cell_type": "code",
   "execution_count": 1,
   "metadata": {},
   "outputs": [],
   "source": [
    "import re"
   ]
  },
  {
   "cell_type": "markdown",
   "metadata": {},
   "source": [
    "## compile(pattern[, flags])\n",
    "将一个字符串编译成 regular pattern object（regex），用于匹配或搜索\n",
    "\n",
    "re 所定义的 flag 包括：\n",
    "> re.I 忽略大小写（ignorecase）\n",
    "\n",
    "> re.L 表示特殊字符集 \\w, \\W, \\b, \\B, \\s, \\S 依赖于当前环境（locale）\n",
    "\n",
    "> re.M 多行模式（multiline）\n",
    "\n",
    "> re.S 即为’ . ’并且包括换行符在内的任意字符（’ . ’不包括换行符）\n",
    "\n",
    "> re.U 表示特殊字符集 \\w, \\W, \\b, \\B, \\d, \\D, \\s, \\S 依赖于 Unicode 字符属性数据库\n",
    "\n",
    "> re.X 为了增加可读性，忽略空格和’ # ’后面的注释 "
   ]
  },
  {
   "cell_type": "markdown",
   "metadata": {},
   "source": [
    "## 匹配\n",
    "有匹配即返回，只会匹配一个\n",
    "\n",
    "match：从起始位置开始匹配\n",
    "> match(pattern, string, flags=0)\n",
    "\n",
    "> regex.match(string[, pos[, endpos]])\n",
    "\n",
    "search：字符串内查找模式匹配\n",
    "> search(pattern, string, flags=0) \n",
    "\n",
    "> regex.search(string[, pos[, endpos]])\n",
    "\n",
    "group()用来提出分组截获的字符串，group(0)指所有匹配的内容，group(1)指第一个()匹配内容"
   ]
  },
  {
   "cell_type": "code",
   "execution_count": 4,
   "metadata": {},
   "outputs": [
    {
     "data": {
      "text/plain": [
       "'Isaac Newton'"
      ]
     },
     "execution_count": 4,
     "metadata": {},
     "output_type": "execute_result"
    }
   ],
   "source": [
    "m = re.match(r\"(\\w+) (\\w+)\", \"Isaac Newton, physicist\")\n",
    "m.group(0)       # The entire match"
   ]
  },
  {
   "cell_type": "code",
   "execution_count": 5,
   "metadata": {},
   "outputs": [
    {
     "data": {
      "text/plain": [
       "'Isaac'"
      ]
     },
     "execution_count": 5,
     "metadata": {},
     "output_type": "execute_result"
    }
   ],
   "source": [
    "m.group(1)       # The first parenthesized subgroup."
   ]
  },
  {
   "cell_type": "code",
   "execution_count": 6,
   "metadata": {},
   "outputs": [
    {
     "data": {
      "text/plain": [
       "('Isaac', 'Newton')"
      ]
     },
     "execution_count": 6,
     "metadata": {},
     "output_type": "execute_result"
    }
   ],
   "source": [
    "m.group(1, 2)    # Multiple arguments give us a tuple."
   ]
  },
  {
   "cell_type": "markdown",
   "metadata": {},
   "source": [
    "## 搜索\n",
    "搜索全部匹配情况，可以多个\n",
    "\n",
    "findall：组成一个列表返回\n",
    "> findall(pattern, string, flags=0)\n",
    "\n",
    "> regex.findall(string[, pos[, endpos]])\n",
    "\n",
    "finditer：组成一个迭代器返回\n",
    "> finditer(pattern, string, flags=0)\n",
    "\n",
    "> regex.finditer(string[, pos[, endpos]])"
   ]
  },
  {
   "cell_type": "code",
   "execution_count": 7,
   "metadata": {},
   "outputs": [
    {
     "data": {
      "text/plain": [
       "['aa', 'bb']"
      ]
     },
     "execution_count": 7,
     "metadata": {},
     "output_type": "execute_result"
    }
   ],
   "source": [
    "#搜索多个字符串\n",
    "re.findall(\"(aa|bb)\",\"acaacbfbb\")"
   ]
  },
  {
   "cell_type": "markdown",
   "metadata": {},
   "source": [
    "匹配和搜索的区别：\n",
    "> 匹配：有匹配即返回，只会匹配一个\n",
    "\n",
    "> 搜索：搜索全部匹配情况，可以多个"
   ]
  },
  {
   "cell_type": "markdown",
   "metadata": {},
   "source": [
    "## 分割\n",
    "split(pattern, string[, maxsplit=0, flags=0])\n",
    "\n",
    "regex.split(string, maxsplit=0)"
   ]
  },
  {
   "cell_type": "markdown",
   "metadata": {},
   "source": [
    "## 替换\n",
    "sub：返回新字符串；若未找到匹配，则返回未被修改的字符串\n",
    "> sub(pattern, repl, string[, count, flags]) 其中count 用于指定最多替换次数\n",
    "\n",
    "> regex.sub(repl, string, count=0) \n",
    "\n",
    "subn：返回新字符串以及替换的次数\n",
    "> subn(pattern, repl, string[, count, flags])\n",
    "\n",
    "> regex.subn(repl, string, count=0)"
   ]
  },
  {
   "cell_type": "markdown",
   "metadata": {},
   "source": [
    "## 其它\n",
    "escape(string):对字符串中的非字母数字进行转义\n",
    "\n",
    "purge():清空缓存中的正则表达式"
   ]
  },
  {
   "cell_type": "markdown",
   "metadata": {},
   "source": [
    "# fuzzywuzzy\n",
    "依据 Levenshtein Distance 算法 计算两个序列之间的差异"
   ]
  },
  {
   "cell_type": "raw",
   "metadata": {},
   "source": [
    "Levenshtein Distance 算法，又叫 Edit Distance 算法，是指两个字符串之间，由一个转成另一个所需的最少编辑操作次数\n",
    "\n",
    "许可的编辑操作包括将一个字符替换成另一个字符，插入一个字符，删除一个字符\n",
    "\n",
    "一般来说，编辑距离越小，两个串的相似度越大"
   ]
  },
  {
   "cell_type": "code",
   "execution_count": 11,
   "metadata": {},
   "outputs": [
    {
     "name": "stderr",
     "output_type": "stream",
     "text": [
      "c:\\users\\administrator\\appdata\\local\\programs\\python\\python36\\lib\\site-packages\\fuzzywuzzy\\fuzz.py:11: UserWarning: Using slow pure-python SequenceMatcher. Install python-Levenshtein to remove this warning\n",
      "  warnings.warn('Using slow pure-python SequenceMatcher. Install python-Levenshtein to remove this warning')\n"
     ]
    }
   ],
   "source": [
    "from fuzzywuzzy import fuzz\n",
    "from fuzzywuzzy import process"
   ]
  },
  {
   "cell_type": "markdown",
   "metadata": {},
   "source": [
    "## 简单匹配（Simple Ratio）"
   ]
  },
  {
   "cell_type": "code",
   "execution_count": 12,
   "metadata": {},
   "outputs": [
    {
     "data": {
      "text/plain": [
       "97"
      ]
     },
     "execution_count": 12,
     "metadata": {},
     "output_type": "execute_result"
    }
   ],
   "source": [
    "fuzz.ratio(\"this is a test\", \"this is a test!\")"
   ]
  },
  {
   "cell_type": "markdown",
   "metadata": {},
   "source": [
    "## 非完全匹配（Partial Ratio）"
   ]
  },
  {
   "cell_type": "code",
   "execution_count": 13,
   "metadata": {},
   "outputs": [
    {
     "data": {
      "text/plain": [
       "100"
      ]
     },
     "execution_count": 13,
     "metadata": {},
     "output_type": "execute_result"
    }
   ],
   "source": [
    "fuzz.partial_ratio(\"this is a test\", \"this is a test!\")"
   ]
  },
  {
   "cell_type": "markdown",
   "metadata": {},
   "source": [
    "## 忽略顺序匹配（Token Sort Ratio）"
   ]
  },
  {
   "cell_type": "code",
   "execution_count": 14,
   "metadata": {},
   "outputs": [
    {
     "data": {
      "text/plain": [
       "91"
      ]
     },
     "execution_count": 14,
     "metadata": {},
     "output_type": "execute_result"
    }
   ],
   "source": [
    "fuzz.ratio(\"fuzzy wuzzy was a bear\", \"wuzzy fuzzy was a bear\")"
   ]
  },
  {
   "cell_type": "code",
   "execution_count": 15,
   "metadata": {},
   "outputs": [
    {
     "data": {
      "text/plain": [
       "100"
      ]
     },
     "execution_count": 15,
     "metadata": {},
     "output_type": "execute_result"
    }
   ],
   "source": [
    "fuzz.token_sort_ratio(\"fuzzy wuzzy was a bear\", \"wuzzy fuzzy was a bear\")"
   ]
  },
  {
   "cell_type": "markdown",
   "metadata": {},
   "source": [
    "## 去重子集匹配（Token Set Ratio）"
   ]
  },
  {
   "cell_type": "code",
   "execution_count": 16,
   "metadata": {},
   "outputs": [
    {
     "data": {
      "text/plain": [
       "84"
      ]
     },
     "execution_count": 16,
     "metadata": {},
     "output_type": "execute_result"
    }
   ],
   "source": [
    "fuzz.token_sort_ratio(\"fuzzy was a bear\", \"fuzzy fuzzy was a bear\")"
   ]
  },
  {
   "cell_type": "code",
   "execution_count": 17,
   "metadata": {},
   "outputs": [
    {
     "data": {
      "text/plain": [
       "100"
      ]
     },
     "execution_count": 17,
     "metadata": {},
     "output_type": "execute_result"
    }
   ],
   "source": [
    "fuzz.token_set_ratio(\"fuzzy was a bear\", \"fuzzy fuzzy was a bear\")"
   ]
  },
  {
   "cell_type": "markdown",
   "metadata": {},
   "source": [
    "## Process\n",
    "用来返回模糊匹配的字符串和相似度"
   ]
  },
  {
   "cell_type": "code",
   "execution_count": 18,
   "metadata": {},
   "outputs": [],
   "source": [
    "choices = [\"Atlanta Falcons\", \"New York Jets\", \"New York Giants\", \"Dallas Cowboys\"]"
   ]
  },
  {
   "cell_type": "code",
   "execution_count": 19,
   "metadata": {},
   "outputs": [
    {
     "data": {
      "text/plain": [
       "[('New York Jets', 100), ('New York Giants', 79)]"
      ]
     },
     "execution_count": 19,
     "metadata": {},
     "output_type": "execute_result"
    }
   ],
   "source": [
    "process.extract(\"new york jets\", choices, limit=2)"
   ]
  },
  {
   "cell_type": "code",
   "execution_count": 20,
   "metadata": {},
   "outputs": [
    {
     "data": {
      "text/plain": [
       "('Dallas Cowboys', 90)"
      ]
     },
     "execution_count": 20,
     "metadata": {},
     "output_type": "execute_result"
    }
   ],
   "source": [
    "process.extractOne(\"cowboys\", choices)"
   ]
  }
 ],
 "metadata": {
  "hide_input": false,
  "kernelspec": {
   "display_name": "Python 3",
   "language": "python",
   "name": "python3"
  },
  "language_info": {
   "codemirror_mode": {
    "name": "ipython",
    "version": 3
   },
   "file_extension": ".py",
   "mimetype": "text/x-python",
   "name": "python",
   "nbconvert_exporter": "python",
   "pygments_lexer": "ipython3",
   "version": "3.9.0"
  },
  "toc": {
   "base_numbering": 1,
   "nav_menu": {},
   "number_sections": true,
   "sideBar": true,
   "skip_h1_title": false,
   "title_cell": "Table of Contents",
   "title_sidebar": "Contents",
   "toc_cell": false,
   "toc_position": {},
   "toc_section_display": true,
   "toc_window_display": true
  }
 },
 "nbformat": 4,
 "nbformat_minor": 2
}
