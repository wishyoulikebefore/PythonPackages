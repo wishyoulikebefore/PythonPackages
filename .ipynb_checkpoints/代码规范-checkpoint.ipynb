{
 "cells": [
  {
   "cell_type": "markdown",
   "metadata": {},
   "source": [
    "# 单下划线/双下划线"
   ]
  },
  {
   "cell_type": "markdown",
   "metadata": {},
   "source": [
    "单前导下划线：_var\n",
    "\n",
    "单末尾下划线：var_\n",
    "\n",
    "双前导下划线：__var\n",
    "\n",
    "双前导和末尾下划线：__var__\n",
    "\n",
    "单下划线：_"
   ]
  },
  {
   "cell_type": "markdown",
   "metadata": {},
   "source": [
    "## 单前导下划线：_var\n",
    "(<font color=\"red\">约定</font>)仅供内部使用"
   ]
  },
  {
   "cell_type": "markdown",
   "metadata": {},
   "source": [
    "### 不影响访问变量和方法名"
   ]
  },
  {
   "cell_type": "code",
   "execution_count": 1,
   "metadata": {},
   "outputs": [],
   "source": [
    "class Test:\n",
    "   def __init__(self):\n",
    "       self.foo = 11\n",
    "       self._bar = 23"
   ]
  },
  {
   "cell_type": "code",
   "execution_count": 6,
   "metadata": {},
   "outputs": [
    {
     "name": "stdout",
     "output_type": "stream",
     "text": [
      "11\n",
      "23\n"
     ]
    }
   ],
   "source": [
    "t = Test()\n",
    "print(t.foo)\n",
    "print(t._bar)"
   ]
  },
  {
   "cell_type": "markdown",
   "metadata": {},
   "source": [
    "### 影响模块导入名称的方式"
   ]
  },
  {
   "cell_type": "code",
   "execution_count": 3,
   "metadata": {},
   "outputs": [],
   "source": [
    "# This is my_module.py:\n",
    "\n",
    "def external_func():\n",
    "   return 23\n",
    "\n",
    "def _internal_func():\n",
    "   return 42"
   ]
  },
  {
   "cell_type": "raw",
   "metadata": {},
   "source": [
    "### 通配符导入：不会导入带有前导下划线的名称\n",
    ">>> from my_module import *\n",
    ">>> external_func()\n",
    "23\n",
    ">>> _internal_func()\n",
    "NameError: \"name '_internal_func' is not defined\"\n",
    "\n",
    "### 常规导入：不受前导单个下划线命名约定的影响\n",
    ">>> import my_module\n",
    ">>> my_module.external_func()\n",
    "23\n",
    ">>> my_module._internal_func()\n",
    "42"
   ]
  },
  {
   "cell_type": "markdown",
   "metadata": {},
   "source": [
    "##  单末尾下划线 var_\n",
    "（<font color=\"red\">约定</font>）一个变量的名称已经被一个关键字所占用，因此像class或def这样的名称可以附加一个下划线来解决命名冲突"
   ]
  },
  {
   "cell_type": "raw",
   "metadata": {},
   "source": [
    ">>> def make_object(name, class):\n",
    "SyntaxError: \"invalid syntax\"\n",
    "\n",
    ">>> def make_object(name, class_):\n",
    "...    pass"
   ]
  },
  {
   "cell_type": "markdown",
   "metadata": {},
   "source": [
    "## 双前导下划线 __var\n",
    "（<font color=\"red\">强制</font>）双下划线前缀会导致Python解释器重写属性名称，以避免子类中的命名冲突(名称修饰)"
   ]
  },
  {
   "cell_type": "markdown",
   "metadata": {},
   "source": [
    "## 双前导和双末尾下划线 __var__\n",
    "<font color=\"red\">最好避免</font>"
   ]
  },
  {
   "cell_type": "markdown",
   "metadata": {},
   "source": [
    "## 单下划线 _\n",
    "临时变量"
   ]
  },
  {
   "cell_type": "code",
   "execution_count": null,
   "metadata": {},
   "outputs": [],
   "source": [
    "for _ in range(32):\n",
    "    print('Hello, World.')"
   ]
  }
 ],
 "metadata": {
  "hide_input": false,
  "kernelspec": {
   "display_name": "Python 3",
   "language": "python",
   "name": "python3"
  },
  "language_info": {
   "codemirror_mode": {
    "name": "ipython",
    "version": 3
   },
   "file_extension": ".py",
   "mimetype": "text/x-python",
   "name": "python",
   "nbconvert_exporter": "python",
   "pygments_lexer": "ipython3",
   "version": "3.6.6"
  },
  "toc": {
   "base_numbering": 1,
   "nav_menu": {},
   "number_sections": true,
   "sideBar": true,
   "skip_h1_title": false,
   "title_cell": "Table of Contents",
   "title_sidebar": "Contents",
   "toc_cell": false,
   "toc_position": {},
   "toc_section_display": true,
   "toc_window_display": false
  }
 },
 "nbformat": 4,
 "nbformat_minor": 2
}
