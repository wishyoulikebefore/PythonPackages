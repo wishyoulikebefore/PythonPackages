{
 "cells": [
  {
   "cell_type": "markdown",
   "metadata": {},
   "source": [
    "## wordcloud：词云\n",
    "> ImageColorGenerator()\n",
    "> #默认RGB取色，可以设置从背景图片生成颜色值\n",
    "\n",
    "> WordCloud()\n",
    ">> width : int (default=400)\n",
    "\n",
    ">> height : int (default=200)\n",
    "\n",
    ">> max_words : number (default=200)\n",
    "\n",
    ">> background_color : color value (default=\"black\")\n",
    "\n",
    ">> min_font_size : int (default=4)\n",
    "\n",
    ">> max_font_size : int or None (default=None)\n",
    "\n",
    ">> mask : nd-array or None (default=None)  设置背景图片\n",
    "\n",
    ">> stopwords : set of strings or None  用于忽略某些常见词汇"
   ]
  },
  {
   "cell_type": "markdown",
   "metadata": {},
   "source": [
    "生成词云, 可以用generate输入全部文本(中文不好分词)\n",
    "\n",
    "也可以我们计算好词频后使用generate_from_frequencies函数，例如[('词a', 100),('词b', 90),('词c', 80)]"
   ]
  },
  {
   "cell_type": "markdown",
   "metadata": {},
   "source": [
    "## jieba：中文分词 "
   ]
  },
  {
   "cell_type": "code",
   "execution_count": null,
   "metadata": {},
   "outputs": [],
   "source": []
  }
 ],
 "metadata": {
  "kernelspec": {
   "display_name": "Python 3",
   "language": "python",
   "name": "python3"
  },
  "toc": {
   "base_numbering": 1,
   "nav_menu": {},
   "number_sections": true,
   "sideBar": true,
   "skip_h1_title": false,
   "title_cell": "Table of Contents",
   "title_sidebar": "Contents",
   "toc_cell": false,
   "toc_position": {},
   "toc_section_display": true,
   "toc_window_display": false
  },
  "varInspector": {
   "cols": {
    "lenName": 16,
    "lenType": 16,
    "lenVar": 40
   },
   "kernels_config": {
    "python": {
     "delete_cmd_postfix": "",
     "delete_cmd_prefix": "del ",
     "library": "var_list.py",
     "varRefreshCmd": "print(var_dic_list())"
    },
    "r": {
     "delete_cmd_postfix": ") ",
     "delete_cmd_prefix": "rm(",
     "library": "var_list.r",
     "varRefreshCmd": "cat(var_dic_list()) "
    }
   },
   "types_to_exclude": [
    "module",
    "function",
    "builtin_function_or_method",
    "instance",
    "_Feature"
   ],
   "window_display": false
  }
 },
 "nbformat": 4,
 "nbformat_minor": 2
}
