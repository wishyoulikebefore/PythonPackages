{
 "cells": [
  {
   "cell_type": "markdown",
   "metadata": {},
   "source": [
    "# inspect"
   ]
  },
  {
   "cell_type": "markdown",
   "metadata": {},
   "source": [
    "类型检查\n",
    "> inspect.ismodule(object)： 是否为模块\n",
    "\n",
    "> inspect.isclass(object)：是否为类\n",
    "\n",
    "> inspect.isfunction(object)：是否为函数\n",
    "\n",
    "> inspect.isgeneratorfunction(object)：是否为python生成器函数\n",
    "\n",
    "> inspect.isgenerator(object):是否为生成器\n",
    "\n",
    "获取源码\n",
    "> inspect.getdoc(object)： 获取object的documentation信息\n",
    "\n",
    "> inspect.getsourcelines(object)：返回object的python源文件代码的内容，行号+代码行\n",
    "\n",
    "> inspect.getsource(object)：以string形式返回object的源代码\n",
    "\n",
    "获取类和方法的参数信息\n",
    "> inspect.getmembers(module)：返回module的所有成员的name和obj类型\n",
    "\n",
    "> inspect.getcallargs(func[, \\*args][, \\*\\*kwds])：将args和kwds参数到绑定到为func的参数名\n",
    "\n",
    "> inspect.signature(obj, \\*, follow_wrapped=True)：返回signature类型的对象，值为函数的所有参数\n",
    ">> parameters：返回orderdict，key就是参数名，str类型\n",
    "\n",
    ">> bind(\\*args, \\*\\*kwargs)：不允许忽略任何参数返回BoundArguments实例\n",
    "\n",
    ">> bind_partial：允许忽略任何参数,返回BoundArguments实例\n",
    "\n",
    "解析堆栈"
   ]
  },
  {
   "cell_type": "code",
   "execution_count": 10,
   "metadata": {},
   "outputs": [],
   "source": [
    "import inspect"
   ]
  },
  {
   "cell_type": "markdown",
   "metadata": {},
   "source": [
    "## getcallargs"
   ]
  },
  {
   "cell_type": "code",
   "execution_count": 11,
   "metadata": {},
   "outputs": [
    {
     "data": {
      "text/plain": [
       "{'a': 1, 'b': 2, 'pos': (3,), 'named': {}}"
      ]
     },
     "execution_count": 11,
     "metadata": {},
     "output_type": "execute_result"
    }
   ],
   "source": [
    "def f(a, b=1, *pos, **named):\n",
    "    pass\n",
    "\n",
    "inspect.getcallargs(f, 1, 2, 3)"
   ]
  },
  {
   "cell_type": "code",
   "execution_count": 12,
   "metadata": {},
   "outputs": [
    {
     "data": {
      "text/plain": [
       "{'pos': (), 'named': {'x': 4}, 'a': 2, 'b': 1}"
      ]
     },
     "execution_count": 12,
     "metadata": {},
     "output_type": "execute_result"
    }
   ],
   "source": [
    "inspect.getcallargs(f, a=2, x=4)"
   ]
  },
  {
   "cell_type": "markdown",
   "metadata": {},
   "source": [
    "## signature"
   ]
  },
  {
   "cell_type": "markdown",
   "metadata": {},
   "source": [
    "### parameters"
   ]
  },
  {
   "cell_type": "code",
   "execution_count": 34,
   "metadata": {},
   "outputs": [
    {
     "name": "stdout",
     "output_type": "stream",
     "text": [
      "inspect.signature(fn)是(a, b=0, *c, d, e=1, **f)\n",
      "signature.parameters属性是OrderedDict([('a', <Parameter \"a\">), ('b', <Parameter \"b=0\">), ('c', <Parameter \"*c\">), ('d', <Parameter \"d\">), ('e', <Parameter \"e=1\">), ('f', <Parameter \"**f\">)])\n",
      "Param a类型为POSITIONAL_OR_KEYWORD\n",
      "Param b=0类型为POSITIONAL_OR_KEYWORD\n",
      "Param *c类型为VAR_POSITIONAL\n",
      "Param d类型为KEYWORD_ONLY\n",
      "Param e=1类型为KEYWORD_ONLY\n",
      "Param **f类型为VAR_KEYWORD\n",
      "items()返回的值分别是a，a\n",
      "items()返回的值分别是b，b=0\n",
      "items()返回的值分别是c，*c\n",
      "items()返回的值分别是d，d\n",
      "items()返回的值分别是e，e=1\n",
      "items()返回的值分别是f，**f\n"
     ]
    }
   ],
   "source": [
    "def a(a, b=0, *c, d, e=1, **f):\n",
    "    pass\n",
    "\n",
    "aa = inspect.signature(a)\n",
    "print(\"inspect.signature(fn)是{0}\".format(aa))\n",
    "\n",
    "### parameters\n",
    "bb = aa.parameters\n",
    "print(\"signature.parameters属性是{0}\".format(bb))\n",
    "\n",
    "for param in bb.values():\n",
    "    print(\"Param %s类型为%s\" %(param,param.kind))\n",
    "\n",
    "for cc, dd in bb.items():\n",
    "    print(\"items()返回的值分别是{0}，{1}\".format(cc, dd))"
   ]
  },
  {
   "cell_type": "markdown",
   "metadata": {},
   "source": [
    "### bind"
   ]
  },
  {
   "cell_type": "code",
   "execution_count": 35,
   "metadata": {},
   "outputs": [],
   "source": [
    "def module_level_function(arg1, arg2='default', *args, **kwargs):\n",
    "    \"\"\"该函数在模块中声明\"\"\"\n",
    "    local_variable = arg1 * 2\n",
    "    return local_variable"
   ]
  },
  {
   "cell_type": "code",
   "execution_count": 36,
   "metadata": {},
   "outputs": [
    {
     "name": "stdout",
     "output_type": "stream",
     "text": [
      "Arguments:\n",
      "arg1 = 'this is arg1'\n",
      "arg2 = 'this is arg2'\n",
      "args = ('this is an extra positional argument',)\n",
      "kwargs = {'extra_named_arg': 'value'}\n",
      "\n",
      "Calling:\n",
      "this is arg1this is arg1\n"
     ]
    }
   ],
   "source": [
    "sig = inspect.signature(module_level_function)\n",
    "\n",
    "bound = sig.bind(\n",
    "    'this is arg1',\n",
    "    'this is arg2',\n",
    "    'this is an extra positional argument',\n",
    "    extra_named_arg='value',\n",
    ")\n",
    "\n",
    "print('Arguments:')\n",
    "for name, value in bound.arguments.items():\n",
    "    print('{} = {!r}'.format(name, value))\n",
    "\n",
    "print('\\nCalling:')\n",
    "print(module_level_function(*bound.args, **bound.kwargs))"
   ]
  },
  {
   "cell_type": "markdown",
   "metadata": {},
   "source": [
    "### bind_partial"
   ]
  },
  {
   "cell_type": "code",
   "execution_count": 37,
   "metadata": {},
   "outputs": [
    {
     "name": "stdout",
     "output_type": "stream",
     "text": [
      "Without defaults:\n",
      "arg1 = 'this is arg1'\n",
      "\n",
      "With defaults:\n",
      "arg1 = 'this is arg1'\n",
      "arg2 = 'default'\n",
      "args = ()\n",
      "kwargs = {}\n"
     ]
    }
   ],
   "source": [
    "sig = inspect.signature(module_level_function)\n",
    "\n",
    "partial = sig.bind_partial(\n",
    "    'this is arg1',\n",
    ")\n",
    "\n",
    "print('Without defaults:')\n",
    "for name, value in partial.arguments.items():\n",
    "    print('{} = {!r}'.format(name, value))\n",
    "\n",
    "print('\\nWith defaults:')\n",
    "partial.apply_defaults()   # apply_defaults() 将添加参数默认值中的任何值\n",
    "for name, value in partial.arguments.items():\n",
    "    print('{} = {!r}'.format(name, value))"
   ]
  }
 ],
 "metadata": {
  "hide_input": false,
  "kernelspec": {
   "display_name": "Python 3",
   "language": "python",
   "name": "python3"
  },
  "language_info": {
   "codemirror_mode": {
    "name": "ipython",
    "version": 3
   },
   "file_extension": ".py",
   "mimetype": "text/x-python",
   "name": "python",
   "nbconvert_exporter": "python",
   "pygments_lexer": "ipython3",
   "version": "3.6.0"
  },
  "toc": {
   "base_numbering": 1,
   "nav_menu": {},
   "number_sections": true,
   "sideBar": true,
   "skip_h1_title": false,
   "title_cell": "Table of Contents",
   "title_sidebar": "Contents",
   "toc_cell": false,
   "toc_position": {},
   "toc_section_display": true,
   "toc_window_display": false
  }
 },
 "nbformat": 4,
 "nbformat_minor": 2
}
