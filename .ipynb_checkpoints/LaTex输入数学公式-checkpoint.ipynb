{
 "cells": [
  {
   "cell_type": "code",
   "execution_count": 1,
   "metadata": {},
   "outputs": [],
   "source": [
    "from IPython.display import Latex\n",
    "%%latex"
   ]
  },
  {
   "cell_type": "markdown",
   "metadata": {},
   "source": [
    "# 使用说明\n",
    "创建显示模式的表达式，使用 $$符\n",
    "\n",
    "命令内参数用{}包含"
   ]
  },
  {
   "cell_type": "code",
   "execution_count": 24,
   "metadata": {
    "cell_style": "center",
    "scrolled": true
   },
   "outputs": [
    {
     "data": {
      "text/latex": [
       "$$P(A \\mid B) = \\frac{ P(B \\mid A) P(A) }{ P(B) }$$\n"
      ],
      "text/plain": [
       "<IPython.core.display.Latex object>"
      ]
     },
     "metadata": {},
     "output_type": "display_data"
    }
   ],
   "source": [
    "%%latex\n",
    "$$P(A \\mid B) = \\frac{ P(B \\mid A) P(A) }{ P(B) }$$"
   ]
  },
  {
   "cell_type": "code",
   "execution_count": 22,
   "metadata": {},
   "outputs": [
    {
     "data": {
      "text/latex": [
       "$$x^2$$\n",
       "$$e^2x$$\n",
       "$$e^{2x}$$\n",
       "$$x_i$$\n",
       "$$\\underset{k}{argmax}$$\n",
       "$$ \\sqrt{2\\pi} $$\n",
       "$$\\alpha, \\beta, \\gamma$$\n",
       "$$\\Phi, \\Lambda, \\Gamma$$\n",
       "$$\\sin, \\cosh, \\arctan$$\n",
       "$$\\leq, \\geq, \\approx, \\neq$$\n",
       "$$\\times, \\pm, \\cup, \\oplus$$\n",
       "$$\\cdots, \\ldots, \\ddots$$ \n",
       "$$\\bar x$$\n",
       "$$\\overline{abs}$$\n",
       "$$\\vec{x}, \\overrightarrow{AB}$$\n",
       "$\\underbrace{a+b+\\cdots+j}_{10}$\n"
      ],
      "text/plain": [
       "<IPython.core.display.Latex object>"
      ]
     },
     "metadata": {},
     "output_type": "display_data"
    }
   ],
   "source": [
    "%%latex\n",
    "$$x^2$$\n",
    "$$e^2x$$\n",
    "$$e^{2x}$$\n",
    "$$x_i$$\n",
    "$$\\underset{k}{argmax}$$\n",
    "$$ \\sqrt{2\\pi} $$\n",
    "$$\\alpha, \\beta, \\gamma$$\n",
    "$$\\Phi, \\Lambda, \\Gamma$$\n",
    "$$\\sin, \\cosh, \\arctan$$\n",
    "$$\\leq, \\geq, \\approx, \\neq$$\n",
    "$$\\times, \\pm, \\cup, \\oplus$$\n",
    "$$\\cdots, \\ldots, \\ddots$$ \n",
    "$$\\bar x$$\n",
    "$$\\overline{abs}$$\n",
    "$$\\vec{x}, \\overrightarrow{AB}$$\n",
    "$\\underbrace{a+b+\\cdots+j}_{10}$"
   ]
  },
  {
   "cell_type": "markdown",
   "metadata": {},
   "source": [
    "###一般括号"
   ]
  },
  {
   "cell_type": "code",
   "execution_count": 8,
   "metadata": {
    "scrolled": true
   },
   "outputs": [
    {
     "data": {
      "text/latex": [
       "$$z=(\\frac{dx}{dy})^{1/3}$$\n",
       "$$z=\\left(\\frac{dx}{dy}\\right)^{1/3}$$\n"
      ],
      "text/plain": [
       "<IPython.core.display.Latex object>"
      ]
     },
     "metadata": {},
     "output_type": "display_data"
    }
   ],
   "source": [
    "%%latex\n",
    "$$z=(\\frac{dx}{dy})^{1/3}$$\n",
    "$$z=\\left(\\frac{dx}{dy}\\right)^{1/3}$$"
   ]
  },
  {
   "cell_type": "markdown",
   "metadata": {},
   "source": [
    "###矩阵括号"
   ]
  },
  {
   "cell_type": "code",
   "execution_count": 9,
   "metadata": {},
   "outputs": [
    {
     "data": {
      "text/latex": [
       "$$\\left[\\begin{matrix}a & b \\cr c & d\\end{matrix}\\right]$$\n"
      ],
      "text/plain": [
       "<IPython.core.display.Latex object>"
      ]
     },
     "metadata": {},
     "output_type": "display_data"
    }
   ],
   "source": [
    "%%latex\n",
    "$$\\left[\\begin{matrix}a & b \\cr c & d\\end{matrix}\\right]$$"
   ]
  },
  {
   "cell_type": "markdown",
   "metadata": {},
   "source": [
    "###矩阵乘法"
   ]
  },
  {
   "cell_type": "code",
   "execution_count": 12,
   "metadata": {},
   "outputs": [
    {
     "data": {
      "text/latex": [
       "$$\\boldsymbol{A\\cdot x}=\\lambda\\cdot v$$\n"
      ],
      "text/plain": [
       "<IPython.core.display.Latex object>"
      ]
     },
     "metadata": {},
     "output_type": "display_data"
    }
   ],
   "source": [
    "%%latex\n",
    "$$\\boldsymbol{A\\cdot x}=\\lambda\\cdot v$$"
   ]
  },
  {
   "cell_type": "markdown",
   "metadata": {},
   "source": [
    "###空格\n",
    " \\, 或 \\: 或 \\;添加空格，其空格宽度分别为从小到大"
   ]
  },
  {
   "cell_type": "code",
   "execution_count": 14,
   "metadata": {},
   "outputs": [
    {
     "data": {
      "text/latex": [
       "$$\\int f(x)\\; dx$$ \n"
      ],
      "text/plain": [
       "<IPython.core.display.Latex object>"
      ]
     },
     "metadata": {},
     "output_type": "display_data"
    }
   ],
   "source": [
    "%%latex\n",
    "$$\\int f(x)\\; dx$$ "
   ]
  },
  {
   "cell_type": "markdown",
   "metadata": {},
   "source": [
    "###左对齐"
   ]
  },
  {
   "cell_type": "code",
   "execution_count": 17,
   "metadata": {},
   "outputs": [
    {
     "data": {
      "text/latex": [
       "$$\n",
       "\\begin{align}\n",
       "a_1&=b_1+c_1 \\\\\n",
       "a_2&=b_2+c_2+d_2 \\\\\n",
       "a_3&=b_3+c_3\n",
       "\\end{align}\n",
       "$$\n"
      ],
      "text/plain": [
       "<IPython.core.display.Latex object>"
      ]
     },
     "metadata": {},
     "output_type": "display_data"
    }
   ],
   "source": [
    "%%latex\n",
    "$$\n",
    "\\begin{align}\n",
    "a_1&=b_1+c_1 \\\\\n",
    "a_2&=b_2+c_2+d_2 \\\\\n",
    "a_3&=b_3+c_3\n",
    "\\end{align}\n",
    "$$"
   ]
  },
  {
   "cell_type": "markdown",
   "metadata": {},
   "source": [
    "###分段函数"
   ]
  },
  {
   "cell_type": "code",
   "execution_count": 18,
   "metadata": {},
   "outputs": [
    {
     "data": {
      "text/latex": [
       "$$\n",
       "sign(x)=\\begin{cases}\n",
       "1,&x>0 \\\\ 0,&x=0 \\cr -1,&x<0\n",
       "\\end{cases}\n",
       "$$\n"
      ],
      "text/plain": [
       "<IPython.core.display.Latex object>"
      ]
     },
     "metadata": {},
     "output_type": "display_data"
    }
   ],
   "source": [
    "%%latex\n",
    "$$\n",
    "sign(x)=\\begin{cases}\n",
    "1,&x>0 \\\\ 0,&x=0 \\cr -1,&x<0\n",
    "\\end{cases}\n",
    "$$"
   ]
  },
  {
   "cell_type": "markdown",
   "metadata": {},
   "source": [
    "###运算符"
   ]
  },
  {
   "cell_type": "code",
   "execution_count": 21,
   "metadata": {},
   "outputs": [
    {
     "data": {
      "text/latex": [
       "$$\\int_{0}^{\\pi}{\\tan x}$$\n",
       "$$\\sum_{i=0}^{n}{i}$$\n",
       "$$\\prod_{i=1}^{9}{i}$$\n"
      ],
      "text/plain": [
       "<IPython.core.display.Latex object>"
      ]
     },
     "metadata": {},
     "output_type": "display_data"
    }
   ],
   "source": [
    "%%latex\n",
    "$$\\int_{0}^{\\pi}{\\tan x}$$\n",
    "$$\\sum_{i=0}^{n}{i}$$\n",
    "$$\\prod_{i=1}^{9}{i}$$"
   ]
  }
 ],
 "metadata": {
  "hide_input": false,
  "kernelspec": {
   "display_name": "Python 3",
   "language": "python",
   "name": "python3"
  },
  "language_info": {
   "codemirror_mode": {
    "name": "ipython",
    "version": 3
   },
   "file_extension": ".py",
   "mimetype": "text/x-python",
   "name": "python",
   "nbconvert_exporter": "python",
   "pygments_lexer": "ipython3",
   "version": "3.6.0"
  },
  "toc": {
   "base_numbering": 1,
   "nav_menu": {},
   "number_sections": true,
   "sideBar": true,
   "skip_h1_title": false,
   "title_cell": "Table of Contents",
   "title_sidebar": "Contents",
   "toc_cell": false,
   "toc_position": {},
   "toc_section_display": true,
   "toc_window_display": true
  },
  "varInspector": {
   "cols": {
    "lenName": 16,
    "lenType": 16,
    "lenVar": 40
   },
   "kernels_config": {
    "python": {
     "delete_cmd_postfix": "",
     "delete_cmd_prefix": "del ",
     "library": "var_list.py",
     "varRefreshCmd": "print(var_dic_list())"
    },
    "r": {
     "delete_cmd_postfix": ") ",
     "delete_cmd_prefix": "rm(",
     "library": "var_list.r",
     "varRefreshCmd": "cat(var_dic_list()) "
    }
   },
   "types_to_exclude": [
    "module",
    "function",
    "builtin_function_or_method",
    "instance",
    "_Feature"
   ],
   "window_display": false
  }
 },
 "nbformat": 4,
 "nbformat_minor": 2
}
