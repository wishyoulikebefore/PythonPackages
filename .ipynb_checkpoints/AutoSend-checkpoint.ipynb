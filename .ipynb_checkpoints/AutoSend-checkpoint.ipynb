{
 "cells": [
  {
   "cell_type": "markdown",
   "metadata": {},
   "source": [
    "## 自动发送邮件\n",
    "SMTP是发送邮件的协议\n",
    "\n",
    "Python有smtplib和email两个模块，email负责构造邮件，smtplib负责发送邮件"
   ]
  },
  {
   "cell_type": "code",
   "execution_count": 1,
   "metadata": {},
   "outputs": [],
   "source": [
    "import smtplib\n",
    "from email.mime.text import MIMEText\n",
    "from email.mime.base import MIMEBase\n",
    "from email import encoders\n",
    "from email.mime.multipart import MIMEMultipart\n",
    "\n",
    "def autoMail(subject,content,auth_code):\n",
    "    \"\"\"\n",
    "    只发送文字信息\n",
    "    \"\"\"\n",
    "    msg_from = 'ttyyzuo@163.com'\n",
    "    msg_to = '983823942@qq.com'\n",
    "    msg = MIMEText(content)\n",
    "    msg['Subject'] = subject\n",
    "    msg['From'] = msg_from\n",
    "    msg['To'] = msg_to\n",
    "    try:\n",
    "        s = smtplib.SMTP_SSL(\"smtp.163.com\", 465)\n",
    "        s.login(msg_from, auth_code)\n",
    "        s.sendmail(msg_from, msg_to, msg.as_string())\n",
    "        print(\"发送成功\")\n",
    "        s.quit()\n",
    "    except smtplib.SMTPException:\n",
    "        print(\"发送失败\")\n",
    "\n",
    "\n",
    "def myMail(subject,content,auth_code,graphs=None,graphsName=None,files=None,filesName=None):\n",
    "    \"\"\"\n",
    "    发送文字信息和附件，附件支持图片和文件\n",
    "    待解决问题：中文名的乱码\n",
    "    \"\"\"\n",
    "    msg_from = 'ttyyzuo@163.com'\n",
    "    msg_to = '983823942@qq.com'\n",
    "    msg = MIMEMultipart()\n",
    "    msg['Subject'] = subject\n",
    "    msg['From'] = msg_from\n",
    "    msg['To'] = msg_to\n",
    "    msg.attach(MIMEText(content, 'plain', 'utf-8'))\n",
    "\n",
    "    if graphs:\n",
    "        if len(graphs) != len(graphsName):\n",
    "            return \"图片列表与图片名列表长度不匹配\"\n",
    "        else:\n",
    "            for graph, graphName in zip(graphs, graphsName):\n",
    "                with open(graph, 'rb') as f:\n",
    "                    mime = MIMEBase('image', 'png', filename=graphName)\n",
    "                    mime.add_header('Content-Disposition', 'attachment', filename=graphName)\n",
    "                    mime.add_header('Content-ID', '<0>')\n",
    "                    mime.add_header('X-Attachment-Id', '0')\n",
    "                    mime.set_payload(f.read())\n",
    "                    encoders.encode_base64(mime)\n",
    "                    msg.attach(mime)\n",
    "    else:\n",
    "        pass\n",
    "\n",
    "    if files:\n",
    "        if len(files) != len(filesName):\n",
    "            return \"文件列表和文件名列表长度不匹配\"\n",
    "        else:\n",
    "            for file, fileName in zip(files, filesName):\n",
    "                mime = MIMEText(open(file, 'rb').read(), 'base64', 'utf-8')\n",
    "                mime[\"Content-Type\"] = 'application/octet-stream'\n",
    "                # 这里的filename可以任意写，写什么名字，邮件中显示什么名字\n",
    "                mime[\"Content-Disposition\"] = \"attachment; filename=%s\" % (fileName)\n",
    "                msg.attach(mime)\n",
    "    else:\n",
    "        pass\n",
    "\n",
    "    try:\n",
    "        s = smtplib.SMTP_SSL(\"smtp.163.com\", 465)\n",
    "        s.login(msg_from, auth_code)\n",
    "        s.sendmail(msg_from, msg_to, msg.as_string())\n",
    "        print(\"发送成功\")\n",
    "        s.quit()\n",
    "    except smtplib.SMTPException:\n",
    "        print(\"发送失败\")"
   ]
  },
  {
   "cell_type": "markdown",
   "metadata": {},
   "source": [
    "## 微信"
   ]
  },
  {
   "cell_type": "code",
   "execution_count": null,
   "metadata": {},
   "outputs": [],
   "source": [
    "import itchat\n",
    "\n",
    "itchat.auto_login()\n",
    "#二维码登陆\n",
    "\n",
    "itchat.send('Hello, filehelper', toUserName='filehelper')\n",
    "#给文件传输助手发一条信息"
   ]
  }
 ],
 "metadata": {
  "hide_input": false,
  "kernelspec": {
   "display_name": "Python 3",
   "language": "python",
   "name": "python3"
  },
  "language_info": {
   "codemirror_mode": {
    "name": "ipython",
    "version": 3
   },
   "file_extension": ".py",
   "mimetype": "text/x-python",
   "name": "python",
   "nbconvert_exporter": "python",
   "pygments_lexer": "ipython3",
   "version": "3.6.0"
  },
  "toc": {
   "base_numbering": 1,
   "nav_menu": {},
   "number_sections": true,
   "sideBar": true,
   "skip_h1_title": false,
   "title_cell": "Table of Contents",
   "title_sidebar": "Contents",
   "toc_cell": false,
   "toc_position": {},
   "toc_section_display": true,
   "toc_window_display": false
  },
  "varInspector": {
   "cols": {
    "lenName": 16,
    "lenType": 16,
    "lenVar": 40
   },
   "kernels_config": {
    "python": {
     "delete_cmd_postfix": "",
     "delete_cmd_prefix": "del ",
     "library": "var_list.py",
     "varRefreshCmd": "print(var_dic_list())"
    },
    "r": {
     "delete_cmd_postfix": ") ",
     "delete_cmd_prefix": "rm(",
     "library": "var_list.r",
     "varRefreshCmd": "cat(var_dic_list()) "
    }
   },
   "types_to_exclude": [
    "module",
    "function",
    "builtin_function_or_method",
    "instance",
    "_Feature"
   ],
   "window_display": false
  }
 },
 "nbformat": 4,
 "nbformat_minor": 2
}
