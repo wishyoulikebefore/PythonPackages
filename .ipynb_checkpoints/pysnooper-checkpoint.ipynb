{
 "cells": [
  {
   "cell_type": "code",
   "execution_count": 1,
   "metadata": {},
   "outputs": [],
   "source": [
    "import pysnooper\n",
    "import random"
   ]
  },
  {
   "cell_type": "markdown",
   "metadata": {},
   "source": [
    "# 使用@pysnooper.snoop()"
   ]
  },
  {
   "cell_type": "code",
   "execution_count": 2,
   "metadata": {},
   "outputs": [
    {
     "name": "stderr",
     "output_type": "stream",
     "text": [
      "Source path:... <ipython-input-2-bc51369b551c>\n",
      "Starting var:.. number = 6\n",
      "15:20:14.897296 call         2 def number_to_bits(number):\n",
      "15:20:14.897296 line         3     if number:\n",
      "15:20:14.897296 line         4         bits = []\n",
      "New var:....... bits = []\n",
      "15:20:14.897296 line         5         while number:\n",
      "15:20:14.897296 line         6             number, remainder = divmod(number, 2)\n",
      "Modified var:.. number = 3\n",
      "New var:....... remainder = 0\n",
      "15:20:14.897296 line         7             bits.insert(0, remainder)\n",
      "Modified var:.. bits = [0]\n",
      "15:20:14.897296 line         5         while number:\n",
      "15:20:14.897296 line         6             number, remainder = divmod(number, 2)\n",
      "Modified var:.. number = 1\n",
      "Modified var:.. remainder = 1\n",
      "15:20:14.897296 line         7             bits.insert(0, remainder)\n",
      "Modified var:.. bits = [1, 0]\n",
      "15:20:14.897296 line         5         while number:\n",
      "15:20:14.897296 line         6             number, remainder = divmod(number, 2)\n",
      "Modified var:.. number = 0\n",
      "15:20:14.897296 line         7             bits.insert(0, remainder)\n",
      "Modified var:.. bits = [1, 1, 0]\n",
      "15:20:14.897296 line         5         while number:\n",
      "15:20:14.897296 line         8         return bits\n",
      "15:20:14.898293 return       8         return bits\n",
      "Return value:.. [1, 1, 0]\n"
     ]
    },
    {
     "data": {
      "text/plain": [
       "[1, 1, 0]"
      ]
     },
     "execution_count": 2,
     "metadata": {},
     "output_type": "execute_result"
    }
   ],
   "source": [
    "@pysnooper.snoop()\n",
    "def number_to_bits(number):\n",
    "    if number:\n",
    "        bits = []\n",
    "        while number:\n",
    "            number, remainder = divmod(number, 2)\n",
    "            bits.insert(0, remainder)\n",
    "        return bits\n",
    "    else:\n",
    "        return [0]\n",
    "\n",
    "number_to_bits(6)"
   ]
  },
  {
   "cell_type": "markdown",
   "metadata": {},
   "source": [
    "# 使用with"
   ]
  },
  {
   "cell_type": "code",
   "execution_count": 3,
   "metadata": {},
   "outputs": [
    {
     "name": "stdout",
     "output_type": "stream",
     "text": [
      "13 501.5 990\n"
     ]
    },
    {
     "name": "stderr",
     "output_type": "stream",
     "text": [
      "Source path:... <ipython-input-3-3a026fa2e25e>\n",
      "New var:....... lst = [13, 921, 425, 935, 651, 366, 505, 767, 827, 990]\n",
      "New var:....... i = 9\n",
      "15:23:18.338699 line         7         lower = min(lst)\n",
      "New var:....... lower = 13\n",
      "15:23:18.338699 line         8         upper = max(lst)\n",
      "New var:....... upper = 990\n",
      "15:23:18.338699 line         9         mid = (lower + upper) / 2\n",
      "New var:....... mid = 501.5\n",
      "15:23:18.338699 line        10         print(lower, mid, upper)\n"
     ]
    }
   ],
   "source": [
    "def foo():\n",
    "    lst = []\n",
    "    for i in range(10):\n",
    "        lst.append(random.randrange(1, 1000))\n",
    "\n",
    "    with pysnooper.snoop():\n",
    "        lower = min(lst)\n",
    "        upper = max(lst)\n",
    "        mid = (lower + upper) / 2\n",
    "        print(lower, mid, upper)\n",
    "\n",
    "foo()"
   ]
  },
  {
   "cell_type": "markdown",
   "metadata": {},
   "source": [
    "# 其它\n",
    "> 给输出添加前缀\n",
    ">> @pysnooper.snoop(prefix='ZZZ ')"
   ]
  },
  {
   "cell_type": "code",
   "execution_count": null,
   "metadata": {},
   "outputs": [],
   "source": []
  }
 ],
 "metadata": {
  "hide_input": false,
  "kernelspec": {
   "display_name": "Python 3",
   "language": "python",
   "name": "python3"
  },
  "language_info": {
   "codemirror_mode": {
    "name": "ipython",
    "version": 3
   },
   "file_extension": ".py",
   "mimetype": "text/x-python",
   "name": "python",
   "nbconvert_exporter": "python",
   "pygments_lexer": "ipython3",
   "version": "3.5.2"
  },
  "toc": {
   "base_numbering": 1,
   "nav_menu": {},
   "number_sections": true,
   "sideBar": true,
   "skip_h1_title": false,
   "title_cell": "Table of Contents",
   "title_sidebar": "Contents",
   "toc_cell": false,
   "toc_position": {},
   "toc_section_display": true,
   "toc_window_display": false
  }
 },
 "nbformat": 4,
 "nbformat_minor": 2
}
