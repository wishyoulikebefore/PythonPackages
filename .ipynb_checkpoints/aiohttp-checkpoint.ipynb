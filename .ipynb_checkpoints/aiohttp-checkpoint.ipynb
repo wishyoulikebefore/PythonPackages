{
 "cells": [
  {
   "cell_type": "code",
   "execution_count": 74,
   "metadata": {
    "ExecuteTime": {
     "end_time": "2019-04-03T05:48:29.039630Z",
     "start_time": "2019-04-03T05:48:29.030636Z"
    }
   },
   "outputs": [],
   "source": [
    "import asyncio\n",
    "import time\n",
    "import nest_asyncio\n",
    "import aiohttp\n",
    "from bs4 import BeautifulSoup\n",
    "import logging\n",
    "import random\n",
    "\n",
    "nest_asyncio.apply()"
   ]
  },
  {
   "cell_type": "markdown",
   "metadata": {},
   "source": [
    "# aiohttp\n",
    "异步的requests"
   ]
  },
  {
   "cell_type": "markdown",
   "metadata": {},
   "source": [
    "核心框架\n",
    "> 设计一个异步的框架，生成一个事件循环\n",
    "\n",
    "> 创建一个专门去爬取网页的协程，利用aiohttp去爬取网站内容\n",
    "\n",
    "> 生成多个要翻译的单词的url地址，组建一个异步的tasks, 扔到事件循环里面\n",
    "\n",
    "> 等待所有的页面爬取完毕，然后用pyquery去一一解析网页，获取单词的解释"
   ]
  },
  {
   "cell_type": "markdown",
   "metadata": {},
   "source": [
    "使用方法\n",
    "> 与requests类似，使用ClientSession来管理会话"
   ]
  },
  {
   "cell_type": "markdown",
   "metadata": {},
   "source": [
    "## 参考别人的代码"
   ]
  },
  {
   "cell_type": "code",
   "execution_count": 68,
   "metadata": {
    "ExecuteTime": {
     "end_time": "2019-04-03T05:42:37.784442Z",
     "start_time": "2019-04-03T05:42:35.914034Z"
    },
    "scrolled": true
   },
   "outputs": [
    {
     "name": "stdout",
     "output_type": "stream",
     "text": [
      "{URL('http://q.10jqka.com.cn/gn/detail/code/301259/'): 0.32, URL('http://q.10jqka.com.cn/gn/detail/code/304582/'): 0.76, URL('http://q.10jqka.com.cn/gn/detail/code/300168/'): 0.87, URL('http://q.10jqka.com.cn/gn/detail/code/301558/'): 1.7, URL('http://q.10jqka.com.cn/gn/detail/code/301496/'): -0.71, URL('http://q.10jqka.com.cn/gn/detail/code/307408/'): 0.57, URL('http://q.10jqka.com.cn/gn/detail/code/300800/'): 0.23}\n"
     ]
    }
   ],
   "source": [
    "class AsnycGrab(object):\n",
    "\n",
    "    def __init__(self, url_list, max_threads):\n",
    "\n",
    "        self.urls = url_list\n",
    "        self.results = {}\n",
    "        self.max_threads = max_threads\n",
    "\n",
    "    def __parse_results(self, url, html):\n",
    "        soup = BeautifulSoup(html, 'lxml')\n",
    "        try:\n",
    "            percent = soup.find(\"div\", class_=\"board-hq\").find(\"p\").get_text().split()[1]\n",
    "        except Exception as e:\n",
    "            percent = soup.find(\"div\", class_=\"board-infos fr\").find(\"dd\").get_text()\n",
    "        self.results[url] = float(percent.replace(\"%\",\"\"))\n",
    "\n",
    "    async def get_body(self, url):\n",
    "        headers = {\n",
    "            'User-Agent': 'Mozilla/5.0 (Windows; U; Windows NT 5.1; it; rv:1.8.1.11) Gecko/20071127 Firefox/2.0.0.11',\n",
    "            \"Connection\": \"keep - alive\",\n",
    "            \"Accept\":\"text/html,application/xhtml+xml,application/xml;q=0.9,*/*;q=0.8\"\n",
    "            }\n",
    "        async with aiohttp.ClientSession() as session:\n",
    "            async with session.get(url,headers=headers) as response:\n",
    "                assert response.status == 200\n",
    "                response.encoding = 'gbk'\n",
    "                html = await response.text()\n",
    "                return response.url, html\n",
    "\n",
    "    async def get_results(self, url):\n",
    "        url, html = await self.get_body(url)\n",
    "        self.__parse_results(url, html)\n",
    "        return 'Completed'\n",
    "\n",
    "    async def handle_tasks(self, task_id, work_queue):\n",
    "        while not work_queue.empty():\n",
    "            current_url = await work_queue.get()\n",
    "            try:\n",
    "                task_status = await self.get_results(current_url)\n",
    "            except Exception as e:\n",
    "                logging.exception('Error for {}'.format(current_url), exc_info=True)\n",
    "\n",
    "    def eventloop(self):\n",
    "        q = asyncio.Queue()\n",
    "        [q.put_nowait(url) for url in self.urls]\n",
    "        loop = asyncio.get_event_loop()\n",
    "        tasks = [self.handle_tasks(task_id, q, ) for task_id in range(self.max_threads)]\n",
    "        loop.run_until_complete(asyncio.wait(tasks))\n",
    "\n",
    "\n",
    "if __name__ == '__main__':\n",
    "    async_example = AsnycGrab(['http://q.10jqka.com.cn/gn/detail/code/301558/',\n",
    "                              \"http://q.10jqka.com.cn/gn/detail/code/300800/\",\n",
    "                              \"http://q.10jqka.com.cn/gn/detail/code/301496/\",\n",
    "                              \"http://q.10jqka.com.cn/gn/detail/code/304582/\",\n",
    "                              \"http://q.10jqka.com.cn/gn/detail/code/301259/\",\n",
    "                              \"http://q.10jqka.com.cn/gn/detail/code/307408/\",\n",
    "                              \"http://q.10jqka.com.cn/gn/detail/code/300168/\"], 5)\n",
    "    async_example.eventloop()\n",
    "    print(async_example.results)"
   ]
  },
  {
   "cell_type": "raw",
   "metadata": {},
   "source": [
    "yarl模块解析url\n",
    "\n",
    "Human readable representation of URL is available as .human_repr()"
   ]
  }
 ],
 "metadata": {
  "hide_input": false,
  "kernelspec": {
   "display_name": "Python 3",
   "language": "python",
   "name": "python3"
  },
  "language_info": {
   "codemirror_mode": {
    "name": "ipython",
    "version": 3
   },
   "file_extension": ".py",
   "mimetype": "text/x-python",
   "name": "python",
   "nbconvert_exporter": "python",
   "pygments_lexer": "ipython3",
   "version": "3.6.0"
  },
  "toc": {
   "base_numbering": 1,
   "nav_menu": {},
   "number_sections": true,
   "sideBar": true,
   "skip_h1_title": false,
   "title_cell": "Table of Contents",
   "title_sidebar": "Contents",
   "toc_cell": false,
   "toc_position": {},
   "toc_section_display": true,
   "toc_window_display": true
  },
  "varInspector": {
   "cols": {
    "lenName": 16,
    "lenType": 16,
    "lenVar": 40
   },
   "kernels_config": {
    "python": {
     "delete_cmd_postfix": "",
     "delete_cmd_prefix": "del ",
     "library": "var_list.py",
     "varRefreshCmd": "print(var_dic_list())"
    },
    "r": {
     "delete_cmd_postfix": ") ",
     "delete_cmd_prefix": "rm(",
     "library": "var_list.r",
     "varRefreshCmd": "cat(var_dic_list()) "
    }
   },
   "types_to_exclude": [
    "module",
    "function",
    "builtin_function_or_method",
    "instance",
    "_Feature"
   ],
   "window_display": false
  }
 },
 "nbformat": 4,
 "nbformat_minor": 2
}
