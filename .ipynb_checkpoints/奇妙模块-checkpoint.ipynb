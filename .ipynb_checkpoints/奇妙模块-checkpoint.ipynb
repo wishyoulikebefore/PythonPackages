{
 "cells": [
  {
   "cell_type": "markdown",
   "metadata": {},
   "source": [
    "# 输入密码不可见 "
   ]
  },
  {
   "cell_type": "code",
   "execution_count": null,
   "metadata": {},
   "outputs": [],
   "source": [
    "import getpass\n",
    "\n",
    "passwd=getpass.getpass(\"请输入密码：\")"
   ]
  },
  {
   "cell_type": "markdown",
   "metadata": {},
   "source": [
    "# 生成随机名"
   ]
  },
  {
   "cell_type": "code",
   "execution_count": 1,
   "metadata": {
    "ExecuteTime": {
     "end_time": "2019-03-27T11:50:05.213413Z",
     "start_time": "2019-03-27T11:50:05.195423Z"
    }
   },
   "outputs": [
    {
     "data": {
      "text/plain": [
       "'0f9583c15a3c412abcf953885ea4f551'"
      ]
     },
     "execution_count": 1,
     "metadata": {},
     "output_type": "execute_result"
    }
   ],
   "source": [
    "import uuid\n",
    "\n",
    "uuid.uuid4().hex"
   ]
  },
  {
   "cell_type": "markdown",
   "metadata": {},
   "source": [
    "# 一键高精度抠图"
   ]
  },
  {
   "cell_type": "markdown",
   "metadata": {},
   "source": [
    "## 本地文件"
   ]
  },
  {
   "cell_type": "code",
   "execution_count": 4,
   "metadata": {},
   "outputs": [],
   "source": [
    "from removebg import RemoveBg\n",
    "\n",
    "rmbg = RemoveBg(\"749sRj14hiAcbMvBqrfaXH7b\", \"error.log\")\n",
    "rmbg.remove_background_from_img_file(\"C:/Users/86188/Desktop/test.jpeg\")"
   ]
  },
  {
   "cell_type": "markdown",
   "metadata": {},
   "source": [
    "## 网上文件"
   ]
  },
  {
   "cell_type": "code",
   "execution_count": 3,
   "metadata": {},
   "outputs": [],
   "source": [
    "from removebg import RemoveBg\n",
    "\n",
    "rmbg = RemoveBg(\"749sRj14hiAcbMvBqrfaXH7b\", \"error.log\")\n",
    "rmbg.remove_background_from_img_url(\"www.example.com/some.jpg\")"
   ]
  },
  {
   "cell_type": "markdown",
   "metadata": {},
   "source": [
    "# 进度条"
   ]
  },
  {
   "cell_type": "code",
   "execution_count": 6,
   "metadata": {},
   "outputs": [],
   "source": [
    "import time\n",
    "from progressbar import *"
   ]
  },
  {
   "cell_type": "code",
   "execution_count": 10,
   "metadata": {},
   "outputs": [
    {
     "name": "stderr",
     "output_type": "stream",
     "text": [
      "Progress: 100% |###############| Elapsed Time: 0:00:10 Time:  0:00:10 935.5 B/s\n"
     ]
    }
   ],
   "source": [
    "total = 1000\n",
    " \n",
    "def dosomework():\n",
    "    time.sleep(0.01)\n",
    "\n",
    "### ETA：显示预计剩余时间；Timer：显示已用时间\n",
    "widgets = ['Progress: ',Percentage(), ' ', Bar('#'),' ', Timer(),\n",
    "           ' ', ETA(), ' ', FileTransferSpeed()]\n",
    "\n",
    "pbar = ProgressBar(widgets=widgets, maxval=10*total).start()\n",
    "for i in range(total):\n",
    "    pbar.update(10 * i + 1)\n",
    "    dosomework()\n",
    "\n",
    "pbar.finish()"
   ]
  }
 ],
 "metadata": {
  "hide_input": false,
  "kernelspec": {
   "display_name": "Python 3",
   "language": "python",
   "name": "python3"
  },
  "language_info": {
   "codemirror_mode": {
    "name": "ipython",
    "version": 3
   },
   "file_extension": ".py",
   "mimetype": "text/x-python",
   "name": "python",
   "nbconvert_exporter": "python",
   "pygments_lexer": "ipython3",
   "version": "3.6.0"
  },
  "toc": {
   "base_numbering": 1,
   "nav_menu": {},
   "number_sections": true,
   "sideBar": true,
   "skip_h1_title": false,
   "title_cell": "Table of Contents",
   "title_sidebar": "Contents",
   "toc_cell": false,
   "toc_position": {},
   "toc_section_display": true,
   "toc_window_display": false
  },
  "varInspector": {
   "cols": {
    "lenName": 16,
    "lenType": 16,
    "lenVar": 40
   },
   "kernels_config": {
    "python": {
     "delete_cmd_postfix": "",
     "delete_cmd_prefix": "del ",
     "library": "var_list.py",
     "varRefreshCmd": "print(var_dic_list())"
    },
    "r": {
     "delete_cmd_postfix": ") ",
     "delete_cmd_prefix": "rm(",
     "library": "var_list.r",
     "varRefreshCmd": "cat(var_dic_list()) "
    }
   },
   "types_to_exclude": [
    "module",
    "function",
    "builtin_function_or_method",
    "instance",
    "_Feature"
   ],
   "window_display": false
  }
 },
 "nbformat": 4,
 "nbformat_minor": 2
}
