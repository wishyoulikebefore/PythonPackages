{
 "cells": [
  {
   "cell_type": "markdown",
   "metadata": {},
   "source": [
    "# json数据 "
   ]
  },
  {
   "cell_type": "raw",
   "metadata": {},
   "source": [
    "json格式数据：\n",
    "[\n",
    "　　{\"城市\":\"北京\",\"面积\":16800,\"人口\":1600},\n",
    "　　{\"城市\":\"上海\",\"面积\":6400,\"人口\":1800}\n",
    "]"
   ]
  },
  {
   "cell_type": "markdown",
   "metadata": {},
   "source": [
    "## json\n",
    "> loads()：读写json数据\n",
    "\n",
    "> dumps()：输出json数据\n",
    "\n",
    "> load(open(file))：读写json文件\n",
    "\n",
    "> dump(dict,file)：输出json文件\n",
    "\n",
    "> keys()：查看Json数据结构"
   ]
  },
  {
   "cell_type": "markdown",
   "metadata": {},
   "source": [
    "## pandas.read_json "
   ]
  },
  {
   "cell_type": "code",
   "execution_count": null,
   "metadata": {},
   "outputs": [],
   "source": [
    "import re\n",
    "import pandas as pd\n",
    "import requests\n",
    "\n",
    "SINA_DAY_PRICE_URL = 'http://vip.stock.finance.sina.com.cn/quotes_service/api/json_v2.php/Market_Center.getHQNodeData?num=80&sort=code&asc=0&node=hs_a&symbol=&_s_r_a=page&page=1'\n",
    "page_content = requests.get(SINA_DAY_PRICE_URL).text\n",
    "###人工添加\"\"\n",
    "text = re.sub(r'\\,(.*?)\\:',r',\"\\1\":',page_content)\n",
    "text = text.replace('\"{symbol', '{\"symbol')\n",
    "text = text.replace('{symbol', '{\"symbol\"')\n",
    "\n",
    "pd.read_json(text)"
   ]
  },
  {
   "cell_type": "markdown",
   "metadata": {},
   "source": [
    "# pickle\n",
    "将对象转换为一种可以传输或存储的格式，数据类型包括字符串，列表，字典，模型等"
   ]
  },
  {
   "cell_type": "markdown",
   "metadata": {},
   "source": [
    "## pickle.dump(obj, file, [,protocol])\n",
    "将要持久化的数据“对象”，保存到“文件”中\n",
    "> 有3种协议，索引0为ASCII，1为旧式二进制，2为新式二进制协议\n",
    "\n",
    "> 能连续将几个对象序列化存储到同一个文件中，随后调用load（）来以同样的顺序反序列化读出这些对象\n",
    "\n",
    "## pickle.load(file)\n",
    "将file中的对象序列化读出\n",
    "\n",
    "## pickle.dumps(obj[, protocol])\n",
    "将obj对象序列化为string形式，而不是存入文件中\n",
    "\n",
    "## pickle.loads(string)\n",
    "从string中读出序列化前的obj对象"
   ]
  },
  {
   "cell_type": "code",
   "execution_count": 3,
   "metadata": {},
   "outputs": [
    {
     "name": "stdout",
     "output_type": "stream",
     "text": [
      "<class 'dict'>\n",
      "{' name ': 'Tom', 'age': '40'}\n"
     ]
    }
   ],
   "source": [
    "import pickle\n",
    "\n",
    "a = {\" name \": \"Tom\", \"age\": \"40\"}\n",
    "with open('text.txt', 'wb') as file:\n",
    "    pickle.dump(a, file)\n",
    "\n",
    "with open('text.txt', 'rb') as file2:\n",
    "    b = pickle.load(file2)\n",
    "\n",
    "print(type(b))\n",
    "print(b)"
   ]
  },
  {
   "cell_type": "markdown",
   "metadata": {},
   "source": [
    "# YAML数据\n",
    "YAML数据结构可以用类似大纲的缩排方式呈现，结构通过缩进来表示，连续的项目通过减号“-”来表示，map结构里面的key/value对用冒号“:”来分隔\n",
    "\n",
    "例如：\n",
    "\n",
    "name: task_markdup\n",
    " \n",
    "type: sample\n",
    " \n",
    "command:\n",
    " \n",
    "    - Picard_MarkDuplicates.sh\n",
    "  \n",
    "prerequisite: task_mapping\n",
    " \n",
    "ncpu: 8\n",
    " \n",
    "#在缩排中空白字符的数目并不是非常重要，只要相同阶层的元素左侧对齐就可以了\n",
    "#在一个档案中，可同时包含多个文件，并用“——”分隔"
   ]
  },
  {
   "cell_type": "markdown",
   "metadata": {},
   "source": [
    "## yaml\n",
    "> load：将yaml格式的字符串转换成Python对象 \n",
    "\n",
    "> dump：将Python对象转换成yaml格式文档"
   ]
  },
  {
   "cell_type": "markdown",
   "metadata": {},
   "source": [
    "# 配置文件（.ini格式）"
   ]
  },
  {
   "cell_type": "code",
   "execution_count": 4,
   "metadata": {
    "ExecuteTime": {
     "end_time": "2018-12-04T11:58:05.198215Z",
     "start_time": "2018-12-04T11:58:05.193217Z"
    }
   },
   "outputs": [],
   "source": [
    "_file = \"\"\"\n",
    "; config.ini\n",
    "; Sample configuration file\n",
    "\n",
    "[installation]\n",
    "library=%(prefix)s/lib\n",
    "include=%(prefix)s/include\n",
    "bin=%(prefix)s/bin\n",
    "prefix=/usr/local\n",
    "\n",
    "# Setting related to debug configuration\n",
    "[debug]\n",
    "log_errors=true\n",
    "show_warnings=False\n",
    "\n",
    "[server]\n",
    "port: 8080\n",
    "nworkers: 32\n",
    "pid-file=/tmp/spam.pid\n",
    "root=/www/root\n",
    "\"\"\""
   ]
  },
  {
   "cell_type": "code",
   "execution_count": 2,
   "metadata": {
    "ExecuteTime": {
     "end_time": "2018-12-04T11:57:24.912556Z",
     "start_time": "2018-12-04T11:57:24.897566Z"
    }
   },
   "outputs": [],
   "source": [
    "from configparser import ConfigParser\n",
    "\n",
    "cfg = ConfigParser()"
   ]
  },
  {
   "cell_type": "code",
   "execution_count": 6,
   "metadata": {
    "ExecuteTime": {
     "end_time": "2018-12-04T12:03:40.736796Z",
     "start_time": "2018-12-04T12:03:40.726801Z"
    }
   },
   "outputs": [
    {
     "data": {
      "text/plain": [
       "['C:/Users/zty/Desktop/config.ini']"
      ]
     },
     "execution_count": 6,
     "metadata": {},
     "output_type": "execute_result"
    }
   ],
   "source": [
    "cfg.read('C:/Users/zty/Desktop/config.ini')"
   ]
  },
  {
   "cell_type": "markdown",
   "metadata": {},
   "source": [
    "## 提取配置"
   ]
  },
  {
   "cell_type": "code",
   "execution_count": 7,
   "metadata": {
    "ExecuteTime": {
     "end_time": "2018-12-04T12:03:46.452544Z",
     "start_time": "2018-12-04T12:03:46.445546Z"
    }
   },
   "outputs": [
    {
     "data": {
      "text/plain": [
       "['installation', 'debug', 'server']"
      ]
     },
     "execution_count": 7,
     "metadata": {},
     "output_type": "execute_result"
    }
   ],
   "source": [
    "cfg.sections()"
   ]
  },
  {
   "cell_type": "code",
   "execution_count": 8,
   "metadata": {
    "ExecuteTime": {
     "end_time": "2018-12-04T12:03:53.341664Z",
     "start_time": "2018-12-04T12:03:53.333666Z"
    }
   },
   "outputs": [
    {
     "data": {
      "text/plain": [
       "'/usr/local/lib'"
      ]
     },
     "execution_count": 8,
     "metadata": {},
     "output_type": "execute_result"
    }
   ],
   "source": [
    "cfg.get('installation','library')"
   ]
  },
  {
   "cell_type": "code",
   "execution_count": 9,
   "metadata": {
    "ExecuteTime": {
     "end_time": "2018-12-04T12:03:56.901031Z",
     "start_time": "2018-12-04T12:03:56.894035Z"
    }
   },
   "outputs": [
    {
     "data": {
      "text/plain": [
       "True"
      ]
     },
     "execution_count": 9,
     "metadata": {},
     "output_type": "execute_result"
    }
   ],
   "source": [
    "cfg.getboolean('debug','log_errors')"
   ]
  },
  {
   "cell_type": "code",
   "execution_count": 10,
   "metadata": {
    "ExecuteTime": {
     "end_time": "2018-12-04T12:04:09.589318Z",
     "start_time": "2018-12-04T12:04:09.582321Z"
    }
   },
   "outputs": [
    {
     "data": {
      "text/plain": [
       "8080"
      ]
     },
     "execution_count": 10,
     "metadata": {},
     "output_type": "execute_result"
    }
   ],
   "source": [
    "cfg.getint('server','port')"
   ]
  },
  {
   "cell_type": "markdown",
   "metadata": {},
   "source": [
    "## 修改配置 "
   ]
  },
  {
   "cell_type": "code",
   "execution_count": 12,
   "metadata": {
    "ExecuteTime": {
     "end_time": "2018-12-04T12:09:02.947942Z",
     "start_time": "2018-12-04T12:09:02.938948Z"
    },
    "scrolled": true
   },
   "outputs": [
    {
     "name": "stdout",
     "output_type": "stream",
     "text": [
      "[installation]\n",
      "library = %(prefix)s/lib\n",
      "include = %(prefix)s/include\n",
      "bin = %(prefix)s/bin\n",
      "prefix = /usr/local\n",
      "\n",
      "[debug]\n",
      "log_errors = true\n",
      "show_warnings = False\n",
      "\n",
      "[server]\n",
      "port = 9000\n",
      "nworkers = 32\n",
      "pid-file = /tmp/spam.pid\n",
      "root = /www/root\n",
      "\n"
     ]
    }
   ],
   "source": [
    "cfg.set('server','port','9000')\n",
    "\n",
    "import sys\n",
    "cfg.write(sys.stdout)"
   ]
  },
  {
   "cell_type": "markdown",
   "metadata": {},
   "source": [
    "## 注意\n",
    "> = 和：等效\n",
    "\n",
    "> 不区分大小写"
   ]
  },
  {
   "cell_type": "markdown",
   "metadata": {},
   "source": [
    "# excel"
   ]
  },
  {
   "cell_type": "code",
   "execution_count": 2,
   "metadata": {},
   "outputs": [],
   "source": [
    "import xlrd      #读取execel\n",
    "import xlwt      #写入excel"
   ]
  },
  {
   "cell_type": "markdown",
   "metadata": {},
   "source": [
    "## 读取excel"
   ]
  },
  {
   "cell_type": "code",
   "execution_count": null,
   "metadata": {},
   "outputs": [],
   "source": [
    "workbook=xlrd.open_workbook(r\"C:\\Users\\zty\\Desktop\\test.xlsx\")\n",
    "\n",
    "#返回所有sheet的名称\n",
    "workbook.sheet_names()       \n",
    "\n",
    "#返回sheet的数目\n",
    "workbook.nsheets   \n",
    "\n",
    "#返回第二个sheet\n",
    "sheet2_name=workbook.sheet_names()[1]  \n",
    "\n",
    "#sheet2的行数\n",
    "sheet2.nrows   \n",
    "\n",
    "#sheet2的列数\n",
    "sheet2.ncols    \n",
    "\n",
    " #sheet2第4行的值\n",
    "rows=sheet2.row_values(3) \n",
    "\n",
    "#sheet2第3列的值\n",
    "cols=sheet2.col_values(2)\t\n",
    "\n",
    "#sheet2 B1的值\n",
    "sheet2.cell_value(1,0)\t"
   ]
  },
  {
   "cell_type": "markdown",
   "metadata": {},
   "source": [
    "## 写入excel"
   ]
  },
  {
   "cell_type": "code",
   "execution_count": null,
   "metadata": {},
   "outputs": [],
   "source": [
    "#新建1个excel文件\n",
    "data=xlwt.Workbook()  \n",
    "\n",
    "#创建1个工作表；允许对同一个单元格重复操作\n",
    "table=data.add_sheet(“name”, cell_overwrite_ok=True)\n",
    "\n",
    "table.write(0,0,u’hehe’)\n",
    "\n",
    "data.save(“test.xls”)\n",
    "\n",
    "#初始化样式\n",
    "style=xlwt.XFStyle()  \n",
    "\n",
    "#为样式创建字体\n",
    "font=xlwt.Font()  \n",
    "\n",
    "#指定字体名字\n",
    "font.name='Times New Roman'   \n",
    "\n",
    "#字体加粗\n",
    "font.bold=True   \n",
    "\n",
    "#将该font设定为style的字体\n",
    "style.font=font        \n",
    "\n",
    "#写入到文件时使用该样式\n",
    "sheet.write(0,1,'just for test',style)   "
   ]
  },
  {
   "cell_type": "markdown",
   "metadata": {},
   "source": [
    "# 模型"
   ]
  },
  {
   "cell_type": "markdown",
   "metadata": {},
   "source": [
    "## pickle"
   ]
  },
  {
   "cell_type": "code",
   "execution_count": null,
   "metadata": {},
   "outputs": [],
   "source": [
    "rom sklearn import svm\n",
    "from sklearn import datasets\n",
    "\n",
    "clf = svm.SVC()\n",
    "iris = datasets.load_iris()\n",
    "X,y = iris.data,iris.target\n",
    "clf.fit(X,y)\n",
    "\n",
    "#保存\n",
    "import pickle\n",
    "with open('D:/python/workspace/clf.pickle','wb')as f: \n",
    "    pickle.dump(clf,f) \n",
    "    \n",
    "#提取\n",
    "with open('D:/python/workspace/clf.pickle','rb') as f:\n",
    "    clf2 = pickle.load(f)\n",
    "    print(clf2.predict(X))"
   ]
  },
  {
   "cell_type": "markdown",
   "metadata": {},
   "source": [
    "## joblib"
   ]
  },
  {
   "cell_type": "code",
   "execution_count": null,
   "metadata": {},
   "outputs": [],
   "source": [
    "from sklearn import svm\n",
    "from sklearn import datasets\n",
    "\n",
    "clf = svm.SVC()\n",
    "iris = datasets.load_iris()\n",
    "X,y = iris.data,iris.target\n",
    "clf.fit(X,y)\n",
    "\n",
    "#保存\n",
    "from sklearn.externals import joblib \n",
    "joblib.dump(clf,'D:/python/workspace/clf.pkl') \n",
    "\n",
    "#提取\n",
    "clf3 = joblib.load('D:/python/workspace/clf.pkl')\n",
    "print(clf3.predict(X))"
   ]
  }
 ],
 "metadata": {
  "hide_input": false,
  "kernelspec": {
   "display_name": "Python 3",
   "language": "python",
   "name": "python3"
  },
  "language_info": {
   "codemirror_mode": {
    "name": "ipython",
    "version": 3
   },
   "file_extension": ".py",
   "mimetype": "text/x-python",
   "name": "python",
   "nbconvert_exporter": "python",
   "pygments_lexer": "ipython3",
   "version": "3.6.0"
  },
  "toc": {
   "base_numbering": 1,
   "nav_menu": {},
   "number_sections": true,
   "sideBar": true,
   "skip_h1_title": false,
   "title_cell": "Table of Contents",
   "title_sidebar": "Contents",
   "toc_cell": false,
   "toc_position": {
    "height": "calc(100% - 180px)",
    "left": "10px",
    "top": "150px",
    "width": "384px"
   },
   "toc_section_display": true,
   "toc_window_display": true
  },
  "varInspector": {
   "cols": {
    "lenName": 16,
    "lenType": 16,
    "lenVar": 40
   },
   "kernels_config": {
    "python": {
     "delete_cmd_postfix": "",
     "delete_cmd_prefix": "del ",
     "library": "var_list.py",
     "varRefreshCmd": "print(var_dic_list())"
    },
    "r": {
     "delete_cmd_postfix": ") ",
     "delete_cmd_prefix": "rm(",
     "library": "var_list.r",
     "varRefreshCmd": "cat(var_dic_list()) "
    }
   },
   "types_to_exclude": [
    "module",
    "function",
    "builtin_function_or_method",
    "instance",
    "_Feature"
   ],
   "window_display": false
  }
 },
 "nbformat": 4,
 "nbformat_minor": 2
}
