{
 "cells": [
  {
   "cell_type": "code",
   "execution_count": 26,
   "metadata": {},
   "outputs": [],
   "source": [
    "import decimal\n",
    "import random\n",
    "import math"
   ]
  },
  {
   "cell_type": "markdown",
   "metadata": {},
   "source": [
    "# decimal 高精度计算\n",
    "避免浮点数计算问题"
   ]
  },
  {
   "cell_type": "markdown",
   "metadata": {},
   "source": [
    "## 十进制值\n",
    "使用类方法 from_float() 精确地转换为十进制表示形式"
   ]
  },
  {
   "cell_type": "code",
   "execution_count": 4,
   "metadata": {},
   "outputs": [
    {
     "name": "stdout",
     "output_type": "stream",
     "text": [
      "Input                     Output                   \n",
      "------------------------- -------------------------\n",
      "5                         5                        \n",
      "3.14                      3.14                     \n",
      "0.1                       0.1                      \n",
      "0.10000000000000000555112 0.10000000000000000555111\n"
     ]
    }
   ],
   "source": [
    "fmt = '{0:<25} {1:<25}'\n",
    "\n",
    "print(fmt.format('Input', 'Output'))\n",
    "print(fmt.format('-' * 25, '-' * 25))\n",
    "\n",
    "# 整数\n",
    "print(fmt.format(5, decimal.Decimal(5)))\n",
    "\n",
    "# 字符串\n",
    "print(fmt.format('3.14', decimal.Decimal('3.14')))\n",
    "\n",
    "# 浮点数\n",
    "f = 0.1\n",
    "print(fmt.format(repr(f), decimal.Decimal(str(f))))\n",
    "print('{:<0.23g} {:<25}'.format(\n",
    "    f,\n",
    "    str(decimal.Decimal.from_float(f))[:25])\n",
    ")"
   ]
  },
  {
   "cell_type": "markdown",
   "metadata": {},
   "source": [
    "浮点数 0.1 的值在二进制中并不是一个精确值，所以 float 类型和 Decimal 类型的值不同\n",
    "\n",
    "Decimals包括一个 tuple 类型的数位元组，和一个表示指数的整数"
   ]
  },
  {
   "cell_type": "code",
   "execution_count": 10,
   "metadata": {
    "scrolled": true
   },
   "outputs": [
    {
     "name": "stdout",
     "output_type": "stream",
     "text": [
      "Input  : (1, (1, 1), -2)\n",
      "Decimal: -0.11\n",
      "Input  : (1, (1, 1), -3)\n",
      "Decimal: -0.011\n"
     ]
    }
   ],
   "source": [
    "t = (1, (1, 1), -2)\n",
    "### (正负，（数值），小数点)\n",
    "print('Input  :', t)\n",
    "print('Decimal:', decimal.Decimal(t))\n",
    "\n",
    "t2 = (1, (1, 1), -3)\n",
    "### (正负，（数值），小数点)\n",
    "print('Input  :', t2)\n",
    "print('Decimal:', decimal.Decimal(t2))"
   ]
  },
  {
   "cell_type": "markdown",
   "metadata": {},
   "source": [
    "## 格式化\n",
    "响应python字符串格式化协议"
   ]
  },
  {
   "cell_type": "code",
   "execution_count": 13,
   "metadata": {},
   "outputs": [
    {
     "name": "stdout",
     "output_type": "stream",
     "text": [
      "Precision:\n",
      "1\n",
      "1.1\n",
      "1.10\n",
      "1.10000000000000009\n"
     ]
    }
   ],
   "source": [
    "d = decimal.Decimal(1.1)\n",
    "print('Precision:')\n",
    "print('{:.1}'.format(d))\n",
    "print('{:.2}'.format(d))\n",
    "print('{:.3}'.format(d))\n",
    "print('{:.18}'.format(d))"
   ]
  },
  {
   "cell_type": "markdown",
   "metadata": {},
   "source": [
    "## 算术"
   ]
  },
  {
   "cell_type": "code",
   "execution_count": 14,
   "metadata": {},
   "outputs": [
    {
     "name": "stdout",
     "output_type": "stream",
     "text": [
      "1.624203821656050955414012739\n"
     ]
    }
   ],
   "source": [
    "a = decimal.Decimal('5.1')\n",
    "b = decimal.Decimal('3.14')\n",
    "\n",
    "print(a/b)"
   ]
  },
  {
   "cell_type": "markdown",
   "metadata": {},
   "source": [
    "## 特殊值"
   ]
  },
  {
   "cell_type": "code",
   "execution_count": 15,
   "metadata": {},
   "outputs": [
    {
     "name": "stdout",
     "output_type": "stream",
     "text": [
      "Infinity -Infinity\n",
      "NaN -NaN\n",
      "0 -0\n",
      "Infinity + 1: Infinity\n",
      "-Infinity + 1: -Infinity\n"
     ]
    }
   ],
   "source": [
    "for value in ['Infinity', 'NaN', '0']:\n",
    "    print(decimal.Decimal(value), decimal.Decimal('-' + value))\n",
    "\n",
    "print('Infinity + 1:', (decimal.Decimal('Infinity') + 1))\n",
    "print('-Infinity + 1:', (decimal.Decimal('-Infinity') + 1))"
   ]
  },
  {
   "cell_type": "markdown",
   "metadata": {},
   "source": [
    "# math 数学函数"
   ]
  },
  {
   "cell_type": "markdown",
   "metadata": {},
   "source": [
    "## 特殊常数"
   ]
  },
  {
   "cell_type": "code",
   "execution_count": 27,
   "metadata": {},
   "outputs": [
    {
     "name": "stdout",
     "output_type": "stream",
     "text": [
      "  π: 3.141592653589793115997963468544\n",
      "  e: 2.718281828459045090795598298428\n",
      "nan: nan\n",
      "inf: inf\n"
     ]
    }
   ],
   "source": [
    "print('  π: {:.30f}'.format(math.pi))\n",
    "print('  e: {:.30f}'.format(math.e))\n",
    "print('nan: {:.30f}'.format(math.nan))\n",
    "print('inf: {:.30f}'.format(math.inf))"
   ]
  },
  {
   "cell_type": "markdown",
   "metadata": {},
   "source": [
    "## 浮点数到整数的转换\n",
    "trunc() ：直接截去浮点数的小数部分\n",
    "\n",
    "floor()： 对输入向下取整\n",
    "\n",
    "ceil()：对输入向上取整"
   ]
  },
  {
   "cell_type": "code",
   "execution_count": 28,
   "metadata": {},
   "outputs": [
    {
     "name": "stdout",
     "output_type": "stream",
     "text": [
      "  i    int  trunk floor ceil \n",
      "----- ----- ----- ----- -----\n",
      " -1.5  -1.0  -1.0  -2.0  -1.0\n",
      " -0.8   0.0   0.0  -1.0   0.0\n",
      "  0.8   0.0   0.0   0.0   1.0\n",
      "  1.0   1.0   1.0   1.0   1.0\n"
     ]
    }
   ],
   "source": [
    "HEADINGS = ('i', 'int', 'trunk', 'floor', 'ceil')\n",
    "print('{:^5} {:^5} {:^5} {:^5} {:^5}'.format(*HEADINGS))\n",
    "print('{:-^5} {:-^5} {:-^5} {:-^5} {:-^5}'.format('', '', '', '', '',))\n",
    "\n",
    "fmt = '{:5.1f} {:5.1f} {:5.1f} {:5.1f} {:5.1f}'\n",
    "\n",
    "TEST_VALUES = [\n",
    "    -1.5,\n",
    "    -0.8,\n",
    "    0.8,\n",
    "    1,\n",
    "]\n",
    "\n",
    "for i in TEST_VALUES:\n",
    "    print(fmt.format(\n",
    "        i,\n",
    "        int(i),\n",
    "        math.trunc(i),\n",
    "        math.floor(i),\n",
    "        math.ceil(i),\n",
    "    ))"
   ]
  },
  {
   "cell_type": "markdown",
   "metadata": {},
   "source": [
    "## 浮点数其他表示方法\n",
    "modf()：将一个浮点数分成小数和整数两个部分，返回元祖"
   ]
  },
  {
   "cell_type": "code",
   "execution_count": 29,
   "metadata": {},
   "outputs": [
    {
     "name": "stdout",
     "output_type": "stream",
     "text": [
      "0/2 = (0.0, 0.0)\n",
      "1/2 = (0.5, 0.0)\n",
      "2/2 = (0.0, 1.0)\n",
      "3/2 = (0.5, 1.0)\n",
      "4/2 = (0.0, 2.0)\n",
      "5/2 = (0.5, 2.0)\n"
     ]
    }
   ],
   "source": [
    "for i in range(6):\n",
    "    print('{}/2 = {}'.format(i, math.modf(i / 2.0)))"
   ]
  },
  {
   "cell_type": "markdown",
   "metadata": {},
   "source": [
    "## 常用计算\n",
    "计算多个浮点数和的函数，可以减少因计算导致的误差\n",
    "> fsum()：连加\n",
    "\n",
    "> factorial()：阶乘\n",
    "\n",
    "> gamma()：对于整数 n，gamma(n)=factorial(n-1)\n",
    ">> gamma() 函数对大部分实数（除了 0 和负整数）都是有定义的\n",
    "\n",
    "> fmod()\n",
    "\n",
    "> gcd()：计算最大公约数"
   ]
  },
  {
   "cell_type": "code",
   "execution_count": 30,
   "metadata": {},
   "outputs": [
    {
     "name": "stdout",
     "output_type": "stream",
     "text": [
      "Input values: [0.1, 0.1, 0.1, 0.1, 0.1, 0.1, 0.1, 0.1, 0.1, 0.1]\n",
      "sum()       : 0.99999999999999988898\n",
      "for-loop    : 0.99999999999999988898\n",
      "math.fsum() : 1.00000000000000000000\n"
     ]
    }
   ],
   "source": [
    "values = [0.1] * 10\n",
    "\n",
    "print('Input values:', values)\n",
    "\n",
    "print('sum()       : {:.20f}'.format(sum(values)))\n",
    "\n",
    "s = 0.0\n",
    "for i in values:\n",
    "    s += i\n",
    "print('for-loop    : {:.20f}'.format(s))\n",
    "\n",
    "print('math.fsum() : {:.20f}'.format(math.fsum(values)))"
   ]
  },
  {
   "cell_type": "markdown",
   "metadata": {},
   "source": [
    "## 指数与对数"
   ]
  },
  {
   "cell_type": "markdown",
   "metadata": {},
   "source": [
    "pow(x,y)\n",
    "\n",
    "sqrt()\n",
    "\n",
    "log()\n",
    "\n",
    "log1p():1+x的自然对数\n",
    "\n",
    "exp()"
   ]
  },
  {
   "cell_type": "code",
   "execution_count": 35,
   "metadata": {},
   "outputs": [
    {
     "name": "stdout",
     "output_type": "stream",
     "text": [
      "25.0\n",
      "2.449489742783178\n",
      "1.791759469228055\n",
      "1.3862943611198906\n"
     ]
    }
   ],
   "source": [
    "print(math.pow(5,2))\n",
    "\n",
    "print(math.sqrt(6))\n",
    "\n",
    "print(math.log(6))\n",
    "\n",
    "print(math.log1p(3))"
   ]
  },
  {
   "cell_type": "markdown",
   "metadata": {},
   "source": [
    "# random 伪随机数生成器\n",
    "基于Mersenne Twister算法"
   ]
  },
  {
   "cell_type": "markdown",
   "metadata": {},
   "source": [
    "<font color=\"red\">choice(seq)：随机选择一个元素</font>\n",
    "\n",
    "expovariate(lambd): Exponential distribution.\n",
    "\n",
    "gauss(mu, sigma)：Gaussian distribution.\n",
    "\n",
    "lognormvariate(mu, sigma)\n",
    "\n",
    "randint(a, b)：返回[a, b]间的随机整数\n",
    "\n",
    "<font color=\"red\">sample(population, k)：随机抽取k个不同的元素</font>\n",
    "\n",
    "seed(a=None, version=2)\n",
    "\n",
    "uniform(a, b)\n",
    "\n",
    "random()：生成[0.0, 1.0)间的随机数\n",
    "\n",
    "<font color=\"red\">shuffle()：将序列的所有元素随机排序</font>"
   ]
  },
  {
   "cell_type": "markdown",
   "metadata": {},
   "source": [
    "## 生成随机数"
   ]
  },
  {
   "cell_type": "code",
   "execution_count": 6,
   "metadata": {},
   "outputs": [
    {
     "data": {
      "text/plain": [
       "6"
      ]
     },
     "execution_count": 6,
     "metadata": {},
     "output_type": "execute_result"
    }
   ],
   "source": [
    "random.randint(3,10)"
   ]
  },
  {
   "cell_type": "code",
   "execution_count": 7,
   "metadata": {},
   "outputs": [
    {
     "data": {
      "text/plain": [
       "7.271799277235871"
      ]
     },
     "execution_count": 7,
     "metadata": {},
     "output_type": "execute_result"
    }
   ],
   "source": [
    "random.uniform(3,10)"
   ]
  },
  {
   "cell_type": "code",
   "execution_count": 8,
   "metadata": {},
   "outputs": [
    {
     "data": {
      "text/plain": [
       "0.3115121660330652"
      ]
     },
     "execution_count": 8,
     "metadata": {},
     "output_type": "execute_result"
    }
   ],
   "source": [
    "random.random()"
   ]
  },
  {
   "cell_type": "markdown",
   "metadata": {},
   "source": [
    "## seeding\n",
    "生成唯一值及其变体"
   ]
  },
  {
   "cell_type": "code",
   "execution_count": 19,
   "metadata": {},
   "outputs": [
    {
     "name": "stdout",
     "output_type": "stream",
     "text": [
      "0.134 0.847 0.764 0.255 0.495 \n"
     ]
    }
   ],
   "source": [
    "### 每次运行这个脚本，结果相同\n",
    "random.seed(1)\n",
    "\n",
    "for i in range(5):\n",
    "    print('{:04.3f}'.format(random.random()), end=' ')\n",
    "print()"
   ]
  },
  {
   "cell_type": "markdown",
   "metadata": {},
   "source": []
  },
  {
   "cell_type": "markdown",
   "metadata": {},
   "source": [
    "## 保存状态\n",
    "getstate() 函数可以返回随后用于 setstate() 的重新初始化随机数生成器的数据"
   ]
  },
  {
   "cell_type": "code",
   "execution_count": 20,
   "metadata": {},
   "outputs": [
    {
     "name": "stdout",
     "output_type": "stream",
     "text": [
      "No state.dat, seeding\n",
      "0.134 0.847 0.764 \n",
      "\n",
      "After saving state:\n",
      "0.255 0.495 0.449 \n"
     ]
    }
   ],
   "source": [
    "import os\n",
    "import pickle\n",
    "\n",
    "if os.path.exists('state.dat'):\n",
    "    # Restore the previously saved state\n",
    "    print('Found state.dat, initializing random module')\n",
    "    with open('state.dat', 'rb') as f:\n",
    "        state = pickle.load(f)\n",
    "    random.setstate(state)\n",
    "else:\n",
    "    # 使用一个初始状态\n",
    "    print('No state.dat, seeding')\n",
    "    random.seed(1)\n",
    "\n",
    "# 生成随机数\n",
    "for i in range(3):\n",
    "    print('{:04.3f}'.format(random.random()), end=' ')\n",
    "print()\n",
    "\n",
    "# 为下次使用保存状态\n",
    "with open('state.dat', 'wb') as f:\n",
    "    pickle.dump(random.getstate(), f)\n",
    "\n",
    "# 生成更多的随机数\n",
    "print('\\nAfter saving state:')\n",
    "for i in range(3):\n",
    "    print('{:04.3f}'.format(random.random()), end=' ')\n",
    "print()"
   ]
  },
  {
   "cell_type": "markdown",
   "metadata": {},
   "source": [
    "## 随机选择序列值\n",
    "choice()"
   ]
  },
  {
   "cell_type": "code",
   "execution_count": 23,
   "metadata": {},
   "outputs": [
    {
     "data": {
      "text/plain": [
       "3"
      ]
     },
     "execution_count": 23,
     "metadata": {},
     "output_type": "execute_result"
    }
   ],
   "source": [
    "random.choice([2,3,4,5])"
   ]
  },
  {
   "cell_type": "markdown",
   "metadata": {},
   "source": [
    "## 排列\n",
    "shuffle()"
   ]
  },
  {
   "cell_type": "code",
   "execution_count": 24,
   "metadata": {},
   "outputs": [
    {
     "name": "stdout",
     "output_type": "stream",
     "text": [
      "Initial deck:\n",
      " 2H  2D  2C  2S  3H  3D  3C  3S  4H  4D  4C  4S  5H \n",
      " 5D  5C  5S  6H  6D  6C  6S  7H  7D  7C  7S  8H  8D \n",
      " 8C  8S  9H  9D  9C  9S 10H 10D 10C 10S  JH  JD  JC \n",
      " JS  QH  QD  QC  QS  KH  KD  KC  KS  AH  AD  AC  AS \n",
      "\n",
      "Shuffled deck:\n",
      " 6C  9D  7C  2S  5H  KS  3D  KC  3H  2C 10S  4C  4H \n",
      " 9C  JS  QS  4D  8D  6S  7D  4S  8C  QC  5S  QD 10H \n",
      " 3S  6H 10D  7S  AC  5D  AH  KD 10C  JH  QH  AD  7H \n",
      " AS  JD  5C  6D  9H  KH  2H  JC  8S  8H  2D  9S  3C \n",
      "\n",
      "Hands:\n",
      "1:  3C  8S  9H  AS  JH \n",
      "2:  9S  JC  6D  7H 10C \n",
      "3:  2D  2H  5C  AD  KD \n",
      "4:  8H  KH  JD  QH  AH \n",
      "\n",
      "Remaining deck:\n",
      " 6C  9D  7C  2S  5H  KS  3D  KC  3H  2C 10S  4C  4H \n",
      " 9C  JS  QS  4D  8D  6S  7D  4S  8C  QC  5S  QD 10H \n",
      " 3S  6H 10D  7S  AC  5D \n"
     ]
    }
   ],
   "source": [
    "import itertools\n",
    "\n",
    "FACE_CARDS = ('J', 'Q', 'K', 'A')\n",
    "SUITS = ('H', 'D', 'C', 'S')\n",
    "\n",
    "def new_deck():\n",
    "    return [\n",
    "        # 值总是用两个值，所以字符串有一致的长度\n",
    "        '{:>2}{}'.format(*c)\n",
    "        for c in itertools.product(\n",
    "            itertools.chain(range(2, 11), FACE_CARDS),\n",
    "            SUITS,\n",
    "        )\n",
    "    ]\n",
    "\n",
    "def show_deck(deck):\n",
    "    p_deck = deck[:]\n",
    "    while p_deck:\n",
    "        row = p_deck[:13]\n",
    "        p_deck = p_deck[13:]\n",
    "        for j in row:\n",
    "            print(j, end=' ')\n",
    "        print()\n",
    "\n",
    "# 创建一副有序新牌\n",
    "deck = new_deck()\n",
    "print('Initial deck:')\n",
    "show_deck(deck)\n",
    "\n",
    "# 随机打乱牌的次序\n",
    "random.shuffle(deck)\n",
    "print('\\nShuffled deck:')\n",
    "show_deck(deck)\n",
    "\n",
    "# Deal 4 hands of 5 cards each\n",
    "hands = [[], [], [], []]\n",
    "\n",
    "for i in range(5):\n",
    "    for h in hands:\n",
    "        h.append(deck.pop())\n",
    "\n",
    "# 展示手里的牌\n",
    "print('\\nHands:')\n",
    "for n, h in enumerate(hands):\n",
    "    print('{}:'.format(n + 1), end=' ')\n",
    "    for c in h:\n",
    "        print(c, end=' ')\n",
    "    print()\n",
    "\n",
    "# 展示剩下的牌\n",
    "print('\\nRemaining deck:')\n",
    "show_deck(deck)"
   ]
  },
  {
   "cell_type": "markdown",
   "metadata": {},
   "source": [
    "## 采样\n",
    "sample()"
   ]
  },
  {
   "cell_type": "code",
   "execution_count": 25,
   "metadata": {},
   "outputs": [
    {
     "data": {
      "text/plain": [
       "[4, 3]"
      ]
     },
     "execution_count": 25,
     "metadata": {},
     "output_type": "execute_result"
    }
   ],
   "source": [
    "random.sample([2,3,4,5],2)"
   ]
  }
 ],
 "metadata": {
  "hide_input": false,
  "kernelspec": {
   "display_name": "Python 3",
   "language": "python",
   "name": "python3"
  },
  "language_info": {
   "codemirror_mode": {
    "name": "ipython",
    "version": 3
   },
   "file_extension": ".py",
   "mimetype": "text/x-python",
   "name": "python",
   "nbconvert_exporter": "python",
   "pygments_lexer": "ipython3",
   "version": "3.6.0"
  },
  "toc": {
   "base_numbering": 1,
   "nav_menu": {},
   "number_sections": true,
   "sideBar": true,
   "skip_h1_title": false,
   "title_cell": "Table of Contents",
   "title_sidebar": "Contents",
   "toc_cell": false,
   "toc_position": {},
   "toc_section_display": true,
   "toc_window_display": true
  }
 },
 "nbformat": 4,
 "nbformat_minor": 2
}
