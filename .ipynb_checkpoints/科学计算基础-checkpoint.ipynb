{
 "cells": [
  {
   "cell_type": "markdown",
   "metadata": {},
   "source": [
    "## apply \n",
    "> axis=0：指沿着row进行操作\n",
    "\n",
    "> axis=1：指沿着columns进行操作"
   ]
  },
  {
   "cell_type": "code",
   "execution_count": null,
   "metadata": {},
   "outputs": [],
   "source": [
    "class FrameRowApply(FrameApply):\n",
    "    axis = 0\n",
    "\n",
    "    def apply_broadcast(self):\n",
    "        return super(FrameRowApply, self).apply_broadcast(self.obj)\n",
    "\n",
    "    @property\n",
    "    def series_generator(self):\n",
    "        return (self.obj._ixs(i, axis=1)\n",
    "                for i in range(len(self.columns)))\n",
    "\n",
    "class FrameColumnApply(FrameApply):\n",
    "    axis = 1\n",
    "\n",
    "    def apply_broadcast(self):\n",
    "        result = super(FrameColumnApply, self).apply_broadcast(self.obj.T)\n",
    "        return result.T\n",
    "    \n",
    "\"\"\"\n",
    "对于apply\n",
    "1）axis=0时，逐列读取数据 -->  垂直处理数据\n",
    "2）axis=1时，先转置再重复1处理 --> 水平处理数据\n",
    "\"\"\""
   ]
  }
 ],
 "metadata": {
  "kernelspec": {
   "display_name": "Python 3",
   "language": "python",
   "name": "python3"
  },
  "toc": {
   "base_numbering": 1,
   "nav_menu": {},
   "number_sections": true,
   "sideBar": true,
   "skip_h1_title": false,
   "title_cell": "Table of Contents",
   "title_sidebar": "Contents",
   "toc_cell": false,
   "toc_position": {},
   "toc_section_display": true,
   "toc_window_display": false
  },
  "varInspector": {
   "cols": {
    "lenName": 16,
    "lenType": 16,
    "lenVar": 40
   },
   "kernels_config": {
    "python": {
     "delete_cmd_postfix": "",
     "delete_cmd_prefix": "del ",
     "library": "var_list.py",
     "varRefreshCmd": "print(var_dic_list())"
    },
    "r": {
     "delete_cmd_postfix": ") ",
     "delete_cmd_prefix": "rm(",
     "library": "var_list.r",
     "varRefreshCmd": "cat(var_dic_list()) "
    }
   },
   "types_to_exclude": [
    "module",
    "function",
    "builtin_function_or_method",
    "instance",
    "_Feature"
   ],
   "window_display": false
  }
 },
 "nbformat": 4,
 "nbformat_minor": 2
}
