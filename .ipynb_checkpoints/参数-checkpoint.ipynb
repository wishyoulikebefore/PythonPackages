{
 "cells": [
  {
   "cell_type": "code",
   "execution_count": 1,
   "metadata": {},
   "outputs": [],
   "source": [
    "import argparse"
   ]
  },
  {
   "cell_type": "markdown",
   "metadata": {},
   "source": [
    "## argparse "
   ]
  },
  {
   "cell_type": "markdown",
   "metadata": {},
   "source": [
    "### 整体框架\n",
    "> 创建一个解析对象： parser = argparse.ArgumentParser(description=\"your script description\") \n",
    "\n",
    "> 向该对象中添加你要关注的命令行参数和选项： parser.add_argument()\n",
    "\n",
    "> 进行解析：args = parser.parse_args()"
   ]
  },
  {
   "cell_type": "markdown",
   "metadata": {},
   "source": [
    "### add_argument\n",
    "add_argument(name or flags…[, action][, nargs][, const][, default][, type][, choices][, required][, help][, metavar][, dest])   \n",
    "> name or flags：指定参数的形式，一般写两个（-短参数 --长参数）\n",
    "> #赋值时，-短参数 X --长参数 = X\n",
    "\n",
    "> nargs ：指定这个参数后面的value有多少个；不定时可设置为 nargs=\"*\"\n",
    "\n",
    "> type：指定参数类型\n",
    "\n",
    "> choices：设置参数值的范围\n",
    "\n",
    "> required：是否必选\n",
    "\n",
    "> metavar ：参数的名字，在显示帮助信息时才用到\n",
    "\n",
    "> help：设置帮助信息\n",
    "\n",
    "> dest：解析出来的对应属性\n",
    "\n",
    "> action：指定属性对应的处理逻辑，默认为store（存储某个值或多个参数值收集到一个列表），也可以为store_const,store_true或者store_false\n",
    "\n",
    "> default：如果命令行没有出现这个选项，那么使用default指定的默认值"
   ]
  },
  {
   "cell_type": "code",
   "execution_count": null,
   "metadata": {},
   "outputs": [],
   "source": [
    "parser = argparse.ArgumentParser(description='Process some integers.')  \n",
    "\n",
    "parser.add_argument('integers', metavar='N', type=int, nargs='+', help='an integer for the accumulator')  \n",
    "parser.add_argument('-sum', dest='accumulate', action='store_const',const=sum, \n",
    "                    default=max,  help='sum the integers (default: find the max)')  \n",
    "parser.add_argument(\"-square\", help=\"display a square of a given number\", type=int) \n",
    "\n",
    "args = parser.parse_args()  \n",
    "\n",
    "print(args.accumulate(args.integers), args.square**2)"
   ]
  },
  {
   "cell_type": "code",
   "execution_count": null,
   "metadata": {},
   "outputs": [],
   "source": [
    "python prog.py 4 5 6 -square 7\n",
    "#输出6  49\n",
    "\n",
    "python prog.py -sum 4 5 6 --square 7\n",
    "#输出15  49"
   ]
  },
  {
   "cell_type": "code",
   "execution_count": null,
   "metadata": {},
   "outputs": [],
   "source": [
    "parser = argparse.ArgumentParser(description='Search some files')\n",
    "\n",
    "parser.add_argument(dest='filenames',metavar='filename', nargs='*')\n",
    "#下面的参数说明允许某个参数重复出现多次，并将它们追加到一个列表中去\n",
    "parser.add_argument('-p', '--pat',metavar='pattern', required=True, dest='patterns', \n",
    "                    action='append',help='text pattern to search for')\n",
    "#根据参数是否存在来设置一个 Boolean 标志\n",
    "parser.add_argument('-v', dest='verbose', action='store_true',help='verbose mode')\n",
    "#参数接受一个单独值并将其存储为一个字符串\n",
    "parser.add_argument('-o', dest='outfile', action='store',help='output file')\n",
    "#接受一个值，但是会将其和可能的选择值做比较，以检测其合法性\n",
    "parser.add_argument('--speed', dest='speed', action='store',choices={'slow','fast'}, \n",
    "                    default='slow',help='search speed')\n",
    "\n",
    "args = parser.parse_args()"
   ]
  },
  {
   "cell_type": "code",
   "execution_count": null,
   "metadata": {},
   "outputs": [],
   "source": [
    "python3 search.py -v -p spam --pat=eggs foo.txt bar.txt\n",
    "\n",
    "#输出\n",
    "filenames = ['foo.txt', 'bar.txt']\n",
    "patterns  = ['spam', 'eggs']\n",
    "verbose   = True\n",
    "outfile   = None\n",
    "speed     = slow"
   ]
  },
  {
   "cell_type": "markdown",
   "metadata": {},
   "source": [
    "### 示例： WGBS文件清理 "
   ]
  },
  {
   "cell_type": "code",
   "execution_count": null,
   "metadata": {},
   "outputs": [],
   "source": [
    "import os\n",
    "import glob\n",
    "import argparse\n",
    "import re\n",
    "import shutil\n",
    "\n",
    "process_dir = open(\"processed_dir\",\"a+\")\n",
    "\n",
    "def parse_args():\n",
    "    parser = argparse.ArgumentParser(description=\"保留对应的文件\")\n",
    "    parser.add_argument(\"-d\",help=\"总目录\")\n",
    "    parser.add_argument(\"-ld\",help=\"log文件夹目录\")\n",
    "    parser.add_argument(\"-k\", metavar='N', type=str, nargs='+',help=\"保留文件\")\n",
    "    args = parser.parse_args()\n",
    "    return args.d, args.ld, args.k\n",
    "\n",
    "def clean_save(work_dir,log_dir,keep_files):\n",
    "    os.chdir(work_dir)\n",
    "    finished_samples = []\n",
    "    for _file in glob.glob(\"%s/*success\" %(log_dir)):\n",
    "        sample_name = re.search(r\".*\\.(.*-[NT])\\..*\",_file).group(1)\n",
    "        finished_samples.append(sample_name)\n",
    "    for sample in finished_samples:\n",
    "        os.chdir(\"Sample_%s\" %(sample))\n",
    "        process_dir.write(os.getcwd()+\"\\n\")\n",
    "        for _file in glob.glob(\"*\"):\n",
    "            if delete(_file,keep_files):\n",
    "                pass\n",
    "            else:\n",
    "                try:\n",
    "                    os.remove(_file)\n",
    "                except Exception as e:\n",
    "                    shutil.rmtree(_file, ignore_errors=True)\n",
    "        os.chdir(work_dir)\n",
    "\n",
    "def delete(_file,keep_files):\n",
    "    for keep in keep_files:\n",
    "        if _file.endswith(keep):\n",
    "            return 1\n",
    "        else:\n",
    "            pass\n",
    "    return\n",
    "\n",
    "if __name__ == \"__main__\":\n",
    "    work_dir,log_dir,keep_files = parse_args()\n",
    "    clean_save(work_dir,log_dir,keep_files)"
   ]
  },
  {
   "cell_type": "markdown",
   "metadata": {},
   "source": [
    "## docopt \n",
    "代码的最开头使用 \"\"\" \"\"\"文档注释的形式写出符合要求的文档，就会自动生成对应的parse"
   ]
  },
  {
   "cell_type": "markdown",
   "metadata": {},
   "source": [
    "### 注释文档的格式\n",
    "> Usage：和一个空行之间的文本都会被识别为一个命令组合\n",
    "> #Usage 后的第一个字母将会被识别为这个程序的名字\n",
    "\n",
    "> Options：可选项 "
   ]
  },
  {
   "cell_type": "markdown",
   "metadata": {},
   "source": [
    "### 示例：12306_ticket "
   ]
  },
  {
   "cell_type": "code",
   "execution_count": null,
   "metadata": {},
   "outputs": [],
   "source": [
    "\"\"\"\n",
    "Usage:\n",
    "    tickets [-gdtkz] <from> <to> <date>\n",
    "\n",
    "Options:\n",
    "    -h,--help   显示帮助菜单\n",
    "    -g          高铁\n",
    "    -d          动车\n",
    "    -t          特快\n",
    "    -k          快速\n",
    "    -z          直达\n",
    "\n",
    "Example:\n",
    "    tickets 北京 上海 2016-10-10\n",
    "    tickets -dg 成都 南京 2016-10-10\n",
    "\"\"\"\n",
    "\"\"\"\n",
    "https://kyfw.12306.cn/otn/leftTicket/queryO?leftTicketDTO.train_date=2018-04-05&leftTicketDTO.from_station=OMH&leftTicketDTO.to_station=NKH&purpose_codes=ADULT\n",
    "四个参数：出发日期，起始站，终点站，票类型\n",
    "\"\"\"\n",
    "\n",
    "from docopt import docopt\n",
    "import requests\n",
    "from prettytable import PrettyTable\n",
    "from colorama import init, Fore\n",
    "import re\n",
    "\n",
    "init(autoreset=True)   # 通过使用autoreset参数可以让变色效果只对当前输出起作用，输出完成后颜色恢复默认设置\n",
    "\n",
    "station_url = 'https://kyfw.12306.cn/otn/resources/js/framework/station_name.js?station_version=1.9050'\n",
    "stations = dict(re.findall('([\\u4e00-\\u9fa5]+)\\|([A-Z]+)', requests.get(station_url).text))\n",
    "\n",
    "class TrainsCollection:\n",
    "    header = '车次 车站 时间 历时 一等 二等 高级软卧 软卧 硬卧 硬座 无座'.split()\n",
    "\n",
    "    def __init__(self, available_trains,available_place, options):\n",
    "        \"\"\"查询的火车班次集合\n",
    "        :param available_trains: 一个列表, 包含可获得的火车班次, 每个\n",
    "                                 火车班次是一个字典\n",
    "        :param options: 查询的选项, 如高铁, 动车, etc...\n",
    "        \"\"\"\n",
    "        self.available_trains = available_trains\n",
    "        self.available_place = available_place\n",
    "        self.options = options\n",
    "\n",
    "    @property\n",
    "    def trains(self):\n",
    "        for raw_train in self.available_trains:\n",
    "            raw_train_list = raw_train.split('|')\n",
    "            train_no = raw_train_list[3]\n",
    "            initial = train_no[0].lower()   #哪种列车\n",
    "            duration = raw_train_list[10]\n",
    "            if not self.options or initial in self.options:\n",
    "                train = [\n",
    "                    train_no,# 车次\n",
    "                    '\\n'.join([Fore.LIGHTGREEN_EX + self.available_place[raw_train_list[6]],\n",
    "                               Fore.LIGHTRED_EX + self.available_place[raw_train_list[7]]]),  #车站\n",
    "                    '\\n'.join([Fore.LIGHTGREEN_EX + raw_train_list[8],      #时间\n",
    "                               Fore.LIGHTRED_EX + raw_train_list[9]]),\n",
    "                    duration,                                                             #历时\n",
    "                    raw_train_list[-6] if raw_train_list[-6] else '--',                 #一等座\n",
    "                    raw_train_list[-7] if raw_train_list[-7] else '--',                 #二等座\n",
    "                    raw_train_list[-16] if raw_train_list[-16] else '--',               #高级软卧\n",
    "                    raw_train_list[-14] if raw_train_list[-14] else '--',                 #软卧\n",
    "                    raw_train_list[-9] if raw_train_list[-9] else '--',               #硬卧\n",
    "                    raw_train_list[-8] if raw_train_list[-8] else '--',               #硬座\n",
    "                    raw_train_list[-11] if raw_train_list[-11] else '--',                 #无座\n",
    "                ]\n",
    "                yield train\n",
    "\n",
    "    def pretty_print(self):\n",
    "        pt = PrettyTable()\n",
    "        pt._set_field_names(self.header)\n",
    "        for train in self.trains:\n",
    "            pt.add_row(train)\n",
    "        print(pt)\n",
    "\n",
    "\n",
    "def cli():\n",
    "    arguments = docopt(__doc__)\n",
    "    from_station = stations.get(arguments['<from>'])\n",
    "    to_station = stations.get(arguments['<to>'])\n",
    "    date = arguments['<date>']\n",
    "\n",
    "    url = ('https://kyfw.12306.cn/otn/leftTicket/queryO?'\n",
    "           'leftTicketDTO.train_date={}&'\n",
    "           'leftTicketDTO.from_station={}&leftTicketDTO.to_station={}&purpose_codes=ADULT').format(\n",
    "                date, from_station, to_station\n",
    "           )\n",
    "    r = requests.get(url)\n",
    "    available_trains = r.json()['data']['result']\n",
    "    available_place = r.json()['data']['map']\n",
    "    options = ''.join([\n",
    "        key for key, value in arguments.items() if value is True\n",
    "    ])\n",
    "    TrainsCollection(available_trains,available_place, options).pretty_print()\n",
    "\n",
    "\n",
    "if __name__ == '__main__':\n",
    "    cli()"
   ]
  }
 ],
 "metadata": {
  "kernelspec": {
   "display_name": "Python 3",
   "language": "python",
   "name": "python3"
  },
  "toc": {
   "base_numbering": 1,
   "nav_menu": {},
   "number_sections": true,
   "sideBar": true,
   "skip_h1_title": false,
   "title_cell": "Table of Contents",
   "title_sidebar": "Contents",
   "toc_cell": false,
   "toc_position": {},
   "toc_section_display": true,
   "toc_window_display": false
  },
  "varInspector": {
   "cols": {
    "lenName": 16,
    "lenType": 16,
    "lenVar": 40
   },
   "kernels_config": {
    "python": {
     "delete_cmd_postfix": "",
     "delete_cmd_prefix": "del ",
     "library": "var_list.py",
     "varRefreshCmd": "print(var_dic_list())"
    },
    "r": {
     "delete_cmd_postfix": ") ",
     "delete_cmd_prefix": "rm(",
     "library": "var_list.r",
     "varRefreshCmd": "cat(var_dic_list()) "
    }
   },
   "types_to_exclude": [
    "module",
    "function",
    "builtin_function_or_method",
    "instance",
    "_Feature"
   ],
   "window_display": false
  }
 },
 "nbformat": 4,
 "nbformat_minor": 2
}
