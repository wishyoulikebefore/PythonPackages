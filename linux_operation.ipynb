{
 "cells": [
  {
   "cell_type": "code",
   "execution_count": 7,
   "metadata": {},
   "outputs": [],
   "source": [
    "import os\n",
    "import glob\n",
    "import shlex\n",
    "import shutil"
   ]
  },
  {
   "cell_type": "markdown",
   "metadata": {},
   "source": [
    "## os\n",
    "> 操作文件和目录\n",
    ">> getcwd()\n",
    "\n",
    ">> chdir()\n",
    "\n",
    ">> listdir()\n",
    "\n",
    ">> pardir():获取当前目录的父目录字符串名\n",
    "\n",
    ">> makedirs()：生成多层递归目录\n",
    "\n",
    ">> removedirs()：删除多层递归空目录，若目录不为空则无法删除\n",
    "\n",
    ">> mkdir()：生成单级目录\n",
    "\n",
    ">> rmdir()：删除单级空目录，若目录不为空则无法删除，报错，需要用shutil.rmtree\n",
    "\n",
    ">> remove()：删除一个文件。\n",
    "\n",
    "> 路径相关\n",
    ">> path.isfile()和path.isdir()：检验给出的路径是文件还是目录\n",
    "\n",
    ">> path.exists()：检验给出的路径是否存在\n",
    "\n",
    ">> path.split()：返回一个路径的目录名和文件名\n",
    "\n",
    ">> path.abspath()：获得绝对路径\n",
    "\n",
    ">> path.basename()：返回文件基名\n",
    "\n",
    ">> path.getsize()：获得文件大小\n",
    "\n",
    ">> path.getatime(),getctime()和getmtime()：时间戳形式，需要转换：datetime.datetime.fromtimestamp()\n",
    "\n",
    ">> path.splitext()：分离文件名与扩展名，用于判断某一类型文件\n",
    "\n",
    ">> path.join(path,name)：连接目录与文件名或目录\n",
    "\n",
    "> 系统相关  \n",
    ">> os.system()：运行shell命令"
   ]
  },
  {
   "cell_type": "code",
   "execution_count": 2,
   "metadata": {},
   "outputs": [
    {
     "data": {
      "text/plain": [
       "('C:/Users/zuo_tianyu0101/Desktop', '代理.txt')"
      ]
     },
     "execution_count": 2,
     "metadata": {},
     "output_type": "execute_result"
    }
   ],
   "source": [
    "os.path.split(\"C:/Users/zuo_tianyu0101/Desktop/代理.txt\")"
   ]
  },
  {
   "cell_type": "code",
   "execution_count": 4,
   "metadata": {
    "scrolled": true
   },
   "outputs": [
    {
     "data": {
      "text/plain": [
       "'代理.txt'"
      ]
     },
     "execution_count": 4,
     "metadata": {},
     "output_type": "execute_result"
    }
   ],
   "source": [
    "os.path.basename(\"C:/Users/zuo_tianyu0101/Desktop/代理.txt\")"
   ]
  },
  {
   "cell_type": "code",
   "execution_count": 6,
   "metadata": {},
   "outputs": [
    {
     "data": {
      "text/plain": [
       "('C:/Users/zuo_tianyu0101/Desktop/代理', '.txt')"
      ]
     },
     "execution_count": 6,
     "metadata": {},
     "output_type": "execute_result"
    }
   ],
   "source": [
    "os.path.splitext(\"C:/Users/zuo_tianyu0101/Desktop/代理.txt\")"
   ]
  },
  {
   "cell_type": "code",
   "execution_count": null,
   "metadata": {},
   "outputs": [],
   "source": [
    "#自动关机 \n",
    "os.system('shutdown -s -t 1') \n",
    "\n",
    "#重启 \n",
    "os.system('shutdown -r')"
   ]
  },
  {
   "cell_type": "markdown",
   "metadata": {},
   "source": [
    "## sys \n",
    "> argv：命令行参数List，第一个元素是程序本身路径\n",
    "\n",
    "> version：获取Python解释程序的版本信息\n",
    "\n",
    "> path：返回模块的搜索路径\n",
    ">> 在脚本中额外指定模块路径 sys.path.append(\"/nextcode/nfs_test/users/jiawei_new/lib/python2.7/site-packages\")\n",
    "\n",
    "> platform                             \n",
    "\n",
    "> exit(n)：退出程序\n",
    ">> 正常退出时exit(0)\n",
    "\n",
    "> getdefaultencoding()                   \n",
    "\n",
    "> setdefaultencoding(name)               \n",
    "\n",
    "> stderr：错误输出\n",
    "\n",
    "> stdin：标准输入\n",
    "\n",
    "> stdout：标准输出\n",
    ">> stdout.write() 只支持输出字符串\n",
    ">> stdout.flush() 手动刷新缓冲区，可以边迭代边输出"
   ]
  },
  {
   "cell_type": "markdown",
   "metadata": {},
   "source": [
    "## glob\n",
    "可以使用Unix shell风格的通配符匹配符合特定格式的文件和文件夹\n",
    "> glob.glob(pathname, recursive=False)：返回匹配列表"
   ]
  },
  {
   "cell_type": "code",
   "execution_count": null,
   "metadata": {},
   "outputs": [],
   "source": [
    "for _file in glob.glob(\"%s/*success\" %(log_dir)):\n",
    "    sample_name = re.search(r\".*\\.(.*-[NT])\\..*\",_file).group(1)\n",
    "    finished_samples.append(sample_name)"
   ]
  },
  {
   "cell_type": "markdown",
   "metadata": {},
   "source": [
    "## shlex\n",
    "为shell语法编写词法分析器"
   ]
  },
  {
   "cell_type": "code",
   "execution_count": null,
   "metadata": {},
   "outputs": [],
   "source": [
    "#使用类shell语法拆分字符串\n",
    "shlex.split(\"grep -c success %s\" %cmd)"
   ]
  },
  {
   "cell_type": "markdown",
   "metadata": {},
   "source": [
    "## shutil\n",
    "是一种高层次的文件操作工具,主要强大之处在于其对文件的复制与删除操作更是比较支持好\n",
    "> copy(src, dst, *, follow_symlinks=True)\n",
    "    \n",
    "> copy2(src, dst, *, follow_symlinks=True)：在copy上的基础上最后访问时间与修改时间也复制过来了\t\n",
    "    \n",
    "> copyfile(src, dst, *, follow_symlinks=True)\n",
    "\n",
    "> copyfileobj(fsrc, fdst, length=16384)：用于下载网上资源\n",
    "\n",
    "> copytree(src, dst, symlinks=False, ignore=None, ignore_dangling_symlinks=False)：迭代复制目录，dst必需存在\n",
    "\n",
    "> move(src, dst)\n",
    "    \n",
    "> rmtree(path, ignore_errors=False, onerror=None)：可以删除非空目录（os.rmdir无法做到）\n",
    "\n",
    "> unpack_archive(filename,extract_dir=None)：解压缩文件\n",
    "\n",
    "> make_archive(base_name, format, root_dir=None)：压缩文件\n",
    ">> base_name：压缩完文件的名字\n",
    "\n",
    ">> format：bztar, gztar, tar, zip\n",
    "\n",
    ">> root_dir：压缩文件的起始位置（默认当前目录）"
   ]
  },
  {
   "cell_type": "markdown",
   "metadata": {},
   "source": [
    "## 示例 "
   ]
  },
  {
   "cell_type": "markdown",
   "metadata": {},
   "source": [
    "### WGBS_clean.py "
   ]
  },
  {
   "cell_type": "code",
   "execution_count": null,
   "metadata": {},
   "outputs": [],
   "source": [
    "import os\n",
    "import glob\n",
    "import argparse\n",
    "import re\n",
    "import shutil\n",
    "\n",
    "\"\"\"\n",
    "p3 ~/script/methylation/file_clean.py -d /ehpcdata/zuotianyu/WGBS -ld 01task_bismark -k bam pe.CX_report.txt PE_report.txt\n",
    "\"\"\"\n",
    "\n",
    "process_dir = open(\"processed_dir\",\"a+\")\n",
    "\n",
    "def parse_args():\n",
    "    parser = argparse.ArgumentParser(description=\"保留对应的文件\")\n",
    "    parser.add_argument(\"-d\",help=\"总目录\")\n",
    "    parser.add_argument(\"-ld\",help=\"log文件夹目录\")\n",
    "    parser.add_argument(\"-k\", type=str, nargs='+',help=\"保留文件\")\n",
    "    args = parser.parse_args()\n",
    "    return args.d, args.ld, args.k\n",
    "\n",
    "def clean_save(work_dir,log_dir,keep_files):\n",
    "    os.chdir(work_dir)\n",
    "    finished_samples = []\n",
    "    for _file in glob.glob(\"%s/*success\" %(log_dir)):\n",
    "        sample_name = re.search(r\".*\\.(.*-[NT])\\..*\",_file).group(1)\n",
    "        finished_samples.append(sample_name)\n",
    "    for sample in finished_samples:\n",
    "        os.chdir(\"Sample_%s\" %(sample))\n",
    "        process_dir.write(os.getcwd()+\"\\n\")\n",
    "        for _file in glob.glob(\"*\"):\n",
    "            if delete(_file,keep_files):\n",
    "                pass\n",
    "            else:\n",
    "                try:\n",
    "                    os.remove(_file)\n",
    "                except Exception as e:\n",
    "                    shutil.rmtree(_file, ignore_errors=True)\n",
    "        os.chdir(work_dir)\n",
    "\n",
    "def delete(_file,keep_files):\n",
    "    for keep in keep_files:\n",
    "        if _file.endswith(keep):\n",
    "            return 1\n",
    "        else:\n",
    "            pass\n",
    "    return\n",
    "\n",
    "if __name__ == \"__main__\":\n",
    "    work_dir,log_dir,keep_files = parse_args()\n",
    "    clean_save(work_dir,log_dir,keep_files)"
   ]
  }
 ],
 "metadata": {
  "kernelspec": {
   "display_name": "Python 3",
   "language": "python",
   "name": "python3"
  },
  "language_info": {
   "codemirror_mode": {
    "name": "ipython",
    "version": 3
   },
   "file_extension": ".py",
   "mimetype": "text/x-python",
   "name": "python",
   "nbconvert_exporter": "python",
   "pygments_lexer": "ipython3",
   "version": "3.5.4"
  },
  "varInspector": {
   "cols": {
    "lenName": 16,
    "lenType": 16,
    "lenVar": 40
   },
   "kernels_config": {
    "python": {
     "delete_cmd_postfix": "",
     "delete_cmd_prefix": "del ",
     "library": "var_list.py",
     "varRefreshCmd": "print(var_dic_list())"
    },
    "r": {
     "delete_cmd_postfix": ") ",
     "delete_cmd_prefix": "rm(",
     "library": "var_list.r",
     "varRefreshCmd": "cat(var_dic_list()) "
    }
   },
   "types_to_exclude": [
    "module",
    "function",
    "builtin_function_or_method",
    "instance",
    "_Feature"
   ],
   "window_display": false
  }
 },
 "nbformat": 4,
 "nbformat_minor": 2
}
