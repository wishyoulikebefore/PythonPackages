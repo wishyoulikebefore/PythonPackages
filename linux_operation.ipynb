{
 "cells": [
  {
   "cell_type": "code",
   "execution_count": 1,
   "metadata": {
    "ExecuteTime": {
     "end_time": "2019-03-20T13:51:14.232823Z",
     "start_time": "2019-03-20T13:51:14.227826Z"
    }
   },
   "outputs": [],
   "source": [
    "import os\n",
    "import glob\n",
    "import shlex\n",
    "import shutil\n",
    "import subprocess"
   ]
  },
  {
   "cell_type": "markdown",
   "metadata": {},
   "source": [
    "# os\n",
    "> 操作文件和目录\n",
    ">> getcwd()\n",
    "\n",
    ">> chdir()\n",
    "\n",
    ">> listdir()\n",
    "\n",
    ">> pardir():获取当前目录的父目录字符串名\n",
    "\n",
    ">> makedirs()：生成多层递归目录\n",
    "\n",
    ">> removedirs()：删除多层递归空目录，若目录不为空则无法删除\n",
    "\n",
    ">> mkdir()：生成单级目录\n",
    "\n",
    ">> rmdir()：删除单级空目录，若目录不为空则无法删除，报错，需要用shutil.rmtree\n",
    "\n",
    ">> remove()：删除一个文件\n",
    "\n",
    ">> walk()：遍历文件夹，返回(dirpath, dirnames, filenames)\n",
    "\n",
    "> 路径相关\n",
    ">> path.isfile()和path.isdir()：检验给出的路径是文件还是目录\n",
    "\n",
    ">> path.exists()：检验给出的路径是否存在\n",
    "\n",
    ">> path.split()：返回一个路径的目录名和文件名\n",
    "\n",
    ">> path.abspath()：获得绝对路径\n",
    "\n",
    ">> path.basename()：返回文件基名\n",
    "\n",
    ">> path.getsize()：获得文件大小\n",
    "\n",
    ">> path.getatime(),getctime()和getmtime()：时间戳形式，需要转换：datetime.datetime.fromtimestamp()\n",
    "\n",
    ">> path.splitext()：分离文件名与扩展名，用于判断某一类型文件\n",
    "\n",
    ">> path.join(path,name)：连接目录与文件名或目录\n",
    "\n",
    "> 系统相关  \n",
    ">> os.system()：运行shell命令"
   ]
  },
  {
   "cell_type": "code",
   "execution_count": 4,
   "metadata": {
    "ExecuteTime": {
     "end_time": "2019-03-20T13:52:34.793584Z",
     "start_time": "2019-03-20T13:52:34.784590Z"
    }
   },
   "outputs": [
    {
     "data": {
      "text/plain": [
       "('C:/Users/zuo_tianyu0101/Desktop', '代理.txt')"
      ]
     },
     "execution_count": 4,
     "metadata": {},
     "output_type": "execute_result"
    }
   ],
   "source": [
    "### 拆分文件路径\n",
    "os.path.split(\"C:/Users/zuo_tianyu0101/Desktop/代理.txt\")"
   ]
  },
  {
   "cell_type": "code",
   "execution_count": 2,
   "metadata": {
    "ExecuteTime": {
     "end_time": "2019-03-20T13:52:10.222745Z",
     "start_time": "2019-03-20T13:52:10.198760Z"
    },
    "scrolled": true
   },
   "outputs": [
    {
     "data": {
      "text/plain": [
       "'代理.txt'"
      ]
     },
     "execution_count": 2,
     "metadata": {},
     "output_type": "execute_result"
    }
   ],
   "source": [
    "### 获取文件名\n",
    "os.path.basename(\"C:/Users/zuo_tianyu0101/Desktop/代理.txt\")"
   ]
  },
  {
   "cell_type": "code",
   "execution_count": 3,
   "metadata": {
    "ExecuteTime": {
     "end_time": "2019-03-20T13:52:22.247948Z",
     "start_time": "2019-03-20T13:52:22.239439Z"
    }
   },
   "outputs": [
    {
     "data": {
      "text/plain": [
       "('C:/Users/zuo_tianyu0101/Desktop/代理', '.txt')"
      ]
     },
     "execution_count": 3,
     "metadata": {},
     "output_type": "execute_result"
    }
   ],
   "source": [
    "### 获取文件后缀\n",
    "os.path.splitext(\"C:/Users/zuo_tianyu0101/Desktop/代理.txt\")"
   ]
  },
  {
   "cell_type": "code",
   "execution_count": 7,
   "metadata": {
    "ExecuteTime": {
     "end_time": "2019-03-20T13:54:11.383094Z",
     "start_time": "2019-03-20T13:54:11.374101Z"
    }
   },
   "outputs": [
    {
     "data": {
      "text/plain": [
       "98"
      ]
     },
     "execution_count": 7,
     "metadata": {},
     "output_type": "execute_result"
    }
   ],
   "source": [
    "### 获取单个文件大小\n",
    "os.path.getsize(\"C:/Users/zty/Desktop/ts_pro.txt\")"
   ]
  },
  {
   "cell_type": "code",
   "execution_count": 10,
   "metadata": {
    "ExecuteTime": {
     "end_time": "2019-03-20T13:56:16.357343Z",
     "start_time": "2019-03-20T13:56:16.340355Z"
    }
   },
   "outputs": [
    {
     "data": {
      "text/plain": [
       "6.966499328613281"
      ]
     },
     "execution_count": 10,
     "metadata": {},
     "output_type": "execute_result"
    }
   ],
   "source": [
    "### 获取文件夹大小\n",
    "def getdirsize(dir):\n",
    "   size = 0\n",
    "   for root, dirs, files in os.walk(dir):\n",
    "      size += sum([os.path.getsize(os.path.join(root, name)) for name in files])\n",
    "   return size/float(1024*1024)\n",
    "\n",
    "getdirsize(\"C:/Users/zty/Desktop/工作文献\")"
   ]
  },
  {
   "cell_type": "code",
   "execution_count": 11,
   "metadata": {
    "ExecuteTime": {
     "end_time": "2019-03-20T13:57:45.254466Z",
     "start_time": "2019-03-20T13:57:45.244473Z"
    }
   },
   "outputs": [
    {
     "data": {
      "text/plain": [
       "datetime.datetime(2019, 3, 14, 21, 35, 8, 643226)"
      ]
     },
     "execution_count": 11,
     "metadata": {},
     "output_type": "execute_result"
    }
   ],
   "source": [
    "### 获取文件生成时间\n",
    "import datetime\n",
    "\n",
    "datetime.datetime.fromtimestamp(os.path.getmtime(\"C:/Users/zty/Desktop/工作文献\"))"
   ]
  },
  {
   "cell_type": "code",
   "execution_count": null,
   "metadata": {},
   "outputs": [],
   "source": [
    "#自动关机 \n",
    "os.system('shutdown -s -t 1') \n",
    "\n",
    "#重启 \n",
    "os.system('shutdown -r')"
   ]
  },
  {
   "cell_type": "markdown",
   "metadata": {},
   "source": [
    "# sys \n",
    "> argv：命令行参数List，第一个元素是程序本身路径\n",
    "\n",
    "> version：获取Python解释程序的版本信息\n",
    "\n",
    "> path：返回模块的搜索路径\n",
    ">> 在脚本中额外指定模块路径 sys.path.append(\"/nextcode/nfs_test/users/jiawei_new/lib/python2.7/site-packages\")\n",
    "\n",
    "> platform                             \n",
    "\n",
    "> exit(n)：退出程序\n",
    ">> 正常退出时exit(0)\n",
    "\n",
    "> getdefaultencoding()                   \n",
    "\n",
    "> setdefaultencoding(name)               \n",
    "\n",
    "> stderr：错误输出\n",
    "\n",
    "> stdin：标准输入\n",
    "\n",
    "> stdout：标准输出\n",
    ">> stdout.write() 只支持输出字符串\n",
    ">> stdout.flush() 手动刷新缓冲区，可以边迭代边输出"
   ]
  },
  {
   "cell_type": "markdown",
   "metadata": {},
   "source": [
    "# subprocess \n",
    "执行shell相关命令，替代os的部分功能，如os.system()\n",
    "\n",
    "基本方法\n",
    "> call(args, *, stdin=None, stdout=None, stderr=None, shell=False, timeout=None)：执行命令，返回状态码\n",
    "\n",
    "> check_call(args, *, stdin=None, stdout=None, stderr=None, shell=False, timeout=None)：检查执行命令后的返回值，如果是0则返回，如果不是则抛出异常\n",
    "\n",
    "> check_output(args, *, stdin=None, stderr=None, shell=False, universal_newlines=False, timeout=None)：检查执行命令后的返回值，如果是0则返回执行结果，如果不是则抛出异常\n",
    "\n",
    "使用方法\n",
    "> 用数组作为参数\n",
    ">> subprocess.call(['df', '-h'])\n",
    "\n",
    "> 用字符串作为参数(shell=True)，尤其对必须在shell中解析的regex\n",
    ">> subprocess.call(['df -h',shell=True])"
   ]
  },
  {
   "cell_type": "code",
   "execution_count": null,
   "metadata": {},
   "outputs": [],
   "source": [
    "rec = subprocess.check_output(\"df -h\",shell=True)\n",
    "rec"
   ]
  },
  {
   "cell_type": "code",
   "execution_count": null,
   "metadata": {},
   "outputs": [],
   "source": [
    "_file = \"ESCA.url\"\n",
    "rec = subprocess.check_call([\"du\",\"-h\",_file])\n",
    "rec"
   ]
  },
  {
   "cell_type": "markdown",
   "metadata": {},
   "source": [
    "## 高级命令\n",
    "Popen(args,bufsize=-1,stdin=None, stdout=None, stderr=None,cwd=None)：用于执行复杂的系统命令\n",
    "\n",
    "利用communicate()函数返回一个tuple(标准输出和错误)\n",
    "> args：shell命令，可以是字符串或者序列类型（如：list，元组）\n",
    "\n",
    "> bufsize：指定缓冲\n",
    "\n",
    "> stdin, stdout, stderr：分别表示程序的标准输入、输出、错误句柄\n",
    "\n",
    "> cwd：用于设置子进程的当前目录\n",
    "\n",
    "对子进程的操作\n",
    "> wait()：等待子进程运行结束后再执行父进程\n",
    "\n",
    "> poll()：检查子进程的状态\n",
    "\n",
    "> kill()：终止子进程\n",
    "\n",
    "> sent_signal()：向子进程发送信号\n",
    "\n",
    "> pid：查看子进程的pid\n",
    "\n",
    "> args：查看shell命令\n",
    "\n",
    "利用管道符号：subprocess.PIPE"
   ]
  },
  {
   "cell_type": "code",
   "execution_count": null,
   "metadata": {},
   "outputs": [],
   "source": [
    "host = raw_input(\"Enter a host to ping: \")    \n",
    "p1 = subprocess.Popen(['ping', '-c 2', host], stdin=subprocess.PIPE,stdout=open(outfile,'wb'))\n",
    "p1.communicate()\n",
    "if p1.returncode == 0:\n",
    "    print(\"success\")"
   ]
  },
  {
   "cell_type": "code",
   "execution_count": null,
   "metadata": {},
   "outputs": [],
   "source": [
    "# 解决regex和参数同时存在的情况\n",
    "import glob\n",
    "import subprocess\n",
    "\n",
    "for item in glob.glob(\"*url\"):\n",
    "        tumor = item.replace(\".url\",\"\")\n",
    "        p1 = subprocess.Popen(['wget', '-i', item], stdout=subprocess.PIPE)\n",
    "        p1.communicate()\n",
    "        p2 = subprocess.Popen(['mkdir', \"temp\"], stdout=subprocess.PIPE)\n",
    "        p2.communicate()\n",
    "        #使用一个中间文件，先解决regex，再解决参数\n",
    "        p3 = subprocess.Popen([\"mv *gz temp\"],shell=True,stdout=subprocess.PIPE)\n",
    "        p3.communicate()\n",
    "        p4 = subprocess.Popen([\"mv\",\"temp\",tumor],stdout=subprocess.PIPE)\n",
    "        p4.communicate()"
   ]
  },
  {
   "cell_type": "markdown",
   "metadata": {},
   "source": [
    "# glob\n",
    "可以使用Unix shell风格的通配符匹配符合特定格式的文件和文件夹\n",
    "> glob.glob(pathname, recursive=False)：返回匹配列表"
   ]
  },
  {
   "cell_type": "code",
   "execution_count": null,
   "metadata": {},
   "outputs": [],
   "source": [
    "for _file in glob.glob(\"%s/*success\" %(log_dir)):\n",
    "    sample_name = re.search(r\".*\\.(.*-[NT])\\..*\",_file).group(1)\n",
    "    finished_samples.append(sample_name)"
   ]
  },
  {
   "cell_type": "markdown",
   "metadata": {},
   "source": [
    "# shlex\n",
    "为shell语法编写词法分析器"
   ]
  },
  {
   "cell_type": "code",
   "execution_count": null,
   "metadata": {},
   "outputs": [],
   "source": [
    "#使用类shell语法拆分字符串\n",
    "shlex.split(\"grep -c success %s\" %cmd)"
   ]
  },
  {
   "cell_type": "markdown",
   "metadata": {},
   "source": [
    "# shutil\n",
    "是一种高层次的文件操作工具,主要强大之处在于其对文件的复制与删除操作更是比较支持好\n",
    "> copy(src, dst, *, follow_symlinks=True)\n",
    "    \n",
    "> copy2(src, dst, *, follow_symlinks=True)：在copy上的基础上最后访问时间与修改时间也复制过来了\t\n",
    "    \n",
    "> copyfile(src, dst, *, follow_symlinks=True)\n",
    "\n",
    "> copyfileobj(fsrc, fdst, length=16384)：用于下载网上资源\n",
    "\n",
    "> copytree(src, dst, symlinks=False, ignore=None, ignore_dangling_symlinks=False)：迭代复制目录，dst必需存在\n",
    "\n",
    "> move(src, dst)\n",
    "    \n",
    "> rmtree(path, ignore_errors=False, onerror=None)：可以删除非空目录（os.rmdir无法做到）\n",
    "\n",
    "> unpack_archive(filename,extract_dir=None)：解压缩文件\n",
    "\n",
    "> make_archive(base_name, format, root_dir=None)：压缩文件\n",
    ">> base_name：压缩完文件的名字\n",
    "\n",
    ">> format：bztar, gztar, tar, zip\n",
    "\n",
    ">> root_dir：压缩文件的起始位置（默认当前目录）"
   ]
  },
  {
   "cell_type": "markdown",
   "metadata": {},
   "source": [
    "# 未来可能会用到的 \n",
    "> psutil模块：可以获取系统的各项参数"
   ]
  },
  {
   "cell_type": "markdown",
   "metadata": {},
   "source": [
    "# 示例 "
   ]
  },
  {
   "cell_type": "markdown",
   "metadata": {},
   "source": [
    "## WGBS_clean.py "
   ]
  },
  {
   "cell_type": "code",
   "execution_count": null,
   "metadata": {},
   "outputs": [],
   "source": [
    "import os\n",
    "import glob\n",
    "import argparse\n",
    "import re\n",
    "import shutil\n",
    "\n",
    "\"\"\"\n",
    "p3 ~/script/methylation/file_clean.py -d /ehpcdata/zuotianyu/WGBS -ld 01task_bismark -k bam pe.CX_report.txt PE_report.txt\n",
    "\"\"\"\n",
    "\n",
    "process_dir = open(\"processed_dir\",\"a+\")\n",
    "\n",
    "def parse_args():\n",
    "    parser = argparse.ArgumentParser(description=\"保留对应的文件\")\n",
    "    parser.add_argument(\"-d\",help=\"总目录\")\n",
    "    parser.add_argument(\"-ld\",help=\"log文件夹目录\")\n",
    "    parser.add_argument(\"-k\", type=str, nargs='+',help=\"保留文件\")\n",
    "    args = parser.parse_args()\n",
    "    return args.d, args.ld, args.k\n",
    "\n",
    "def clean_save(work_dir,log_dir,keep_files):\n",
    "    os.chdir(work_dir)\n",
    "    finished_samples = []\n",
    "    for _file in glob.glob(\"%s/*success\" %(log_dir)):\n",
    "        sample_name = re.search(r\".*\\.(.*-[NT])\\..*\",_file).group(1)\n",
    "        finished_samples.append(sample_name)\n",
    "    for sample in finished_samples:\n",
    "        os.chdir(\"Sample_%s\" %(sample))\n",
    "        process_dir.write(os.getcwd()+\"\\n\")\n",
    "        for _file in glob.glob(\"*\"):\n",
    "            if delete(_file,keep_files):\n",
    "                pass\n",
    "            else:\n",
    "                try:\n",
    "                    os.remove(_file)\n",
    "                except Exception as e:\n",
    "                    shutil.rmtree(_file, ignore_errors=True)\n",
    "        os.chdir(work_dir)\n",
    "\n",
    "def delete(_file,keep_files):\n",
    "    for keep in keep_files:\n",
    "        if _file.endswith(keep):\n",
    "            return 1\n",
    "        else:\n",
    "            pass\n",
    "    return\n",
    "\n",
    "if __name__ == \"__main__\":\n",
    "    work_dir,log_dir,keep_files = parse_args()\n",
    "    clean_save(work_dir,log_dir,keep_files)"
   ]
  }
 ],
 "metadata": {
  "hide_input": false,
  "kernelspec": {
   "display_name": "Python 3",
   "language": "python",
   "name": "python3"
  },
  "language_info": {
   "codemirror_mode": {
    "name": "ipython",
    "version": 3
   },
   "file_extension": ".py",
   "mimetype": "text/x-python",
   "name": "python",
   "nbconvert_exporter": "python",
   "pygments_lexer": "ipython3",
   "version": "3.6.0"
  },
  "toc": {
   "base_numbering": 1,
   "nav_menu": {},
   "number_sections": true,
   "sideBar": true,
   "skip_h1_title": false,
   "title_cell": "Table of Contents",
   "title_sidebar": "Contents",
   "toc_cell": false,
   "toc_position": {},
   "toc_section_display": true,
   "toc_window_display": true
  },
  "varInspector": {
   "cols": {
    "lenName": 16,
    "lenType": 16,
    "lenVar": 40
   },
   "kernels_config": {
    "python": {
     "delete_cmd_postfix": "",
     "delete_cmd_prefix": "del ",
     "library": "var_list.py",
     "varRefreshCmd": "print(var_dic_list())"
    },
    "r": {
     "delete_cmd_postfix": ") ",
     "delete_cmd_prefix": "rm(",
     "library": "var_list.r",
     "varRefreshCmd": "cat(var_dic_list()) "
    }
   },
   "types_to_exclude": [
    "module",
    "function",
    "builtin_function_or_method",
    "instance",
    "_Feature"
   ],
   "window_display": false
  }
 },
 "nbformat": 4,
 "nbformat_minor": 2
}
