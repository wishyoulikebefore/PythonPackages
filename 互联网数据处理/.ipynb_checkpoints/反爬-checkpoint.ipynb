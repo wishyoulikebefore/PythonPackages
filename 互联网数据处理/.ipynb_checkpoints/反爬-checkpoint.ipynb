{
 "cells": [
  {
   "cell_type": "markdown",
   "id": "40e6ab17",
   "metadata": {},
   "source": [
    "参考资料：\n",
    "\n",
    "https://www.cxyzjd.com/article/u010451638/109850249"
   ]
  },
  {
   "cell_type": "markdown",
   "id": "f528756c",
   "metadata": {},
   "source": [
    "# Selenium 屏蔽 webdriver被识别出来 "
   ]
  },
  {
   "cell_type": "markdown",
   "id": "c314dedf",
   "metadata": {},
   "source": [
    "使用 selenium 模拟浏览器进行数据抓取是目前最通用的爬虫方案，所见即所得。通吃各种数据加载方式，能绕过JS加密、爬虫检测、签名机制。\n",
    "\n",
    "但是Selenium依然能被检测到，它在运行时会暴露出一些预定义的JavaScript变量（特征字符串），如\"window.navigator.webdriver\"，在非Selenium环境下为undefined，在Selenium环境下为true"
   ]
  },
  {
   "cell_type": "markdown",
   "id": "040f62d6",
   "metadata": {},
   "source": [
    "## 解决方案1:Chrome开发工具协议"
   ]
  },
  {
   "cell_type": "code",
   "execution_count": null,
   "id": "34a059e8",
   "metadata": {},
   "outputs": [],
   "source": [
    "from selenium import webdriver\n",
    "\n",
    "options = webdriver.ChromeOptions()\n",
    "options.add_experimental_option('useAutomationExtension', False)\n",
    "options.add_experimental_option('excludeSwitches', ['enable-automation'])\n",
    "options.add_argument(\"--disable-blink-features=AutomationControlled\")\n",
    "driver = webdriver.Chrome(chrome_options=options)\n",
    "driver.execute_cdp_cmd(\"Page.addScriptToEvaluateOnNewDocument\", {\n",
    "    \n",
    "    \"source\": \"\"\"\n",
    "    Object.defineProperty(navigator, 'webdriver', {\n",
    "      get: () => undefined\n",
    "    })\n",
    "  \"\"\"\n",
    "})"
   ]
  },
  {
   "cell_type": "markdown",
   "id": "9d1d0fd4",
   "metadata": {},
   "source": [
    "还出现屏蔽依旧存在是因为虽然webdriver：undefined，但是在后续的操作中webdriver里面的代码被识别了出来，但是放心，大部分网站都不会做到这么深，很少有网站会做识别后续操作的反爬虫，所以放心大胆的用"
   ]
  }
 ],
 "metadata": {
  "kernelspec": {
   "display_name": "Python 3",
   "language": "python",
   "name": "python3"
  },
  "language_info": {
   "codemirror_mode": {
    "name": "ipython",
    "version": 3
   },
   "file_extension": ".py",
   "mimetype": "text/x-python",
   "name": "python",
   "nbconvert_exporter": "python",
   "pygments_lexer": "ipython3",
   "version": "3.9.0"
  },
  "toc": {
   "base_numbering": 1,
   "nav_menu": {},
   "number_sections": true,
   "sideBar": true,
   "skip_h1_title": false,
   "title_cell": "Table of Contents",
   "title_sidebar": "Contents",
   "toc_cell": false,
   "toc_position": {},
   "toc_section_display": true,
   "toc_window_display": false
  }
 },
 "nbformat": 4,
 "nbformat_minor": 5
}
