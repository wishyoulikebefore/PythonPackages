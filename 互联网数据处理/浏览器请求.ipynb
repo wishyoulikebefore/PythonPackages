{
 "cells": [
  {
   "cell_type": "code",
   "execution_count": null,
   "metadata": {},
   "outputs": [],
   "source": [
    "import requests\n",
    "import aiohttp\n",
    "from selenium import webdriver\n",
    "from selenium.webdriver.common.by import By\n",
    "from selenium.webdriver.common.keys import Keys\n",
    "from selenium.webdriver.support import expected_conditions as EC\n",
    "from selenium.webdriver.support.wait import WebDriverWait"
   ]
  },
  {
   "cell_type": "markdown",
   "metadata": {},
   "source": [
    "# requests"
   ]
  },
  {
   "cell_type": "markdown",
   "metadata": {},
   "source": [
    "## get(headers,cookies,proxies,timeout,**)"
   ]
  },
  {
   "cell_type": "raw",
   "metadata": {},
   "source": [
    "headers = {\n",
    "    \"Accept\": \"text/html,application/xhtml+xml,application/xml;q=0.9,image/webp,image/apng,*/*;q=0.8\",\n",
    "    \"Accept-Encoding\": \"gzip, deflate\",\n",
    "    \"Accept-Language\": \"en-US,en;q=0.9,zh-CN;q=0.8,zh;q=0.7\",\n",
    "    \"Connection\": \"keep-alive\",\n",
    "    \"User-Agent\": \"Mozilla/5.0 (Macintosh; Intel Mac OS X 10_11_6) AppleWebKit/537.36 (KHTML, like Gecko) Chrome/66.0.3359.139 Safari/537.36\"\n",
    "}\n",
    "\n",
    "proxies = {\"http\":\"http://10.10.1.10:3128\"}"
   ]
  },
  {
   "cell_type": "code",
   "execution_count": null,
   "metadata": {},
   "outputs": [],
   "source": [
    "### params\n",
    "\"\"\"\n",
    "用于处理额外信息，如http://httpbin.org/get?name=germey&age=22\n",
    "\"\"\"\n",
    "data = {\"name\":\"germey\",\"age\":22}\n",
    "requests.get(\"http://httpbin.org/get\",params=data)\n",
    "\n",
    "### 可以利用urlencode\n",
    "from urllib.parse import urlencode\n",
    "url = base_url + urlencode(data)"
   ]
  },
  {
   "cell_type": "code",
   "execution_count": null,
   "metadata": {},
   "outputs": [],
   "source": [
    "### 响应\n",
    "r = requests.get(\"http://www.jianshu.com\")\n",
    "exit() if not r.status_code == requests.codes.ok else print(\"Request successfully\")\n",
    "\n",
    "### auth：身份验证\n",
    "r = requests.get(\"http://localhost:5000\",auth=(\"username\",\"password\"))"
   ]
  },
  {
   "cell_type": "markdown",
   "metadata": {},
   "source": [
    "## post"
   ]
  },
  {
   "cell_type": "markdown",
   "metadata": {},
   "source": [
    "## Session \n",
    "维持会话"
   ]
  },
  {
   "cell_type": "code",
   "execution_count": null,
   "metadata": {},
   "outputs": [],
   "source": [
    "s = requests.Session()\n",
    "url1 = 'http://www.exanple.com/login'    #登陆地址\n",
    "url2 = \"http://www.example.com/main\"     #需要登陆才能访问的页面地址\n",
    "data={\"user\":\"user\",\"password\":\"pass\"}\n",
    "headers = { \"Accept\":\"text/html,application/xhtml+xml,application/xml;\",\n",
    "            \"Accept-Encoding\":\"gzip\",\n",
    "            \"Accept-Language\":\"zh-CN,zh;q=0.8\",\n",
    "            \"Referer\":\"http://www.example.com/\",\n",
    "            \"User-Agent\":\"Mozilla/5.0 (Windows NT 6.1; WOW64) AppleWebKit/537.36 (KHTML, like Gecko) Chrome/42.0.2311.90 Safari/537.36\"\n",
    "            }\n",
    "res1 = s.post(url1, data=data, headers=headers)\n",
    "res2 = s.post(url2, cookies=res1.cookies, headers=headers)"
   ]
  },
  {
   "cell_type": "markdown",
   "metadata": {},
   "source": [
    "# requests-html  自带HTML解析库"
   ]
  },
  {
   "cell_type": "markdown",
   "metadata": {},
   "source": [
    "# aiohttp 异步的requests"
   ]
  },
  {
   "cell_type": "markdown",
   "metadata": {},
   "source": [
    "核心框架\n",
    "> 设计一个异步的框架，生成一个事件循环\n",
    "\n",
    "> 创建一个专门去爬取网页的协程，利用aiohttp去爬取网站内容\n",
    "\n",
    "> 生成多个要翻译的单词的url地址，组建一个异步的tasks, 扔到事件循环里面\n",
    "\n",
    "> 等待所有的页面爬取完毕，然后用pyquery去一一解析网页，获取单词的解释"
   ]
  },
  {
   "cell_type": "code",
   "execution_count": null,
   "metadata": {},
   "outputs": [],
   "source": [
    "class AsnycGrab(object):\n",
    "\n",
    "    def __init__(self, url_list, max_threads):\n",
    "\n",
    "        self.urls = url_list\n",
    "        self.results = {}\n",
    "        self.max_threads = max_threads\n",
    "\n",
    "    def __parse_results(self, url, html):\n",
    "        soup = BeautifulSoup(html, 'lxml')\n",
    "        try:\n",
    "            percent = soup.find(\"div\", class_=\"board-hq\").find(\"p\").get_text().split()[1]\n",
    "        except Exception as e:\n",
    "            percent = soup.find(\"div\", class_=\"board-infos fr\").find(\"dd\").get_text()\n",
    "        self.results[url] = float(percent.replace(\"%\",\"\"))\n",
    "\n",
    "    async def get_body(self, url):\n",
    "        headers = {\n",
    "            'User-Agent': 'Mozilla/5.0 (Windows; U; Windows NT 5.1; it; rv:1.8.1.11) Gecko/20071127 Firefox/2.0.0.11',\n",
    "            \"Connection\": \"keep - alive\",\n",
    "            \"Accept\":\"text/html,application/xhtml+xml,application/xml;q=0.9,*/*;q=0.8\"\n",
    "            }\n",
    "        async with aiohttp.ClientSession() as session:\n",
    "            async with session.get(url,headers=headers) as response:\n",
    "                assert response.status == 200\n",
    "                response.encoding = 'gbk'\n",
    "                html = await response.text()\n",
    "                return response.url, html\n",
    "\n",
    "    async def get_results(self, url):\n",
    "        url, html = await self.get_body(url)\n",
    "        self.__parse_results(url, html)\n",
    "        return 'Completed'\n",
    "\n",
    "    async def handle_tasks(self, task_id, work_queue):\n",
    "        while not work_queue.empty():\n",
    "            current_url = await work_queue.get()\n",
    "            try:\n",
    "                task_status = await self.get_results(current_url)\n",
    "            except Exception as e:\n",
    "                logging.exception('Error for {}'.format(current_url), exc_info=True)\n",
    "\n",
    "    def eventloop(self):\n",
    "        q = asyncio.Queue()\n",
    "        [q.put_nowait(url) for url in self.urls]\n",
    "        loop = asyncio.get_event_loop()\n",
    "        tasks = [self.handle_tasks(task_id, q, ) for task_id in range(self.max_threads)]\n",
    "        loop.run_until_complete(asyncio.wait(tasks))\n",
    "\n",
    "\n",
    "if __name__ == '__main__':\n",
    "    async_example = AsnycGrab(['http://q.10jqka.com.cn/gn/detail/code/301558/',\n",
    "                              \"http://q.10jqka.com.cn/gn/detail/code/300800/\",\n",
    "                              \"http://q.10jqka.com.cn/gn/detail/code/301496/\",\n",
    "                              \"http://q.10jqka.com.cn/gn/detail/code/304582/\",\n",
    "                              \"http://q.10jqka.com.cn/gn/detail/code/301259/\",\n",
    "                              \"http://q.10jqka.com.cn/gn/detail/code/307408/\",\n",
    "                              \"http://q.10jqka.com.cn/gn/detail/code/300168/\"], 5)\n",
    "    async_example.eventloop()\n",
    "    print(async_example.results)"
   ]
  },
  {
   "cell_type": "markdown",
   "metadata": {},
   "source": [
    "# selenium 无头浏览器"
   ]
  },
  {
   "cell_type": "code",
   "execution_count": null,
   "metadata": {},
   "outputs": [],
   "source": [
    "browser = webdriver.Firefox()\n",
    "try:\n",
    "    browser.get(\"http://www.baidu.com\")\n",
    "    input = browser.find_element_by_id(\"kw\")\n",
    "    input.send_keys(\"Python\")\n",
    "    input.send_keys(Keys.ENTER)\n",
    "    wait = WebDriverWait(browser,10)\n",
    "    wait.until(EC.presence_of_element_located(By.ID,\"content_left\"))\n",
    "    print(browser.current_url)      \n",
    "    print(browser.get_cookie())\n",
    "    print(browser.page_source)       #源代码\n",
    "finally:\n",
    "    browser.close()"
   ]
  },
  {
   "cell_type": "markdown",
   "metadata": {},
   "source": [
    "## 查找节点\n",
    "单个节点\n",
    "> find_element_by_id\n",
    "\n",
    "> find_element_by_xpath\n",
    "\n",
    "> find_element_by_css_selector\n",
    "\n",
    "多个节点\n",
    "> find_elements_by_id\n",
    "\n",
    "> find_elements_by_xpath\n",
    "\n",
    "> find_elements_by_css_selector\n",
    "\n",
    "## 节点交互\n",
    "输入文字：send_keys()\n",
    "\n",
    "清空文字：clear()\n",
    "\n",
    "点击按钮：click()\n",
    "\n",
    "## 获取节点信息\n",
    "获取属性：get_attribute()\n",
    "\n",
    "获取文本值：text\n",
    "\n",
    "获取id：id\n",
    "\n",
    "## 延时等待\n",
    "隐式等待：只规定制定时间 browser.implicitly_wait(10)\n",
    "\n",
    "显示等待：制定查找节点和最长等待时间，若加载出现则返回查找节点，否则报错\n",
    "\n",
    "wait = WebDriverWait(browser,10)\n",
    "\n",
    "input = wait.until(EC.presence_of_element_located(By.ID,\"q\"))\n",
    "\n",
    "button = wait.until(EC.element_to_be_clickable((By.CSS_SELECTOR,\".btn-search\")))"
   ]
  },
  {
   "cell_type": "raw",
   "metadata": {},
   "source": [
    "所有等待条件\n",
    "WebDriverWait(browser,10).until(EC.title_is(u\"百度一下，你就知道\"))\n",
    "#判断title,返回布尔值\n",
    "\n",
    "WebDriverWait(browser,10).until(EC.title_contains(u\"百度一下\"))\n",
    "#判断title，返回布尔值\n",
    "\n",
    "WebDriverWait(browser,10).until(EC.presence_of_element_located((By.ID,'kw')))\n",
    "#判断某个元素是否被加到了dom树里，并不代表该元素一定可见\n",
    "\n",
    "WebDriverWait(browser,10).until(EC.visibility_of_element_located((By.ID,'su')))\n",
    "#判断某个元素是否被添加到了dom里并且可见\n",
    "\n",
    "WebDriverWait(browser,10).until(EC.visibility_of(browser.find_element(by=By.ID,value='kw')))\n",
    "#判断元素是否可见，如果可见就返回这个元素\n",
    "\n",
    "WebDriverWait(browser,10).until(EC.presence_of_all_elements_located((By.CSS_SELECTOR,'.mnav')))\n",
    "#判断是否至少有1个元素存在于dom树中，如果定位到就返回列表\n",
    "\n",
    "WebDriverWait(browser,10).until(EC.visibility_of_any_elements_located((By.CSS_SELECTOR,'.mnav')))\n",
    "#判断是否至少有一个元素在页面中可见，如果定位到就返回列表\n",
    "\n",
    "WebDriverWait(browser,10).until(EC.text_to_be_present_in_element((By.XPATH,\"//*[@id='u1']/a[8]\"),u'设置'))\n",
    "#判断指定的元素中是否包含了预期的字符串，返回布尔值\n",
    "\n",
    "WebDriverWait(browser,10).until(EC.text_to_be_present_in_element_value((By.CSS_SELECTOR,'#su'),u'百度一下'))\n",
    "#判断指定元素的属性值中是否包含了预期的字符串，返回布尔值\n",
    "\n",
    "WebDriverWait(browser,10).until(EC.frame_to_be_available_and_switch_to_it(locator))\n",
    "判断该frame是否可以switch进去，如果可以的话，返回True并且switch进去，否则返回False\n",
    "#注意这里并没有一个frame可以切换进去\n",
    "\n",
    "WebDriverWait(browser,10).until(EC.invisibility_of_element_located((By.CSS_SELECTOR,'#swfEveryCookieWrap')))\n",
    "#判断某个元素在是否存在于dom或不可见,如果可见返回False,不可见返回这个元素\n",
    "\n",
    "WebDriverWait(browser,10).until(EC.element_to_be_clickable((By.XPATH,\"//*[@id='u1']/a[8]\")))\n",
    "判断某个元素中是否可见并且是enable的，代表可点击\n",
    "#WebDriverWait(browser,10).until(EC.element_to_be_clickable((By.XPATH,\"//*[@id='wrapper']/div[6]/a[1]\"))).click()\n",
    "\n",
    "WebDriverWait(browser,10).until(EC.staleness_of(browser.find_element(By.ID,'su')))\n",
    "#判断一个节点是否仍在，判断页面是否刷新\n",
    "\n",
    "WebDriverWait(browser,10).until(EC.element_to_be_selected(browser.find_element(By.XPATH,\"//*[@id='nr']/option[1]\")))\n",
    "#判断某个元素是否被选中了,一般用在下拉列表\n",
    "\n",
    "WebDriverWait(browser,10).until(EC.element_selection_state_to_be(browser.find_element(By.XPATH,\"//*[@id='nr']/option[1]\"),True))\n",
    "#判断某个元素的选中状态是否符合预期\n",
    "\n",
    "WebDriverWait(browser,10).until(EC.element_located_selection_state_to_be((By.XPATH,\"//*[@id='nr']/option[1]\"),True))\n",
    "#判断某个元素的选中状态是否符合预期\n",
    "\n",
    "instance = WebDriverWait(browser,10).until(EC.alert_is_present())\n",
    "#判断页面上是否存在alert,如果有就切换到alert并返回alert的内容"
   ]
  }
 ],
 "metadata": {
  "hide_input": false,
  "kernelspec": {
   "display_name": "Python 3",
   "language": "python",
   "name": "python3"
  },
  "language_info": {
   "codemirror_mode": {
    "name": "ipython",
    "version": 3
   },
   "file_extension": ".py",
   "mimetype": "text/x-python",
   "name": "python",
   "nbconvert_exporter": "python",
   "pygments_lexer": "ipython3",
   "version": "3.6.0"
  },
  "toc": {
   "base_numbering": 1,
   "nav_menu": {},
   "number_sections": true,
   "sideBar": true,
   "skip_h1_title": false,
   "title_cell": "Table of Contents",
   "title_sidebar": "Contents",
   "toc_cell": false,
   "toc_position": {},
   "toc_section_display": true,
   "toc_window_display": true
  }
 },
 "nbformat": 4,
 "nbformat_minor": 2
}
