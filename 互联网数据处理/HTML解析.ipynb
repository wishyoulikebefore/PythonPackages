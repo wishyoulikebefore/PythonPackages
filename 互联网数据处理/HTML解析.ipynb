{
 "cells": [
  {
   "cell_type": "code",
   "execution_count": 2,
   "metadata": {},
   "outputs": [],
   "source": [
    "from bs4 import BeautifulSoup\n",
    "from pyquery import PyQuery as pq"
   ]
  },
  {
   "cell_type": "markdown",
   "metadata": {},
   "source": [
    "# bs4"
   ]
  },
  {
   "cell_type": "code",
   "execution_count": null,
   "metadata": {},
   "outputs": [],
   "source": [
    "soup = BeautifulSoup(html,\"lxml\")\n",
    "print(soup.prettify())"
   ]
  },
  {
   "cell_type": "markdown",
   "metadata": {},
   "source": [
    "## 定位\n",
    "find：返回第一个匹配元素\n",
    "\n",
    "find_all(name,attrs)：返回匹配列表\n",
    "> 根据节点名name\n",
    ">> soup = BeautifulSoup(r.text,\"lxml\").find(\"tbody\").find_all(name=\"tr\")\n",
    "\n",
    "> 根据属性attrs\n",
    ">> soup = BeautifulSoup(r.text,\"lxml\").find(\"tbody\").find_all(attrs={\"title\":\"Last post\"})\n",
    "对于常用属性，如id, class 可以直接使用（class要用class_）\n",
    "\n",
    "## 获取属性\n",
    "item[“href”] 或者item.attrs[“href”]\n",
    "\n",
    "## 获取文本\n",
    "item.get_text()或者item.string"
   ]
  },
  {
   "cell_type": "markdown",
   "metadata": {},
   "source": [
    "# pyquery \n",
    "css选择器的功能更加强大"
   ]
  },
  {
   "cell_type": "code",
   "execution_count": null,
   "metadata": {},
   "outputs": [],
   "source": [
    "### 初始化\n",
    "doc = pq(requests.get(url,headers=headers).text)"
   ]
  },
  {
   "cell_type": "markdown",
   "metadata": {},
   "source": [
    "## 基本CSS选择器\n",
    "#id .class 节点\n",
    "\n",
    "content = doc(\"#sp_main .subject li\"):先选取id为sp_main的节点，再选取其内部class为subject的节点，最后选取节点内部的所有li节点\n",
    "\n",
    "注意：#可以叠加多个，空格分开\n",
    "\n",
    "## 定位\n",
    "子孙节点：find\n",
    "\n",
    "子节点：children()，例如items.children(“.active”)\n",
    "\n",
    "父节点：parent()，例如doc(“.list”).parent()\n",
    "\n",
    "祖先节点：parents()\n",
    "\n",
    "兄弟节点：sublings()\n",
    "\n",
    "遍历：items()      \n",
    "\n",
    "## 获取\n",
    "获取属性：attr()\n",
    "\n",
    "获取文本：text()\n",
    "\n",
    "获取html文本：html()\n",
    "\n",
    "## 节点操作\n",
    "addClass\n",
    "\n",
    "removeClass\n",
    "\n",
    "## 伪类选择器\n",
    "doc(\"li:first-child\")\n",
    "\n",
    "doc(\"li:last-child\")\n",
    "\n",
    "doc(\"li:nth-child(2)\") #第2个节点\n",
    "\n",
    "doc(\"li:gt(2)\")        #第2个节点之后的节点\n",
    "\n",
    "doc(\"li:nth-child(2n)\")    #偶数节点\n",
    "\n",
    "doc(\"li:contains(second)\") #包含second文本的节点"
   ]
  },
  {
   "cell_type": "code",
   "execution_count": null,
   "metadata": {},
   "outputs": [],
   "source": []
  }
 ],
 "metadata": {
  "hide_input": false,
  "kernelspec": {
   "display_name": "Python 3",
   "language": "python",
   "name": "python3"
  },
  "language_info": {
   "codemirror_mode": {
    "name": "ipython",
    "version": 3
   },
   "file_extension": ".py",
   "mimetype": "text/x-python",
   "name": "python",
   "nbconvert_exporter": "python",
   "pygments_lexer": "ipython3",
   "version": "3.6.0"
  },
  "toc": {
   "base_numbering": 1,
   "nav_menu": {},
   "number_sections": true,
   "sideBar": true,
   "skip_h1_title": false,
   "title_cell": "Table of Contents",
   "title_sidebar": "Contents",
   "toc_cell": false,
   "toc_position": {},
   "toc_section_display": true,
   "toc_window_display": false
  }
 },
 "nbformat": 4,
 "nbformat_minor": 2
}
