{
 "cells": [
  {
   "cell_type": "markdown",
   "metadata": {},
   "source": [
    "## try \n",
    "> try/except   \n",
    ">> 捕捉由python/你引起的异常并恢复\n",
    "\n",
    "> try/finally\n",
    ">> 无论异常是否发生，执行清理行为\n",
    "\n",
    "> try/except/else\n",
    ">> 如果try块没有发生异常，执行else块"
   ]
  },
  {
   "cell_type": "markdown",
   "metadata": {},
   "source": [
    "## raise\n",
    "在代码中触发指定异常 "
   ]
  },
  {
   "cell_type": "markdown",
   "metadata": {},
   "source": [
    "## assert\n",
    "有条件地在代码中触发异常"
   ]
  },
  {
   "cell_type": "markdown",
   "metadata": {},
   "source": [
    "## 错误类型\n",
    "> ZeroDivisionError\n",
    "\n",
    "> StopIteration\n",
    "\n",
    "> AttributeError\n",
    "\n",
    "> IndexError"
   ]
  }
 ],
 "metadata": {
  "kernelspec": {
   "display_name": "Python 3",
   "language": "python",
   "name": "python3"
  },
  "language_info": {
   "codemirror_mode": {
    "name": "ipython",
    "version": 3
   },
   "file_extension": ".py",
   "mimetype": "text/x-python",
   "name": "python",
   "nbconvert_exporter": "python",
   "pygments_lexer": "ipython3",
   "version": "3.5.4"
  },
  "varInspector": {
   "cols": {
    "lenName": 16,
    "lenType": 16,
    "lenVar": 40
   },
   "kernels_config": {
    "python": {
     "delete_cmd_postfix": "",
     "delete_cmd_prefix": "del ",
     "library": "var_list.py",
     "varRefreshCmd": "print(var_dic_list())"
    },
    "r": {
     "delete_cmd_postfix": ") ",
     "delete_cmd_prefix": "rm(",
     "library": "var_list.r",
     "varRefreshCmd": "cat(var_dic_list()) "
    }
   },
   "types_to_exclude": [
    "module",
    "function",
    "builtin_function_or_method",
    "instance",
    "_Feature"
   ],
   "window_display": false
  }
 },
 "nbformat": 4,
 "nbformat_minor": 2
}
