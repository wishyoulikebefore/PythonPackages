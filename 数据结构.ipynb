{
 "cells": [
  {
   "cell_type": "markdown",
   "metadata": {},
   "source": [
    "# enum 枚举类型\n",
    "定义了一个具备可迭代性和可比较性的枚举类型"
   ]
  },
  {
   "cell_type": "code",
   "execution_count": 23,
   "metadata": {},
   "outputs": [],
   "source": [
    "import enum"
   ]
  },
  {
   "cell_type": "raw",
   "metadata": {},
   "source": [
    "__all__ = ['EnumMeta', 'Enum', 'IntEnum', 'Flag', 'IntFlag', 'auto']\n",
    "\n",
    "class Enum(builtins.object)\n",
    "     |  Derive from this class to define new enumerations.\n",
    "     \n",
    "class EnumMeta(builtins.type)\n",
    "     |  Metaclass for Enum\n",
    "     \n",
    "class IntEnum(builtins.int, Enum)\n",
    "     |  Enum where members are also (and must be) ints"
   ]
  },
  {
   "cell_type": "markdown",
   "metadata": {},
   "source": [
    "## Enum 创建枚举\n",
    "Enum 的成员在类被解析的时候转化为实例\n",
    "\n",
    "每一个实例都有一个name属性对应成员的名称，一个value属性对应在类中赋值给成员名称的值"
   ]
  },
  {
   "cell_type": "code",
   "execution_count": 24,
   "metadata": {},
   "outputs": [
    {
     "name": "stdout",
     "output_type": "stream",
     "text": [
      "\n",
      "Member name: wont_fix\n",
      "Member value: 4\n"
     ]
    }
   ],
   "source": [
    "class BugStatus(enum.Enum):\n",
    "\n",
    "    new = 7\n",
    "    incomplete = 6\n",
    "    invalid = 5\n",
    "    wont_fix = 4\n",
    "    in_progress = 3\n",
    "    fix_committed = 2\n",
    "    fix_released = 1\n",
    "\n",
    "print('\\nMember name: {}'.format(BugStatus.wont_fix.name))\n",
    "print('Member value: {}'.format(BugStatus.wont_fix.value))"
   ]
  },
  {
   "cell_type": "markdown",
   "metadata": {},
   "source": [
    "## IntEnum 枚举表现类似数字"
   ]
  },
  {
   "cell_type": "code",
   "execution_count": 25,
   "metadata": {},
   "outputs": [
    {
     "name": "stdout",
     "output_type": "stream",
     "text": [
      "Ordered by value:\n",
      "  fix_released\n",
      "  fix_committed\n",
      "  in_progress\n",
      "  wont_fix\n",
      "  invalid\n",
      "  incomplete\n",
      "  new\n"
     ]
    }
   ],
   "source": [
    "class BugStatus(enum.IntEnum):\n",
    "\n",
    "    new = 7\n",
    "    incomplete = 6\n",
    "    invalid = 5\n",
    "    wont_fix = 4\n",
    "    in_progress = 3\n",
    "    fix_committed = 2\n",
    "    fix_released = 1\n",
    "\n",
    "print('Ordered by value:')\n",
    "print('\\n'.join('  ' + s.name for s in sorted(BugStatus)))"
   ]
  },
  {
   "cell_type": "markdown",
   "metadata": {},
   "source": [
    "### 装饰器@enum.unique使枚举成员只包含唯一值"
   ]
  },
  {
   "cell_type": "code",
   "execution_count": null,
   "metadata": {},
   "outputs": [],
   "source": [
    "@enum.unique\n",
    "class BugStatus(enum.Enum):\n",
    "\n",
    "    new = 7\n",
    "    incomplete = 6\n",
    "    invalid = 5\n",
    "    wont_fix = 4\n",
    "    in_progress = 3\n",
    "    fix_committed = 2\n",
    "    fix_released = 1\n",
    "\n",
    "    # 这里将会触发唯一值错误\n",
    "    by_design = 4\n",
    "    closed = 1"
   ]
  },
  {
   "cell_type": "markdown",
   "metadata": {},
   "source": [
    "### 动态创建"
   ]
  },
  {
   "cell_type": "code",
   "execution_count": 27,
   "metadata": {},
   "outputs": [
    {
     "name": "stdout",
     "output_type": "stream",
     "text": [
      "All members:\n",
      "new             = 7\n",
      "incomplete      = 6\n",
      "invalid         = 5\n",
      "wont_fix        = 4\n",
      "in_progress     = 3\n",
      "fix_committed   = 2\n",
      "fix_released    = 1\n"
     ]
    }
   ],
   "source": [
    "BugStatus = enum.Enum(\n",
    "    value='BugStatus',\n",
    "    names=[\n",
    "        ('new', 7),\n",
    "        ('incomplete', 6),\n",
    "        ('invalid', 5),\n",
    "        ('wont_fix', 4),\n",
    "        ('in_progress', 3),\n",
    "        ('fix_committed', 2),\n",
    "        ('fix_released', 1),\n",
    "    ],\n",
    ")\n",
    "\n",
    "print('All members:')\n",
    "for status in BugStatus:\n",
    "    print('{:15} = {}'.format(status.name, status.value))"
   ]
  },
  {
   "cell_type": "markdown",
   "metadata": {},
   "source": [
    "## EnumMeta"
   ]
  },
  {
   "cell_type": "raw",
   "metadata": {},
   "source": [
    "三个非常核心的魔法方法\n",
    "__prepare__：返回一个字典或者映射类型的对象作为这个类的命名空间\n",
    "\n",
    "__new__：有两个很重要的属性是: _member_map_和_value2member_map_，前者的值是一个有序字典，后者的值就是内置字典\n",
    "\n",
    "__call__：这个方法有两个作用，一是根据值找到对象，二是创建枚举类"
   ]
  },
  {
   "cell_type": "code",
   "execution_count": 28,
   "metadata": {},
   "outputs": [
    {
     "name": "stdout",
     "output_type": "stream",
     "text": [
      "OrderedDict([('a', <MyEnum.a: 1>), ('b', <MyEnum.b: 2>), ('c', <MyEnum.c: 3>)])\n",
      "OrderedDict([('a', <MyEnum.a: 1>), ('b', <MyEnum.b: 2>), ('c', <MyEnum.c: 3>)])\n",
      "{1: <MyEnum.a: 1>, 2: <MyEnum.b: 2>, 3: <MyEnum.c: 3>}\n"
     ]
    }
   ],
   "source": [
    "class MyEnum(enum.Enum):\n",
    "    a = 1\n",
    "    b = 2\n",
    "    c = 3\n",
    "    \n",
    "print(MyEnum.__members__)\n",
    "print(MyEnum._member_map_)\n",
    "print(MyEnum._value2member_map_)"
   ]
  },
  {
   "cell_type": "markdown",
   "metadata": {},
   "source": [
    "# collections 数据类型容器"
   ]
  },
  {
   "cell_type": "code",
   "execution_count": 41,
   "metadata": {},
   "outputs": [],
   "source": [
    "from collections import namedtuple,deque,defaultdict,OrderedDict,Counter"
   ]
  },
  {
   "cell_type": "markdown",
   "metadata": {},
   "source": [
    "## namedtuple\n",
    "映射名称到序列元素，替代字典(节省空间)\n",
    "\n",
    "命名元组不可更改，使用_replace()进行修改或填充"
   ]
  },
  {
   "cell_type": "code",
   "execution_count": 29,
   "metadata": {},
   "outputs": [],
   "source": [
    "Stock = namedtuple('Stock', ['name', 'shares', 'price', 'date', 'time'])"
   ]
  },
  {
   "cell_type": "code",
   "execution_count": 30,
   "metadata": {},
   "outputs": [
    {
     "data": {
      "text/plain": [
       "Stock(name='', shares=75, price=0.0, date=None, time=None)"
      ]
     },
     "execution_count": 30,
     "metadata": {},
     "output_type": "execute_result"
    }
   ],
   "source": [
    "stock_prototype = Stock('', 0, 0.0, None, None)\n",
    "stock_prototype._replace(shares=75)"
   ]
  },
  {
   "cell_type": "code",
   "execution_count": 31,
   "metadata": {},
   "outputs": [
    {
     "data": {
      "text/plain": [
       "Stock(name='ACME', shares=100, price=123.45, date=None, time=None)"
      ]
     },
     "execution_count": 31,
     "metadata": {},
     "output_type": "execute_result"
    }
   ],
   "source": [
    "stock_prototype._replace(**{'name': 'ACME', 'shares': 100, 'price': 123.45})"
   ]
  },
  {
   "cell_type": "markdown",
   "metadata": {},
   "source": [
    "## deque\n",
    "使用list存储数据时，按索引访问元素很快，但是插入和删除元素很慢(list是线性存储)\n",
    "\n",
    "deque是为了高效实现插入和删除操作的双向列表，适合用于队列和栈，可用于保留有限历史记录"
   ]
  },
  {
   "cell_type": "markdown",
   "metadata": {},
   "source": [
    "class deque(builtins.object)\n",
    "   | deque([iterable[, maxlen]]) --> deque object\n",
    "   |\n",
    "   | append：右侧添加\n",
    "   |\n",
    "   | appendleft：左侧添加\n",
    "   | \n",
    "   | clear\n",
    "   |\n",
    "   | copy\n",
    "   |    \n",
    "   | count\n",
    "   |     \n",
    "   | extend\n",
    "   |    \n",
    "   | extendleft\n",
    "   |\n",
    "   | index\n",
    "   |\n",
    "   | D.insert(index, object) \n",
    "   |\n",
    "   | pop\n",
    "   |   \n",
    "   | popleft\n",
    "   |\n",
    "   | remove： remove first occurrence of value\n",
    "   |\n",
    "   | reverse\n",
    "   |\n",
    "   | rotate(n)"
   ]
  },
  {
   "cell_type": "code",
   "execution_count": 33,
   "metadata": {},
   "outputs": [
    {
     "data": {
      "text/plain": [
       "deque([0, 1, 2, 3, 4, 5, 6, 7, 8, 9])"
      ]
     },
     "execution_count": 33,
     "metadata": {},
     "output_type": "execute_result"
    }
   ],
   "source": [
    "_deque = deque(range(10))\n",
    "_deque"
   ]
  },
  {
   "cell_type": "code",
   "execution_count": 34,
   "metadata": {},
   "outputs": [
    {
     "data": {
      "text/plain": [
       "deque([0, 1, 2, 3, 4, 5, 6, 7, 8])"
      ]
     },
     "execution_count": 34,
     "metadata": {},
     "output_type": "execute_result"
    }
   ],
   "source": [
    "_deque.pop()\n",
    "_deque"
   ]
  },
  {
   "cell_type": "code",
   "execution_count": 35,
   "metadata": {},
   "outputs": [
    {
     "data": {
      "text/plain": [
       "deque([7, 8, 0, 1, 2, 3, 4, 5, 6])"
      ]
     },
     "execution_count": 35,
     "metadata": {},
     "output_type": "execute_result"
    }
   ],
   "source": [
    "_deque.rotate(2)\n",
    "_deque"
   ]
  },
  {
   "cell_type": "markdown",
   "metadata": {},
   "source": [
    "## defaultdict(list|set|int)\n",
    "自动初始化每个key刚开始对应的值(在count时极为有用)\n",
    "\n",
    "便于一键多值"
   ]
  },
  {
   "cell_type": "code",
   "execution_count": 36,
   "metadata": {},
   "outputs": [
    {
     "data": {
      "text/plain": [
       "defaultdict(list, {'a': [1, 2], 'b': [4]})"
      ]
     },
     "execution_count": 36,
     "metadata": {},
     "output_type": "execute_result"
    }
   ],
   "source": [
    "d = defaultdict(list)\n",
    "d['a'].append(1)\n",
    "d['a'].append(2)\n",
    "d['b'].append(4)\n",
    "d"
   ]
  },
  {
   "cell_type": "code",
   "execution_count": 37,
   "metadata": {},
   "outputs": [
    {
     "data": {
      "text/plain": [
       "defaultdict(int, {'even': 5, 'odd': 5})"
      ]
     },
     "execution_count": 37,
     "metadata": {},
     "output_type": "execute_result"
    }
   ],
   "source": [
    "d = defaultdict(int) \n",
    "for i in range(10):\n",
    "    if i % 2 == 0:\n",
    "        d[\"even\"] += 1\n",
    "    else:\n",
    "        d[\"odd\"] += 1\n",
    "d"
   ]
  },
  {
   "cell_type": "markdown",
   "metadata": {},
   "source": [
    "## OrderedDict\n",
    "保持Key插入顺序(内部维护着一个根据键插入顺序排序的双向链表，因此一个OrderedDict 的大小是一个普通字典的两倍"
   ]
  },
  {
   "cell_type": "code",
   "execution_count": 39,
   "metadata": {},
   "outputs": [
    {
     "name": "stdout",
     "output_type": "stream",
     "text": [
      "a A\n",
      "b B\n",
      "c C\n"
     ]
    }
   ],
   "source": [
    "d = OrderedDict()\n",
    "d['a'] = 'A'\n",
    "d['b'] = 'B'\n",
    "d['c'] = 'C'\n",
    "\n",
    "for k, v in d.items():\n",
    "    print(k, v)"
   ]
  },
  {
   "cell_type": "markdown",
   "metadata": {},
   "source": [
    "## Counter\n",
    "可哈希对象计数"
   ]
  },
  {
   "cell_type": "code",
   "execution_count": 42,
   "metadata": {},
   "outputs": [
    {
     "data": {
      "text/plain": [
       "Counter({'a': 2, 'b': 3, 'c': 1})"
      ]
     },
     "execution_count": 42,
     "metadata": {},
     "output_type": "execute_result"
    }
   ],
   "source": [
    "Counter(['a', 'b', 'c', 'a', 'b', 'b'])"
   ]
  },
  {
   "cell_type": "markdown",
   "metadata": {},
   "source": [
    "# heapq 堆排序算法"
   ]
  },
  {
   "cell_type": "markdown",
   "metadata": {},
   "source": [
    "heapq 是基于堆算法，一种子节点和父节点排序的树形数据结构。\n",
    "\n",
    "这个模块提供heap[k] <= heap[2k+1] and heap[k] <= heap[2k+2]\n",
    "\n",
    "heap最小的元素总是[0]"
   ]
  },
  {
   "cell_type": "markdown",
   "metadata": {},
   "source": [
    "heapify()：转变List成heap\n",
    "    \n",
    "heappop(heap)：删除并返回堆中最小的元素\n",
    "    \n",
    "heappush(heap, item)：往heap中添加元素\n",
    "    \n",
    "heappushpop(heap, item)：往heap中添加元素，剔除并返回最小的元素\n",
    "    \n",
    "heapreplace(heap, item)\n",
    "           \n",
    "merge(*iterables, key=None, reverse=False)    \n",
    ">等同于sorted(itertools.chain(*iterables))\n",
    "    \n",
    "nlargest(n, iterable, key=None)：返回列表中最大的n个值\n",
    ">等同于sorted(iterable, key=key, reverse=True)[:n]\n",
    "    \n",
    "nsmallest(n, iterable, key=None)：返回列表中最小的n个值\n",
    ">等同于sorted(iterable, key=key)[:n]"
   ]
  },
  {
   "cell_type": "code",
   "execution_count": 44,
   "metadata": {},
   "outputs": [],
   "source": [
    "import heapq"
   ]
  },
  {
   "cell_type": "markdown",
   "metadata": {},
   "source": [
    "## 从堆中抽取数据"
   ]
  },
  {
   "cell_type": "code",
   "execution_count": 45,
   "metadata": {},
   "outputs": [
    {
     "data": {
      "text/plain": [
       "[{'name': 'YHOO', 'shares': 45, 'price': 16.35},\n",
       " {'name': 'FB', 'shares': 200, 'price': 21.09},\n",
       " {'name': 'HPQ', 'shares': 35, 'price': 31.75}]"
      ]
     },
     "execution_count": 45,
     "metadata": {},
     "output_type": "execute_result"
    }
   ],
   "source": [
    "portfolio = [\n",
    "    {'name': 'IBM', 'shares': 100, 'price': 91.1},\n",
    "    {'name': 'AAPL', 'shares': 50, 'price': 543.22},\n",
    "    {'name': 'FB', 'shares': 200, 'price': 21.09},\n",
    "    {'name': 'HPQ', 'shares': 35, 'price': 31.75},\n",
    "    {'name': 'YHOO', 'shares': 45, 'price': 16.35},\n",
    "    {'name': 'ACME', 'shares': 75, 'price': 115.65}\n",
    "]\n",
    "heapq.nsmallest(3, portfolio, key=lambda s: s['price'])"
   ]
  },
  {
   "cell_type": "code",
   "execution_count": 46,
   "metadata": {},
   "outputs": [
    {
     "data": {
      "text/plain": [
       "[{'name': 'AAPL', 'shares': 50, 'price': 543.22},\n",
       " {'name': 'ACME', 'shares': 75, 'price': 115.65},\n",
       " {'name': 'IBM', 'shares': 100, 'price': 91.1}]"
      ]
     },
     "execution_count": 46,
     "metadata": {},
     "output_type": "execute_result"
    }
   ],
   "source": [
    "heapq.nlargest(3, portfolio, key=lambda s: s['price'])"
   ]
  },
  {
   "cell_type": "markdown",
   "metadata": {},
   "source": [
    "## 过程可视化"
   ]
  },
  {
   "cell_type": "code",
   "execution_count": 47,
   "metadata": {},
   "outputs": [],
   "source": [
    "import math\n",
    "from io import StringIO\n",
    "\n",
    "def show_tree(tree, total_width=36, fill=' '):\n",
    "    \"\"\"漂亮的打印一棵树。\"\"\"\n",
    "    output = StringIO()\n",
    "    last_row = -1\n",
    "    for i, n in enumerate(tree):\n",
    "        if i:\n",
    "            row = int(math.floor(math.log(i + 1, 2)))\n",
    "        else:\n",
    "            row = 0\n",
    "        if row != last_row:\n",
    "            output.write('\\n')\n",
    "        columns = 2 ** row\n",
    "        col_width = int(math.floor(total_width / columns))\n",
    "        output.write(str(n).center(col_width, fill))\n",
    "        last_row = row\n",
    "    print(output.getvalue())\n",
    "    print('-' * total_width)\n",
    "    print()"
   ]
  },
  {
   "cell_type": "code",
   "execution_count": 48,
   "metadata": {},
   "outputs": [
    {
     "name": "stdout",
     "output_type": "stream",
     "text": [
      "random : [19, 9, 4, 10, 11]\n",
      "\n",
      "add  19:\n",
      "\n",
      "                 19                 \n",
      "------------------------------------\n",
      "\n",
      "add   9:\n",
      "\n",
      "                 9                  \n",
      "        19        \n",
      "------------------------------------\n",
      "\n",
      "add   4:\n",
      "\n",
      "                 4                  \n",
      "        19                9         \n",
      "------------------------------------\n",
      "\n",
      "add  10:\n",
      "\n",
      "                 4                  \n",
      "        10                9         \n",
      "    19   \n",
      "------------------------------------\n",
      "\n",
      "add  11:\n",
      "\n",
      "                 4                  \n",
      "        10                9         \n",
      "    19       11   \n",
      "------------------------------------\n",
      "\n"
     ]
    }
   ],
   "source": [
    "data = [19, 9, 4, 10, 11]\n",
    "\n",
    "heap = []\n",
    "print('random :', data)\n",
    "print()\n",
    "\n",
    "for n in data:\n",
    "    print('add {:>3}:'.format(n))\n",
    "    heapq.heappush(heap, n)\n",
    "    show_tree(heap)"
   ]
  },
  {
   "cell_type": "code",
   "execution_count": null,
   "metadata": {},
   "outputs": [],
   "source": []
  }
 ],
 "metadata": {
  "hide_input": false,
  "kernelspec": {
   "display_name": "Python 3",
   "language": "python",
   "name": "python3"
  },
  "language_info": {
   "codemirror_mode": {
    "name": "ipython",
    "version": 3
   },
   "file_extension": ".py",
   "mimetype": "text/x-python",
   "name": "python",
   "nbconvert_exporter": "python",
   "pygments_lexer": "ipython3",
   "version": "3.6.0"
  },
  "toc": {
   "base_numbering": 1,
   "nav_menu": {},
   "number_sections": true,
   "sideBar": true,
   "skip_h1_title": false,
   "title_cell": "Table of Contents",
   "title_sidebar": "Contents",
   "toc_cell": false,
   "toc_position": {},
   "toc_section_display": true,
   "toc_window_display": true
  }
 },
 "nbformat": 4,
 "nbformat_minor": 2
}
