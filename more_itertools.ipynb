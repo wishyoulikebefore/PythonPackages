{
 "cells": [
  {
   "cell_type": "code",
   "execution_count": 2,
   "metadata": {},
   "outputs": [],
   "source": [
    "import more_itertools"
   ]
  },
  {
   "cell_type": "markdown",
   "metadata": {},
   "source": [
    "### chunked(iterable, n) \n",
    "> 将迭代器的每n项提出来组成一个新的list\n",
    "#等同于 zip(*[iter(iterable)]*n)"
   ]
  },
  {
   "cell_type": "code",
   "execution_count": 3,
   "metadata": {},
   "outputs": [],
   "source": [
    "def take(n, iterable):\n",
    "    \"\"\"Return first *n* items of the iterable as a list.\n",
    "        >>> take(3, range(10))\n",
    "        [0, 1, 2]\n",
    "    \"\"\"\n",
    "    return list(itertools.islice(iterable, n))\n",
    "\n",
    "def chunked(iterable, n):\n",
    "    \"\"\"Break *iterable* into lists of length *n*:\n",
    "        >>> list(chunked([1, 2, 3, 4, 5, 6], 3))\n",
    "        [[1, 2, 3], [4, 5, 6]]\n",
    "        >>> list(chunked([1, 2, 3, 4, 5, 6, 7, 8], 3))\n",
    "        [[1, 2, 3], [4, 5, 6], [7, 8]]\n",
    "    \"\"\"\n",
    "    return iter(functools.partial(take, n, iter(iterable)), []) "
   ]
  },
  {
   "cell_type": "markdown",
   "metadata": {},
   "source": [
    "### collate(*iterables)     \t\n",
    "> 按序整合：比itertools.chain更进一步"
   ]
  },
  {
   "cell_type": "code",
   "execution_count": 4,
   "metadata": {},
   "outputs": [
    {
     "data": {
      "text/plain": [
       "['A', 'A', 'C', 'D', 'J', 'K', 'L', 'Z', 'Z']"
      ]
     },
     "execution_count": 4,
     "metadata": {},
     "output_type": "execute_result"
    }
   ],
   "source": [
    "_iter = more_itertools.collate('ACDZ', 'AZ', 'JKL')\n",
    "list(_iter)"
   ]
  },
  {
   "cell_type": "code",
   "execution_count": null,
   "metadata": {},
   "outputs": [],
   "source": []
  }
 ],
 "metadata": {
  "kernelspec": {
   "display_name": "Python 3",
   "language": "python",
   "name": "python3"
  },
  "language_info": {
   "codemirror_mode": {
    "name": "ipython",
    "version": 3
   },
   "file_extension": ".py",
   "mimetype": "text/x-python",
   "name": "python",
   "nbconvert_exporter": "python",
   "pygments_lexer": "ipython3",
   "version": "3.5.4"
  },
  "varInspector": {
   "cols": {
    "lenName": 16,
    "lenType": 16,
    "lenVar": 40
   },
   "kernels_config": {
    "python": {
     "delete_cmd_postfix": "",
     "delete_cmd_prefix": "del ",
     "library": "var_list.py",
     "varRefreshCmd": "print(var_dic_list())"
    },
    "r": {
     "delete_cmd_postfix": ") ",
     "delete_cmd_prefix": "rm(",
     "library": "var_list.r",
     "varRefreshCmd": "cat(var_dic_list()) "
    }
   },
   "types_to_exclude": [
    "module",
    "function",
    "builtin_function_or_method",
    "instance",
    "_Feature"
   ],
   "window_display": false
  }
 },
 "nbformat": 4,
 "nbformat_minor": 2
}
